{
 "cells": [
  {
   "cell_type": "markdown",
   "metadata": {},
   "source": [
    "# Advanced Python\n",
    "\n",
    "1. Iterator\n",
    "   1. List comprehension\n",
    "   2. Generator\n",
    "   3. Generator expression\n",
    "2. Stack frame\n",
    "   1. `frame` object\n",
    "3. Customizing module import with `sys.meta_path`\n",
    "4. Descriptor\n",
    "   1. Keep data on the instance\n",
    "5. Metaclass\n",
    "6. Type introspection and abstract base class (abc)\n",
    "   1. Method resolution order (mro)\n",
    "   2. Abstract base class (abc)\n",
    "   3. Abstract method"
   ]
  },
  {
   "cell_type": "code",
   "execution_count": 1,
   "metadata": {},
   "outputs": [],
   "source": [
    "import sys\n",
    "import os\n",
    "import pprint"
   ]
  },
  {
   "cell_type": "markdown",
   "metadata": {},
   "source": [
    "# Iterator\n",
    "\n",
    "While processing data in memory, they are iterated one by one.  Assume we have 10 elements in a list."
   ]
  },
  {
   "cell_type": "code",
   "execution_count": 2,
   "metadata": {},
   "outputs": [],
   "source": [
    "data = list(range(10))\n",
    "print(data, type(data))"
   ]
  },
  {
   "cell_type": "markdown",
   "metadata": {},
   "source": [
    "Python uses the [iterator protocol](https://docs.python.org/3/library/stdtypes.html#iterator-types) to get one element a time:"
   ]
  },
  {
   "cell_type": "code",
   "execution_count": 3,
   "metadata": {},
   "outputs": [],
   "source": [
    "class ListIterator:\n",
    "\n",
    "    def __init__(self, data, offset=0):\n",
    "        self.data = data\n",
    "        self.it = None\n",
    "        self.offset = offset\n",
    "\n",
    "    def __iter__(self):\n",
    "        return self\n",
    "\n",
    "    def __next__(self):\n",
    "        if None is self.it:\n",
    "            self.it = 0\n",
    "        elif self.it >= len(self.data)-1:\n",
    "            raise StopIteration\n",
    "        else:\n",
    "            self.it += 1\n",
    "        return self.data[self.it] + self.offset"
   ]
  },
  {
   "cell_type": "code",
   "execution_count": 4,
   "metadata": {},
   "outputs": [],
   "source": [
    "list_iterator = ListIterator(data)"
   ]
  },
  {
   "cell_type": "markdown",
   "metadata": {},
   "source": [
    "The `for ... in ...` construct applies to the iterator object.  Every time the construct needs the next element, `ListIterator.__next__()` is called:"
   ]
  },
  {
   "cell_type": "code",
   "execution_count": 5,
   "metadata": {},
   "outputs": [
    {
     "name": "stdout",
     "output_type": "stream",
     "text": [
      "0\n",
      "1\n",
      "2\n",
      "3\n",
      "4\n",
      "5\n",
      "6\n",
      "7\n",
      "8\n",
      "9\n"
     ]
    }
   ],
   "source": [
    "for i in list_iterator:\n",
    "    print(i)"
   ]
  },
  {
   "cell_type": "markdown",
   "metadata": {},
   "source": [
    "List comprehension:"
   ]
  },
  {
   "cell_type": "code",
   "execution_count": 6,
   "metadata": {},
   "outputs": [
    {
     "name": "stdout",
     "output_type": "stream",
     "text": [
      "[100, 101, 102, 103, 104, 105, 106, 107, 108, 109]\n"
     ]
    }
   ],
   "source": [
    "print([value+100 for value in data])"
   ]
  },
  {
   "cell_type": "code",
   "execution_count": 7,
   "metadata": {},
   "outputs": [
    {
     "name": "stdout",
     "output_type": "stream",
     "text": [
      "<__main__.ListIterator object at 0x10cfaebd0>\n"
     ]
    }
   ],
   "source": [
    "print(list_iterator)"
   ]
  },
  {
   "cell_type": "code",
   "execution_count": 8,
   "metadata": {},
   "outputs": [
    {
     "name": "stdout",
     "output_type": "stream",
     "text": [
      "['__class__', '__delattr__', '__dict__', '__dir__', '__doc__', '__eq__', '__format__', '__ge__', '__getattribute__', '__gt__', '__hash__', '__init__', '__init_subclass__', '__iter__', '__le__', '__lt__', '__module__', '__ne__', '__new__', '__next__', '__reduce__', '__reduce_ex__', '__repr__', '__setattr__', '__sizeof__', '__str__', '__subclasshook__', '__weakref__', 'data', 'it', 'offset']\n"
     ]
    }
   ],
   "source": [
    "print(dir(list_iterator))"
   ]
  },
  {
   "cell_type": "markdown",
   "metadata": {},
   "source": [
    "Of course, you don't really need to write your own `ListIterator` for iterating a list, because Python builds in an iterator already:"
   ]
  },
  {
   "cell_type": "code",
   "execution_count": 9,
   "metadata": {},
   "outputs": [],
   "source": [
    "list_iterator2 = iter(data)"
   ]
  },
  {
   "cell_type": "code",
   "execution_count": 10,
   "metadata": {},
   "outputs": [
    {
     "name": "stdout",
     "output_type": "stream",
     "text": [
      "0\n",
      "1\n",
      "2\n",
      "3\n",
      "4\n",
      "5\n",
      "6\n",
      "7\n",
      "8\n",
      "9\n"
     ]
    }
   ],
   "source": [
    "for i in list_iterator2:\n",
    "    print(i)"
   ]
  },
  {
   "cell_type": "code",
   "execution_count": 11,
   "metadata": {},
   "outputs": [
    {
     "name": "stdout",
     "output_type": "stream",
     "text": [
      "<list_iterator object at 0x10cfb2990>\n"
     ]
    }
   ],
   "source": [
    "print(list_iterator2)"
   ]
  },
  {
   "cell_type": "code",
   "execution_count": 12,
   "metadata": {},
   "outputs": [
    {
     "name": "stdout",
     "output_type": "stream",
     "text": [
      "['__class__', '__delattr__', '__dir__', '__doc__', '__eq__', '__format__', '__ge__', '__getattribute__', '__gt__', '__hash__', '__init__', '__init_subclass__', '__iter__', '__le__', '__length_hint__', '__lt__', '__ne__', '__new__', '__next__', '__reduce__', '__reduce_ex__', '__repr__', '__setattr__', '__setstate__', '__sizeof__', '__str__', '__subclasshook__']\n"
     ]
    }
   ],
   "source": [
    "print(dir(list_iterator2))"
   ]
  },
  {
   "cell_type": "markdown",
   "metadata": {},
   "source": [
    "The built-in iterator is created by calling the `__iter__()` method on the container object (`iter()` simply does it for you):"
   ]
  },
  {
   "cell_type": "code",
   "execution_count": 13,
   "metadata": {},
   "outputs": [],
   "source": [
    "list_iterator3 = data.__iter__()"
   ]
  },
  {
   "cell_type": "code",
   "execution_count": 14,
   "metadata": {},
   "outputs": [
    {
     "name": "stdout",
     "output_type": "stream",
     "text": [
      "<list_iterator object at 0x10cfbab90>\n"
     ]
    }
   ],
   "source": [
    "print(list_iterator3)  "
   ]
  },
  {
   "cell_type": "markdown",
   "metadata": {},
   "source": [
    "And the `for ... in ...` construct actually knows about the iterator protocol:"
   ]
  },
  {
   "cell_type": "code",
   "execution_count": 15,
   "metadata": {},
   "outputs": [
    {
     "name": "stdout",
     "output_type": "stream",
     "text": [
      "0\n",
      "1\n",
      "2\n",
      "3\n",
      "4\n",
      "5\n",
      "6\n",
      "7\n",
      "8\n",
      "9\n"
     ]
    }
   ],
   "source": [
    "for i in data:\n",
    "    print(i)"
   ]
  },
  {
   "cell_type": "markdown",
   "metadata": {},
   "source": [
    "## List comprehension\n",
    "\n",
    "List comprehension is the construct `[... for ... in ...]`.  Python borrowed the syntax of list comprehension from other languages, e.g., Haskell, and it follows the iterator protocol.  It is very convenient.  For example, the above `for` loop can be replaced by a one-liner:"
   ]
  },
  {
   "cell_type": "code",
   "execution_count": 16,
   "metadata": {},
   "outputs": [
    {
     "name": "stdout",
     "output_type": "stream",
     "text": [
      "0\n",
      "1\n",
      "2\n",
      "3\n",
      "4\n",
      "5\n",
      "6\n",
      "7\n",
      "8\n",
      "9\n"
     ]
    }
   ],
   "source": [
    "print(\"\\n\".join([str(i) for i in data]))"
   ]
  },
  {
   "cell_type": "markdown",
   "metadata": {},
   "source": [
    "## Generator"
   ]
  },
  {
   "cell_type": "code",
   "execution_count": 17,
   "metadata": {},
   "outputs": [
    {
     "name": "stdout",
     "output_type": "stream",
     "text": [
      "<generator object list_generator at 0x10cf756d0>\n"
     ]
    }
   ],
   "source": [
    "def list_generator(input_data):\n",
    "    for i in input_data:\n",
    "        yield i\n",
    "\n",
    "generator = list_generator(data)\n",
    "print(generator)"
   ]
  },
  {
   "cell_type": "code",
   "execution_count": 18,
   "metadata": {},
   "outputs": [
    {
     "name": "stdout",
     "output_type": "stream",
     "text": [
      "['__class__', '__del__', '__delattr__', '__dir__', '__doc__', '__eq__', '__format__', '__ge__', '__getattribute__', '__gt__', '__hash__', '__init__', '__init_subclass__', '__iter__', '__le__', '__lt__', '__name__', '__ne__', '__new__', '__next__', '__qualname__', '__reduce__', '__reduce_ex__', '__repr__', '__setattr__', '__sizeof__', '__str__', '__subclasshook__', 'close', 'gi_code', 'gi_frame', 'gi_running', 'gi_yieldfrom', 'send', 'throw']\n"
     ]
    }
   ],
   "source": [
    "print(dir(generator))"
   ]
  },
  {
   "cell_type": "code",
   "execution_count": 19,
   "metadata": {},
   "outputs": [
    {
     "name": "stdout",
     "output_type": "stream",
     "text": [
      "0\n",
      "1\n",
      "2\n",
      "3\n",
      "4\n",
      "5\n",
      "6\n",
      "7\n",
      "8\n",
      "9\n"
     ]
    }
   ],
   "source": [
    "for i in list_generator(data):\n",
    "    print(i)"
   ]
  },
  {
   "cell_type": "markdown",
   "metadata": {},
   "source": [
    "## Generator expression\n",
    "\n",
    "A more convenient way of creating a generator is to use the generator expression `(... for ... in ...)`.  Note this looks like the list comprehension `[... for ... in ...]`, but uses parentheses to replace the brackets."
   ]
  },
  {
   "cell_type": "code",
   "execution_count": 20,
   "metadata": {},
   "outputs": [
    {
     "name": "stdout",
     "output_type": "stream",
     "text": [
      "<generator object <genexpr> at 0x10cfce1d0>\n"
     ]
    }
   ],
   "source": [
    "generator2 = (i for i in data)\n",
    "print(generator2)"
   ]
  },
  {
   "cell_type": "code",
   "execution_count": 21,
   "metadata": {},
   "outputs": [
    {
     "name": "stdout",
     "output_type": "stream",
     "text": [
      "['__class__', '__del__', '__delattr__', '__dir__', '__doc__', '__eq__', '__format__', '__ge__', '__getattribute__', '__gt__', '__hash__', '__init__', '__init_subclass__', '__iter__', '__le__', '__lt__', '__name__', '__ne__', '__new__', '__next__', '__qualname__', '__reduce__', '__reduce_ex__', '__repr__', '__setattr__', '__sizeof__', '__str__', '__subclasshook__', 'close', 'gi_code', 'gi_frame', 'gi_running', 'gi_yieldfrom', 'send', 'throw']\n"
     ]
    }
   ],
   "source": [
    "print(dir(generator2))"
   ]
  },
  {
   "cell_type": "code",
   "execution_count": 22,
   "metadata": {},
   "outputs": [
    {
     "name": "stdout",
     "output_type": "stream",
     "text": [
      "0\n",
      "1\n",
      "2\n",
      "3\n",
      "4\n",
      "5\n",
      "6\n",
      "7\n",
      "8\n",
      "9\n"
     ]
    }
   ],
   "source": [
    "for i in generator2:\n",
    "    print(i)"
   ]
  },
  {
   "cell_type": "markdown",
   "metadata": {},
   "source": [
    "By using the generator expression, the data printing one-liner can drop the brackets:"
   ]
  },
  {
   "cell_type": "code",
   "execution_count": 23,
   "metadata": {},
   "outputs": [
    {
     "name": "stdout",
     "output_type": "stream",
     "text": [
      "0\n",
      "1\n",
      "2\n",
      "3\n",
      "4\n",
      "5\n",
      "6\n",
      "7\n",
      "8\n",
      "9\n"
     ]
    }
   ],
   "source": [
    "print(\"\\n\".join(str(i) for i in data))"
   ]
  },
  {
   "cell_type": "code",
   "execution_count": 24,
   "metadata": {},
   "outputs": [
    {
     "name": "stdout",
     "output_type": "stream",
     "text": [
      "0\n",
      "1\n",
      "2\n",
      "3\n",
      "4\n",
      "5\n",
      "6\n",
      "7\n",
      "8\n",
      "9\n"
     ]
    }
   ],
   "source": [
    "# Compare with the the list comprehension:\n",
    "print(\"\\n\".join( [ str(i) for i in data ] ))"
   ]
  },
  {
   "cell_type": "markdown",
   "metadata": {},
   "source": [
    "# Python stack frame\n",
    "\n",
    "(C)Python uses a stack-based interpreter.  We are allowed to peek all the previous stack frames:"
   ]
  },
  {
   "cell_type": "code",
   "execution_count": 25,
   "metadata": {},
   "outputs": [
    {
     "name": "stderr",
     "output_type": "stream",
     "text": [
      "  File \"/Users/yungyuc/hack/usr/opt37_190418/lib/python3.7/runpy.py\", line 193, in _run_module_as_main\n",
      "    \"__main__\", mod_spec)\n",
      "  File \"/Users/yungyuc/hack/usr/opt37_190418/lib/python3.7/runpy.py\", line 85, in _run_code\n",
      "    exec(code, run_globals)\n",
      "  File \"/Users/yungyuc/hack/usr/opt37_190418/lib/python3.7/site-packages/ipykernel_launcher.py\", line 16, in <module>\n",
      "    app.launch_new_instance()\n",
      "  File \"/Users/yungyuc/hack/usr/opt37_190418/lib/python3.7/site-packages/traitlets/config/application.py\", line 658, in launch_instance\n",
      "    app.start()\n",
      "  File \"/Users/yungyuc/hack/usr/opt37_190418/lib/python3.7/site-packages/ipykernel/kernelapp.py\", line 505, in start\n",
      "    self.io_loop.start()\n",
      "  File \"/Users/yungyuc/hack/usr/opt37_190418/lib/python3.7/site-packages/tornado/platform/asyncio.py\", line 148, in start\n",
      "    self.asyncio_loop.run_forever()\n",
      "  File \"/Users/yungyuc/hack/usr/opt37_190418/lib/python3.7/asyncio/base_events.py\", line 534, in run_forever\n",
      "    self._run_once()\n",
      "  File \"/Users/yungyuc/hack/usr/opt37_190418/lib/python3.7/asyncio/base_events.py\", line 1771, in _run_once\n",
      "    handle._run()\n",
      "  File \"/Users/yungyuc/hack/usr/opt37_190418/lib/python3.7/asyncio/events.py\", line 88, in _run\n",
      "    self._context.run(self._callback, *self._args)\n",
      "  File \"/Users/yungyuc/hack/usr/opt37_190418/lib/python3.7/site-packages/tornado/ioloop.py\", line 690, in <lambda>\n",
      "    lambda f: self._run_callback(functools.partial(callback, future))\n",
      "  File \"/Users/yungyuc/hack/usr/opt37_190418/lib/python3.7/site-packages/tornado/ioloop.py\", line 743, in _run_callback\n",
      "    ret = callback()\n",
      "  File \"/Users/yungyuc/hack/usr/opt37_190418/lib/python3.7/site-packages/tornado/gen.py\", line 781, in inner\n",
      "    self.run()\n",
      "  File \"/Users/yungyuc/hack/usr/opt37_190418/lib/python3.7/site-packages/tornado/gen.py\", line 742, in run\n",
      "    yielded = self.gen.send(value)\n",
      "  File \"/Users/yungyuc/hack/usr/opt37_190418/lib/python3.7/site-packages/ipykernel/kernelbase.py\", line 370, in dispatch_queue\n",
      "    yield self.process_one()\n",
      "  File \"/Users/yungyuc/hack/usr/opt37_190418/lib/python3.7/site-packages/tornado/gen.py\", line 225, in wrapper\n",
      "    runner = Runner(result, future, yielded)\n",
      "  File \"/Users/yungyuc/hack/usr/opt37_190418/lib/python3.7/site-packages/tornado/gen.py\", line 708, in __init__\n",
      "    self.run()\n",
      "  File \"/Users/yungyuc/hack/usr/opt37_190418/lib/python3.7/site-packages/tornado/gen.py\", line 742, in run\n",
      "    yielded = self.gen.send(value)\n",
      "  File \"/Users/yungyuc/hack/usr/opt37_190418/lib/python3.7/site-packages/ipykernel/kernelbase.py\", line 357, in process_one\n",
      "    yield gen.maybe_future(dispatch(*args))\n",
      "  File \"/Users/yungyuc/hack/usr/opt37_190418/lib/python3.7/site-packages/tornado/gen.py\", line 209, in wrapper\n",
      "    yielded = next(result)\n",
      "  File \"/Users/yungyuc/hack/usr/opt37_190418/lib/python3.7/site-packages/ipykernel/kernelbase.py\", line 267, in dispatch_shell\n",
      "    yield gen.maybe_future(handler(stream, idents, msg))\n",
      "  File \"/Users/yungyuc/hack/usr/opt37_190418/lib/python3.7/site-packages/tornado/gen.py\", line 209, in wrapper\n",
      "    yielded = next(result)\n",
      "  File \"/Users/yungyuc/hack/usr/opt37_190418/lib/python3.7/site-packages/ipykernel/kernelbase.py\", line 534, in execute_request\n",
      "    user_expressions, allow_stdin,\n",
      "  File \"/Users/yungyuc/hack/usr/opt37_190418/lib/python3.7/site-packages/tornado/gen.py\", line 209, in wrapper\n",
      "    yielded = next(result)\n",
      "  File \"/Users/yungyuc/hack/usr/opt37_190418/lib/python3.7/site-packages/ipykernel/ipkernel.py\", line 294, in do_execute\n",
      "    res = shell.run_cell(code, store_history=store_history, silent=silent)\n",
      "  File \"/Users/yungyuc/hack/usr/opt37_190418/lib/python3.7/site-packages/ipykernel/zmqshell.py\", line 536, in run_cell\n",
      "    return super(ZMQInteractiveShell, self).run_cell(*args, **kwargs)\n",
      "  File \"/Users/yungyuc/hack/usr/opt37_190418/lib/python3.7/site-packages/IPython/core/interactiveshell.py\", line 2848, in run_cell\n",
      "    raw_cell, store_history, silent, shell_futures)\n",
      "  File \"/Users/yungyuc/hack/usr/opt37_190418/lib/python3.7/site-packages/IPython/core/interactiveshell.py\", line 2874, in _run_cell\n",
      "    return runner(coro)\n",
      "  File \"/Users/yungyuc/hack/usr/opt37_190418/lib/python3.7/site-packages/IPython/core/async_helpers.py\", line 67, in _pseudo_sync_runner\n",
      "    coro.send(None)\n",
      "  File \"/Users/yungyuc/hack/usr/opt37_190418/lib/python3.7/site-packages/IPython/core/interactiveshell.py\", line 3049, in run_cell_async\n",
      "    interactivity=interactivity, compiler=compiler, result=result)\n",
      "  File \"/Users/yungyuc/hack/usr/opt37_190418/lib/python3.7/site-packages/IPython/core/interactiveshell.py\", line 3220, in run_ast_nodes\n",
      "    if (yield from self.run_code(code, result)):\n",
      "  File \"/Users/yungyuc/hack/usr/opt37_190418/lib/python3.7/site-packages/IPython/core/interactiveshell.py\", line 3296, in run_code\n",
      "    exec(code_obj, self.user_global_ns, self.user_ns)\n",
      "  File \"<ipython-input-25-c95ab164197c>\", line 3, in <module>\n",
      "    traceback.print_stack()\n"
     ]
    }
   ],
   "source": [
    "import traceback\n",
    "\n",
    "traceback.print_stack()"
   ]
  },
  {
   "cell_type": "markdown",
   "metadata": {},
   "source": [
    "## `frame` object\n",
    "\n",
    "We can get the `frame` object of the current stack frame using [`inspect.currentframe()`](https://docs.python.org/3/library/inspect.html#inspect.currentframe):"
   ]
  },
  {
   "cell_type": "code",
   "execution_count": 26,
   "metadata": {},
   "outputs": [],
   "source": [
    "import inspect\n",
    "\n",
    "f = inspect.currentframe()"
   ]
  },
  {
   "cell_type": "markdown",
   "metadata": {},
   "source": [
    "A `frame` object has the following attributes:\n",
    "\n",
    "* Namespace:\n",
    "  * `f_builtins`: builtin namespace seen by this frame\n",
    "  * `f_globals`: global namespace seen by this frame\n",
    "  * `f_locals`: local namespace seen by this frame\n",
    "* Other:\n",
    "  * `f_back`: next outer frame object (this frame's caller)\n",
    "  * `f_code`: code object being executed in this frame\n",
    "  * `f_lasti`: index of last attempted instruction in bytecode\n",
    "  * `f_lineno`: current line number in Python source code"
   ]
  },
  {
   "cell_type": "code",
   "execution_count": 27,
   "metadata": {},
   "outputs": [
    {
     "name": "stdout",
     "output_type": "stream",
     "text": [
      "['clear', 'f_back', 'f_builtins', 'f_code', 'f_globals', 'f_lasti', 'f_lineno', 'f_locals', 'f_trace', 'f_trace_lines', 'f_trace_opcodes']\n"
     ]
    }
   ],
   "source": [
    "print([k for k in dir(f) if not k.startswith('__')])"
   ]
  },
  {
   "cell_type": "markdown",
   "metadata": {},
   "source": [
    "We can learn many things about the frame in the object.  For example, we can take a look in the builtin namespace:"
   ]
  },
  {
   "cell_type": "code",
   "execution_count": 28,
   "metadata": {},
   "outputs": [
    {
     "name": "stdout",
     "output_type": "stream",
     "text": [
      "dict_keys(['__name__', '__doc__', '__package__', '__loader__', '__spec__', '__build_class__', '__import__', 'abs', 'all', 'any', 'ascii', 'bin', 'breakpoint', 'callable', 'chr', 'compile', 'delattr', 'dir', 'divmod', 'eval', 'exec', 'format', 'getattr', 'globals', 'hasattr', 'hash', 'hex', 'id', 'input', 'isinstance', 'issubclass', 'iter', 'len', 'locals', 'max', 'min', 'next', 'oct', 'ord', 'pow', 'print', 'repr', 'round', 'setattr', 'sorted', 'sum', 'vars', 'None', 'Ellipsis', 'NotImplemented', 'False', 'True', 'bool', 'memoryview', 'bytearray', 'bytes', 'classmethod', 'complex', 'dict', 'enumerate', 'filter', 'float', 'frozenset', 'property', 'int', 'list', 'map', 'object', 'range', 'reversed', 'set', 'slice', 'staticmethod', 'str', 'super', 'tuple', 'type', 'zip', '__debug__', 'BaseException', 'Exception', 'TypeError', 'StopAsyncIteration', 'StopIteration', 'GeneratorExit', 'SystemExit', 'KeyboardInterrupt', 'ImportError', 'ModuleNotFoundError', 'OSError', 'EnvironmentError', 'IOError', 'EOFError', 'RuntimeError', 'RecursionError', 'NotImplementedError', 'NameError', 'UnboundLocalError', 'AttributeError', 'SyntaxError', 'IndentationError', 'TabError', 'LookupError', 'IndexError', 'KeyError', 'ValueError', 'UnicodeError', 'UnicodeEncodeError', 'UnicodeDecodeError', 'UnicodeTranslateError', 'AssertionError', 'ArithmeticError', 'FloatingPointError', 'OverflowError', 'ZeroDivisionError', 'SystemError', 'ReferenceError', 'MemoryError', 'BufferError', 'Warning', 'UserWarning', 'DeprecationWarning', 'PendingDeprecationWarning', 'SyntaxWarning', 'RuntimeWarning', 'FutureWarning', 'ImportWarning', 'UnicodeWarning', 'BytesWarning', 'ResourceWarning', 'ConnectionError', 'BlockingIOError', 'BrokenPipeError', 'ChildProcessError', 'ConnectionAbortedError', 'ConnectionRefusedError', 'ConnectionResetError', 'FileExistsError', 'FileNotFoundError', 'IsADirectoryError', 'NotADirectoryError', 'InterruptedError', 'PermissionError', 'ProcessLookupError', 'TimeoutError', 'open', 'copyright', 'credits', 'license', 'help', '__IPYTHON__', 'display', 'get_ipython'])\n"
     ]
    }
   ],
   "source": [
    "print(f.f_builtins.keys())"
   ]
  },
  {
   "cell_type": "markdown",
   "metadata": {},
   "source": [
    "A mysterious `code` object:"
   ]
  },
  {
   "cell_type": "code",
   "execution_count": 29,
   "metadata": {},
   "outputs": [
    {
     "name": "stdout",
     "output_type": "stream",
     "text": [
      "<code object <module> at 0x10d0d1810, file \"<ipython-input-26-dac680851f0c>\", line 3>\n"
     ]
    }
   ],
   "source": [
    "print(f.f_code)"
   ]
  },
  {
   "cell_type": "markdown",
   "metadata": {},
   "source": [
    "Because a `frame` object holds everything a construct uses, after finishing using the `frame` object, make sure to break the reference to it.  If we don't do it, it may take long time for the interpreter to break the reference for you."
   ]
  },
  {
   "cell_type": "code",
   "execution_count": 30,
   "metadata": {},
   "outputs": [],
   "source": [
    "f.clear()\n",
    "del f"
   ]
  },
  {
   "cell_type": "code",
   "execution_count": 31,
   "metadata": {},
   "outputs": [
    {
     "name": "stdout",
     "output_type": "stream",
     "text": [
      "frame #0:\n",
      "  FrameInfo(frame=<frame at 0x10cf9ad00, file '<ipython-input-31-31f84b6669ed>', line 2, code <module>>, filename='<ipython-input-31-31f84b6669ed>', lineno=1, function='<module>', code_context=['for it, fi in enumerate(inspect.stack()):\\n'], index=0)\n",
      "\n",
      "frame #1:\n",
      "  FrameInfo(frame=<frame at 0x7fdde44b0a80, file '/Users/yungyuc/hack/usr/opt37_190418/lib/python3.7/site-packages/IPython/core/interactiveshell.py', line 3296, code run_code>, filename='/Users/yungyuc/hack/usr/opt37_190418/lib/python3.7/site-packages/IPython/core/interactiveshell.py', lineno=3296, function='run_code', code_context=['                    exec(code_obj, self.user_global_ns, self.user_ns)\\n'], index=0)\n",
      "\n",
      "frame #2:\n",
      "  FrameInfo(frame=<frame at 0x7fdde44b8d10, file '/Users/yungyuc/hack/usr/opt37_190418/lib/python3.7/site-packages/IPython/core/interactiveshell.py', line 3214, code run_ast_nodes>, filename='/Users/yungyuc/hack/usr/opt37_190418/lib/python3.7/site-packages/IPython/core/interactiveshell.py', lineno=3214, function='run_ast_nodes', code_context=['                    if (yield from self.run_code(code, result)):\\n'], index=0)\n",
      "\n",
      "frame #3:\n",
      "  FrameInfo(frame=<frame at 0x7fdde6a0a580, file '/Users/yungyuc/hack/usr/opt37_190418/lib/python3.7/site-packages/IPython/core/interactiveshell.py', line 3049, code run_cell_async>, filename='/Users/yungyuc/hack/usr/opt37_190418/lib/python3.7/site-packages/IPython/core/interactiveshell.py', lineno=3049, function='run_cell_async', code_context=['                       interactivity=interactivity, compiler=compiler, result=result)\\n'], index=0)\n",
      "\n",
      "frame #4:\n",
      "  FrameInfo(frame=<frame at 0x10cf9f810, file '/Users/yungyuc/hack/usr/opt37_190418/lib/python3.7/site-packages/IPython/core/async_helpers.py', line 67, code _pseudo_sync_runner>, filename='/Users/yungyuc/hack/usr/opt37_190418/lib/python3.7/site-packages/IPython/core/async_helpers.py', lineno=67, function='_pseudo_sync_runner', code_context=['        coro.send(None)\\n'], index=0)\n",
      "\n",
      "frame #5:\n",
      "  FrameInfo(frame=<frame at 0x7fdde6a0a350, file '/Users/yungyuc/hack/usr/opt37_190418/lib/python3.7/site-packages/IPython/core/interactiveshell.py', line 2874, code _run_cell>, filename='/Users/yungyuc/hack/usr/opt37_190418/lib/python3.7/site-packages/IPython/core/interactiveshell.py', lineno=2874, function='_run_cell', code_context=['            return runner(coro)\\n'], index=0)\n",
      "\n",
      "frame #6:\n",
      "  FrameInfo(frame=<frame at 0x7fdde6a09f70, file '/Users/yungyuc/hack/usr/opt37_190418/lib/python3.7/site-packages/IPython/core/interactiveshell.py', line 2848, code run_cell>, filename='/Users/yungyuc/hack/usr/opt37_190418/lib/python3.7/site-packages/IPython/core/interactiveshell.py', lineno=2848, function='run_cell', code_context=['                raw_cell, store_history, silent, shell_futures)\\n'], index=0)\n",
      "\n",
      "frame #7:\n",
      "  FrameInfo(frame=<frame at 0x10cfa5960, file '/Users/yungyuc/hack/usr/opt37_190418/lib/python3.7/site-packages/ipykernel/zmqshell.py', line 536, code run_cell>, filename='/Users/yungyuc/hack/usr/opt37_190418/lib/python3.7/site-packages/ipykernel/zmqshell.py', lineno=536, function='run_cell', code_context=['        return super(ZMQInteractiveShell, self).run_cell(*args, **kwargs)\\n'], index=0)\n",
      "\n",
      "frame #8:\n",
      "  FrameInfo(frame=<frame at 0x7fdde6a09b10, file '/Users/yungyuc/hack/usr/opt37_190418/lib/python3.7/site-packages/ipykernel/ipkernel.py', line 294, code do_execute>, filename='/Users/yungyuc/hack/usr/opt37_190418/lib/python3.7/site-packages/ipykernel/ipkernel.py', lineno=294, function='do_execute', code_context=['                res = shell.run_cell(code, store_history=store_history, silent=silent)\\n'], index=0)\n",
      "\n",
      "frame #9:\n",
      "  FrameInfo(frame=<frame at 0x7fdde9232410, file '/Users/yungyuc/hack/usr/opt37_190418/lib/python3.7/site-packages/tornado/gen.py', line 209, code wrapper>, filename='/Users/yungyuc/hack/usr/opt37_190418/lib/python3.7/site-packages/tornado/gen.py', lineno=209, function='wrapper', code_context=['                    yielded = next(result)\\n'], index=0)\n",
      "\n",
      "frame #10:\n",
      "  FrameInfo(frame=<frame at 0x7fdde47a2050, file '/Users/yungyuc/hack/usr/opt37_190418/lib/python3.7/site-packages/ipykernel/kernelbase.py', line 534, code execute_request>, filename='/Users/yungyuc/hack/usr/opt37_190418/lib/python3.7/site-packages/ipykernel/kernelbase.py', lineno=534, function='execute_request', code_context=['                user_expressions, allow_stdin,\\n'], index=0)\n",
      "\n",
      "frame #11:\n",
      "  FrameInfo(frame=<frame at 0x7fdde44bc0b0, file '/Users/yungyuc/hack/usr/opt37_190418/lib/python3.7/site-packages/tornado/gen.py', line 209, code wrapper>, filename='/Users/yungyuc/hack/usr/opt37_190418/lib/python3.7/site-packages/tornado/gen.py', lineno=209, function='wrapper', code_context=['                    yielded = next(result)\\n'], index=0)\n",
      "\n",
      "frame #12:\n",
      "  FrameInfo(frame=<frame at 0x7fdde46fd280, file '/Users/yungyuc/hack/usr/opt37_190418/lib/python3.7/site-packages/ipykernel/kernelbase.py', line 267, code dispatch_shell>, filename='/Users/yungyuc/hack/usr/opt37_190418/lib/python3.7/site-packages/ipykernel/kernelbase.py', lineno=267, function='dispatch_shell', code_context=['                yield gen.maybe_future(handler(stream, idents, msg))\\n'], index=0)\n",
      "\n",
      "frame #13:\n",
      "  FrameInfo(frame=<frame at 0x7fdde6b045b0, file '/Users/yungyuc/hack/usr/opt37_190418/lib/python3.7/site-packages/tornado/gen.py', line 209, code wrapper>, filename='/Users/yungyuc/hack/usr/opt37_190418/lib/python3.7/site-packages/tornado/gen.py', lineno=209, function='wrapper', code_context=['                    yielded = next(result)\\n'], index=0)\n",
      "\n",
      "frame #14:\n",
      "  FrameInfo(frame=<frame at 0x10cf8ba50, file '/Users/yungyuc/hack/usr/opt37_190418/lib/python3.7/site-packages/ipykernel/kernelbase.py', line 357, code process_one>, filename='/Users/yungyuc/hack/usr/opt37_190418/lib/python3.7/site-packages/ipykernel/kernelbase.py', lineno=357, function='process_one', code_context=['        yield gen.maybe_future(dispatch(*args))\\n'], index=0)\n",
      "\n",
      "frame #15:\n",
      "  FrameInfo(frame=<frame at 0x7fdde47a22a0, file '/Users/yungyuc/hack/usr/opt37_190418/lib/python3.7/site-packages/tornado/gen.py', line 742, code run>, filename='/Users/yungyuc/hack/usr/opt37_190418/lib/python3.7/site-packages/tornado/gen.py', lineno=742, function='run', code_context=['                        yielded = self.gen.send(value)\\n'], index=0)\n",
      "\n",
      "frame #16:\n",
      "  FrameInfo(frame=<frame at 0x7fdde92353d0, file '/Users/yungyuc/hack/usr/opt37_190418/lib/python3.7/site-packages/tornado/gen.py', line 708, code __init__>, filename='/Users/yungyuc/hack/usr/opt37_190418/lib/python3.7/site-packages/tornado/gen.py', lineno=708, function='__init__', code_context=['            self.run()\\n'], index=0)\n",
      "\n",
      "frame #17:\n",
      "  FrameInfo(frame=<frame at 0x7fdde44b0f00, file '/Users/yungyuc/hack/usr/opt37_190418/lib/python3.7/site-packages/tornado/gen.py', line 225, code wrapper>, filename='/Users/yungyuc/hack/usr/opt37_190418/lib/python3.7/site-packages/tornado/gen.py', lineno=225, function='wrapper', code_context=['                    runner = Runner(result, future, yielded)\\n'], index=0)\n",
      "\n",
      "frame #18:\n",
      "  FrameInfo(frame=<frame at 0x10cf8d5f0, file '/Users/yungyuc/hack/usr/opt37_190418/lib/python3.7/site-packages/ipykernel/kernelbase.py', line 370, code dispatch_queue>, filename='/Users/yungyuc/hack/usr/opt37_190418/lib/python3.7/site-packages/ipykernel/kernelbase.py', lineno=370, function='dispatch_queue', code_context=['                yield self.process_one()\\n'], index=0)\n",
      "\n",
      "frame #19:\n",
      "  FrameInfo(frame=<frame at 0x7fdde6d05090, file '/Users/yungyuc/hack/usr/opt37_190418/lib/python3.7/site-packages/tornado/gen.py', line 742, code run>, filename='/Users/yungyuc/hack/usr/opt37_190418/lib/python3.7/site-packages/tornado/gen.py', lineno=742, function='run', code_context=['                        yielded = self.gen.send(value)\\n'], index=0)\n",
      "\n",
      "frame #20:\n",
      "  FrameInfo(frame=<frame at 0x7fdde44b7810, file '/Users/yungyuc/hack/usr/opt37_190418/lib/python3.7/site-packages/tornado/gen.py', line 781, code inner>, filename='/Users/yungyuc/hack/usr/opt37_190418/lib/python3.7/site-packages/tornado/gen.py', lineno=781, function='inner', code_context=['                self.run()\\n'], index=0)\n",
      "\n",
      "frame #21:\n",
      "  FrameInfo(frame=<frame at 0x7fdde4796670, file '/Users/yungyuc/hack/usr/opt37_190418/lib/python3.7/site-packages/tornado/ioloop.py', line 743, code _run_callback>, filename='/Users/yungyuc/hack/usr/opt37_190418/lib/python3.7/site-packages/tornado/ioloop.py', lineno=743, function='_run_callback', code_context=['            ret = callback()\\n'], index=0)\n",
      "\n",
      "frame #22:\n",
      "  FrameInfo(frame=<frame at 0x10cf90810, file '/Users/yungyuc/hack/usr/opt37_190418/lib/python3.7/site-packages/tornado/ioloop.py', line 690, code <lambda>>, filename='/Users/yungyuc/hack/usr/opt37_190418/lib/python3.7/site-packages/tornado/ioloop.py', lineno=690, function='<lambda>', code_context=['                lambda f: self._run_callback(functools.partial(callback, future))\\n'], index=0)\n",
      "\n",
      "frame #23:\n",
      "  FrameInfo(frame=<frame at 0x7fdde46faa90, file '/Users/yungyuc/hack/usr/opt37_190418/lib/python3.7/asyncio/events.py', line 88, code _run>, filename='/Users/yungyuc/hack/usr/opt37_190418/lib/python3.7/asyncio/events.py', lineno=88, function='_run', code_context=['            self._context.run(self._callback, *self._args)\\n'], index=0)\n",
      "\n",
      "frame #24:\n",
      "  FrameInfo(frame=<frame at 0x7fdde44b65f0, file '/Users/yungyuc/hack/usr/opt37_190418/lib/python3.7/asyncio/base_events.py', line 1771, code _run_once>, filename='/Users/yungyuc/hack/usr/opt37_190418/lib/python3.7/asyncio/base_events.py', lineno=1771, function='_run_once', code_context=['                handle._run()\\n'], index=0)\n",
      "\n",
      "frame #25:\n",
      "  FrameInfo(frame=<frame at 0x10cf90620, file '/Users/yungyuc/hack/usr/opt37_190418/lib/python3.7/asyncio/base_events.py', line 534, code run_forever>, filename='/Users/yungyuc/hack/usr/opt37_190418/lib/python3.7/asyncio/base_events.py', lineno=534, function='run_forever', code_context=['                self._run_once()\\n'], index=0)\n",
      "\n",
      "frame #26:\n",
      "  FrameInfo(frame=<frame at 0x10cf90430, file '/Users/yungyuc/hack/usr/opt37_190418/lib/python3.7/site-packages/tornado/platform/asyncio.py', line 148, code start>, filename='/Users/yungyuc/hack/usr/opt37_190418/lib/python3.7/site-packages/tornado/platform/asyncio.py', lineno=148, function='start', code_context=['            self.asyncio_loop.run_forever()\\n'], index=0)\n",
      "\n",
      "frame #27:\n",
      "  FrameInfo(frame=<frame at 0x7fdde44a8e00, file '/Users/yungyuc/hack/usr/opt37_190418/lib/python3.7/site-packages/ipykernel/kernelapp.py', line 505, code start>, filename='/Users/yungyuc/hack/usr/opt37_190418/lib/python3.7/site-packages/ipykernel/kernelapp.py', lineno=505, function='start', code_context=['            self.io_loop.start()\\n'], index=0)\n",
      "\n",
      "frame #28:\n",
      "  FrameInfo(frame=<frame at 0x7fdde46dcd90, file '/Users/yungyuc/hack/usr/opt37_190418/lib/python3.7/site-packages/traitlets/config/application.py', line 658, code launch_instance>, filename='/Users/yungyuc/hack/usr/opt37_190418/lib/python3.7/site-packages/traitlets/config/application.py', lineno=658, function='launch_instance', code_context=['        app.start()\\n'], index=0)\n",
      "\n",
      "frame #29:\n",
      "  FrameInfo(frame=<frame at 0x10a6b9240, file '/Users/yungyuc/hack/usr/opt37_190418/lib/python3.7/site-packages/ipykernel_launcher.py', line 16, code <module>>, filename='/Users/yungyuc/hack/usr/opt37_190418/lib/python3.7/site-packages/ipykernel_launcher.py', lineno=16, function='<module>', code_context=['    app.launch_new_instance()\\n'], index=0)\n",
      "\n",
      "frame #30:\n",
      "  FrameInfo(frame=<frame at 0x7fdde470faf0, file '/Users/yungyuc/hack/usr/opt37_190418/lib/python3.7/runpy.py', line 85, code _run_code>, filename='/Users/yungyuc/hack/usr/opt37_190418/lib/python3.7/runpy.py', lineno=85, function='_run_code', code_context=['    exec(code, run_globals)\\n'], index=0)\n",
      "\n",
      "frame #31:\n",
      "  FrameInfo(frame=<frame at 0x7fdde442c2e0, file '/Users/yungyuc/hack/usr/opt37_190418/lib/python3.7/runpy.py', line 193, code _run_module_as_main>, filename='/Users/yungyuc/hack/usr/opt37_190418/lib/python3.7/runpy.py', lineno=193, function='_run_module_as_main', code_context=['                     \"__main__\", mod_spec)\\n'], index=0)\n",
      "\n"
     ]
    }
   ],
   "source": [
    "for it, fi in enumerate(inspect.stack()):\n",
    "    sys.stdout.write('frame #{}:\\n  {}\\n\\n'.format(it, fi))"
   ]
  },
  {
   "cell_type": "markdown",
   "metadata": {},
   "source": [
    "```python\n",
    "#!/usr/bin/env python3\n",
    "\n",
    "import sys\n",
    "import inspect\n",
    "\n",
    "def main():\n",
    "    for it, fi in enumerate(inspect.stack()):\n",
    "        sys.stdout.write('frame #{}:\\n  {}\\n\\n'.format(it, fi))\n",
    "\n",
    "if __name__ == '__main__':\n",
    "    main()\n",
    "```"
   ]
  },
  {
   "cell_type": "code",
   "execution_count": 32,
   "metadata": {},
   "outputs": [
    {
     "name": "stdout",
     "output_type": "stream",
     "text": [
      "frame #0:\r\n",
      "  FrameInfo(frame=<frame at 0x7f8d4c31fdc0, file './showframe.py', line 8, code main>, filename='./showframe.py', lineno=7, function='main', code_context=['    for it, fi in enumerate(inspect.stack()):\\n'], index=0)\r\n",
      "\r\n",
      "frame #1:\r\n",
      "  FrameInfo(frame=<frame at 0x104762450, file './showframe.py', line 11, code <module>>, filename='./showframe.py', lineno=11, function='<module>', code_context=['    main()\\n'], index=0)\r\n",
      "\r\n"
     ]
    }
   ],
   "source": [
    "!./showframe.py"
   ]
  },
  {
   "cell_type": "markdown",
   "metadata": {},
   "source": [
    "# Customizing module import with `sys.meta_path`\n",
    "\n",
    "Python [`importlib`](https://docs.python.org/3/library/importlib.html) allows high degree of freedom in customizing module import flow.  Here I will use an example to load a module, `onemod`, locating in an alternate directory, `altdir/`, and ask Python to load it from the non-standard location."
   ]
  },
  {
   "cell_type": "code",
   "execution_count": 33,
   "metadata": {},
   "outputs": [],
   "source": [
    "# Bookkeeping code: keep the original meta_path.\n",
    "old_meta_path = sys.meta_path[:]\n",
    "#sys.meta_path = old_meta_path[:-1]"
   ]
  },
  {
   "cell_type": "markdown",
   "metadata": {},
   "source": [
    "`importlib` provides many facilities.  The theme in this example is [`sys.meta_path`](https://docs.python.org/3/library/sys.html#sys.meta_path).  It defines a list of ['MetaPathFinder'](https://docs.python.org/3/library/importlib.html#importlib.abc.MetaPathFinder) objects for customizing the import process."
   ]
  },
  {
   "cell_type": "code",
   "execution_count": 34,
   "metadata": {},
   "outputs": [
    {
     "name": "stdout",
     "output_type": "stream",
     "text": [
      "[<class '_frozen_importlib.BuiltinImporter'>, <class '_frozen_importlib.FrozenImporter'>, <class '_frozen_importlib_external.PathFinder'>, <six._SixMetaPathImporter object at 0x10ab47c10>]\n"
     ]
    }
   ],
   "source": [
    "sys.meta_path = old_meta_path\n",
    "print(sys.meta_path)"
   ]
  },
  {
   "cell_type": "markdown",
   "metadata": {},
   "source": [
    "At this point, the `onemod` cannot be imported, because `altdir/` is not in `sys.path`:"
   ]
  },
  {
   "cell_type": "code",
   "execution_count": 35,
   "metadata": {},
   "outputs": [
    {
     "name": "stderr",
     "output_type": "stream",
     "text": [
      "Traceback (most recent call last):\n",
      "  File \"<ipython-input-35-d88007362a9b>\", line 2, in <module>\n",
      "    import onemod\n",
      "ModuleNotFoundError: No module named 'onemod'\n"
     ]
    }
   ],
   "source": [
    "try:\n",
    "    import onemod\n",
    "except ModuleNotFoundError as e:\n",
    "    traceback.print_exc()"
   ]
  },
  {
   "cell_type": "markdown",
   "metadata": {},
   "source": [
    "In a normal Python course, you will be asked to modify `sys.path` to include `altdir/` for correctly import `onemod`.  That is uninteresting, so we will use `MetaPathFinder`.  Here we subclass the abstract base class (ABC) and override the `find_spec()` method, to tell it to load the `onemod` module at the place we specify.\n",
    "\n",
    "For our path finder to work, we need to properly set up a [`ModuleSpec`](https://docs.python.org/3/library/importlib.html#importlib.machinery.ModuleSpec), and create a [`SourceFileLoader`](https://docs.python.org/3/library/importlib.html#importlib.machinery.SourceFileLoader) object for it."
   ]
  },
  {
   "cell_type": "code",
   "execution_count": 36,
   "metadata": {},
   "outputs": [
    {
     "name": "stdout",
     "output_type": "stream",
     "text": [
      "[<class '_frozen_importlib.BuiltinImporter'>, <class '_frozen_importlib.FrozenImporter'>, <class '_frozen_importlib_external.PathFinder'>, <six._SixMetaPathImporter object at 0x10ab47c10>, <__main__.MyMetaPathFinder object at 0x10cfe2850>]\n"
     ]
    }
   ],
   "source": [
    "import importlib.abc\n",
    "import importlib.machinery\n",
    "\n",
    "class MyMetaPathFinder(importlib.abc.MetaPathFinder):\n",
    "    def find_spec(self, fullname, path, target=None):\n",
    "        if fullname == 'onemod':\n",
    "            print('DEBUG: fullname: {} , path: {} , target: {}'.format(fullname, path, target))\n",
    "            fpath = os.path.abspath('altdir/onemod.py')\n",
    "            loader = importlib.machinery.SourceFileLoader('onemod', fpath)\n",
    "            return importlib.machinery.ModuleSpec(fullname, loader, origin=fpath)\n",
    "        else:\n",
    "            return None\n",
    "\n",
    "sys.meta_path = old_meta_path + [MyMetaPathFinder()]\n",
    "print(sys.meta_path)"
   ]
  },
  {
   "cell_type": "markdown",
   "metadata": {},
   "source": [
    "It only deals with `onemod`.  To test it, ask it to load a module that does not exist:"
   ]
  },
  {
   "cell_type": "code",
   "execution_count": 37,
   "metadata": {},
   "outputs": [
    {
     "name": "stderr",
     "output_type": "stream",
     "text": [
      "Traceback (most recent call last):\n",
      "  File \"<ipython-input-37-b957d42d7042>\", line 2, in <module>\n",
      "    import one_non_existing_module\n",
      "ModuleNotFoundError: No module named 'one_non_existing_module'\n"
     ]
    }
   ],
   "source": [
    "try:\n",
    "    import one_non_existing_module\n",
    "except ModuleNotFoundError as e:\n",
    "    traceback.print_exc()"
   ]
  },
  {
   "cell_type": "markdown",
   "metadata": {
    "slideshow": {
     "slide_type": "subslide"
    }
   },
   "source": [
    "But after the meta path finder is inserted into meta path, `onemod` can be loaded:"
   ]
  },
  {
   "cell_type": "code",
   "execution_count": 38,
   "metadata": {},
   "outputs": [
    {
     "name": "stdout",
     "output_type": "stream",
     "text": [
      "DEBUG: fullname: onemod , path: None , target: None\n",
      "show content in onemod module: string in onemod\n"
     ]
    }
   ],
   "source": [
    "import onemod\n",
    "print(\"show content in onemod module:\", onemod.content)"
   ]
  },
  {
   "cell_type": "markdown",
   "metadata": {},
   "source": [
    "See the module we loaded.  Compare it with a 'normal module'."
   ]
  },
  {
   "cell_type": "code",
   "execution_count": 39,
   "metadata": {},
   "outputs": [
    {
     "name": "stdout",
     "output_type": "stream",
     "text": [
      "onemod: <module 'onemod' (/Users/yungyuc/hack/code/nsd/notebook/20au_nctu/14_advpy/altdir/onemod.py)>\n",
      "re: <module 're' from '/Users/yungyuc/hack/usr/opt37_190418/lib/python3.7/re.py'>\n"
     ]
    }
   ],
   "source": [
    "import re\n",
    "print('onemod:', onemod)\n",
    "print('re:', re)"
   ]
  },
  {
   "cell_type": "markdown",
   "metadata": {},
   "source": [
    "And the module objects have an important field `__spec__`, which is the `ModuleSpec` we created:"
   ]
  },
  {
   "cell_type": "code",
   "execution_count": 40,
   "metadata": {},
   "outputs": [
    {
     "name": "stdout",
     "output_type": "stream",
     "text": [
      "onemod.__spec__: ModuleSpec(name='onemod', loader=<_frozen_importlib_external.SourceFileLoader object at 0x10cfba290>, origin='/Users/yungyuc/hack/code/nsd/notebook/20au_nctu/14_advpy/altdir/onemod.py')\n",
      "re.__spec__: ModuleSpec(name='re', loader=<_frozen_importlib_external.SourceFileLoader object at 0x10a7e70d0>, origin='/Users/yungyuc/hack/usr/opt37_190418/lib/python3.7/re.py')\n"
     ]
    }
   ],
   "source": [
    "print('onemod.__spec__:', onemod.__spec__)\n",
    "print('re.__spec__:', re.__spec__)"
   ]
  },
  {
   "cell_type": "code",
   "execution_count": 41,
   "metadata": {},
   "outputs": [
    {
     "data": {
      "text/plain": [
       "<module 'onemod' (/Users/yungyuc/hack/code/nsd/notebook/20au_nctu/14_advpy/altdir/onemod.py)>"
      ]
     },
     "execution_count": 41,
     "metadata": {},
     "output_type": "execute_result"
    }
   ],
   "source": [
    "# Bookkeeping code.\n",
    "sys.modules.pop('onemod', None)"
   ]
  },
  {
   "cell_type": "markdown",
   "metadata": {},
   "source": [
    "# Descriptor\n",
    "\n",
    "The [descriptor protocol](https://docs.python.org/3/howto/descriptor.html) allows us to route attribute access to anywhere outside the class."
   ]
  },
  {
   "cell_type": "code",
   "execution_count": 42,
   "metadata": {},
   "outputs": [],
   "source": [
    "class ClsAccessor:\n",
    "    \"\"\"Routing access to all instance attributes to the descriptor object.\"\"\"\n",
    "\n",
    "    def __init__(self, name):\n",
    "        self._name = name\n",
    "        self._val = None\n",
    "\n",
    "    def __get__(self, obj, objtype):\n",
    "        print('On object {} , retrieve: {}'.format(obj, self._name))\n",
    "        return self._val\n",
    "\n",
    "    def __set__(self, obj, val):\n",
    "        print('On object {} , update: {}'.format(obj, self._name))\n",
    "        self._val = val\n",
    "\n",
    "class MyClass:\n",
    "    x = ClsAccessor('x')\n",
    "\n",
    "o = MyClass()"
   ]
  },
  {
   "cell_type": "markdown",
   "metadata": {},
   "source": [
    "See the message printed while getting the attribute 'x':"
   ]
  },
  {
   "cell_type": "code",
   "execution_count": 43,
   "metadata": {},
   "outputs": [
    {
     "name": "stdout",
     "output_type": "stream",
     "text": [
      "On object <__main__.MyClass object at 0x10d0cff50> , retrieve: x\n",
      "None\n"
     ]
    }
   ],
   "source": [
    "print(o.x)"
   ]
  },
  {
   "cell_type": "markdown",
   "metadata": {},
   "source": [
    "Setting the attribute also shows a message:"
   ]
  },
  {
   "cell_type": "code",
   "execution_count": 44,
   "metadata": {},
   "outputs": [
    {
     "name": "stdout",
     "output_type": "stream",
     "text": [
      "On object <__main__.MyClass object at 0x10d0cff50> , update: x\n"
     ]
    }
   ],
   "source": [
    "o.x = 10"
   ]
  },
  {
   "cell_type": "code",
   "execution_count": 45,
   "metadata": {},
   "outputs": [
    {
     "name": "stdout",
     "output_type": "stream",
     "text": [
      "On object <__main__.MyClass object at 0x10d0cff50> , retrieve: x\n",
      "10\n"
     ]
    }
   ],
   "source": [
    "print(o.x)"
   ]
  },
  {
   "cell_type": "markdown",
   "metadata": {},
   "source": [
    "Because the attribute value is kept in the descriptor, and the descriptor is kept in the 'class' object, attributes of all instances of `MyClass` share the same value."
   ]
  },
  {
   "cell_type": "code",
   "execution_count": 46,
   "metadata": {},
   "outputs": [
    {
     "name": "stdout",
     "output_type": "stream",
     "text": [
      "On object <__main__.MyClass object at 0x10d0e2150> , retrieve: x\n",
      "10\n"
     ]
    }
   ],
   "source": [
    "o2 = MyClass()\n",
    "print(o2.x) # Not None!"
   ]
  },
  {
   "cell_type": "code",
   "execution_count": 47,
   "metadata": {},
   "outputs": [
    {
     "name": "stdout",
     "output_type": "stream",
     "text": [
      "On object <__main__.MyClass object at 0x10d0e2150> , update: x\n"
     ]
    }
   ],
   "source": [
    "o2.x = 100"
   ]
  },
  {
   "cell_type": "code",
   "execution_count": 48,
   "metadata": {},
   "outputs": [
    {
     "name": "stdout",
     "output_type": "stream",
     "text": [
      "On object <__main__.MyClass object at 0x10d0cff50> , retrieve: x\n",
      "100\n"
     ]
    }
   ],
   "source": [
    "print(o.x)"
   ]
  },
  {
   "cell_type": "markdown",
   "metadata": {},
   "source": [
    "## Keep data on the instance\n",
    "\n",
    "Having all instances sharing the attribute value isn't always desirable.  Descriptor protocol allows to bind the values to the instance too."
   ]
  },
  {
   "cell_type": "code",
   "execution_count": 49,
   "metadata": {},
   "outputs": [],
   "source": [
    "class InsAccessor:\n",
    "    \"\"\"Routing access to all instance attributes to alternate names on the instance.\"\"\"\n",
    "\n",
    "    def __init__(self, name):\n",
    "        self._name = name\n",
    "\n",
    "    def __get__(self, obj, objtype):\n",
    "        print('On object {} , instance retrieve: {}'.format(obj, self._name))\n",
    "        varname = '_acs' + self._name\n",
    "        if not hasattr(obj, varname):\n",
    "            setattr(obj, varname, None)\n",
    "        return getattr(obj, varname)\n",
    "\n",
    "    def __set__(self, obj, val):\n",
    "        print('On object {} , instance update: {}'.format(obj, self._name))\n",
    "        varname = '_acs' + self._name\n",
    "        return setattr(obj, varname, val)\n",
    "\n",
    "class MyClass2:\n",
    "    x = InsAccessor('x')\n",
    "\n",
    "mo = MyClass2()"
   ]
  },
  {
   "cell_type": "markdown",
   "metadata": {},
   "source": [
    "Create an instance to test the descriptor."
   ]
  },
  {
   "cell_type": "code",
   "execution_count": 50,
   "metadata": {},
   "outputs": [
    {
     "name": "stdout",
     "output_type": "stream",
     "text": [
      "On object <__main__.MyClass2 object at 0x10d128850> , instance retrieve: x\n",
      "None\n"
     ]
    }
   ],
   "source": [
    "print(mo.x)"
   ]
  },
  {
   "cell_type": "code",
   "execution_count": 51,
   "metadata": {},
   "outputs": [
    {
     "name": "stdout",
     "output_type": "stream",
     "text": [
      "On object <__main__.MyClass2 object at 0x10d128850> , instance update: x\n",
      "On object <__main__.MyClass2 object at 0x10d128850> , instance retrieve: x\n",
      "10\n"
     ]
    }
   ],
   "source": [
    "mo.x = 10\n",
    "print(mo.x)"
   ]
  },
  {
   "cell_type": "markdown",
   "metadata": {},
   "source": [
    "In a new instance, the value uses the initial value:"
   ]
  },
  {
   "cell_type": "code",
   "execution_count": 52,
   "metadata": {},
   "outputs": [
    {
     "name": "stdout",
     "output_type": "stream",
     "text": [
      "On object <__main__.MyClass2 object at 0x10d1251d0> , instance retrieve: x\n",
      "None\n"
     ]
    }
   ],
   "source": [
    "mo2 = MyClass2()\n",
    "print(mo2.x)"
   ]
  },
  {
   "cell_type": "markdown",
   "metadata": {},
   "source": [
    "# Metaclass\n",
    "\n",
    "Python class is also an object."
   ]
  },
  {
   "cell_type": "code",
   "execution_count": 53,
   "metadata": {},
   "outputs": [
    {
     "name": "stdout",
     "output_type": "stream",
     "text": [
      "<class '__main__.ClassIsObject'>\n",
      "{'__module__': '__main__', '__dict__': <attribute '__dict__' of 'ClassIsObject' objects>, '__weakref__': <attribute '__weakref__' of 'ClassIsObject' objects>, '__doc__': None}\n"
     ]
    }
   ],
   "source": [
    "class ClassIsObject:\n",
    "    pass\n",
    "\n",
    "print(ClassIsObject)\n",
    "print(ClassIsObject.__dict__)"
   ]
  },
  {
   "cell_type": "code",
   "execution_count": 54,
   "metadata": {},
   "outputs": [
    {
     "data": {
      "text/plain": [
       "True"
      ]
     },
     "execution_count": 54,
     "metadata": {},
     "output_type": "execute_result"
    }
   ],
   "source": [
    "isinstance(ClassIsObject, object)"
   ]
  },
  {
   "cell_type": "code",
   "execution_count": 55,
   "metadata": {},
   "outputs": [
    {
     "data": {
      "text/plain": [
       "True"
      ]
     },
     "execution_count": 55,
     "metadata": {},
     "output_type": "execute_result"
    }
   ],
   "source": [
    "isinstance(ClassIsObject, type)"
   ]
  },
  {
   "cell_type": "code",
   "execution_count": 56,
   "metadata": {},
   "outputs": [
    {
     "data": {
      "text/plain": [
       "True"
      ]
     },
     "execution_count": 56,
     "metadata": {},
     "output_type": "execute_result"
    }
   ],
   "source": [
    "isinstance(type, object)"
   ]
  },
  {
   "cell_type": "markdown",
   "metadata": {},
   "source": [
    "[Metaclass](https://docs.python.org/3/reference/datamodel.html#metaclasses) allows programmers to customize class creation."
   ]
  },
  {
   "cell_type": "code",
   "execution_count": 57,
   "metadata": {},
   "outputs": [],
   "source": [
    "class AutoAccessor:\n",
    "    \"\"\"Routing access to all instance attributes to alternate names on the instance.\"\"\"\n",
    "\n",
    "    def __init__(self):\n",
    "        self.name = None\n",
    "\n",
    "    def __get__(self, obj, objtype):\n",
    "        print('On object {} , auto retrieve: {}'.format(obj, self.name))\n",
    "        varname = '_acs' + self.name\n",
    "        if not hasattr(obj, varname):\n",
    "            setattr(obj, varname, None)\n",
    "        return getattr(obj, varname)\n",
    "\n",
    "    def __set__(self, obj, val):\n",
    "        print('On object {} , auto update: {}'.format(obj, self.name))\n",
    "        varname = '_acs' + self.name\n",
    "        return setattr(obj, varname, val)\n",
    "\n",
    "class AutoAccessorMeta(type):\n",
    "\n",
    "    def __new__(cls, name, bases, namespace):\n",
    "\n",
    "        print('DEBUG before names:', name)\n",
    "        print('DEBUG before bases:', bases)\n",
    "        print('DEBUG before namespace:', namespace)\n",
    "\n",
    "        for k, v in namespace.items():\n",
    "            if isinstance(v, AutoAccessor):\n",
    "                v.name = k\n",
    "\n",
    "        # Create the class object for MyAutoClass.\n",
    "        newcls = super(AutoAccessorMeta, cls).__new__(cls, name, bases, namespace)\n",
    "\n",
    "        print('DEBUG after names:', name)\n",
    "        print('DEBUG after bases:', bases)\n",
    "        print('DEBUG after namespace:', namespace)\n",
    "\n",
    "        return newcls"
   ]
  },
  {
   "cell_type": "markdown",
   "metadata": {},
   "source": [
    "We will use the descriptor to test the metaclass.  The new descriptor class `AutoAccessor` doesn't take the attribute name in the constructor.  Instead, `AutoAccessorMeta` assigns the correct attribute name."
   ]
  },
  {
   "cell_type": "code",
   "execution_count": 58,
   "metadata": {},
   "outputs": [],
   "source": [
    "class MyAutoClassDefault(metaclass=type):\n",
    "    x = AutoAccessor()"
   ]
  },
  {
   "cell_type": "code",
   "execution_count": 59,
   "metadata": {},
   "outputs": [
    {
     "name": "stdout",
     "output_type": "stream",
     "text": [
      "DEBUG before names: MyAutoClass\n",
      "DEBUG before bases: ()\n",
      "DEBUG before namespace: {'__module__': '__main__', '__qualname__': 'MyAutoClass', 'x': <__main__.AutoAccessor object at 0x10cfd9f90>}\n",
      "DEBUG after names: MyAutoClass\n",
      "DEBUG after bases: ()\n",
      "DEBUG after namespace: {'__module__': '__main__', '__qualname__': 'MyAutoClass', 'x': <__main__.AutoAccessor object at 0x10cfd9f90>}\n"
     ]
    }
   ],
   "source": [
    "class MyAutoClass(metaclass=AutoAccessorMeta):\n",
    "    x = AutoAccessor()  # Note: no name is given.\n",
    "\n",
    "ao = MyAutoClass()"
   ]
  },
  {
   "cell_type": "code",
   "execution_count": 60,
   "metadata": {},
   "outputs": [
    {
     "name": "stdout",
     "output_type": "stream",
     "text": [
      "On object <__main__.MyAutoClass object at 0x10cfd9350> , auto retrieve: x\n",
      "None\n"
     ]
    }
   ],
   "source": [
    "print(ao.x)"
   ]
  },
  {
   "cell_type": "code",
   "execution_count": 61,
   "metadata": {},
   "outputs": [
    {
     "name": "stdout",
     "output_type": "stream",
     "text": [
      "On object <__main__.MyAutoClass object at 0x10cfd9350> , auto update: x\n",
      "On object <__main__.MyAutoClass object at 0x10cfd9350> , auto retrieve: x\n",
      "10\n"
     ]
    }
   ],
   "source": [
    "ao.x = 10\n",
    "print(ao.x)"
   ]
  },
  {
   "cell_type": "code",
   "execution_count": 62,
   "metadata": {},
   "outputs": [
    {
     "name": "stdout",
     "output_type": "stream",
     "text": [
      "10\n"
     ]
    }
   ],
   "source": [
    "print(ao._acsx)"
   ]
  },
  {
   "cell_type": "markdown",
   "metadata": {},
   "source": [
    "# Type introspection and abstract base class (abc)"
   ]
  },
  {
   "cell_type": "code",
   "execution_count": 63,
   "metadata": {},
   "outputs": [],
   "source": [
    "class MyBaseClass:\n",
    "    pass\n",
    "\n",
    "class MyDerivedClass(MyBaseClass):\n",
    "    pass\n",
    "\n",
    "base = MyBaseClass()\n",
    "derived = MyDerivedClass()"
   ]
  },
  {
   "cell_type": "code",
   "execution_count": 64,
   "metadata": {},
   "outputs": [
    {
     "name": "stdout",
     "output_type": "stream",
     "text": [
      "base is MyBaseClass\n"
     ]
    }
   ],
   "source": [
    "print('base {} MyBaseClass'.format('is' if isinstance(base, MyBaseClass) else 'is not'))"
   ]
  },
  {
   "cell_type": "code",
   "execution_count": 65,
   "metadata": {},
   "outputs": [
    {
     "name": "stdout",
     "output_type": "stream",
     "text": [
      "base is not MyDerivedClass\n"
     ]
    }
   ],
   "source": [
    "print('base {} MyDerivedClass'.format('is' if isinstance(base, MyDerivedClass) else 'is not'))"
   ]
  },
  {
   "cell_type": "code",
   "execution_count": 66,
   "metadata": {},
   "outputs": [
    {
     "name": "stdout",
     "output_type": "stream",
     "text": [
      "derived is MyBaseClass\n"
     ]
    }
   ],
   "source": [
    "print('derived {} MyBaseClass'.format('is' if isinstance(derived, MyBaseClass) else 'is not'))"
   ]
  },
  {
   "cell_type": "code",
   "execution_count": 67,
   "metadata": {},
   "outputs": [
    {
     "name": "stdout",
     "output_type": "stream",
     "text": [
      "derived is MyDerivedClass\n"
     ]
    }
   ],
   "source": [
    "print('derived {} MyDerivedClass'.format('is' if isinstance(derived, MyDerivedClass) else 'is not'))"
   ]
  },
  {
   "cell_type": "markdown",
   "metadata": {},
   "source": [
    "## Method resolution order (mro)\n",
    "\n",
    "Python uses the \"C3\" algorithm to determine the [method resolution order](https://www.python.org/download/releases/2.3/mro/) [1]."
   ]
  },
  {
   "cell_type": "code",
   "execution_count": 68,
   "metadata": {},
   "outputs": [
    {
     "name": "stdout",
     "output_type": "stream",
     "text": [
      "(<class '__main__.D'>, <class '__main__.B'>, <class '__main__.C'>, <class '__main__.A'>, <class 'object'>)\n"
     ]
    }
   ],
   "source": [
    "class A:\n",
    "    def process(self):\n",
    "        print('A process()')\n",
    "\n",
    "class B(A):\n",
    "    def process(self):\n",
    "        print('B process()')\n",
    "        super(B, self).process()\n",
    "\n",
    "class C(A):\n",
    "    def process(self):\n",
    "        print('C process()')\n",
    "        super(C, self).process()\n",
    "\n",
    "class D(B, C):\n",
    "    pass\n",
    "\n",
    "print(D.__mro__)"
   ]
  },
  {
   "cell_type": "code",
   "execution_count": 69,
   "metadata": {},
   "outputs": [
    {
     "name": "stdout",
     "output_type": "stream",
     "text": [
      "B process()\n",
      "C process()\n",
      "A process()\n"
     ]
    }
   ],
   "source": [
    "obj = D()\n",
    "obj.process()"
   ]
  },
  {
   "cell_type": "markdown",
   "metadata": {},
   "source": [
    "Change the order in the inheritance declaration and the MRO changes accordingly."
   ]
  },
  {
   "cell_type": "code",
   "execution_count": 70,
   "metadata": {},
   "outputs": [
    {
     "name": "stdout",
     "output_type": "stream",
     "text": [
      "(<class '__main__.D'>, <class '__main__.C'>, <class '__main__.B'>, <class '__main__.A'>, <class 'object'>)\n"
     ]
    }
   ],
   "source": [
    "class D(C, B):\n",
    "    pass\n",
    "\n",
    "print(D.__mro__)"
   ]
  },
  {
   "cell_type": "markdown",
   "metadata": {},
   "source": [
    "### Example: multiple level inheritance"
   ]
  },
  {
   "cell_type": "code",
   "execution_count": 71,
   "metadata": {},
   "outputs": [],
   "source": [
    "O = object\n",
    "class F(O): pass\n",
    "class E(O): pass\n",
    "class D(O): pass\n",
    "class C(D, F): pass\n",
    "class B(D, E): pass\n",
    "class A(B, C): pass"
   ]
  },
  {
   "cell_type": "code",
   "execution_count": 72,
   "metadata": {},
   "outputs": [
    {
     "name": "stdout",
     "output_type": "stream",
     "text": [
      "(<class '__main__.A'>, <class '__main__.B'>, <class '__main__.C'>, <class '__main__.D'>, <class '__main__.E'>, <class '__main__.F'>, <class 'object'>)\n"
     ]
    }
   ],
   "source": [
    "print(A.__mro__)"
   ]
  },
  {
   "cell_type": "code",
   "execution_count": 73,
   "metadata": {},
   "outputs": [
    {
     "name": "stdout",
     "output_type": "stream",
     "text": [
      "(<class '__main__.B'>, <class '__main__.D'>, <class '__main__.E'>, <class 'object'>)\n"
     ]
    }
   ],
   "source": [
    "print(B.__mro__)"
   ]
  },
  {
   "cell_type": "code",
   "execution_count": 74,
   "metadata": {},
   "outputs": [
    {
     "name": "stdout",
     "output_type": "stream",
     "text": [
      "(<class '__main__.C'>, <class '__main__.D'>, <class '__main__.F'>, <class 'object'>)\n"
     ]
    }
   ],
   "source": [
    "print(C.__mro__)"
   ]
  },
  {
   "cell_type": "code",
   "execution_count": 75,
   "metadata": {},
   "outputs": [
    {
     "name": "stdout",
     "output_type": "stream",
     "text": [
      "(<class '__main__.D'>, <class 'object'>)\n",
      "(<class '__main__.E'>, <class 'object'>)\n",
      "(<class '__main__.F'>, <class 'object'>)\n"
     ]
    }
   ],
   "source": [
    "print(D.__mro__)\n",
    "print(E.__mro__)\n",
    "print(F.__mro__)"
   ]
  },
  {
   "cell_type": "code",
   "execution_count": 76,
   "metadata": {},
   "outputs": [
    {
     "name": "stdout",
     "output_type": "stream",
     "text": [
      "a is A\n",
      "a is B\n",
      "a is C\n",
      "a is D\n",
      "a is E\n",
      "a is F\n"
     ]
    }
   ],
   "source": [
    "a = A()\n",
    "print('a {} A'.format('is' if isinstance(a, A) else 'is not'))\n",
    "print('a {} B'.format('is' if isinstance(a, B) else 'is not'))\n",
    "print('a {} C'.format('is' if isinstance(a, C) else 'is not'))\n",
    "print('a {} D'.format('is' if isinstance(a, D) else 'is not'))\n",
    "print('a {} E'.format('is' if isinstance(a, E) else 'is not'))\n",
    "print('a {} F'.format('is' if isinstance(a, F) else 'is not'))"
   ]
  },
  {
   "cell_type": "markdown",
   "metadata": {},
   "source": [
    "## Abstract base class (abc)\n",
    "\n",
    "Python [abstract base class (abc)](https://docs.python.org/3/library/abc.html) provides the capabilities to overload `isinstance()` and `issubclass()`, and define abstract methods."
   ]
  },
  {
   "cell_type": "markdown",
   "metadata": {},
   "source": [
    "We can use `register()` method to ask a class `MyABC` that is not in a inheritance chain of another class `A` to be a 'virtual' base class of the latter."
   ]
  },
  {
   "cell_type": "code",
   "execution_count": 77,
   "metadata": {},
   "outputs": [],
   "source": [
    "import abc\n",
    "\n",
    "class MyABC(metaclass=abc.ABCMeta):\n",
    "    pass"
   ]
  },
  {
   "cell_type": "markdown",
   "metadata": {},
   "source": [
    "As we know, `A` is not a subclass of `MyABC`:"
   ]
  },
  {
   "cell_type": "code",
   "execution_count": 78,
   "metadata": {},
   "outputs": [
    {
     "name": "stdout",
     "output_type": "stream",
     "text": [
      "A is not a subclass of MyABC\n"
     ]
    }
   ],
   "source": [
    "print('A {} a subclass of MyABC'.format('is' if issubclass(A, MyABC) else 'is not'))"
   ]
  },
  {
   "cell_type": "markdown",
   "metadata": {},
   "source": [
    "But once we register `MyABC` to be a virtual base class of `A`, we will see `A` is a subclass of `MyABC`:"
   ]
  },
  {
   "cell_type": "code",
   "execution_count": 79,
   "metadata": {},
   "outputs": [
    {
     "name": "stdout",
     "output_type": "stream",
     "text": [
      "A is a subclass of MyABC\n"
     ]
    }
   ],
   "source": [
    "MyABC.register(A)\n",
    "\n",
    "print('A {} a subclass of MyABC'.format('is' if issubclass(A, MyABC) else 'is not'))"
   ]
  },
  {
   "cell_type": "markdown",
   "metadata": {},
   "source": [
    "## Abstract method\n",
    "\n",
    "Using abc, we can add abstract methods to an class (making it abstract)."
   ]
  },
  {
   "cell_type": "code",
   "execution_count": 80,
   "metadata": {},
   "outputs": [],
   "source": [
    "import abc\n",
    "\n",
    "class AbstractClass(metaclass=abc.ABCMeta):\n",
    "\n",
    "    @abc.abstractmethod\n",
    "    def process(self):\n",
    "        pass"
   ]
  },
  {
   "cell_type": "markdown",
   "metadata": {},
   "source": [
    "An abstract class cannot be instantiated:"
   ]
  },
  {
   "cell_type": "code",
   "execution_count": 81,
   "metadata": {},
   "outputs": [
    {
     "name": "stderr",
     "output_type": "stream",
     "text": [
      "Traceback (most recent call last):\n",
      "  File \"<ipython-input-81-66c429136655>\", line 2, in <module>\n",
      "    a = AbstractClass()\n",
      "TypeError: Can't instantiate abstract class AbstractClass with abstract methods process\n"
     ]
    }
   ],
   "source": [
    "try:\n",
    "    a = AbstractClass()\n",
    "except:\n",
    "    traceback.print_exc()"
   ]
  },
  {
   "cell_type": "markdown",
   "metadata": {},
   "source": [
    "In a derived class, the abstract method needs to be overridden:"
   ]
  },
  {
   "cell_type": "code",
   "execution_count": 82,
   "metadata": {},
   "outputs": [
    {
     "name": "stdout",
     "output_type": "stream",
     "text": [
      "GoodConcreteClass process\n"
     ]
    }
   ],
   "source": [
    "class GoodConcreteClass(AbstractClass):\n",
    "\n",
    "    def process(self):\n",
    "        print('GoodConcreteClass process')\n",
    "\n",
    "g = GoodConcreteClass()\n",
    "g.process()"
   ]
  },
  {
   "cell_type": "markdown",
   "metadata": {},
   "source": [
    "If the abstract method is not overridden, it is a bad derived class and the program does not run:"
   ]
  },
  {
   "cell_type": "code",
   "execution_count": 83,
   "metadata": {},
   "outputs": [
    {
     "name": "stderr",
     "output_type": "stream",
     "text": [
      "Traceback (most recent call last):\n",
      "  File \"<ipython-input-83-19ed4d2ea3d6>\", line 5, in <module>\n",
      "    b = BadConcreteClass()\n",
      "TypeError: Can't instantiate abstract class BadConcreteClass with abstract methods process\n"
     ]
    }
   ],
   "source": [
    "class BadConcreteClass(AbstractClass):\n",
    "    pass\n",
    "\n",
    "try:\n",
    "    b = BadConcreteClass()\n",
    "except:\n",
    "    traceback.print_exc()"
   ]
  },
  {
   "cell_type": "markdown",
   "metadata": {},
   "source": [
    "# Reference\n",
    "\n",
    "1. K. Barrett, B. Cassels, P. Haahr, D. A. Moon, K. Playford, and P. T. Withington, “A monotonic superclass linearization for Dylan,” SIGPLAN Not., vol. 31, no. 10, pp. 69–82, Oct. 1996, doi: 10.1145/236338.236343.  https://dl.acm.org/doi/10.1145/236338.236343."
   ]
  }
 ],
 "metadata": {
  "kernelspec": {
   "display_name": "Python 3",
   "language": "python",
   "name": "python3"
  },
  "language_info": {
   "codemirror_mode": {
    "name": "ipython",
    "version": 3
   },
   "file_extension": ".py",
   "mimetype": "text/x-python",
   "name": "python",
   "nbconvert_exporter": "python",
   "pygments_lexer": "ipython3",
   "version": "3.7.4+"
  }
 },
 "nbformat": 4,
 "nbformat_minor": 2
}
