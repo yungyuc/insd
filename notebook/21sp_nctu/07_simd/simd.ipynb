{
 "cells": [
  {
   "cell_type": "code",
   "execution_count": 1,
   "metadata": {},
   "outputs": [
    {
     "name": "stdout",
     "output_type": "stream",
     "text": [
      "env: VECLIB_MAXIMUM_THREADS=1\n",
      "env: MKL_NUM_THREADS=1\n",
      "env: NUMEXPR_NUM_THREADS=1\n",
      "env: OMP_NUM_THREADS=1\n",
      "make -C 01_mul clean\n",
      "rm -rf *.o *.dSYM/ mul\n",
      "make -C 02_fma clean\n",
      "rm -rf *.o *.dSYM/ fma\n",
      "make -C 03_omp clean\n",
      "rm -rf *.o *.dSYM/ omp\n",
      "rm -rf *.o *.dSYM/ \n"
     ]
    }
   ],
   "source": [
    "%env VECLIB_MAXIMUM_THREADS=1\n",
    "%env MKL_NUM_THREADS=1\n",
    "%env NUMEXPR_NUM_THREADS=1\n",
    "%env OMP_NUM_THREADS=1\n",
    "\n",
    "!make clean\n",
    "\n",
    "import os, platform\n",
    "import numpy as np\n",
    "#np.show_config()"
   ]
  },
  {
   "cell_type": "markdown",
   "metadata": {},
   "source": [
    "# SIMD (vector processing)\n",
    "\n",
    "1. Types of parallelism\n",
    "   1. Shared-memory parallelism\n",
    "   2. Distributed-memory parallelism\n",
    "   3. Vector processing\n",
    "2. SIMD instructions\n",
    "   1. CPU capabilities\n",
    "   2. x86 intrinsic functions\n",
    "   3. Symbol table\n",
    "   4. Inspect assembly: 1, 3, 5 multiplications"
   ]
  },
  {
   "cell_type": "markdown",
   "metadata": {},
   "source": [
    "# Types of parallelism\n",
    "\n",
    "The popular computer architecture is based on sequential processing.  The most fundamental processing unit executes instructions one by one.\n",
    "\n",
    "<center><img src=\"architecture.png\" alt=\"Common computer architecture\" /></center>\n",
    "\n",
    "If we assume the processor can only perform sequantial processing, we need to use multiple processors to perform parallel processing.  Differentiated by the memory access, the parallelism can be broadly set to two categories:\n",
    "\n",
    "* Shared-memory parallel processing\n",
    "* Distributed-memory parallel processing\n",
    "\n",
    "## Shared-memory parallel processing\n",
    "\n",
    "<br />\n",
    "<center><img src=\"shared.png\" alt=\"Shared-memory parallelism\" /></center>\n",
    "\n",
    "## Distributed-memory parallel processing\n",
    "\n",
    "<br />\n",
    "<center><img src=\"distributed.png\" alt=\"Distributed-memory parallelism\" /></center>"
   ]
  },
  {
   "cell_type": "markdown",
   "metadata": {},
   "source": [
    "# Vector processing\n",
    "\n",
    "When the parallelism happens in the processor (one processing unit or core), it is usually done once for a single instruction with multiple data (SIMD).  It has also been called vector processing (it's an illustrative name).\n",
    "\n",
    "Before showing what is vector processing, let us see the ordinary scalar execution:\n",
    "\n",
    "<center><img src=\"scalar.png\" alt=\"Scalar execution\" /></center>\n",
    "\n",
    "The vector execution uses a wider register so that it can perform an operation for multiple data at once:\n",
    "\n",
    "<center><img src=\"vector.png\" alt=\"Vector execution\" /></center>"
   ]
  },
  {
   "cell_type": "markdown",
   "metadata": {},
   "source": [
    "# Check CPU capabilities\n",
    "\n",
    "To take advantage of SIMD, we will need to inspect the CPU instructions, or the assembly.  But most of the time we stay in high-level languages.  The way we deal with the assembly is to get familiar with the instructions, e.g., using [x86 and amd64 instruction reference](https://www.felixcloutier.com/x86/).\n",
    "\n",
    "x86 provides a series of SIMD instructions, including\n",
    "\n",
    "* 64-bit: MMX\n",
    "* 128-bit: SSE, SSE2, SSE3, SSE4, SSE4.1, SSE4.2 (streaming simd extension)\n",
    "* 256-bit: AVX, AVX2 (advanced vector extension)\n",
    "* 512-bit: AVX-512\n",
    "\n",
    "Recent processors usually are equipped with AVX2, which was released with Haswell in 2013.  Before asking the compiler to use the specific instruction set, query the operating system for the cpu capabilities."
   ]
  },
  {
   "cell_type": "code",
   "execution_count": 2,
   "metadata": {},
   "outputs": [
    {
     "name": "stdout",
     "output_type": "stream",
     "text": [
      "Check on Darwin\n",
      "machdep.cpu.features: FPU VME DE PSE TSC MSR PAE MCE CX8 APIC SEP MTRR PGE MCA CMOV PAT PSE36 CLFSH DS ACPI MMX FXSR SSE SSE2 SS HTT TM PBE SSE3 PCLMULQDQ DTES64 MON DSCPL VMX EST TM2 SSSE3 FMA CX16 TPR PDCM SSE4.1 SSE4.2 x2APIC MOVBE POPCNT AES PCID XSAVE OSXSAVE SEGLIM64 TSCTMR AVX1.0 RDRAND F16C\n",
      "machdep.cpu.leaf7_features: RDWRFSGS TSC_THREAD_OFFSET SGX BMI1 AVX2 SMEP BMI2 ERMS INVPCID FPU_CSDS MPX RDSEED ADX SMAP CLFSOPT IPT MDCLEAR TSXFA IBRS STIBP L1DF SSBD\n",
      "machdep.cpu.extfeatures: SYSCALL XD 1GBPAGE EM64T LAHF LZCNT PREFETCHW RDTSCP TSCI\n"
     ]
    }
   ],
   "source": [
    "print(\"Check on\", platform.system())\n",
    "if 'Linux' == platform.system():\n",
    "    # check whether your cpu supports avx2 on linux\n",
    "    !grep flags /proc/cpuinfo\n",
    "elif 'Darwin' == platform.system():\n",
    "    # check whether your cpu supports avx2 on mac\n",
    "    !sysctl -a | grep machdep.cpu.*features"
   ]
  },
  {
   "cell_type": "markdown",
   "metadata": {},
   "source": [
    "# x86 intrinsic functions\n",
    "\n",
    "Major compilers provide header files for using the intrinsic functions that can be directly translated into the SIMD instructions:\n",
    "\n",
    "* `<mmintrin.h>`: MMX\n",
    "* `<xmmintrin.h>`: SSE\n",
    "* `<emmintrin.h>`: SSE2\n",
    "* `<pmmintrin.h>`: SSE3\n",
    "* `<tmmintrin.h>`: SSSE3\n",
    "* `<smmintrin.h>`: SSE4.1\n",
    "* `<nmmintrin.h>`: SSE4.2\n",
    "* `<ammintrin.h>`: SSE4A\n",
    "* `<immintrin.h>`: AVX\n",
    "* `<zmmintrin.h>`: AVX512\n",
    "\n",
    "You may also use `<x86intrin.h>` which includes everything.\n",
    "\n",
    "With the intrinsic functions, programmers don't need to really write assembly, and can stay in the high-level languages most of the time.  The intrinsic functions correspond to x86 instructions.  An example of using it:\n",
    "\n",
    "```cpp\n",
    "__m256 * ma = (__m256 *) (&a[i*width]);\n",
    "__m256 * mb = (__m256 *) (&b[i*width]);\n",
    "__m256 * mr = (__m256 *) (&r[i*width]);\n",
    "*mr = _mm256_mul_ps(*ma, *mb);\n",
    "```\n",
    "\n",
    "**Intel intrinsic guide**: Intel maintains a website to show the available intrinsics: https://software.intel.com/sites/landingpage/IntrinsicsGuide/ .  Consult and remember it when needed.\n",
    "\n",
    "Using intrinsics and SIMD for optimization is a tedious process.  The materials presented here are not a complete guide to you, but show you one way to study and measure the benefits.  The measurement is important to assess whether or not you need the optimization."
   ]
  },
  {
   "cell_type": "markdown",
   "metadata": {},
   "source": [
    "We will use the example, `01_mul/mul.cpp`, to show how to use the 256-bit-wide AVX to perform vector multiplication for 8 single-precision floating-point values.\n",
    "\n",
    "```cpp\n",
    "constexpr const size_t width = 8;\n",
    "constexpr const size_t repeat = 1024 * 1024;\n",
    "constexpr const size_t nelem = width * repeat;\n",
    "```"
   ]
  },
  {
   "cell_type": "code",
   "execution_count": 3,
   "metadata": {},
   "outputs": [
    {
     "name": "stdout",
     "output_type": "stream",
     "text": [
      "width: 8\n",
      "nelem: 8388608\n",
      "\n",
      "arr: 0x0x101282000\n",
      "brr: 0x0x103282000\n",
      "rrr1: 0x0x105282000\n",
      "rrr2: 0x0x107282000\n",
      "\n",
      "Timing repeats for 100 times and takes the minimum\n",
      "\n",
      "1 multiplication by loop takes: 0.00529216 sec\n",
      "1 multiplication by simd takes: 0.00354195 sec\n",
      "\n",
      "3 multiplication by loop takes: 0.0110599 sec\n",
      "3 multiplication by simd takes: 0.00341286 sec\n",
      "\n",
      "5 multiplication by loop takes: 0.0217136 sec\n",
      "5 multiplication by simd takes: 0.00384278 sec\n",
      "\n"
     ]
    }
   ],
   "source": [
    "# time the difference between the loop and the simd/avx versions\n",
    "!g++ -std=c++17 -g -O3 -m64 -mavx 01_mul/mul.cpp -o 01_mul/mul ; 01_mul/mul"
   ]
  },
  {
   "cell_type": "markdown",
   "metadata": {},
   "source": [
    "## Symbol table\n",
    "\n",
    "I use [radare2](https://rada.re/n/) to inspect the assembly of the generated image.  Before really checking the assembly, we need to identify what functions to be inspected from the symbol table."
   ]
  },
  {
   "cell_type": "code",
   "execution_count": 4,
   "metadata": {},
   "outputs": [
    {
     "name": "stdout",
     "output_type": "stream",
     "text": [
      "0x100002620   27 3402         entry0\n",
      "0x100001690    3 175          sym.multiply1_loop_float__float__float\n",
      "0x100001740    3 102          sym.multiply1_simd_float__float__float\n",
      "0x1000017b0    3 352          sym.multiply3_loop_float__float__float\n",
      "0x100001910    3 107          sym.multiply3_simd_float__float__float\n",
      "0x100001980    3 540          sym.multiply5_loop_float__float__float\n",
      "0x100001ba0    3 87           sym.multiply5_simd_float__float__float\n",
      "0x100001c00   80 1834 -> 1784 sym.run_std::__1::function_void_float__float__float____float__float__float\n",
      "0x100002380    5 645          sym.check_float__float\n",
      "0x100003530    6 249          sym.std::__1::basic_ostream_char_std::__1::char_traits_char___std::__1::__put_character_sequence_char_std::__1::char_traits_char___std::__1::basic_ostream_char_std::__1::char_traits_char____charconst__unsignedlong\n",
      "0x100003906    1 6            sym.std::__1::basic_ostream_char_std::__1::char_traits_char__::operator___unsignedlong\n",
      "0x100003900    1 6            sym.std::__1::basic_ostream_char_std::__1::char_traits_char__::operator___float\n",
      "0x1000038d0    1 6            sym.std::__1::ios_base::getloc__const\n",
      "0x1000038ca    1 6            sym.std::__1::locale::use_facet_std::__1::locale::id__const\n",
      "0x100003912    1 6            sym.std::__1::locale::_locale\n",
      "0x1000038dc    1 6            sym.std::__1::basic_ostream_char_std::__1::char_traits_char__::put_char\n",
      "0x1000038e2    1 6            sym.std::__1::basic_ostream_char_std::__1::char_traits_char__::flush\n",
      "0x100003bbc    2 11           sym.typeinfonameforvoid_float__float__float\n",
      "0x100003b88    3 22           sym.typeinfonameforstd::__1::__function::__base_void_float__float__float\n",
      "0x100003b48   15 188  -> 103  sym.typeinfonameforstd::__1::__function::__func_void____float__float__float___std::__1::allocator_void____float__float__float____void_float__float__float\n",
      "0x100003b2c    2 8            sym.typeinfonameforstd::__1::bad_function_call\n",
      "0x100003bb1    2 22           sym.typeinfonameforvoid____float__float__float\n",
      "0x100001660    1 33           sym._aligned_alloc\n",
      "0x100003972    1 6            sym.imp.posix_memalign\n",
      "0x100003430    1 16   -> 22   sym.___clang_call_terminate\n",
      "0x100003942    1 6            sym.imp.__cxa_begin_catch\n",
      "0x10000392a    1 6            sym.std::terminate\n",
      "0x10000393c    1 6            sym.imp.__cxa_allocate_exception\n",
      "0x100003954    1 6            sym.imp.__cxa_throw\n",
      "0x100003924    1 6            sym.std::exception::_exception\n",
      "0x100003490    1 28   -> 34   sym.std::__1::bad_function_call::_bad_function_call\n",
      "0x100003930    1 6            sym.operatordelete_void\n",
      "0x1000034b0    1 71           sym.std::__1::__throw_length_error_charconst\n",
      "0x100003500    1 42           sym.std::length_error::length_error_charconst\n",
      "0x1000038d6    1 6            sym.std::logic_error::logic_error_charconst\n",
      "0x10000394e    1 6            sym.imp.__cxa_free_exception\n",
      "0x1000038be    1 6            sym.imp._Unwind_Resume\n",
      "0x100003690   18 326          sym.std::__1::ostreambuf_iterator_char_std::__1::char_traits_char__std::__1::__pad_and_output_char_std::__1::char_traits_char___std::__1::ostreambuf_iterator_char_std::__1::char_traits_char___charconst__charconst__charconst__std::__1::ios_base__char\n",
      "0x100003800    1 6            sym.std::__1::__function::__func_void____float__float__float___std::__1::allocator_void____float__float__float____void_float__float__float___::destroy\n",
      "0x100003810    1 10           sym.std::__1::__function::__func_void____float__float__float___std::__1::allocator_void____float__float__float____void_float__float__float___::___func\n",
      "0x100003820    1 48           sym.std::__1::__function::__func_void____float__float__float___std::__1::allocator_void____float__float__float____void_float__float__float___::__clone__const\n",
      "0x100003936    1 6            sym.operatornew_unsignedlong\n",
      "0x100003850    1 28           sym.std::__1::__function::__func_void____float__float__float___std::__1::allocator_void____float__float__float____void_float__float__float___::__clone_std::__1::__function::__base_void_float__float__float_____const\n",
      "0x100003870    1 23           sym.std::__1::__function::__func_void____float__float__float___std::__1::allocator_void____float__float__float____void_float__float__float___::operator___float____float____float\n",
      "0x100003890    1 27           sym.std::__1::__function::__func_void____float__float__float___std::__1::allocator_void____float__float__float____void_float__float__float___::target_std::type_infoconst__const\n",
      "0x1000038b0    1 13           sym.std::__1::__function::__func_void____float__float__float___std::__1::allocator_void____float__float__float____void_float__float__float___::target_type__const\n",
      "0x100003d38    1 92           sym.GCC_except_table16\n",
      "0x1000038c4    1 6            sym.std::__1::__vector_base_common_true_::__throw_length_error__const\n",
      "0x1000038e8    1 6            sym.std::__1::basic_ostream_char_std::__1::char_traits_char__::sentry::sentry_std::__1::basic_ostream_char_std::__1::char_traits_char\n",
      "0x1000038ee    1 6            sym.std::__1::basic_ostream_char_std::__1::char_traits_char__::sentry::_sentry\n",
      "0x1000038f4    1 6            sym.std::__1::basic_ostream_char_std::__1::char_traits_char__::operator___voidconst\n",
      "0x1000038fa    1 6            sym.std::__1::basic_ostream_char_std::__1::char_traits_char__::operator___double\n",
      "0x10000390c    1 6            sym.std::__1::chrono::steady_clock::now\n",
      "0x100003918    1 6            sym.std::__1::ios_base::__set_badbit_and_consider_rethrow\n",
      "0x10000391e    1 6            sym.std::__1::ios_base::clear_unsignedint\n",
      "0x100003948    1 6            sym.imp.__cxa_end_catch\n",
      "0x10000395a    1 6            sym.imp.__stack_chk_fail\n",
      "0x100003960    1 6            sym.imp.free\n",
      "0x100003966    1 6            sym.imp.memcpy\n",
      "0x10000396c    1 6            sym.imp.memset\n",
      "0x100003440    1 74           sym.std::__1::__throw_bad_function_call\n"
     ]
    }
   ],
   "source": [
    "# take a look at the symbol table\n",
    "!r2 -Aqc \"e scr.color=0 ; afl\" 01_mul/mul"
   ]
  },
  {
   "cell_type": "markdown",
   "metadata": {},
   "source": [
    "## 1 multiplication"
   ]
  },
  {
   "cell_type": "markdown",
   "metadata": {},
   "source": [
    "To demonstrate the effect of different ratio of calculations to memory access, I use 3 sets of multiplication.  The first set uses 1 multiplication:\n",
    "\n",
    "```cpp\n",
    "void multiply1_loop(float* a, float* b, float* r)\n",
    "{\n",
    "    for (size_t i=0; i<repeat*width; i+=width)\n",
    "    {\n",
    "        for (size_t j=i; j<i+width; ++j)\n",
    "        {\n",
    "            r[j] = a[j] * b[j];\n",
    "        }\n",
    "    }\n",
    "}\n",
    "\n",
    "void multiply1_simd(float* a, float* b, float* r)\n",
    "{\n",
    "    for (size_t i=0; i<repeat; ++i)\n",
    "    {\n",
    "        __m256 * ma = (__m256 *) (&a[i*width]);\n",
    "        __m256 * mb = (__m256 *) (&b[i*width]);\n",
    "        __m256 * mr = (__m256 *) (&r[i*width]);\n",
    "        *mr = _mm256_mul_ps(*ma, *mb);\n",
    "    }\n",
    "}\n",
    "```"
   ]
  },
  {
   "cell_type": "code",
   "execution_count": 5,
   "metadata": {},
   "outputs": [
    {
     "name": "stdout",
     "output_type": "stream",
     "text": [
      "            ;-- func.100001690:\n",
      "/ (fcn) sym.multiply1_loop_float__float__float 175\n",
      "|   sym.multiply1_loop_float__float__float ();\n",
      "|           ; DATA XREF from entry0 (0x100002bf0)\n",
      "|           0x100001690      55             push rbp\n",
      "|           0x100001691      4889e5         mov rbp, rsp\n",
      "|           0x100001694      31c0           xor eax, eax\n",
      "|           0x100001696      662e0f1f8400.  nop word cs:[rax + rax]\n",
      "|           ; CODE XREF from sym.multiply1_loop_float__float__float (0x100001737)\n",
      "|       .-> 0x1000016a0      c5fa100487     vmovss xmm0, dword [rdi + rax*4]\n",
      "|       :   0x1000016a5      c5fa590486     vmulss xmm0, xmm0, dword [rsi + rax*4]\n",
      "|       :   0x1000016aa      c5fa110482     vmovss dword [rdx + rax*4], xmm0\n",
      "|       :   0x1000016af      c5fa10448704   vmovss xmm0, dword [rdi + rax*4 + 4]\n",
      "|       :   0x1000016b5      c5fa59448604   vmulss xmm0, xmm0, dword [rsi + rax*4 + 4]\n",
      "|       :   0x1000016bb      c5fa11448204   vmovss dword [rdx + rax*4 + 4], xmm0\n",
      "|       :   0x1000016c1      c5fa10448708   vmovss xmm0, dword [rdi + rax*4 + 8]\n",
      "|       :   0x1000016c7      c5fa59448608   vmulss xmm0, xmm0, dword [rsi + rax*4 + 8]\n",
      "|       :   0x1000016cd      c5fa11448208   vmovss dword [rdx + rax*4 + 8], xmm0\n",
      "|       :   0x1000016d3      c5fa1044870c   vmovss xmm0, dword [rdi + rax*4 + 0xc]\n",
      "|       :   0x1000016d9      c5fa5944860c   vmulss xmm0, xmm0, dword [rsi + rax*4 + 0xc]\n",
      "|       :   0x1000016df      c5fa1144820c   vmovss dword [rdx + rax*4 + 0xc], xmm0\n",
      "|       :   0x1000016e5      c5fa10448710   vmovss xmm0, dword [rdi + rax*4 + 0x10]\n",
      "|       :   0x1000016eb      c5fa59448610   vmulss xmm0, xmm0, dword [rsi + rax*4 + 0x10]\n",
      "|       :   0x1000016f1      c5fa11448210   vmovss dword [rdx + rax*4 + 0x10], xmm0\n",
      "|       :   0x1000016f7      c5fa10448714   vmovss xmm0, dword [rdi + rax*4 + 0x14]\n",
      "|       :   0x1000016fd      c5fa59448614   vmulss xmm0, xmm0, dword [rsi + rax*4 + 0x14]\n",
      "|       :   0x100001703      c5fa11448214   vmovss dword [rdx + rax*4 + 0x14], xmm0\n",
      "|       :   0x100001709      c5fa10448718   vmovss xmm0, dword [rdi + rax*4 + 0x18]\n",
      "|       :   0x10000170f      c5fa59448618   vmulss xmm0, xmm0, dword [rsi + rax*4 + 0x18]\n",
      "|       :   0x100001715      c5fa11448218   vmovss dword [rdx + rax*4 + 0x18], xmm0\n",
      "|       :   0x10000171b      c5fa1044871c   vmovss xmm0, dword [rdi + rax*4 + 0x1c]\n",
      "|       :   0x100001721      c5fa5944861c   vmulss xmm0, xmm0, dword [rsi + rax*4 + 0x1c]\n",
      "|       :   0x100001727      c5fa1144821c   vmovss dword [rdx + rax*4 + 0x1c], xmm0\n",
      "|       :   0x10000172d      488d4008       lea rax, [rax + 8]         ; 8\n",
      "|       :   0x100001731      483d00008000   cmp rax, 0x800000\n",
      "|       `=< 0x100001737      0f8263ffffff   jb 0x1000016a0\n",
      "|           0x10000173d      5d             pop rbp\n",
      "\\           0x10000173e      c3             ret\n"
     ]
    }
   ],
   "source": [
    "# 1 multiplication with loop\n",
    "!r2 -Aqc \"e scr.color=0 ; s sym.multiply1_loop_float__float__float ; pdf\" 01_mul/mul"
   ]
  },
  {
   "cell_type": "code",
   "execution_count": 6,
   "metadata": {},
   "outputs": [
    {
     "name": "stdout",
     "output_type": "stream",
     "text": [
      "            ;-- func.100001740:\n",
      "/ (fcn) sym.multiply1_simd_float__float__float 102\n",
      "|   sym.multiply1_simd_float__float__float ();\n",
      "|           ; DATA XREF from entry0 (0x100002ce3)\n",
      "|           0x100001740      55             push rbp\n",
      "|           0x100001741      4889e5         mov rbp, rsp\n",
      "|           0x100001744      31c0           xor eax, eax\n",
      "|           0x100001746      662e0f1f8400.  nop word cs:[rax + rax]\n",
      "|           ; CODE XREF from sym.multiply1_simd_float__float__float (0x10000179f)\n",
      "|       .-> 0x100001750      c5fc100407     vmovups ymm0, ymmword [rdi + rax]\n",
      "|       :   0x100001755      c5fc590406     vmulps ymm0, ymm0, ymmword [rsi + rax]\n",
      "|       :   0x10000175a      c5fc110402     vmovups ymmword [rdx + rax], ymm0\n",
      "|       :   0x10000175f      c5fc10440720   vmovups ymm0, ymmword [rdi + rax + 0x20]\n",
      "|       :   0x100001765      c5fc59440620   vmulps ymm0, ymm0, ymmword [rsi + rax + 0x20]\n",
      "|       :   0x10000176b      c5fc11440220   vmovups ymmword [rdx + rax + 0x20], ymm0\n",
      "|       :   0x100001771      c5fc10440740   vmovups ymm0, ymmword [rdi + rax + 0x40]\n",
      "|       :   0x100001777      c5fc59440640   vmulps ymm0, ymm0, ymmword [rsi + rax + 0x40]\n",
      "|       :   0x10000177d      c5fc11440240   vmovups ymmword [rdx + rax + 0x40], ymm0\n",
      "|       :   0x100001783      c5fc10440760   vmovups ymm0, ymmword [rdi + rax + 0x60]\n",
      "|       :   0x100001789      c5fc59440660   vmulps ymm0, ymm0, ymmword [rsi + rax + 0x60]\n",
      "|       :   0x10000178f      c5fc11440260   vmovups ymmword [rdx + rax + 0x60], ymm0\n",
      "|       :   0x100001795      4883e880       sub rax, 0xffffffffffffff80\n",
      "|       :   0x100001799      483d00000002   cmp rax, 0x2000000\n",
      "|       `=< 0x10000179f      75af           jne 0x100001750\n",
      "|           0x1000017a1      5d             pop rbp\n",
      "|           0x1000017a2      c5f877         vzeroupper\n",
      "\\           0x1000017a5      c3             ret\n"
     ]
    }
   ],
   "source": [
    "# 1 multiplication with simd/avx\n",
    "!r2 -Aqc \"e scr.color=0 ; s sym.multiply1_simd_float__float__float ; pdf\" 01_mul/mul"
   ]
  },
  {
   "cell_type": "markdown",
   "metadata": {},
   "source": [
    "## 3 multiplication"
   ]
  },
  {
   "cell_type": "markdown",
   "metadata": {},
   "source": [
    "The second set uses 3 multiplications:\n",
    "\n",
    "```cpp\n",
    "void multiply3_loop(float* a, float* b, float* r)\n",
    "{\n",
    "    for (size_t i=0; i<repeat*width; i+=width)\n",
    "    {\n",
    "        for (size_t j=i; j<i+width; ++j)\n",
    "        {\n",
    "            r[j] = a[j] * a[j];\n",
    "            r[j] *= b[j];\n",
    "            r[j] *= b[j];\n",
    "        }\n",
    "    }\n",
    "}\n",
    "\n",
    "void multiply3_simd(float* a, float* b, float* r)\n",
    "{\n",
    "    for (size_t i=0; i<repeat; ++i)\n",
    "    {\n",
    "        __m256 * ma = (__m256 *) (&a[i*width]);\n",
    "        __m256 * mb = (__m256 *) (&b[i*width]);\n",
    "        __m256 * mr = (__m256 *) (&r[i*width]);\n",
    "        *mr = _mm256_mul_ps(*ma, *ma);\n",
    "        *mr = _mm256_mul_ps(*mr, *mb);\n",
    "        *mr = _mm256_mul_ps(*mr, *mb);\n",
    "    }\n",
    "}\n",
    "```"
   ]
  },
  {
   "cell_type": "code",
   "execution_count": 7,
   "metadata": {},
   "outputs": [
    {
     "name": "stdout",
     "output_type": "stream",
     "text": [
      "            ;-- func.1000017b0:\n",
      "/ (fcn) sym.multiply3_loop_float__float__float 352\n",
      "|   sym.multiply3_loop_float__float__float ();\n",
      "|           ; DATA XREF from entry0 (0x100002e48)\n",
      "|           0x1000017b0      55             push rbp\n",
      "|           0x1000017b1      4889e5         mov rbp, rsp\n",
      "|           0x1000017b4      31c0           xor eax, eax\n",
      "|           0x1000017b6      662e0f1f8400.  nop word cs:[rax + rax]\n",
      "|           ; CODE XREF from sym.multiply3_loop_float__float__float (0x100001908)\n",
      "|       .-> 0x1000017c0      c5fa100487     vmovss xmm0, dword [rdi + rax*4]\n",
      "|       :   0x1000017c5      c5fa59c0       vmulss xmm0, xmm0, xmm0\n",
      "|       :   0x1000017c9      c5fa110482     vmovss dword [rdx + rax*4], xmm0\n",
      "|       :   0x1000017ce      c5fa590486     vmulss xmm0, xmm0, dword [rsi + rax*4]\n",
      "|       :   0x1000017d3      c5fa110482     vmovss dword [rdx + rax*4], xmm0\n",
      "|       :   0x1000017d8      c5fa590486     vmulss xmm0, xmm0, dword [rsi + rax*4]\n",
      "|       :   0x1000017dd      c5fa110482     vmovss dword [rdx + rax*4], xmm0\n",
      "|       :   0x1000017e2      c5fa10448704   vmovss xmm0, dword [rdi + rax*4 + 4]\n",
      "|       :   0x1000017e8      c5fa59c0       vmulss xmm0, xmm0, xmm0\n",
      "|       :   0x1000017ec      c5fa11448204   vmovss dword [rdx + rax*4 + 4], xmm0\n",
      "|       :   0x1000017f2      c5fa59448604   vmulss xmm0, xmm0, dword [rsi + rax*4 + 4]\n",
      "|       :   0x1000017f8      c5fa11448204   vmovss dword [rdx + rax*4 + 4], xmm0\n",
      "|       :   0x1000017fe      c5fa59448604   vmulss xmm0, xmm0, dword [rsi + rax*4 + 4]\n",
      "|       :   0x100001804      c5fa11448204   vmovss dword [rdx + rax*4 + 4], xmm0\n",
      "|       :   0x10000180a      c5fa10448708   vmovss xmm0, dword [rdi + rax*4 + 8]\n",
      "|       :   0x100001810      c5fa59c0       vmulss xmm0, xmm0, xmm0\n",
      "|       :   0x100001814      c5fa11448208   vmovss dword [rdx + rax*4 + 8], xmm0\n",
      "|       :   0x10000181a      c5fa59448608   vmulss xmm0, xmm0, dword [rsi + rax*4 + 8]\n",
      "|       :   0x100001820      c5fa11448208   vmovss dword [rdx + rax*4 + 8], xmm0\n",
      "|       :   0x100001826      c5fa59448608   vmulss xmm0, xmm0, dword [rsi + rax*4 + 8]\n",
      "|       :   0x10000182c      c5fa11448208   vmovss dword [rdx + rax*4 + 8], xmm0\n",
      "|       :   0x100001832      c5fa1044870c   vmovss xmm0, dword [rdi + rax*4 + 0xc]\n",
      "|       :   0x100001838      c5fa59c0       vmulss xmm0, xmm0, xmm0\n",
      "|       :   0x10000183c      c5fa1144820c   vmovss dword [rdx + rax*4 + 0xc], xmm0\n",
      "|       :   0x100001842      c5fa5944860c   vmulss xmm0, xmm0, dword [rsi + rax*4 + 0xc]\n",
      "|       :   0x100001848      c5fa1144820c   vmovss dword [rdx + rax*4 + 0xc], xmm0\n",
      "|       :   0x10000184e      c5fa5944860c   vmulss xmm0, xmm0, dword [rsi + rax*4 + 0xc]\n",
      "|       :   0x100001854      c5fa1144820c   vmovss dword [rdx + rax*4 + 0xc], xmm0\n",
      "|       :   0x10000185a      c5fa10448710   vmovss xmm0, dword [rdi + rax*4 + 0x10]\n",
      "|       :   0x100001860      c5fa59c0       vmulss xmm0, xmm0, xmm0\n",
      "|       :   0x100001864      c5fa11448210   vmovss dword [rdx + rax*4 + 0x10], xmm0\n",
      "|       :   0x10000186a      c5fa59448610   vmulss xmm0, xmm0, dword [rsi + rax*4 + 0x10]\n",
      "|       :   0x100001870      c5fa11448210   vmovss dword [rdx + rax*4 + 0x10], xmm0\n",
      "|       :   0x100001876      c5fa59448610   vmulss xmm0, xmm0, dword [rsi + rax*4 + 0x10]\n",
      "|       :   0x10000187c      c5fa11448210   vmovss dword [rdx + rax*4 + 0x10], xmm0\n",
      "|       :   0x100001882      c5fa10448714   vmovss xmm0, dword [rdi + rax*4 + 0x14]\n",
      "|       :   0x100001888      c5fa59c0       vmulss xmm0, xmm0, xmm0\n",
      "|       :   0x10000188c      c5fa11448214   vmovss dword [rdx + rax*4 + 0x14], xmm0\n",
      "|       :   0x100001892      c5fa59448614   vmulss xmm0, xmm0, dword [rsi + rax*4 + 0x14]\n",
      "|       :   0x100001898      c5fa11448214   vmovss dword [rdx + rax*4 + 0x14], xmm0\n",
      "|       :   0x10000189e      c5fa59448614   vmulss xmm0, xmm0, dword [rsi + rax*4 + 0x14]\n",
      "|       :   0x1000018a4      c5fa11448214   vmovss dword [rdx + rax*4 + 0x14], xmm0\n",
      "|       :   0x1000018aa      c5fa10448718   vmovss xmm0, dword [rdi + rax*4 + 0x18]\n",
      "|       :   0x1000018b0      c5fa59c0       vmulss xmm0, xmm0, xmm0\n",
      "|       :   0x1000018b4      c5fa11448218   vmovss dword [rdx + rax*4 + 0x18], xmm0\n",
      "|       :   0x1000018ba      c5fa59448618   vmulss xmm0, xmm0, dword [rsi + rax*4 + 0x18]\n",
      "|       :   0x1000018c0      c5fa11448218   vmovss dword [rdx + rax*4 + 0x18], xmm0\n",
      "|       :   0x1000018c6      c5fa59448618   vmulss xmm0, xmm0, dword [rsi + rax*4 + 0x18]\n",
      "|       :   0x1000018cc      c5fa11448218   vmovss dword [rdx + rax*4 + 0x18], xmm0\n",
      "|       :   0x1000018d2      c5fa1044871c   vmovss xmm0, dword [rdi + rax*4 + 0x1c]\n",
      "|       :   0x1000018d8      c5fa59c0       vmulss xmm0, xmm0, xmm0\n",
      "|       :   0x1000018dc      c5fa1144821c   vmovss dword [rdx + rax*4 + 0x1c], xmm0\n",
      "|       :   0x1000018e2      c5fa5944861c   vmulss xmm0, xmm0, dword [rsi + rax*4 + 0x1c]\n",
      "|       :   0x1000018e8      c5fa1144821c   vmovss dword [rdx + rax*4 + 0x1c], xmm0\n",
      "|       :   0x1000018ee      c5fa5944861c   vmulss xmm0, xmm0, dword [rsi + rax*4 + 0x1c]\n",
      "|       :   0x1000018f4      c5fa1144821c   vmovss dword [rdx + rax*4 + 0x1c], xmm0\n",
      "|       :   0x1000018fa      488d4808       lea rcx, [rax + 8]         ; 8\n",
      "|       :   0x1000018fe      4889c8         mov rax, rcx\n",
      "|       :   0x100001901      4881f9000080.  cmp rcx, 0x800000\n",
      "|       `=< 0x100001908      0f82b2feffff   jb 0x1000017c0\n",
      "|           0x10000190e      5d             pop rbp\n",
      "\\           0x10000190f      c3             ret\n"
     ]
    }
   ],
   "source": [
    "# 3 multiplication with loop\n",
    "!r2 -Aqc \"e scr.color=0 ; s sym.multiply3_loop_float__float__float ; pdf\" 01_mul/mul"
   ]
  },
  {
   "cell_type": "code",
   "execution_count": 8,
   "metadata": {},
   "outputs": [
    {
     "name": "stdout",
     "output_type": "stream",
     "text": [
      "            ;-- func.100001910:\n",
      "/ (fcn) sym.multiply3_simd_float__float__float 107\n",
      "|   sym.multiply3_simd_float__float__float ();\n",
      "|           ; DATA XREF from entry0 (0x100002f47)\n",
      "|           0x100001910      55             push rbp\n",
      "|           0x100001911      4889e5         mov rbp, rsp\n",
      "|           0x100001914      31c0           xor eax, eax\n",
      "|           0x100001916      662e0f1f8400.  nop word cs:[rax + rax]\n",
      "|           ; CODE XREF from sym.multiply3_simd_float__float__float (0x100001974)\n",
      "|       .-> 0x100001920      c5fc100407     vmovups ymm0, ymmword [rdi + rax]\n",
      "|       :   0x100001925      c5fc59c0       vmulps ymm0, ymm0, ymm0\n",
      "|       :   0x100001929      c5fc110402     vmovups ymmword [rdx + rax], ymm0\n",
      "|       :   0x10000192e      c5fc590406     vmulps ymm0, ymm0, ymmword [rsi + rax]\n",
      "|       :   0x100001933      c5fc110402     vmovups ymmword [rdx + rax], ymm0\n",
      "|       :   0x100001938      c5fc590406     vmulps ymm0, ymm0, ymmword [rsi + rax]\n",
      "|       :   0x10000193d      c5fc110402     vmovups ymmword [rdx + rax], ymm0\n",
      "|       :   0x100001942      c5fc10440720   vmovups ymm0, ymmword [rdi + rax + 0x20]\n",
      "|       :   0x100001948      c5fc59c0       vmulps ymm0, ymm0, ymm0\n",
      "|       :   0x10000194c      c5fc11440220   vmovups ymmword [rdx + rax + 0x20], ymm0\n",
      "|       :   0x100001952      c5fc59440620   vmulps ymm0, ymm0, ymmword [rsi + rax + 0x20]\n",
      "|       :   0x100001958      c5fc11440220   vmovups ymmword [rdx + rax + 0x20], ymm0\n",
      "|       :   0x10000195e      c5fc59440620   vmulps ymm0, ymm0, ymmword [rsi + rax + 0x20]\n",
      "|       :   0x100001964      c5fc11440220   vmovups ymmword [rdx + rax + 0x20], ymm0\n",
      "|       :   0x10000196a      4883c040       add rax, 0x40              ; '@'\n",
      "|       :   0x10000196e      483d00000002   cmp rax, 0x2000000\n",
      "|       `=< 0x100001974      75aa           jne 0x100001920\n",
      "|           0x100001976      5d             pop rbp\n",
      "|           0x100001977      c5f877         vzeroupper\n",
      "\\           0x10000197a      c3             ret\n"
     ]
    }
   ],
   "source": [
    "# 3 multiplication with simd/avx\n",
    "!r2 -Aqc \"e scr.color=0 ; s sym.multiply3_simd_float__float__float ; pdf\" 01_mul/mul"
   ]
  },
  {
   "cell_type": "markdown",
   "metadata": {},
   "source": [
    "## 5 multiplication"
   ]
  },
  {
   "cell_type": "markdown",
   "metadata": {},
   "source": [
    "The third (last) set uses 5 multiplications:\n",
    "\n",
    "```cpp\n",
    "void multiply5_loop(float* a, float* b, float* r)\n",
    "{\n",
    "    for (size_t i=0; i<repeat*width; i+=width)\n",
    "    {\n",
    "        for (size_t j=i; j<i+width; ++j)\n",
    "        {\n",
    "            r[j] = a[j] * a[j];\n",
    "            r[j] *= a[j];\n",
    "            r[j] *= b[j];\n",
    "            r[j] *= b[j];\n",
    "            r[j] *= b[j];\n",
    "        }\n",
    "    }\n",
    "}\n",
    "\n",
    "void multiply5_simd(float* a, float* b, float* r)\n",
    "{\n",
    "    for (size_t i=0; i<repeat; ++i)\n",
    "    {\n",
    "        __m256 * ma = (__m256 *) (&a[i*width]);\n",
    "        __m256 * mb = (__m256 *) (&b[i*width]);\n",
    "        __m256 * mr = (__m256 *) (&r[i*width]);\n",
    "        *mr = _mm256_mul_ps(*ma, *ma);\n",
    "        *mr = _mm256_mul_ps(*mr, *ma);\n",
    "        *mr = _mm256_mul_ps(*mr, *mb);\n",
    "        *mr = _mm256_mul_ps(*mr, *mb);\n",
    "        *mr = _mm256_mul_ps(*mr, *mb);\n",
    "    }\n",
    "}\n",
    "```"
   ]
  },
  {
   "cell_type": "code",
   "execution_count": 9,
   "metadata": {},
   "outputs": [
    {
     "name": "stdout",
     "output_type": "stream",
     "text": [
      "            ;-- func.100001980:\n",
      "/ (fcn) sym.multiply5_loop_float__float__float 540\n",
      "|   sym.multiply5_loop_float__float__float ();\n",
      "|           ; DATA XREF from entry0 (0x1000030b2)\n",
      "|           0x100001980      55             push rbp\n",
      "|           0x100001981      4889e5         mov rbp, rsp\n",
      "|           0x100001984      31c0           xor eax, eax\n",
      "|           0x100001986      662e0f1f8400.  nop word cs:[rax + rax]\n",
      "|           ; CODE XREF from sym.multiply5_loop_float__float__float (0x100001b94)\n",
      "|       .-> 0x100001990      c5fa100487     vmovss xmm0, dword [rdi + rax*4]\n",
      "|       :   0x100001995      c5fa59c0       vmulss xmm0, xmm0, xmm0\n",
      "|       :   0x100001999      c5fa110482     vmovss dword [rdx + rax*4], xmm0\n",
      "|       :   0x10000199e      c5fa590487     vmulss xmm0, xmm0, dword [rdi + rax*4]\n",
      "|       :   0x1000019a3      c5fa110482     vmovss dword [rdx + rax*4], xmm0\n",
      "|       :   0x1000019a8      c5fa590486     vmulss xmm0, xmm0, dword [rsi + rax*4]\n",
      "|       :   0x1000019ad      c5fa110482     vmovss dword [rdx + rax*4], xmm0\n",
      "|       :   0x1000019b2      c5fa590486     vmulss xmm0, xmm0, dword [rsi + rax*4]\n",
      "|       :   0x1000019b7      c5fa110482     vmovss dword [rdx + rax*4], xmm0\n",
      "|       :   0x1000019bc      c5fa590486     vmulss xmm0, xmm0, dword [rsi + rax*4]\n",
      "|       :   0x1000019c1      c5fa110482     vmovss dword [rdx + rax*4], xmm0\n",
      "|       :   0x1000019c6      c5fa10448704   vmovss xmm0, dword [rdi + rax*4 + 4]\n",
      "|       :   0x1000019cc      c5fa59c0       vmulss xmm0, xmm0, xmm0\n",
      "|       :   0x1000019d0      c5fa11448204   vmovss dword [rdx + rax*4 + 4], xmm0\n",
      "|       :   0x1000019d6      c5fa59448704   vmulss xmm0, xmm0, dword [rdi + rax*4 + 4]\n",
      "|       :   0x1000019dc      c5fa11448204   vmovss dword [rdx + rax*4 + 4], xmm0\n",
      "|       :   0x1000019e2      c5fa59448604   vmulss xmm0, xmm0, dword [rsi + rax*4 + 4]\n",
      "|       :   0x1000019e8      c5fa11448204   vmovss dword [rdx + rax*4 + 4], xmm0\n",
      "|       :   0x1000019ee      c5fa59448604   vmulss xmm0, xmm0, dword [rsi + rax*4 + 4]\n",
      "|       :   0x1000019f4      c5fa11448204   vmovss dword [rdx + rax*4 + 4], xmm0\n",
      "|       :   0x1000019fa      c5fa59448604   vmulss xmm0, xmm0, dword [rsi + rax*4 + 4]\n",
      "|       :   0x100001a00      c5fa11448204   vmovss dword [rdx + rax*4 + 4], xmm0\n",
      "|       :   0x100001a06      c5fa10448708   vmovss xmm0, dword [rdi + rax*4 + 8]\n",
      "|       :   0x100001a0c      c5fa59c0       vmulss xmm0, xmm0, xmm0\n",
      "|       :   0x100001a10      c5fa11448208   vmovss dword [rdx + rax*4 + 8], xmm0\n",
      "|       :   0x100001a16      c5fa59448708   vmulss xmm0, xmm0, dword [rdi + rax*4 + 8]\n",
      "|       :   0x100001a1c      c5fa11448208   vmovss dword [rdx + rax*4 + 8], xmm0\n",
      "|       :   0x100001a22      c5fa59448608   vmulss xmm0, xmm0, dword [rsi + rax*4 + 8]\n",
      "|       :   0x100001a28      c5fa11448208   vmovss dword [rdx + rax*4 + 8], xmm0\n",
      "|       :   0x100001a2e      c5fa59448608   vmulss xmm0, xmm0, dword [rsi + rax*4 + 8]\n",
      "|       :   0x100001a34      c5fa11448208   vmovss dword [rdx + rax*4 + 8], xmm0\n",
      "|       :   0x100001a3a      c5fa59448608   vmulss xmm0, xmm0, dword [rsi + rax*4 + 8]\n",
      "|       :   0x100001a40      c5fa11448208   vmovss dword [rdx + rax*4 + 8], xmm0\n",
      "|       :   0x100001a46      c5fa1044870c   vmovss xmm0, dword [rdi + rax*4 + 0xc]\n",
      "|       :   0x100001a4c      c5fa59c0       vmulss xmm0, xmm0, xmm0\n",
      "|       :   0x100001a50      c5fa1144820c   vmovss dword [rdx + rax*4 + 0xc], xmm0\n",
      "|       :   0x100001a56      c5fa5944870c   vmulss xmm0, xmm0, dword [rdi + rax*4 + 0xc]\n",
      "|       :   0x100001a5c      c5fa1144820c   vmovss dword [rdx + rax*4 + 0xc], xmm0\n",
      "|       :   0x100001a62      c5fa5944860c   vmulss xmm0, xmm0, dword [rsi + rax*4 + 0xc]\n",
      "|       :   0x100001a68      c5fa1144820c   vmovss dword [rdx + rax*4 + 0xc], xmm0\n",
      "|       :   0x100001a6e      c5fa5944860c   vmulss xmm0, xmm0, dword [rsi + rax*4 + 0xc]\n",
      "|       :   0x100001a74      c5fa1144820c   vmovss dword [rdx + rax*4 + 0xc], xmm0\n",
      "|       :   0x100001a7a      c5fa5944860c   vmulss xmm0, xmm0, dword [rsi + rax*4 + 0xc]\n",
      "|       :   0x100001a80      c5fa1144820c   vmovss dword [rdx + rax*4 + 0xc], xmm0\n",
      "|       :   0x100001a86      c5fa10448710   vmovss xmm0, dword [rdi + rax*4 + 0x10]\n",
      "|       :   0x100001a8c      c5fa59c0       vmulss xmm0, xmm0, xmm0\n",
      "|       :   0x100001a90      c5fa11448210   vmovss dword [rdx + rax*4 + 0x10], xmm0\n",
      "|       :   0x100001a96      c5fa59448710   vmulss xmm0, xmm0, dword [rdi + rax*4 + 0x10]\n",
      "|       :   0x100001a9c      c5fa11448210   vmovss dword [rdx + rax*4 + 0x10], xmm0\n",
      "|       :   0x100001aa2      c5fa59448610   vmulss xmm0, xmm0, dword [rsi + rax*4 + 0x10]\n",
      "|       :   0x100001aa8      c5fa11448210   vmovss dword [rdx + rax*4 + 0x10], xmm0\n",
      "|       :   0x100001aae      c5fa59448610   vmulss xmm0, xmm0, dword [rsi + rax*4 + 0x10]\n",
      "|       :   0x100001ab4      c5fa11448210   vmovss dword [rdx + rax*4 + 0x10], xmm0\n",
      "|       :   0x100001aba      c5fa59448610   vmulss xmm0, xmm0, dword [rsi + rax*4 + 0x10]\n",
      "|       :   0x100001ac0      c5fa11448210   vmovss dword [rdx + rax*4 + 0x10], xmm0\n",
      "|       :   0x100001ac6      c5fa10448714   vmovss xmm0, dword [rdi + rax*4 + 0x14]\n",
      "|       :   0x100001acc      c5fa59c0       vmulss xmm0, xmm0, xmm0\n",
      "|       :   0x100001ad0      c5fa11448214   vmovss dword [rdx + rax*4 + 0x14], xmm0\n",
      "|       :   0x100001ad6      c5fa59448714   vmulss xmm0, xmm0, dword [rdi + rax*4 + 0x14]\n",
      "|       :   0x100001adc      c5fa11448214   vmovss dword [rdx + rax*4 + 0x14], xmm0\n",
      "|       :   0x100001ae2      c5fa59448614   vmulss xmm0, xmm0, dword [rsi + rax*4 + 0x14]\n",
      "|       :   0x100001ae8      c5fa11448214   vmovss dword [rdx + rax*4 + 0x14], xmm0\n",
      "|       :   0x100001aee      c5fa59448614   vmulss xmm0, xmm0, dword [rsi + rax*4 + 0x14]\n",
      "|       :   0x100001af4      c5fa11448214   vmovss dword [rdx + rax*4 + 0x14], xmm0\n",
      "|       :   0x100001afa      c5fa59448614   vmulss xmm0, xmm0, dword [rsi + rax*4 + 0x14]\n",
      "|       :   0x100001b00      c5fa11448214   vmovss dword [rdx + rax*4 + 0x14], xmm0\n",
      "|       :   0x100001b06      c5fa10448718   vmovss xmm0, dword [rdi + rax*4 + 0x18]\n",
      "|       :   0x100001b0c      c5fa59c0       vmulss xmm0, xmm0, xmm0\n",
      "|       :   0x100001b10      c5fa11448218   vmovss dword [rdx + rax*4 + 0x18], xmm0\n",
      "|       :   0x100001b16      c5fa59448718   vmulss xmm0, xmm0, dword [rdi + rax*4 + 0x18]\n",
      "|       :   0x100001b1c      c5fa11448218   vmovss dword [rdx + rax*4 + 0x18], xmm0\n",
      "|       :   0x100001b22      c5fa59448618   vmulss xmm0, xmm0, dword [rsi + rax*4 + 0x18]\n",
      "|       :   0x100001b28      c5fa11448218   vmovss dword [rdx + rax*4 + 0x18], xmm0\n",
      "|       :   0x100001b2e      c5fa59448618   vmulss xmm0, xmm0, dword [rsi + rax*4 + 0x18]\n",
      "|       :   0x100001b34      c5fa11448218   vmovss dword [rdx + rax*4 + 0x18], xmm0\n",
      "|       :   0x100001b3a      c5fa59448618   vmulss xmm0, xmm0, dword [rsi + rax*4 + 0x18]\n",
      "|       :   0x100001b40      c5fa11448218   vmovss dword [rdx + rax*4 + 0x18], xmm0\n",
      "|       :   0x100001b46      c5fa1044871c   vmovss xmm0, dword [rdi + rax*4 + 0x1c]\n",
      "|       :   0x100001b4c      c5fa59c0       vmulss xmm0, xmm0, xmm0\n",
      "|       :   0x100001b50      c5fa1144821c   vmovss dword [rdx + rax*4 + 0x1c], xmm0\n",
      "|       :   0x100001b56      c5fa5944871c   vmulss xmm0, xmm0, dword [rdi + rax*4 + 0x1c]\n",
      "|       :   0x100001b5c      c5fa1144821c   vmovss dword [rdx + rax*4 + 0x1c], xmm0\n",
      "|       :   0x100001b62      c5fa5944861c   vmulss xmm0, xmm0, dword [rsi + rax*4 + 0x1c]\n",
      "|       :   0x100001b68      c5fa1144821c   vmovss dword [rdx + rax*4 + 0x1c], xmm0\n",
      "|       :   0x100001b6e      c5fa5944861c   vmulss xmm0, xmm0, dword [rsi + rax*4 + 0x1c]\n",
      "|       :   0x100001b74      c5fa1144821c   vmovss dword [rdx + rax*4 + 0x1c], xmm0\n",
      "|       :   0x100001b7a      c5fa5944861c   vmulss xmm0, xmm0, dword [rsi + rax*4 + 0x1c]\n",
      "|       :   0x100001b80      c5fa1144821c   vmovss dword [rdx + rax*4 + 0x1c], xmm0\n",
      "|       :   0x100001b86      488d4808       lea rcx, [rax + 8]         ; 8\n",
      "|       :   0x100001b8a      4889c8         mov rax, rcx\n",
      "|       :   0x100001b8d      4881f9000080.  cmp rcx, 0x800000\n",
      "|       `=< 0x100001b94      0f82f6fdffff   jb 0x100001990\n",
      "|           0x100001b9a      5d             pop rbp\n",
      "\\           0x100001b9b      c3             ret\n"
     ]
    }
   ],
   "source": [
    "# 5 multiplication with loop\n",
    "!r2 -Aqc \"e scr.color=0 ; s sym.multiply5_loop_float__float__float ; pdf\" 01_mul/mul"
   ]
  },
  {
   "cell_type": "code",
   "execution_count": 10,
   "metadata": {},
   "outputs": [
    {
     "name": "stdout",
     "output_type": "stream",
     "text": [
      "            ;-- func.100001ba0:\n",
      "/ (fcn) sym.multiply5_simd_float__float__float 87\n",
      "|   sym.multiply5_simd_float__float__float ();\n",
      "|           ; DATA XREF from entry0 (0x1000031b1)\n",
      "|           0x100001ba0      55             push rbp\n",
      "|           0x100001ba1      4889e5         mov rbp, rsp\n",
      "|           0x100001ba4      31c0           xor eax, eax\n",
      "|           0x100001ba6      662e0f1f8400.  nop word cs:[rax + rax]\n",
      "|           ; CODE XREF from sym.multiply5_simd_float__float__float (0x100001bf0)\n",
      "|       .-> 0x100001bb0      c5fc100407     vmovups ymm0, ymmword [rdi + rax]\n",
      "|       :   0x100001bb5      c5fc59c0       vmulps ymm0, ymm0, ymm0\n",
      "|       :   0x100001bb9      c5fc110402     vmovups ymmword [rdx + rax], ymm0\n",
      "|       :   0x100001bbe      c5fc590407     vmulps ymm0, ymm0, ymmword [rdi + rax]\n",
      "|       :   0x100001bc3      c5fc110402     vmovups ymmword [rdx + rax], ymm0\n",
      "|       :   0x100001bc8      c5fc590406     vmulps ymm0, ymm0, ymmword [rsi + rax]\n",
      "|       :   0x100001bcd      c5fc110402     vmovups ymmword [rdx + rax], ymm0\n",
      "|       :   0x100001bd2      c5fc590406     vmulps ymm0, ymm0, ymmword [rsi + rax]\n",
      "|       :   0x100001bd7      c5fc110402     vmovups ymmword [rdx + rax], ymm0\n",
      "|       :   0x100001bdc      c5fc590406     vmulps ymm0, ymm0, ymmword [rsi + rax]\n",
      "|       :   0x100001be1      c5fc110402     vmovups ymmword [rdx + rax], ymm0\n",
      "|       :   0x100001be6      4883c020       add rax, 0x20\n",
      "|       :   0x100001bea      483d00000002   cmp rax, 0x2000000\n",
      "|       `=< 0x100001bf0      75be           jne 0x100001bb0\n",
      "|           0x100001bf2      5d             pop rbp\n",
      "|           0x100001bf3      c5f877         vzeroupper\n",
      "\\           0x100001bf6      c3             ret\n"
     ]
    }
   ],
   "source": [
    "# 5 multiplication with simd/avx\n",
    "!r2 -Aqc \"e scr.color=0 ; s sym.multiply5_simd_float__float__float ; pdf\" 01_mul/mul"
   ]
  },
  {
   "cell_type": "markdown",
   "metadata": {},
   "source": [
    "# OpenMP"
   ]
  },
  {
   "cell_type": "code",
   "execution_count": 11,
   "metadata": {},
   "outputs": [
    {
     "name": "stdout",
     "output_type": "stream",
     "text": [
      "rm -rf *.o *.dSYM/ omp\n",
      "clang++ -Xpreprocessor -fopenmp -std=c++17 -g -O3  -c -o omp.o omp.cpp\n",
      "clang++ -Xpreprocessor -fopenmp -std=c++17 -g -O3   -lomp -o omp omp.o\n",
      "Hello from thread 0, nthreads 4\n",
      "Hello from thread 1, nthreads 4\n",
      "Hello from thread 2, nthreads 4\n",
      "Hello from thread 3, nthreads 4\n"
     ]
    }
   ],
   "source": [
    "!make -C 03_omp clean ; make -C 03_omp ; 03_omp/omp"
   ]
  },
  {
   "cell_type": "markdown",
   "metadata": {},
   "source": [
    "# Exercises\n",
    "\n",
    "1. Replace the single-precision floating-point vector type `__m256` with the double-precision floating-point vector type `__m256d` in the example, and compare the performance with the sinple-precision version."
   ]
  },
  {
   "cell_type": "markdown",
   "metadata": {},
   "source": [
    "# References\n",
    "\n",
    "1. Crunching Numbers with AVX and AVX2 (AVX tutorials): https://www.codeproject.com/Articles/874396/Crunching-Numbers-with-AVX-and-AVX\n",
    "2. Agner Fog (Agner's website): https://www.agner.org\n",
    "\n",
    "   * Instruction table (latency information): https://www.agner.org/optimize/instruction_tables.pdf\n",
    "   * Software optimization resources: https://www.agner.org/optimize/\n",
    "3. x86 and amd64 instruction reference (unofficial) by Félix Cloutier: https://www.felixcloutier.com/x86/\n",
    "4. Intel Intrinsics Guide: https://software.intel.com/sites/landingpage/IntrinsicsGuide/\n",
    "5. Computer Organization and Assembly Languages by Yung-Yu Chuang, NTU: https://www.csie.ntu.edu.tw/~cyy/courses/assembly/12fall/news/"
   ]
  }
 ],
 "metadata": {
  "kernelspec": {
   "display_name": "Python 3",
   "language": "python",
   "name": "python3"
  },
  "language_info": {
   "codemirror_mode": {
    "name": "ipython",
    "version": 3
   },
   "file_extension": ".py",
   "mimetype": "text/x-python",
   "name": "python",
   "nbconvert_exporter": "python",
   "pygments_lexer": "ipython3",
   "version": "3.7.4+"
  }
 },
 "nbformat": 4,
 "nbformat_minor": 2
}
