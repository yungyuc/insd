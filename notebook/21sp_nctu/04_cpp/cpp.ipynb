{
 "cells": [
  {
   "cell_type": "code",
   "execution_count": 1,
   "metadata": {
    "slideshow": {
     "slide_type": "skip"
    }
   },
   "outputs": [],
   "source": [
    "%matplotlib inline\n",
    "\n",
    "import traceback\n",
    "import sys\n",
    "import os\n",
    "\n",
    "import numpy as np\n",
    "import matplotlib.pyplot as plt\n",
    "from IPython.core.magic import register_cell_magic\n",
    "from IPython.display import display, Audio, Image"
   ]
  },
  {
   "cell_type": "markdown",
   "metadata": {
    "slideshow": {
     "slide_type": "slide"
    }
   },
   "source": [
    "# C++ and computer architecture\n",
    "\n",
    "The low-level code of numerical software must be high-performance.  The industries chose C++ because it can take advantage of everything that a hardware architecture offers while using any level of abstraction.\n",
    "\n",
    "1. Fundamental data types\n",
    "   1. Command-line interface for compiler tools\n",
    "      1. Compiler, linker\n",
    "      2. Multiple source files, separation of declaration and definition, external libraries\n",
    "      3. Build multiple binaries and shared objects (dynamically linked libraries)\n",
    "   2. Integer, signness, pointer, array indexing\n",
    "   3. Floating-point, rounding, exception handling\n",
    "   4. Numeric limit\n",
    "2. Object-oriented programming\n",
    "   1. Class, encapsulation, accessor, reference type\n",
    "   2. Constructor and destructor\n",
    "   3. Polymorphism and RTTI\n",
    "   4. CRTP\n",
    "3. Standard template library (STL)\n",
    "   1. std::vector, its internal and why the buffer address is dangerous\n",
    "   2. std::array, std::list\n",
    "   3. std::map, std::set, std::unordered_map, std::unordered_set"
   ]
  },
  {
   "cell_type": "markdown",
   "metadata": {
    "slideshow": {
     "slide_type": "subslide"
    }
   },
   "source": [
    "## Why C++?\n",
    "\n",
    "C++ is particularly difficult to learn and use.  If all we need is speed, why not invent an easier language that is equally fast?\n",
    "\n",
    "Two reasons render the new-language approach incomplete.  Speed is first.  It's just difficult to invent something that is as fast as C++ in all aspects.  C++ is compatible to the language of operating system and accesses assembly easily.  Other languages may outperform C++ in some occasions, but not most.\n",
    "\n",
    "Another reason is maintenance.  A numerical system usually takes years to develop.  When proven useful, it will be maintained for decades.  Such a long-living system needs a lot of support from the compiler, which is offered by C++."
   ]
  },
  {
   "cell_type": "markdown",
   "metadata": {
    "slideshow": {
     "slide_type": "slide"
    }
   },
   "source": [
    "# Compile and link"
   ]
  },
  {
   "cell_type": "code",
   "execution_count": 2,
   "metadata": {
    "slideshow": {
     "slide_type": "notes"
    }
   },
   "outputs": [
    {
     "name": "stdout",
     "output_type": "stream",
     "text": [
      "ls: helloworld.o: No such file or directory\r\n"
     ]
    }
   ],
   "source": [
    "!rm -f helloworld.o\n",
    "!ls helloworld.o"
   ]
  },
  {
   "cell_type": "markdown",
   "metadata": {
    "slideshow": {
     "slide_type": "notes"
    }
   },
   "source": [
    "Compiler is a complex system.  The most common way to use it is to execute the compiler driver from the command-line.  For example, in GCC, the C++ compiler driver is `g++`.  It accepts a lot of command-line arguments.\n",
    "\n",
    "When running the compiler with the argument `-c`, it takes the source code and output the object file.  The object file contains the machine code, but doesn't include the functions not defined in the source file.\n",
    "\n",
    "The argument `-o` is used to specify the output file name."
   ]
  },
  {
   "cell_type": "code",
   "execution_count": 3,
   "metadata": {
    "slideshow": {
     "slide_type": "-"
    }
   },
   "outputs": [
    {
     "name": "stdout",
     "output_type": "stream",
     "text": [
      "helloworld.o: Mach-O 64-bit object x86_64\r\n"
     ]
    }
   ],
   "source": [
    "# Compile source file to object file\n",
    "!g++ -c helloworld.cpp -o helloworld.o\n",
    "!file helloworld.o"
   ]
  },
  {
   "cell_type": "code",
   "execution_count": 4,
   "metadata": {},
   "outputs": [
    {
     "name": "stdout",
     "output_type": "stream",
     "text": [
      "/bin/sh: ./helloworld.o: cannot execute binary file\r\n"
     ]
    }
   ],
   "source": [
    "# Object file isn't executable yet\n",
    "!chmod a+x helloworld.o\n",
    "!./helloworld.o"
   ]
  },
  {
   "cell_type": "markdown",
   "metadata": {
    "slideshow": {
     "slide_type": "notes"
    }
   },
   "source": [
    "By dropping the `-c` argument, and supplying the object file as the input, `g++` will link the object file and necessary libraries into the executable."
   ]
  },
  {
   "cell_type": "code",
   "execution_count": 5,
   "metadata": {},
   "outputs": [
    {
     "name": "stdout",
     "output_type": "stream",
     "text": [
      "helloworld: Mach-O 64-bit executable x86_64\r\n"
     ]
    }
   ],
   "source": [
    "# Link into executable; dropping -c\n",
    "!g++ helloworld.o -o helloworld\n",
    "!file helloworld"
   ]
  },
  {
   "cell_type": "code",
   "execution_count": 6,
   "metadata": {},
   "outputs": [
    {
     "name": "stdout",
     "output_type": "stream",
     "text": [
      "hello, world\r\n"
     ]
    }
   ],
   "source": [
    "!./helloworld"
   ]
  },
  {
   "cell_type": "markdown",
   "metadata": {
    "slideshow": {
     "slide_type": "subslide"
    }
   },
   "source": [
    "## Separate compilation units\n",
    "\n",
    "#### Header file\n",
    "\n",
    "`hello.hpp`:\n",
    "\n",
    "```cpp\n",
    "#pragma once\n",
    "void hello();\n",
    "```\n",
    "\n",
    "`hello.cpp`:\n",
    "\n",
    "```cpp\n",
    "#include <iostream>\n",
    "#include \"hello.hpp\"\n",
    "void hello() { std::cout << \"hello with standalone compiling unit\" << std::endl; }\n",
    "```"
   ]
  },
  {
   "cell_type": "code",
   "execution_count": 7,
   "metadata": {
    "slideshow": {
     "slide_type": "subslide"
    }
   },
   "outputs": [
    {
     "name": "stdout",
     "output_type": "stream",
     "text": [
      "Undefined symbols for architecture x86_64:\r\n",
      "  \"_main\", referenced from:\r\n",
      "     implicit entry/start for main executable\r\n",
      "ld: symbol(s) not found for architecture x86_64\r\n",
      "clang: \u001b[0;1;31merror: \u001b[0mlinker command failed with exit code 1 (use -v to see invocation)\u001b[0m\r\n"
     ]
    }
   ],
   "source": [
    "# There's no \"main()\"; cannot link\n",
    "!g++ hello.cpp -o hello"
   ]
  },
  {
   "cell_type": "code",
   "execution_count": 8,
   "metadata": {},
   "outputs": [],
   "source": [
    "# hello.cpp needs to be built as an object file\n",
    "!g++ -c hello.cpp -o hello.o"
   ]
  },
  {
   "cell_type": "markdown",
   "metadata": {
    "slideshow": {
     "slide_type": "subslide"
    }
   },
   "source": [
    "### Main program\n",
    "\n",
    "`hellomain.cpp`:\n",
    "\n",
    "```cpp\n",
    "#include \"hello.hpp\"\n",
    "int main(int argc, char ** argv) { hello(); }\n",
    "```"
   ]
  },
  {
   "cell_type": "code",
   "execution_count": 9,
   "metadata": {},
   "outputs": [
    {
     "name": "stdout",
     "output_type": "stream",
     "text": [
      "Undefined symbols for architecture x86_64:\r\n",
      "  \"hello()\", referenced from:\r\n",
      "      _main in hellomain-93dd52.o\r\n",
      "ld: symbol(s) not found for architecture x86_64\r\n",
      "clang: \u001b[0;1;31merror: \u001b[0mlinker command failed with exit code 1 (use -v to see invocation)\u001b[0m\r\n"
     ]
    }
   ],
   "source": [
    "# hellomain.cpp doesn't have everything it needs; cannot link\n",
    "!g++ hellomain.cpp -o hellomain"
   ]
  },
  {
   "cell_type": "markdown",
   "metadata": {
    "slideshow": {
     "slide_type": "subslide"
    }
   },
   "source": [
    "### Link object files"
   ]
  },
  {
   "cell_type": "code",
   "execution_count": 10,
   "metadata": {},
   "outputs": [],
   "source": [
    "# hellomain.cpp also needs to be built as an object file\n",
    "!g++ -c hellomain.cpp -o hellomain.o"
   ]
  },
  {
   "cell_type": "code",
   "execution_count": 11,
   "metadata": {},
   "outputs": [],
   "source": [
    "# Link into executable\n",
    "!g++ hellomain.o hello.o -o hellomain"
   ]
  },
  {
   "cell_type": "code",
   "execution_count": 12,
   "metadata": {},
   "outputs": [
    {
     "name": "stdout",
     "output_type": "stream",
     "text": [
      "hello with standalone compiling unit\r\n"
     ]
    }
   ],
   "source": [
    "# Then it can run\n",
    "!./hellomain"
   ]
  },
  {
   "cell_type": "markdown",
   "metadata": {
    "slideshow": {
     "slide_type": "subslide"
    }
   },
   "source": [
    "## Create and use a static library"
   ]
  },
  {
   "cell_type": "code",
   "execution_count": 13,
   "metadata": {
    "slideshow": {
     "slide_type": "-"
    }
   },
   "outputs": [
    {
     "name": "stdout",
     "output_type": "stream",
     "text": [
      "hello with standalone compiling unit\r\n"
     ]
    }
   ],
   "source": [
    "!g++ -c hello.cpp -o hello.o\n",
    "!ar rcs libhello.a hello.o\n",
    "!g++ hellomain.o -L. -lhello -o hellomain2\n",
    "!./hellomain2"
   ]
  },
  {
   "cell_type": "markdown",
   "metadata": {
    "slideshow": {
     "slide_type": "subslide"
    }
   },
   "source": [
    "## Create and use a shared object"
   ]
  },
  {
   "cell_type": "code",
   "execution_count": 14,
   "metadata": {
    "slideshow": {
     "slide_type": "-"
    }
   },
   "outputs": [
    {
     "name": "stdout",
     "output_type": "stream",
     "text": [
      "hello with standalone compiling unit\r\n"
     ]
    }
   ],
   "source": [
    "!g++ -c hello.cpp -o hello.o\n",
    "!g++ -shared hello.o -o libshared_hello.so\n",
    "!g++ hellomain.o -L. -lshared_hello -o hellomain3\n",
    "!./hellomain3"
   ]
  },
  {
   "cell_type": "markdown",
   "metadata": {},
   "source": [
    "### External libraries are included in the same way"
   ]
  },
  {
   "cell_type": "code",
   "execution_count": 15,
   "metadata": {},
   "outputs": [
    {
     "name": "stdout",
     "output_type": "stream",
     "text": [
      "x = (1, 2)\r\n",
      "y = (-2, 1)\r\n",
      "x \\dot y = 0\r\n"
     ]
    }
   ],
   "source": [
    "!g++ distance.cpp -o distance -lcblas\n",
    "!./distance"
   ]
  },
  {
   "cell_type": "markdown",
   "metadata": {
    "slideshow": {
     "slide_type": "slide"
    }
   },
   "source": [
    "# C++ integer types\n",
    "\n",
    "Width of the fundamental types is specified by the standard to assist writing portable code.\n",
    "\n",
    "* Boolean types: `bool`\n",
    "* Integer (signed) types: `short` (16+ bits), `int` (16+ bits), `long` (32+ bits), `long long` (64+ bits)\n",
    "  * Unsigned integer: `unsigned short` (16+ bits), `unsigned int` (16+ bits), `unsigned long` (32+ bits), `unsigned long long` (64+ bits)\n",
    "* Character type: `char`, `unsigned char` (8 bits)"
   ]
  },
  {
   "cell_type": "code",
   "execution_count": 16,
   "metadata": {
    "slideshow": {
     "slide_type": "notes"
    }
   },
   "outputs": [
    {
     "name": "stdout",
     "output_type": "stream",
     "text": [
      "unit is byte\r\n",
      "sizeof(char): 1\r\n",
      "sizeof(short): 2\r\n",
      "sizeof(int): 4\r\n",
      "sizeof(long): 8\r\n",
      "sizeof(long long): 8\r\n",
      "sizeof(unsigned char): 1\r\n",
      "sizeof(unsigned short): 2\r\n",
      "sizeof(unsigned int): 4\r\n",
      "sizeof(unsigned long): 8\r\n",
      "sizeof(unsigned long long): 8\r\n"
     ]
    }
   ],
   "source": [
    "!g++ types.cpp -o types\n",
    "!./types"
   ]
  },
  {
   "cell_type": "markdown",
   "metadata": {
    "slideshow": {
     "slide_type": "subslide"
    }
   },
   "source": [
    "## Fixed-width integer types\n",
    "\n",
    "The C++ standard library provides the fixed-width (bit) integer types which are the same as C in the header file `<cstdint>`:\n",
    "\n",
    "* Signed integer: `int8_t`, `int16_t`, `int32_t`, `int64_t`.\n",
    "* Unsigned integer: `uint8_t`, `uint16_t`, `uint32_t`, `uint64_t`.\n",
    "\n",
    "Fixed width matters for numerical code more than hardware architecture does.  It's easier for numerical code to break by changed width of indexing integer than by changed addressing space."
   ]
  },
  {
   "cell_type": "markdown",
   "metadata": {
    "slideshow": {
     "slide_type": "notes"
    }
   },
   "source": [
    "`cstdint.cpp`:\n",
    "\n",
    "```cpp\n",
    "#include <iostream>\n",
    "#include <cstdint>\n",
    "int main(int argc, char ** argv)\n",
    "{\n",
    "    std::cout << \"unit is byte\" << std::endl;\n",
    "    std::cout << \"sizeof(int8_t): \" << sizeof(int8_t) << std::endl;\n",
    "    std::cout << \"sizeof(uint8_t): \" << sizeof(uint8_t) << std::endl;\n",
    "    std::cout << \"sizeof(int16_t): \" << sizeof(int16_t) << std::endl;\n",
    "    std::cout << \"sizeof(uint16_t): \" << sizeof(uint16_t) << std::endl;\n",
    "    std::cout << \"sizeof(int32_t): \" << sizeof(int32_t) << std::endl;\n",
    "    std::cout << \"sizeof(uint32_t): \" << sizeof(uint32_t) << std::endl;\n",
    "    std::cout << \"sizeof(int64_t): \" << sizeof(int64_t) << std::endl;\n",
    "    std::cout << \"sizeof(uint64_t): \" << sizeof(uint64_t) << std::endl;\n",
    "    return 0;\n",
    "}```"
   ]
  },
  {
   "cell_type": "code",
   "execution_count": 17,
   "metadata": {
    "slideshow": {
     "slide_type": "notes"
    }
   },
   "outputs": [
    {
     "name": "stdout",
     "output_type": "stream",
     "text": [
      "unit is byte\r\n",
      "sizeof(int8_t): 1\r\n",
      "sizeof(uint8_t): 1\r\n",
      "sizeof(int16_t): 2\r\n",
      "sizeof(uint16_t): 2\r\n",
      "sizeof(int32_t): 4\r\n",
      "sizeof(uint32_t): 4\r\n",
      "sizeof(int64_t): 8\r\n",
      "sizeof(uint64_t): 8\r\n"
     ]
    }
   ],
   "source": [
    "!g++ cstdint.cpp -o cstdint\n",
    "!./cstdint"
   ]
  },
  {
   "cell_type": "markdown",
   "metadata": {
    "slideshow": {
     "slide_type": "subslide"
    }
   },
   "source": [
    "## Signness\n",
    "\n",
    "Care should be taken when signed and unsigned integers are both used in code.  Comparison result between signed and unsigned integers is sometimes surprising.\n",
    "\n",
    "The common wisdom advises to not mixing signed and unsigned integer, but in numerical code negative indices are commonplace.  Be especially careful about the sign."
   ]
  },
  {
   "cell_type": "markdown",
   "metadata": {
    "slideshow": {
     "slide_type": "notes"
    }
   },
   "source": [
    "`signness.cpp`:\n",
    "    \n",
    "```cpp\n",
    "#include <iostream>\n",
    "#include <cstdint>\n",
    "int main(int, char **)\n",
    "{\n",
    "    long sint = -1;\n",
    "    unsigned long uint = 1;\n",
    "    std::cout << \"sint: \" << sint << std::endl;\n",
    "    std::cout << \"uint: \" << uint << std::endl;\n",
    "    if (sint > uint) { std::cout << \"sint > uint, although it can't be\" << std::endl; }\n",
    "    return 0;\n",
    "}```"
   ]
  },
  {
   "cell_type": "code",
   "execution_count": 18,
   "metadata": {},
   "outputs": [
    {
     "name": "stdout",
     "output_type": "stream",
     "text": [
      "sint: -1\r\n",
      "uint: 1\r\n",
      "sint > uint, although it can't be\r\n"
     ]
    }
   ],
   "source": [
    "!g++ signness.cpp -o signness\n",
    "!./signness"
   ]
  },
  {
   "cell_type": "code",
   "execution_count": 19,
   "metadata": {},
   "outputs": [
    {
     "name": "stdout",
     "output_type": "stream",
     "text": [
      "\u001b[1msignness.cpp:9:14: \u001b[0m\u001b[0;1;31merror: \u001b[0m\u001b[1mcomparison of integers of different signs: 'long' and\r\n",
      "      'unsigned long' [-Werror,-Wsign-compare]\u001b[0m\r\n",
      "    if (sint > uint) { std::cout << \"sint > uint, although it can't be\" ...\r\n",
      "\u001b[0;1;32m        ~~~~ ^ ~~~~\r\n",
      "\u001b[0m1 error generated.\r\n"
     ]
    }
   ],
   "source": [
    "# Ask the compiler to check for incorrect sign.\n",
    "!g++ signness.cpp -Wsign-compare -Werror -o signness"
   ]
  },
  {
   "cell_type": "markdown",
   "metadata": {
    "slideshow": {
     "slide_type": "subslide"
    }
   },
   "source": [
    "## Pointer and array indexing"
   ]
  },
  {
   "cell_type": "markdown",
   "metadata": {
    "slideshow": {
     "slide_type": "notes"
    }
   },
   "source": [
    "`arrays.cpp`:\n",
    "\n",
    "```cpp\n",
    "#include <iostream>\n",
    "#include <cstdint>\n",
    "int main(int, char **)\n",
    "{\n",
    "    int32_t data[100];\n",
    "    int32_t * pdata = data;\n",
    "    int32_t * odata = pdata + 50;\n",
    "    for (size_t it=0; it<100; ++it) { data[it] = it + 5000; }\n",
    "    std::cout << \"data[10]: \" << data[10] << std::endl;\n",
    "    std::cout << \"pdata[10]: \" << pdata[10] << std::endl;\n",
    "    std::cout << \"*(data+20): \" << *(data+20) << std::endl;\n",
    "    std::cout << \"*(pdata+20): \" << *(pdata+20) << std::endl;\n",
    "    std::cout << \"data[50]: \" << data[50] << std::endl;\n",
    "    std::cout << \"odata[0]: \" << odata[0] << std::endl;\n",
    "    std::cout << \"data[40]: \" << data[40] << std::endl;\n",
    "    std::cout << \"odata[-10]: \" << odata[-10] << std::endl;\n",
    "    std::cout << \"*(data+40): \" << *(data+40) << std::endl;\n",
    "    std::cout << \"*(odata-10): \" << *(odata-10) << std::endl;\n",
    "    return 0;\n",
    "}```"
   ]
  },
  {
   "cell_type": "code",
   "execution_count": 20,
   "metadata": {},
   "outputs": [
    {
     "name": "stdout",
     "output_type": "stream",
     "text": [
      "data[10]: 5010\r\n",
      "pdata[10]: 5010\r\n",
      "*(data+20): 5020\r\n",
      "*(pdata+20): 5020\r\n",
      "data[50]: 5050\r\n",
      "odata[0]: 5050\r\n",
      "data[40]: 5040\r\n",
      "odata[-10]: 5040\r\n",
      "*(data+40): 5040\r\n",
      "*(odata-10): 5040\r\n"
     ]
    }
   ],
   "source": [
    "!g++ arrays.cpp -o arrays -Wall -Wextra -Werror\n",
    "!./arrays"
   ]
  },
  {
   "cell_type": "markdown",
   "metadata": {
    "slideshow": {
     "slide_type": "slide"
    }
   },
   "source": [
    "# Floating-point\n",
    "\n",
    "x86 architecture follows the IEEE 754-1985 standard for floating-point.  A floating-point value uses 3 fields to represent: sign, exponent (biased) (denoted by $p$), and fraction (denoted by $f$ and $f<1$).  The formula is:\n",
    "\n",
    "$$\n",
    "\\pm(1+f)_2 \\times 2^p\n",
    "$$\n",
    "\n",
    "Note that the number is binary-based.\n",
    "\n",
    "x86 follows IEEE 754 standard for floating-point.  There are two commonly used floating-point formats: single and double precision.  The C++ type names are `float` and `double`, respectively."
   ]
  },
  {
   "cell_type": "markdown",
   "metadata": {
    "slideshow": {
     "slide_type": "subslide"
    }
   },
   "source": [
    "## Single-precision (`float`)\n",
    "\n",
    "Single-precision floating-point value uses 32 bits (4 bytes).  The first 23 bits are fraction.  The following 8 bits are exponent.  The last (highest) bit is sign; 0 is positive while 1 is negative.  In C++, the type name is `float`.\n",
    "\n",
    "Conisder a decimal number 2.75, which we use as an example to show how to get the fields.  Write it by using the base of 2:\n",
    "\n",
    "\\begin{align*}\n",
    "%\n",
    "2.75 &= 2 + \\frac{1}{2} + \\frac{1}{2^2} = 1\\times2^1 + 0\\times2^0 + 1\\times2^{-1} + 1\\times2^{-2} \\\\\n",
    "&= (10.11)_2 = (1.011)_2 \\times 2^1 .\n",
    "%\n",
    "\\end{align*}\n",
    "\n",
    "The bit fields for its IEEE 754 single-precision floating-point are:\n",
    "\n",
    "| sign (1 bit)   | exponent (8 bits)    | fraction (23 bits)             |\n",
    "|----------------|----------------------|--------------------------------|\n",
    "| `0`            | `1000 0000`          | `011 0000 0000 0000 0000 0000` |\n",
    "\n",
    "The exponent bias for single-precision floating-point is 127 ($(\\mathtt{0111 \\, 1111})_2$)."
   ]
  },
  {
   "cell_type": "markdown",
   "metadata": {
    "slideshow": {
     "slide_type": "subslide"
    }
   },
   "source": [
    "The floating-point value is usually inexact.  For example, `0.3`, although it is rational, cannot be exactly represented as a single-precision floating-point.  Because the single-precision is 2-based, you should not follow the arithmetic intuition learned from the 10-based number system."
   ]
  },
  {
   "cell_type": "code",
   "execution_count": 21,
   "metadata": {},
   "outputs": [
    {
     "name": "stdout",
     "output_type": "stream",
     "text": [
      "fvalue: 0.3000000119\r\n",
      "b32value (float sep):    0 01111101 00110011001100110011010\r\n",
      "                      sign exponent fraction\r\n",
      "fvalue: 3\r\n",
      "b32value (float sep):    0 10000000 10000000000000000000000\r\n",
      "                      sign exponent fraction\r\n"
     ]
    }
   ],
   "source": [
    "!g++ float.cpp -o float\n",
    "!./float"
   ]
  },
  {
   "cell_type": "markdown",
   "metadata": {},
   "source": [
    "$(3)_{10} = (1.1)_2\\times2^1$"
   ]
  },
  {
   "cell_type": "markdown",
   "metadata": {
    "slideshow": {
     "slide_type": "subslide"
    }
   },
   "source": [
    "## Double-precision (`double`)\n",
    "\n",
    "Double-precision floating-point value uses 64 bits (8 bytes).  The first 52 bits are fraction.  The following 11 bits are exponent.  The last (highest) bit is sign; 0 is positive while 1 is negative.  In C++, the type name is `double`.\n",
    "\n",
    "Use the same example of 2.75 for the double-precision floating-point.  Write $2.75 = (1.011)_2 \\times 2^1$.  The exponent bias for double-precision floating-point is 1023 ($(\\mathtt{11 \\, 1111 \\, 1111})_2$).  The bit fields are:\n",
    "\n",
    "| sign (1 bit)   | exponent (11 bits)   | fraction (52 bits)                                                 |\n",
    "|----------------|----------------------|--------------------------------------------------------------------|\n",
    "| `0`            | `100 0000 0000`      | `0110 0000 0000 0000 0000 0000 0000 0000 0000 0000 0000 0000 0000` |\n",
    "\n",
    "Compared with the single-precision version:\n",
    "\n",
    "| sign (1 bit)   | exponent (8 bits)    | fraction (23 bits)             |\n",
    "|----------------|----------------------|--------------------------------|\n",
    "| `0`            | `1000 0000`          | `011 0000 0000 0000 0000 0000` |"
   ]
  },
  {
   "cell_type": "markdown",
   "metadata": {
    "slideshow": {
     "slide_type": "subslide"
    }
   },
   "source": [
    "## Numeric limits\n",
    "\n",
    "Both C and C++ provides constants for the value limit of each type.  In C++, the constants are available through include file `limits`."
   ]
  },
  {
   "cell_type": "markdown",
   "metadata": {
    "slideshow": {
     "slide_type": "notes"
    }
   },
   "source": [
    "```cpp\n",
    "#include <iostream>\n",
    "#include <cstdint>\n",
    "#include <limits>\n",
    "int main(int, char **)\n",
    "{\n",
    "    std::cout << \"type\\t\\tlowest()\\tmin()\\t\\tmax()\\t\\tepsilon()\" << std::endl << std::endl;\n",
    "    std::cout << \"float\\t\\t\"\n",
    "              << std::numeric_limits<float>::lowest() << \"\\t\"\n",
    "              << std::numeric_limits<float>::min() << \"\\t\"\n",
    "              << std::numeric_limits<float>::max() << \"\\t\"\n",
    "              << std::numeric_limits<float>::epsilon() << \"\\t\"\n",
    "              << std::endl;\n",
    "    std::cout << \"double\\t\\t\"\n",
    "              << std::numeric_limits<double>::lowest() << \"\\t\"\n",
    "              << std::numeric_limits<double>::min() << \"\\t\"\n",
    "              << std::numeric_limits<double>::max() << \"\\t\"\n",
    "              << std::numeric_limits<double>::epsilon() << \"\\t\"\n",
    "              << std::endl;\n",
    "    std::cout << \"int32_t\\t\\t\"\n",
    "              << std::numeric_limits<int32_t>::lowest() << \"\\t\"\n",
    "              << std::numeric_limits<int32_t>::min() << \"\\t\"\n",
    "              << std::numeric_limits<int32_t>::max() << \"\\t\"\n",
    "              << std::numeric_limits<int32_t>::epsilon() << \"\\t\"\n",
    "              << std::endl;\n",
    "    std::cout << \"uint32_t\\t\"\n",
    "              << std::numeric_limits<uint32_t>::lowest() << \"\\t\\t\"\n",
    "              << std::numeric_limits<uint32_t>::min() << \"\\t\\t\"\n",
    "              << std::numeric_limits<uint32_t>::max() << \"\\t\"\n",
    "              << std::numeric_limits<uint32_t>::epsilon() << \"\\t\"\n",
    "              << std::endl;\n",
    "    std::cout << \"int64_t\\t\\t\"\n",
    "              << std::numeric_limits<int64_t>::lowest() << \"\\t\"\n",
    "              << std::numeric_limits<int64_t>::min() << \"\\t\"\n",
    "              << std::numeric_limits<int64_t>::max() << \"\\t\"\n",
    "              << std::numeric_limits<int64_t>::epsilon() << \"\\t\"\n",
    "              << std::endl;\n",
    "    std::cout << \"uint64_t\\t\"\n",
    "              << std::numeric_limits<uint64_t>::lowest() << \"\\t\\t\"\n",
    "              << std::numeric_limits<uint64_t>::min() << \"\\t\\t\"\n",
    "              << std::numeric_limits<uint64_t>::max() << \"\\t\"\n",
    "              << std::numeric_limits<uint64_t>::epsilon() << \"\\t\"\n",
    "              << std::endl;\n",
    "    return 0;\n",
    "}```"
   ]
  },
  {
   "cell_type": "code",
   "execution_count": 22,
   "metadata": {},
   "outputs": [
    {
     "name": "stdout",
     "output_type": "stream",
     "text": [
      "type\t\tlowest()\tmin()\t\tmax()\t\tepsilon()\r\n",
      "\r\n",
      "float\t\t-3.40282e+38\t1.17549e-38\t3.40282e+38\t1.19209e-07\t\r\n",
      "double\t\t-1.79769e+308\t2.22507e-308\t1.79769e+308\t2.22045e-16\t\r\n",
      "int32_t\t\t-2147483648\t-2147483648\t2147483647\t0\t\r\n",
      "uint32_t\t0\t\t0\t\t4294967295\t0\t\r\n",
      "int64_t\t\t-9223372036854775808\t-9223372036854775808\t9223372036854775807\t0\t\r\n",
      "uint64_t\t0\t\t0\t\t18446744073709551615\t0\t\r\n"
     ]
    }
   ],
   "source": [
    "!g++ nlimits.cpp -o nlimits\n",
    "!./nlimits"
   ]
  },
  {
   "cell_type": "markdown",
   "metadata": {
    "slideshow": {
     "slide_type": "subslide"
    }
   },
   "source": [
    "## Exception handling\n",
    "\n",
    "The pragma \"`#pragma STDC FENV_ACCESS ON`\" turns on floating-point exception handling in CPU.  C++ defines the following floating-point exception that is supported by the hardware:\n",
    "\n",
    "| macro | math error condition | description |\n",
    "| -- | -- | -- |\n",
    "| FE_DIVBYZERO | pole error | math result was infinite or undefined |\n",
    "| FE_INEXACT | inexact result | rounding was required for the operation |\n",
    "| FE_INVALID | domain error | the argument was outside the domain in which the math operation |\n",
    "| FE_OVERFLOW | range error | the result was too large to be representable |\n",
    "| FE_UNDERFLOW | range error | the result became subnormal due to loss of precision |\n",
    "| FE_ALL_EXCEPT | -- | bitwise OR of all supported floating-point exceptions |"
   ]
  },
  {
   "cell_type": "markdown",
   "metadata": {
    "slideshow": {
     "slide_type": "notes"
    }
   },
   "source": [
    "`fpexc.cpp`:\n",
    "\n",
    "```cpp\n",
    "#include <iostream>\n",
    "#include <cfenv>\n",
    "#include <cmath>\n",
    "#include <limits>\n",
    "int main(int, char **)\n",
    "{\n",
    "    float v1;\n",
    "\n",
    "    feclearexcept(FE_ALL_EXCEPT);\n",
    "    v1 = 0.3;\n",
    "    std::cout << \"result: \" << v1/0 << std::endl;\n",
    "    if (fetestexcept(FE_DIVBYZERO)) { std::cout << \"  FE_DIVBYZERO\" << std::endl; }\n",
    "\n",
    "    feclearexcept(FE_ALL_EXCEPT);\n",
    "    v1 = 2;\n",
    "    std::cout << \"std::sqrt(2): \" << std::sqrt(v1) << std::endl;\n",
    "    if (fetestexcept(FE_INEXACT)) { std::cout << \"  FE_INEXACT\" << std::endl; }\n",
    "\n",
    "    feclearexcept(FE_ALL_EXCEPT);\n",
    "    v1 = 2;\n",
    "    std::cout << \"std::acos(2): \" << std::acos(v1) << std::endl;\n",
    "    if (fetestexcept(FE_INVALID)) { std::cout << \"  FE_INVALID\" << std::endl; }\n",
    "\n",
    "    feclearexcept(FE_ALL_EXCEPT);\n",
    "    v1 = std::numeric_limits<float>::max();\n",
    "    std::cout << \"std::numeric_limits<float>::max() * 2: \" << v1 * 2 << std::endl;\n",
    "    if (fetestexcept(FE_OVERFLOW)) { std::cout << \"  FE_OVERFLOW\" << std::endl; }\n",
    "\n",
    "    feclearexcept(FE_ALL_EXCEPT);\n",
    "    v1 = std::numeric_limits<float>::min();\n",
    "    std::cout << \"std::numeric_limits<float>::min() / 10: \" << v1 / 10 << std::endl;\n",
    "    if (fetestexcept(FE_UNDERFLOW)) { std::cout << \"  FE_UNDERFLOW\" << std::endl; }\n",
    "\n",
    "    return 0;\n",
    "}```"
   ]
  },
  {
   "cell_type": "code",
   "execution_count": 23,
   "metadata": {},
   "outputs": [
    {
     "name": "stdout",
     "output_type": "stream",
     "text": [
      "result: inf\r\n",
      "  FE_DIVBYZERO\r\n",
      "std::sqrt(2): 1.41421\r\n",
      "  FE_INEXACT\r\n",
      "std::acos(2): nan\r\n",
      "  FE_INVALID\r\n",
      "std::numeric_limits<float>::max() * 2: inf\r\n",
      "  FE_OVERFLOW\r\n",
      "std::numeric_limits<float>::min() / 10: 1.17549e-39\r\n",
      "  FE_UNDERFLOW\r\n"
     ]
    }
   ],
   "source": [
    "!g++ fpexc.cpp -o fpexc\n",
    "!./fpexc"
   ]
  },
  {
   "cell_type": "markdown",
   "metadata": {
    "slideshow": {
     "slide_type": "slide"
    }
   },
   "source": [
    "# Object-oriented programming\n",
    "\n",
    "#Object-oriented programming (OOP) allows us to organize data with logic.  The organized entities are called objects.  The point of using OOP is to make it easier to process the data.  It usually may result in fewer lines of code and make more helper functions memorizable."
   ]
  },
  {
   "cell_type": "markdown",
   "metadata": {
    "slideshow": {
     "slide_type": "subslide"
    }
   },
   "source": [
    "## Class\n",
    "\n",
    "A class defines how objects organize the data and logic.  C++ provides two keywords to define a class: `class` and `struct`.  In most cases one can be used to replace the other.  By default, the accessibility of `class` is `private`, if no access specifier is used.  On the other hand, `struct`'s default accessibility is `public`.\n",
    "\n",
    "In addition to the mostly equivalent behavior, conventionally, `struct` has a strong implication that the type is a POD (plain old data).  As such, when you need a class, prefer `class` over `struct`.  If you want a POD, use `struct`."
   ]
  },
  {
   "cell_type": "markdown",
   "metadata": {
    "slideshow": {
     "slide_type": "subslide"
    }
   },
   "source": [
    "## Encapsulation\n",
    "\n",
    "Class is the basic unit for encapsulation, i.e., separating the interface from the implementation detail.  Users of the class should not know how the class is implemented internally.  C++ class has 3 access controls to help encapsulation.  The `private` access means only the class itself may access the member (data or functions).  The `public` access means everything can access the member.  The `protected` applies to inherited classes.  Only the defining class and its derived classes can access `protected`.\n",
    "\n",
    "Encapsulation is very useful for numerical code.  In the first impression, the access control prevents \"straight-forward\" code to access data.  However, when we start development it's impossible to foresee all the logic and constructs.  Without proper encapsulation, we may not productively move forward."
   ]
  },
  {
   "cell_type": "markdown",
   "metadata": {
    "slideshow": {
     "slide_type": "subslide"
    }
   },
   "source": [
    "## Class example\n",
    "\n",
    "For private member data, we want a convention to distinguish them from other variables.  Prefixing `m_` is a common one.  Other popular choices include `mMember` (prefixing `m` with camel-case) and `member_` (postfixing `_`)."
   ]
  },
  {
   "cell_type": "markdown",
   "metadata": {
    "slideshow": {
     "slide_type": "notes"
    }
   },
   "source": [
    "See the differences between `class` and `struct`.  Use `class` to define a point:\n",
    "\n",
    "```cpp\n",
    "class PointClass\n",
    "{\n",
    "    float m_x, m_y; // by default private.\n",
    "public:\n",
    "    // Accessors\n",
    "    float getX() const { return m_x; }\n",
    "    float getY() const { return m_y; }\n",
    "    void setX(float v) { m_x = v; }\n",
    "    void setY(float v) { m_y = v; }\n",
    "}; /* end class PointClass */```\n",
    "\n",
    "Alternately, use `struct`:\n",
    "\n",
    "```cpp\n",
    "struct PointStruct\n",
    "{\n",
    "    float m_x, m_y; // by default public.\n",
    "}; /* end class PointStruct */```"
   ]
  },
  {
   "cell_type": "code",
   "execution_count": 24,
   "metadata": {
    "slideshow": {
     "slide_type": "-"
    }
   },
   "outputs": [
    {
     "name": "stdout",
     "output_type": "stream",
     "text": [
      "PointClass and PointStruct has the same size: true\r\n",
      "pntc.getX() = 1002, pntc.getY() = 2004\r\n",
      "pnts.m_x = 1007, pnts.m_y = 1009\r\n"
     ]
    }
   ],
   "source": [
    "!g++ class.cpp --std=c++11 -o class\n",
    "!./class"
   ]
  },
  {
   "cell_type": "markdown",
   "metadata": {
    "slideshow": {
     "slide_type": "subslide"
    }
   },
   "source": [
    "## Accessors\n",
    "\n",
    "To access the private member data, accessors are usually needed.  It may be argued that in a good OO design, classes should not let their consumers know about its member data.  But it is impractical to eliminate data classes from numerical code.  If you cannot totally hide it from outside, accessors must be provided.\n",
    "\n",
    "There are two major styles for accessors: get/set and one-method-name.  The second style uses a reference to directly access member data."
   ]
  },
  {
   "cell_type": "markdown",
   "metadata": {
    "slideshow": {
     "slide_type": "notes"
    }
   },
   "source": [
    "```cpp\n",
    "class PointClass\n",
    "{\n",
    "    float m_x, m_y; // by default private.\n",
    "public:\n",
    "    // Accessors: get/set style.\n",
    "    float getX() const { return m_x; }\n",
    "    float getY() const { return m_y; }\n",
    "    void setX(float v) { m_x = v; }\n",
    "    void setY(float v) { m_y = v; }\n",
    "    // Accessors of alternate style: single method name.\n",
    "    float const & x() const { return m_x; } // getter\n",
    "    float       & x()       { return m_x; } // setter\n",
    "    float const & y() const { return m_y; } // getter\n",
    "    float       & y()       { return m_y; } // setter\n",
    "}; /* end class PointClass */```"
   ]
  },
  {
   "cell_type": "code",
   "execution_count": 25,
   "metadata": {},
   "outputs": [
    {
     "name": "stdout",
     "output_type": "stream",
     "text": [
      "pntc.getX() = 2, pntc.getY() = 4\r\n",
      "pntc.x() = 12, pntc.y() = 24\r\n"
     ]
    }
   ],
   "source": [
    "!g++ accessor.cpp --std=c++11 -o accessor\n",
    "!./accessor"
   ]
  },
  {
   "cell_type": "markdown",
   "metadata": {
    "slideshow": {
     "slide_type": "subslide"
    }
   },
   "source": [
    "## Reference\n",
    "\n",
    "Reference is an important construct in C++ and used everywhere."
   ]
  },
  {
   "cell_type": "markdown",
   "metadata": {
    "slideshow": {
     "slide_type": "notes"
    }
   },
   "source": [
    "Like a pointer, a C++ reference allow aliasing.  But unlike a pointer, a reference cannot be constructed without initialization, and is safer than a pointer.\n",
    "\n",
    "```cpp\n",
    "int v = 10;\n",
    "std::cout << \"v = \" << v << std::endl;\n",
    "int * pv; // pointer; danger: uninitialized\n",
    "pv = &v;\n",
    "*pv = 11;\n",
    "std::cout << \"v = \" << v << std::endl;\n",
    "int & rv = v; // reference\n",
    "rv = 12;\n",
    "std::cout << \"v = \" << v << std::endl;\n",
    "// error: declaration of reference variable 'nrv' requires an initializer\n",
    "//int & nrv;```\n",
    "\n",
    "A const refenrece is oftern used to alias a read-only object.\n",
    "\n",
    "```cpp\n",
    "int const & crv = v; // const reference\n",
    "// error: cannot assign to variable 'crv' with const-qualified type 'const int &'\n",
    "//crv = 12;```"
   ]
  },
  {
   "cell_type": "code",
   "execution_count": 26,
   "metadata": {},
   "outputs": [
    {
     "name": "stdout",
     "output_type": "stream",
     "text": [
      "v = 10\r\n",
      "v = 11\r\n",
      "v = 12\r\n",
      "&v, pv, &rv, &crv (address): \r\n",
      "  0x7ffeec778f9c\r\n",
      "  0x7ffeec778f9c\r\n",
      "  0x7ffeec778f9c\r\n",
      "  0x7ffeec778f9c\r\n"
     ]
    }
   ],
   "source": [
    "!g++ reference.cpp --std=c++11 -o reference\n",
    "!./reference"
   ]
  },
  {
   "cell_type": "markdown",
   "metadata": {
    "slideshow": {
     "slide_type": "slide"
    }
   },
   "source": [
    "# Constructor and destructor\n",
    "\n",
    "A constructor of a class is called when an object of the class is _instantiated_ (the _object_ can also be called an _instance_).  You may have as many constructors as you like.  There are special constructors that the compiler provides even if you don't.  The most essential one is the _default constructor_.  It does not have any argument, and is called when you declare a variable of the class.\n",
    "\n",
    "```cpp\n",
    "class Line // assume it possesses heavy resources\n",
    "{\n",
    "public:\n",
    "    Line(); // default constructor.\n",
    "};\n",
    "```"
   ]
  },
  {
   "cell_type": "markdown",
   "metadata": {
    "slideshow": {
     "slide_type": "subslide"
    }
   },
   "source": [
    "The other two special constructors are _copy constructor_ and _move constructor_.\n",
    "\n",
    "```cpp\n",
    "Line & Line(Line const & ); // copy constructor\n",
    "Line & Line(Line       &&); // move constructor\n",
    "```\n",
    "\n",
    "A copy constructor is called when the compiler needs to copy the object:\n",
    "\n",
    "```cpp\n",
    "Line line1; // invokes default constructor\n",
    "Line line2(line1); // invokes copy constructor\n",
    "```\n",
    "\n",
    "A move constructor is called when the compiler knows the object to be instantiated will move the resources from the argument:\n",
    "\n",
    "```cpp\n",
    "Line line3(std::move(line2)); // invokes move constructor\n",
    "```\n",
    "\n",
    "(Move semantics will be discussed in later lectures.)"
   ]
  },
  {
   "cell_type": "markdown",
   "metadata": {
    "slideshow": {
     "slide_type": "subslide"
    }
   },
   "source": [
    "## Destructor\n",
    "\n",
    "When an object is no longer in use, the compiler calls its destructor to remove it from memory.  The destructor is responsible for releasing the resources that it no longer needs.  (Failure to release the unused resource is called resource leak.)"
   ]
  },
  {
   "cell_type": "markdown",
   "metadata": {},
   "source": [
    "```cpp\n",
    "class Line\n",
    "{\n",
    "public:\n",
    "    Line(size_t size) : m_size(size), m_coord(new float[size*2]) {}\n",
    "    // Desctructor.\n",
    "    ~Line() { if (nullptr != m_coord) { delete[] m_coord; } }\n",
    "private:\n",
    "    size_t m_size = 0; // number of points.\n",
    "    float * m_coord = nullptr; // memory buffer for the points.\n",
    "};\n",
    "```"
   ]
  },
  {
   "cell_type": "markdown",
   "metadata": {
    "slideshow": {
     "slide_type": "subslide"
    }
   },
   "source": [
    "## See how the constructor and destructor work"
   ]
  },
  {
   "cell_type": "code",
   "execution_count": 27,
   "metadata": {},
   "outputs": [
    {
     "name": "stdout",
     "output_type": "stream",
     "text": [
      "line: number of points = 3\r\n",
      "point 0: x = 0 y = 1\r\n",
      "point 1: x = 1 y = 3\r\n",
      "point 2: x = 2 y = 5\r\n",
      "line2: number of points = 3\r\n",
      "point 0: x = 9 y = 1\r\n",
      "point 1: x = 1 y = 3\r\n",
      "point 2: x = 2 y = 5\r\n"
     ]
    }
   ],
   "source": [
    "!g++ constructor.cpp --std=c++11 -o constructor\n",
    "!./constructor"
   ]
  },
  {
   "cell_type": "markdown",
   "metadata": {
    "slideshow": {
     "slide_type": "subslide"
    }
   },
   "source": [
    "## Copy and move assignment operators\n",
    "\n",
    "When copy and move constructors are available, we usually also define the companion assignment operators:\n",
    "\n",
    "```cpp\n",
    "Line & operator=(Line const & ); // copy assignment operator.\n",
    "Line & operator=(Line       &&); // move assignment operator.\n",
    "```\n",
    "\n",
    "They are called in the following occasions:\n",
    "\n",
    "```cpp\n",
    "Line line1, line2, line3;\n",
    "line2 = line1; // copy assignment.\n",
    "line3 = std::move(line2); // move assignment.\n",
    "```\n",
    "\n",
    "The assignment operators do things similar to constructors with one major difference.  The assignment operators usually check for self assignment, which should do nothing."
   ]
  },
  {
   "cell_type": "markdown",
   "metadata": {
    "slideshow": {
     "slide_type": "slide"
    }
   },
   "source": [
    "# Polymorphism\n",
    "\n",
    "In C++, when a class has any member function that is virtual, it is polymorphic.  C++ compiler knows the object is polymorphic, and uses the type information to find the associated member function in runtime."
   ]
  },
  {
   "cell_type": "markdown",
   "metadata": {
    "slideshow": {
     "slide_type": "slide"
    }
   },
   "source": [
    "To make the class `Line` polymorphic, we add an additional virtual function `length()`, and make the destructor virtual too.\n",
    "\n",
    "```cpp\n",
    "class Line\n",
    "{\n",
    "public:\n",
    "    Line() = default;\n",
    "    Line(Line const & );\n",
    "    Line(Line       &&);\n",
    "    Line & operator=(Line const & );\n",
    "    Line & operator=(Line       &&);\n",
    "    Line(size_t size) : m_size(size), m_coord(new float[size*2]) {}\n",
    "    virtual ~Line() { if (nullptr != m_coord) { delete[] m_coord; } }\n",
    "    virtual float length() const;\n",
    "    size_t size() const { return m_size; }\n",
    "    float & x(size_t it) const { check_range(it); return m_coord[it*2  ]; }\n",
    "    float & x(size_t it)       { check_range(it); return m_coord[it*2  ]; }\n",
    "    float & y(size_t it) const { check_range(it); return m_coord[it*2+1]; }\n",
    "    float & y(size_t it)       { check_range(it); return m_coord[it*2+1]; }\n",
    "private:\n",
    "    void check_range(size_t it) const\n",
    "    { if (it >= m_size) { throw std::out_of_range(\"Line index out of range\"); } }\n",
    "    size_t m_size = 0; // number of points.\n",
    "    float * m_coord = nullptr; // memory buffer for the points.\n",
    "}; /* end class Line */\n",
    "```\n",
    "\n",
    "Then derive the class `WeighedLine` from it and override the virtual functions:\n",
    "\n",
    "```cpp\n",
    "class WeighedLine : public Line\n",
    "{\n",
    "public:\n",
    "    WeighedLine(WeighedLine const & );\n",
    "    WeighedLine(WeighedLine       &&);\n",
    "    WeighedLine & operator=(WeighedLine const & );\n",
    "    WeighedLine & operator=(WeighedLine       &&);\n",
    "    WeighedLine(size_t size) : Line(size), m_weight(new float[size-1]) {}\n",
    "    virtual ~WeighedLine() override { delete[] m_weight; }\n",
    "    virtual float length() const override;\n",
    "    float const & weight(size_t it) const { return m_weight[it]; }\n",
    "    float       & weight(size_t it)       { return m_weight[it]; }\n",
    "private:\n",
    "    float * m_weight = nullptr; // weight on line segments.\n",
    "}; /* end class WeighedLine */\n",
    "```\n",
    "\n",
    "The complete example is in `polymorphic.cpp`.  To make the polymorphism work correctly, the derived class also needs to implement the copy and move constructors and assignment operators by taking the base class into account. \n",
    "\n",
    "With the example we will observe the following things:\n",
    "\n",
    "1. When the derived class needs addition data, the memory management becomes much more complex.\n",
    "2. A pointer to the base class can point to a derived object.  (Upcasting is fine.)\n",
    "3. A pointer to the derived class can NOT point to a base object.  (Downcasting is forbidden by default.)\n",
    "4. To downcast polymorphic objects, you need to use `dynamic_cast` to let RTTI (run-time type information) do the work.\n",
    "5. RTTI makes the object know the correct virtual function to call.  Although `line3` is declared as reference to the base class (`Line &`), `WeighedLine::length()` is called."
   ]
  },
  {
   "cell_type": "code",
   "execution_count": 28,
   "metadata": {},
   "outputs": [
    {
     "name": "stdout",
     "output_type": "stream",
     "text": [
      "sizeof(Line) = 24\r\n",
      "sizeof(WeighedLine) = 32\r\n",
      "downcasting from Line * to WeighedLine * works on a WeighedLine object: pwline3= 0x7fdad6502730\r\n",
      "downcasting from Line * to WeighedLine * fails on a Line object: pwline2 = 0x0\r\n",
      "Object type of pwline3: 11WeighedLine\r\n",
      "Object type of pline3: 11WeighedLine\r\n",
      "line: number of points = 3\r\n",
      "point 0: x = 0 y = 1\r\n",
      "point 1: x = 5 y = 1 weight = 1\r\n",
      "point 2: x = 5 y = 4 weight = 2\r\n",
      "  length = 11\r\n",
      "line2: number of points = 3\r\n",
      "point 0: x = 2 y = 1\r\n",
      "point 1: x = 5 y = 1\r\n",
      "point 2: x = 5 y = 4\r\n",
      "  length = 6\r\n",
      "line3: number of points = 3\r\n",
      "point 0: x = 3 y = 1\r\n",
      "point 1: x = 5 y = 1\r\n",
      "point 2: x = 5 y = 4\r\n",
      "  length = 8\r\n",
      "wline3: number of points = 3\r\n",
      "point 0: x = 3 y = 1\r\n",
      "point 1: x = 5 y = 1 weight = 1\r\n",
      "point 2: x = 5 y = 4 weight = 2\r\n",
      "  length = 8\r\n"
     ]
    }
   ],
   "source": [
    "!g++ polymorphic.cpp --std=c++11 -o polymorphic\n",
    "!./polymorphic"
   ]
  },
  {
   "cell_type": "markdown",
   "metadata": {
    "slideshow": {
     "slide_type": "subslide"
    }
   },
   "source": [
    "Polymorphism incurs runtime penalty.  It is OK in two scenarios:\n",
    "\n",
    "1. Runtime work is unavoidable.  We trust the compiler does a better job than writing branching code ourselves.\n",
    "2. Timing doesn't matter.  When the code isn't in the inner loop of computation, inefficiency may be negligible.\n",
    "\n",
    "As we see, to make polymorphism work, there is a lot of code to write.  Therefore in high-performance numerical code we use polymorphism with great caution."
   ]
  },
  {
   "cell_type": "markdown",
   "metadata": {
    "slideshow": {
     "slide_type": "slide"
    }
   },
   "source": [
    "# Curiously recursive template pattern (CRTP)\n",
    "\n",
    "If we want to make a class hierarchy polymorphic without the runtime overhead, CRTP helps.  Usually the word polymorphism means _dynamic_ polymorphism, as we described in the previous section.  If the classes behave as polymorphic but all the type information is determined during _compile_ time, it is called _static_ polymorphism.\n",
    "\n",
    "Static polymorphism has two major benefits (at the cost of being limited in compile time).  First is to not have runtime overhead.  The second is to avoid the memory overhead associated with virtual functions.  RTTI needs some information to determine types in runtime.  That is usually (if not always) accomplished by a virtual function table, which at least add one more word on _every_ polymorphic object.  For very small objects, like a resource handle, which usually occupies one or two words, it's a great overhead."
   ]
  },
  {
   "cell_type": "markdown",
   "metadata": {
    "slideshow": {
     "slide_type": "notes"
    }
   },
   "source": [
    "This is how a CRTP hierarchy looks like.  `PointBase` is our class template base.  `CartesianPoint` and `PolarPoint` pass themselves into the base class' template argument, so `PointBase` can see and access the derived classes' function to provide a common interface.\n",
    "\n",
    "```cpp\n",
    "template <class Derived>\n",
    "class PointBase\n",
    "{\n",
    "public:\n",
    "    constexpr static const double PI = 3.14159265358979323846;\n",
    "    PointBase(float v0, float v1) : m_v0(v0), m_v1(v1) {}\n",
    "    float const & v0() const { return m_v0; }\n",
    "    float       & v0()       { return m_v0; }\n",
    "    float const & v1() const { return m_v1; }\n",
    "    float       & v1()       { return m_v1; }\n",
    "    float dist() const\n",
    "    {\n",
    "        // Prevent the derived class from working if it doesn't define dist(),\n",
    "        // just like what a pure virtual function does.\n",
    "        static_assert(&PointBase<Derived>::dist != &Derived::dist,\n",
    "                      \"derived class must define dist()\");\n",
    "        return derived().dist();\n",
    "    }\n",
    "private:\n",
    "    Derived const & derived() const { return *static_cast<Derived const *>(this); }\n",
    "    float m_v0, m_v1;\n",
    "}; /* end class PointBase */\n",
    "\n",
    "class CartesianPoint : public PointBase<CartesianPoint>\n",
    "{\n",
    "public:\n",
    "    using base_type = PointBase<CartesianPoint>;\n",
    "    using base_type::base_type;\n",
    "    float dist() const\n",
    "    {\n",
    "        return std::hypot(v0(), v1());\n",
    "    }\n",
    "}; /* end class CartesianPoint */\n",
    "\n",
    "class PolarPoint : public PointBase<PolarPoint>\n",
    "{\n",
    "public:\n",
    "    using base_type = PointBase<PolarPoint>;\n",
    "    using base_type::base_type;\n",
    "    float dist() const\n",
    "    {\n",
    "        return std::abs(v0());\n",
    "    }\n",
    "}; /* end class PolarPoint */\n",
    "```"
   ]
  },
  {
   "cell_type": "code",
   "execution_count": 29,
   "metadata": {},
   "outputs": [
    {
     "name": "stdout",
     "output_type": "stream",
     "text": [
      "sizeof(CartesianPoint) = 8\r\n",
      "sizeof(PolarPoint) = 8\r\n",
      "CartesianPoint(1,1)::dist() = 1.41421\r\n",
      "PolarPoint(1, pi/4)::dist() = 1\r\n"
     ]
    }
   ],
   "source": [
    "!g++ crtp.cpp --std=c++11 -o crtp\n",
    "!./crtp"
   ]
  },
  {
   "cell_type": "markdown",
   "metadata": {
    "slideshow": {
     "slide_type": "slide"
    }
   },
   "source": [
    "# Standard template library (STL)\n",
    "\n",
    "Containers are essential to data processing.  The STL provides efficient implementation of commonly used containers.  They can be grouped in 3 categories:\n",
    "\n",
    "1. Sequence containers: `std::vector`, `std::array`, `std::list`, `std::forward_list`, `std::deque`.\n",
    "2. Associative containers: `std::map`, `std::set`, `std::multimap`, `std::multiset`.\n",
    "3. Unordered associated containers: `std::unordered_map`, `std::unordered_set`, `std::unordered_multimap`, `std::unordered_multiset`.\n",
    "\n",
    "We will make a quick recapitulation for those we always use in numerical code: `std::vector`, `std::array`, `std::list`, `std::map`, `std::set`, `std::unordered_map`, `std::unordered_set`."
   ]
  },
  {
   "cell_type": "markdown",
   "metadata": {
    "slideshow": {
     "slide_type": "slide"
    }
   },
   "source": [
    "# `std::vector`\n",
    "\n",
    "`std::vector` is one of the most useful STL containers.  Whenever thinking of using one-dimensional, variable-length arrays, we should consider whether or not `std::vector` may be applicable."
   ]
  },
  {
   "cell_type": "code",
   "execution_count": 30,
   "metadata": {},
   "outputs": [
    {
     "name": "stdout",
     "output_type": "stream",
     "text": [
      "sizeof(std::vector<int>) = 24\r\n",
      "sizeof(std::vector<double>) = 24\r\n",
      "sizeof(std::vector<std::vector<double>>) = 24\r\n",
      "vec1 indices [20-25):\r\n",
      "  1020\r\n",
      "  1021\r\n",
      "  1022\r\n",
      "  1023\r\n",
      "  1024\r\n",
      "out of range exception: vector\r\n",
      "vec1 modified:\r\n",
      "  1020\r\n",
      "  1021\r\n",
      "  500\r\n",
      "  600\r\n",
      "  1024\r\n",
      "&data.at(0) = 0x7fe186e00000\r\n",
      "&data.at(0) = 0x7fe186e001c0\r\n",
      "oops, address changes\r\n"
     ]
    }
   ],
   "source": [
    "!g++ vector.cpp -std=c++11 -o vector\n",
    "!./vector"
   ]
  },
  {
   "cell_type": "markdown",
   "metadata": {
    "slideshow": {
     "slide_type": "slide"
    }
   },
   "source": [
    "# `std::array`\n",
    "\n",
    "The class template `array` provides a type-safe alternate to C-style fixed-size arrays."
   ]
  },
  {
   "cell_type": "code",
   "execution_count": 31,
   "metadata": {},
   "outputs": [
    {
     "name": "stdout",
     "output_type": "stream",
     "text": [
      "sizeof(std::array<int, 3>) = 12\r\n",
      "sizeof(std::array<int, 10>) = 40\r\n",
      "arr1:\r\n",
      "  100\r\n",
      "  101\r\n",
      "  102\r\n"
     ]
    }
   ],
   "source": [
    "!g++ array.cpp -std=c++11 -o array\n",
    "!./array"
   ]
  },
  {
   "cell_type": "markdown",
   "metadata": {
    "slideshow": {
     "slide_type": "slide"
    }
   },
   "source": [
    "# `std::list`\n",
    "\n",
    "STL `list` supports constant time insertion and deletion of elements.  Unlike `vector`, iterators and references to an element in a `list` don't get invalidated by adding or removing other elements.  The price to pay, however, is the slow random access.\n",
    "\n",
    "`std::list` is usually implemented as a doubly-linked list."
   ]
  },
  {
   "cell_type": "code",
   "execution_count": 32,
   "metadata": {},
   "outputs": [
    {
     "name": "stdout",
     "output_type": "stream",
     "text": [
      "lst1: 100 101 102\r\n",
      "lst2: 202 201 200\r\n",
      "lst2 (modified): 202 301 200\r\n",
      "lst1 (after splice): 100\r\n",
      "lst2 (after splice): 202 301 101 102 200\r\n"
     ]
    }
   ],
   "source": [
    "!g++ list.cpp -std=c++11 -o list\n",
    "!./list"
   ]
  },
  {
   "cell_type": "markdown",
   "metadata": {
    "slideshow": {
     "slide_type": "slide"
    }
   },
   "source": [
    "# `std::map` and `std::set`\n",
    "\n",
    "STL `map` is an ordered container for key-value pairs.  The keys are unique and don't allow duplication.  `map` is usually implemented as a red-black tree.\n",
    "\n",
    "STL `set` is a unique key container.  Like `map`, it's usually implemented as a red-black tree."
   ]
  },
  {
   "cell_type": "code",
   "execution_count": 33,
   "metadata": {},
   "outputs": [
    {
     "name": "stdout",
     "output_type": "stream",
     "text": [
      "map1: (1,1) (2,0.5) (3,0.333333) (4,0.25) (5,0.2)\r\n",
      "map1 has key 3\r\n",
      "map1 does not have key 6\r\n",
      "set1: 1 2 3 4 5\r\n",
      "set1 has key 3\r\n",
      "set1 does not have key 6\r\n"
     ]
    }
   ],
   "source": [
    "!g++ map.cpp -std=c++11 -o map\n",
    "!./map"
   ]
  },
  {
   "cell_type": "markdown",
   "metadata": {
    "slideshow": {
     "slide_type": "slide"
    }
   },
   "source": [
    "# `std::unordered_map` and `std::unordered_set`\n",
    "\n",
    "STL `unordered_map` is also a container for key-value pairs.  While the keys are unique and don't allow duplication, they do not have order.  `unordered_map` is usually implemented using hash table.\n",
    "\n",
    "Search, insertion, and removal of elements in an `unordered_map` have constant time complexity.  On the other hand, those in a `map` have logarithmic time complexity.  While `unordered_map` usually offers faster runtime than `map`, it tends to use more memory since red-black trees is very efficient in memory usage.\n",
    "\n",
    "Like `set` is a valueless version of `map`, `unordered_map` also has a valueless version called `unordered_set`.  STL `unordered_set`, like `unordered_map`, is usually implemented using hash table."
   ]
  },
  {
   "cell_type": "code",
   "execution_count": 34,
   "metadata": {},
   "outputs": [
    {
     "name": "stdout",
     "output_type": "stream",
     "text": [
      "map1: (1,1) (2,0.5) (3,0.333333) (4,0.25) (5,0.2)\r\n",
      "map1 has key 3\r\n",
      "map1 does not have key 6\r\n",
      "set1: 1 2 3 4 5\r\n",
      "set1 has key 3\r\n",
      "set1 does not have key 6\r\n"
     ]
    }
   ],
   "source": [
    "!g++ unordered_map.cpp -std=c++11 -o unordered_map\n",
    "!./unordered_map"
   ]
  },
  {
   "cell_type": "markdown",
   "metadata": {
    "slideshow": {
     "slide_type": "slide"
    }
   },
   "source": [
    "# Exercises\n",
    "\n",
    "1. In `array.cpp`, what may happen if you write the following code?\n",
    "```cpp\n",
    "data[-1] = 0;\n",
    "```\n",
    "2. Given 2 single-precision floating-point values, 0.3 and -0.3.  Reinterpret (not integer to floating-point casting) their data (bits) as 32-bit unsigned integers.  What is the integer value after performing XOR of the two integers?  Change the floating-point values to 183.2 and -183.2.  What is the value after XOR again?\n",
    "3. What are the member data (including types) in the `std::vector` implementation in the STL in the compiler you use?\n",
    "4. Reimplement the class `Line` by using STL containers instead of raw pointers (do not copy-n-paste the following code listing):\n",
    "\n",
    "```cpp\n",
    "class Line\n",
    "{\n",
    "public:\n",
    "    Line();\n",
    "    Line(Line const & );\n",
    "    Line(Line       &&);\n",
    "    Line & operator=(Line const & );\n",
    "    Line & operator=(Line       &&);\n",
    "    Line(size_t size);\n",
    "    ~Line();\n",
    "    size_t size() const;\n",
    "    float & x(size_t it) const;\n",
    "    float & x(size_t it);\n",
    "    float & y(size_t it) const;\n",
    "    float & y(size_t it);\n",
    "private:\n",
    "    // Member data.\n",
    "}; /* end class Line */\n",
    "int main(int, char **)\n",
    "{\n",
    "    Line line(3);\n",
    "    line.x(0) = 0; line.y(0) = 1;\n",
    "    line.x(1) = 1; line.y(1) = 3;\n",
    "    line.x(2) = 2; line.y(2) = 5;\n",
    "\n",
    "    Line line2(line);\n",
    "    line2.x(0) = 9;\n",
    "\n",
    "    std::cout << \"line: number of points = \" << line.size() << std::endl;\n",
    "    for (size_t it=0; it<line.size(); ++it)\n",
    "    {\n",
    "        std::cout << \"point \" << it << \":\"\n",
    "                  << \" x = \" << line.x(it)\n",
    "                  << \" y = \" << line.y(it) << std::endl;\n",
    "    }\n",
    "\n",
    "    std::cout << \"line2: number of points = \" << line.size() << std::endl;\n",
    "    for (size_t it=0; it<line.size(); ++it)\n",
    "    {\n",
    "        std::cout << \"point \" << it << \":\"\n",
    "                  << \" x = \" << line2.x(it)\n",
    "                  << \" y = \" << line2.y(it) << std::endl;\n",
    "    }\n",
    "\n",
    "    return 0;\n",
    "}\n",
    "```"
   ]
  }
 ],
 "metadata": {
  "kernelspec": {
   "display_name": "Python 3",
   "language": "python",
   "name": "python3"
  },
  "language_info": {
   "codemirror_mode": {
    "name": "ipython",
    "version": 3
   },
   "file_extension": ".py",
   "mimetype": "text/x-python",
   "name": "python",
   "nbconvert_exporter": "python",
   "pygments_lexer": "ipython3",
   "version": "3.7.4+"
  }
 },
 "nbformat": 4,
 "nbformat_minor": 2
}
