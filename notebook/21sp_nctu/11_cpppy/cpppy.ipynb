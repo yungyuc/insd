{
 "cells": [
  {
   "cell_type": "code",
   "execution_count": 1,
   "metadata": {},
   "outputs": [
    {
     "data": {
      "application/javascript": [
       "\n",
       "    require(['notebook/js/codecell'], function(cc) {\n",
       "        cc.CodeCell.options_default.highlight_modes['magic_text/x-c++src'] =\n",
       "            {reg: [/^\\s*%%pybind11/]};\n",
       "    });\n",
       "    "
      ]
     },
     "metadata": {},
     "output_type": "display_data"
    },
    {
     "data": {
      "text/html": [
       "\n",
       "    <style>\n",
       "    .cm-s-ipython span.cm-variable-3 {\n",
       "        color: #208ffb;\n",
       "        font-weight: bold;\n",
       "    }\n",
       "    </style>\n",
       "    "
      ]
     },
     "metadata": {},
     "output_type": "display_data"
    }
   ],
   "source": [
    "%load_ext ipybind\n",
    "%matplotlib inline\n",
    "\n",
    "import numpy as np\n",
    "from matplotlib import pyplot as plt\n",
    "from matplotlib import animation, rc\n",
    "from IPython.display import HTML\n",
    "\n",
    "import sys\n",
    "import os"
   ]
  },
  {
   "cell_type": "code",
   "execution_count": 2,
   "metadata": {},
   "outputs": [
    {
     "name": "stdout",
     "output_type": "stream",
     "text": [
      "mkdir -p build/dev37 ; \\\n",
      "\tcd build/dev37 ; \\\n",
      "\tcmake /Users/yungyuc/hack/code/nsd/notebook/20au_nctu/11_cpppy/spacetime \\\n",
      "\t\t-DCMAKE_INSTALL_PREFIX=/Users/yungyuc/hack/code/nsd/notebook/20au_nctu/11_cpppy/spacetime \\\n",
      "\t\t-DCMAKE_BUILD_TYPE=Release \\\n",
      "\t\t-DHIDE_SYMBOL=OFF \\\n",
      "\t\t-DDEBUG_SYMBOL=ON \\\n",
      "\t\t-DUSE_CLANG_TIDY=OFF \\\n",
      "\t\t-DLINT_AS_ERRORS=ON \\\n",
      "\t\t\n",
      "-- The C compiler identification is AppleClang 11.0.0.11000033\n",
      "-- The CXX compiler identification is AppleClang 11.0.0.11000033\n",
      "-- Detecting C compiler ABI info\n",
      "-- Detecting C compiler ABI info - done\n",
      "-- Check for working C compiler: /Library/Developer/CommandLineTools/usr/bin/cc - skipped\n",
      "-- Detecting C compile features\n",
      "-- Detecting C compile features - done\n",
      "-- Detecting CXX compiler ABI info\n",
      "-- Detecting CXX compiler ABI info - done\n",
      "-- Check for working CXX compiler: /Library/Developer/CommandLineTools/usr/bin/c++ - skipped\n",
      "-- Detecting CXX compile features\n",
      "-- Detecting CXX compile features - done\n",
      "-- use PYTHON_EXECUTABLE=/Users/yungyuc/hack/usr/opt37_190418/bin/python3\n",
      "-- BUILD_GTESTS: ON\n",
      "-- HIDE_SYMBOL: OFF\n",
      "-- DEBUG_SYMBOL: ON\n",
      "-- not use clang-tidy\n",
      "-- Found PythonInterp: /Users/yungyuc/hack/usr/opt37_190418/bin/python3 (found version \"3.7.4\") \n",
      "-- Found PythonLibs: /Users/yungyuc/hack/usr/opt37_190418/lib/libpython3.7m.dylib\n",
      "-- Performing Test HAS_FLTO\n",
      "-- Performing Test HAS_FLTO - Success\n",
      "-- Performing Test HAS_FLTO_THIN\n",
      "-- Performing Test HAS_FLTO_THIN - Success\n",
      "-- Found pybind11: /Users/yungyuc/hack/usr/opt37_190418/include (found version \"2.6.2\" dev1)\n",
      "-- pybind11_INCLUDE_DIRS: /Users/yungyuc/hack/usr/opt37_190418/include;/Users/yungyuc/hack/usr/opt37_190418/include/python3.7m\n",
      "-- Found NumPy: /Users/yungyuc/hack/usr/opt37_190418/lib/python3.7/site-packages/numpy/core/include (found version \"1.17.0.dev0+3c3ba10\") \n",
      "-- NUMPY_INCLUDE_DIR: /Users/yungyuc/hack/usr/opt37_190418/lib/python3.7/site-packages/numpy/core/include\n",
      "-- xtl_INCLUDE_DIR: not found\n",
      "-- xsimd_INCLUDE_DIR: not found\n",
      "-- xtensor_INCLUDE_DIR: not found\n",
      "-- xtensor-python_INCLUDE_DIR: not found\n",
      "-- Configuring done\n",
      "-- Generating done\n",
      "-- Build files have been written to: /Users/yungyuc/hack/code/nsd/notebook/20au_nctu/11_cpppy/spacetime/build/dev37/gtests/googletest-download\n",
      "Scanning dependencies of target googletest\n",
      "[ 11%] Creating directories for 'googletest'\n",
      "[ 22%] Performing download step (download, verify and extract) for 'googletest'\n",
      "-- Downloading...\n",
      "   dst='/Users/yungyuc/hack/code/nsd/notebook/20au_nctu/11_cpppy/spacetime/build/dev37/gtests/googletest-download/googletest-prefix/src/release-1.8.1.tar.gz'\n",
      "   timeout='none'\n",
      "-- Using src='https://github.com/google/googletest/archive/release-1.8.1.tar.gz'\n",
      "* Closing connection 0\n",
      "* Closing connection 1\n",
      "-- Downloading... done\n",
      "-- extracting...\n",
      "     src='/Users/yungyuc/hack/code/nsd/notebook/20au_nctu/11_cpppy/spacetime/build/dev37/gtests/googletest-download/googletest-prefix/src/release-1.8.1.tar.gz'\n",
      "     dst='/Users/yungyuc/hack/code/nsd/notebook/20au_nctu/11_cpppy/spacetime/build/dev37/gtests/googletest-src'\n",
      "-- extracting... [tar xfz]\n",
      "-- extracting... [analysis]\n",
      "-- extracting... [rename]\n",
      "-- extracting... [clean up]\n",
      "-- extracting... done\n",
      "[ 33%] No update step for 'googletest'\n",
      "[ 44%] No patch step for 'googletest'\n",
      "[ 55%] No configure step for 'googletest'\n",
      "[ 66%] No build step for 'googletest'\n",
      "[ 77%] No install step for 'googletest'\n",
      "[ 88%] No test step for 'googletest'\n",
      "[100%] Completed 'googletest'\n",
      "[100%] Built target googletest\n",
      "-- Looking for pthread.h\n",
      "-- Looking for pthread.h - found\n",
      "-- Performing Test CMAKE_HAVE_LIBC_PTHREAD\n",
      "-- Performing Test CMAKE_HAVE_LIBC_PTHREAD - Success\n",
      "-- Found Threads: TRUE  \n",
      "-- Configuring done\n",
      "-- Generating done\n",
      "-- Build files have been written to: /Users/yungyuc/hack/code/nsd/notebook/20au_nctu/11_cpppy/spacetime/build/dev37\n",
      "make -C build/dev37 VERBOSE= _libst\n",
      "Dependee \"/Users/yungyuc/hack/code/nsd/notebook/20au_nctu/11_cpppy/spacetime/build/dev37/CMakeFiles/_libst.dir/DependInfo.cmake\" is newer than depender \"/Users/yungyuc/hack/code/nsd/notebook/20au_nctu/11_cpppy/spacetime/build/dev37/CMakeFiles/_libst.dir/depend.internal\".\n",
      "Dependee \"/Users/yungyuc/hack/code/nsd/notebook/20au_nctu/11_cpppy/spacetime/build/dev37/CMakeFiles/CMakeDirectoryInformation.cmake\" is newer than depender \"/Users/yungyuc/hack/code/nsd/notebook/20au_nctu/11_cpppy/spacetime/build/dev37/CMakeFiles/_libst.dir/depend.internal\".\n",
      "\u001b[35m\u001b[1mScanning dependencies of target _libst\u001b[0m\n",
      "[ 50%] \u001b[32mBuilding CXX object CMakeFiles/_libst.dir/src/python/libst.cpp.o\u001b[0m\n",
      "[100%] \u001b[32m\u001b[1mLinking CXX shared module _libst.cpython-37m-darwin.so\u001b[0m\n",
      "[100%] Built target _libst\n",
      "touch build/dev37/_libst.cpython-37m-darwin.so\n",
      "make -C build/dev37 VERBOSE= _libst_py\n",
      "[100%] Built target _libst\n",
      "Dependee \"/Users/yungyuc/hack/code/nsd/notebook/20au_nctu/11_cpppy/spacetime/build/dev37/CMakeFiles/_libst_py.dir/DependInfo.cmake\" is newer than depender \"/Users/yungyuc/hack/code/nsd/notebook/20au_nctu/11_cpppy/spacetime/build/dev37/CMakeFiles/_libst_py.dir/depend.internal\".\n",
      "Dependee \"/Users/yungyuc/hack/code/nsd/notebook/20au_nctu/11_cpppy/spacetime/build/dev37/CMakeFiles/CMakeDirectoryInformation.cmake\" is newer than depender \"/Users/yungyuc/hack/code/nsd/notebook/20au_nctu/11_cpppy/spacetime/build/dev37/CMakeFiles/_libst_py.dir/depend.internal\".\n",
      "\u001b[35m\u001b[1mScanning dependencies of target _libst_py\u001b[0m\n",
      "[100%] Built target _libst_py\n",
      "touch /Users/yungyuc/hack/code/nsd/notebook/20au_nctu/11_cpppy/spacetime/libst/_libst.cpython-37m-darwin.so\n"
     ]
    }
   ],
   "source": [
    "!rm -rf spacetime/build\n",
    "!make -C spacetime"
   ]
  },
  {
   "cell_type": "code",
   "execution_count": 3,
   "metadata": {},
   "outputs": [],
   "source": [
    "libst_path = os.path.abspath('spacetime')\n",
    "if libst_path not in sys.path:\n",
    "    sys.path.insert(0, libst_path)\n",
    "\n",
    "import libst"
   ]
  },
  {
   "cell_type": "markdown",
   "metadata": {},
   "source": [
    "# C++ and C for Python\n",
    "\n",
    "1. Expectation from Python\n",
    "   1. Linear wave\n",
    "   2. The inviscid Burgers equation\n",
    "2. Pybind11 build system\n",
    "   1. Setuptools\n",
    "   2. Cmake with a sub-directory\n",
    "   3. Cmake with install pybind11\n",
    "3. Additional wrapping layer for customization\n",
    "4. Wrapping API\n",
    "   1. Functions and property\n",
    "   2. Named ane keyword arguments\n",
    "   3. What happens in Python stays in Python (or pybind11)\n",
    "5. Manipulate Python objects in C++\n",
    "6. Python containers\n",
    "   1. `tuple`\n",
    "   2. `list`\n",
    "   3. `dict`\n",
    "7. Use cpython API with pybind11\n",
    "   1. `PyObject` reference counting\n",
    "8. Built-in types\n",
    "   1. Cached value\n",
    "   2. Attribute access\n",
    "   3. Function call\n",
    "   4. Tuple\n",
    "   5. Dictionary\n",
    "   6. List\n",
    "9. Useful operations\n",
    "    1. Import\n",
    "    2. Exception\n",
    "10. Python memory management\n",
    "    1. PyMem interface\n",
    "    2. Small memory optimization\n",
    "    3. Tracemalloc"
   ]
  },
  {
   "cell_type": "markdown",
   "metadata": {},
   "source": [
    "# Expectation from Python"
   ]
  },
  {
   "cell_type": "markdown",
   "metadata": {},
   "source": [
    "## Linear wave\n",
    "\n",
    "The governing equation is\n",
    "\n",
    "\\begin{align*}\n",
    "\\frac{\\partial u}{\\partial t} + \\frac{\\partial u}{\\partial x} = 0\n",
    "\\end{align*}\n",
    "\n",
    "We will see a propagating wave from left to right with phase velocity of unity."
   ]
  },
  {
   "cell_type": "code",
   "execution_count": 4,
   "metadata": {},
   "outputs": [
    {
     "data": {
      "text/plain": [
       "<matplotlib.legend.Legend at 0x1110ee9d0>"
      ]
     },
     "execution_count": 4,
     "metadata": {},
     "output_type": "execute_result"
    },
    {
     "data": {
      "image/png": "[encoded data removed]",
      "text/plain": [
       "<Figure size 1080x720 with 1 Axes>"
      ]
     },
     "metadata": {
      "needs_background": "light"
     },
     "output_type": "display_data"
    }
   ],
   "source": [
    "grid = libst.Grid(0, 4*2*np.pi, 4*64)\n",
    "cfl = 1\n",
    "dx = (grid.xmax - grid.xmin) / grid.ncelm\n",
    "dt = dx * cfl\n",
    "svr = libst.LinearScalarSolver(grid=grid, time_increment=dt)\n",
    "\n",
    "# Initialize\n",
    "for e in svr.selms(odd_plane=False):\n",
    "    if e.xctr < 2*np.pi or e.xctr > 2*2*np.pi:\n",
    "        v = 0\n",
    "        dv = 0\n",
    "    else:\n",
    "        v = np.sin(e.xctr)\n",
    "        dv = np.cos(e.xctr)\n",
    "    e.set_so0(0, v)\n",
    "    e.set_so1(0, dv)\n",
    "\n",
    "plt.figure(figsize=(15,10))\n",
    "plt.xlim((0, 8))\n",
    "plt.xlabel('$x$ $(\\pi)$')\n",
    "plt.ylabel('$u$')\n",
    "plt.grid()\n",
    "plt.plot(svr.xctr() / np.pi, svr.get_so0(0), '-', label='begin')\n",
    "\n",
    "svr.setup_march()\n",
    "svr.march_alpha2(50)\n",
    "plt.plot(svr.xctr() / np.pi, svr.get_so0(0), '-', label='end')\n",
    "\n",
    "plt.legend()"
   ]
  },
  {
   "cell_type": "markdown",
   "metadata": {},
   "source": [
    "See a movie:"
   ]
  },
  {
   "cell_type": "code",
   "execution_count": 5,
   "metadata": {},
   "outputs": [],
   "source": [
    "grid = libst.Grid(0, 4*2*np.pi, 4*64)\n",
    "cfl = 1\n",
    "dx = (grid.xmax - grid.xmin) / grid.ncelm\n",
    "dt = dx * cfl\n",
    "svr = libst.LinearScalarSolver(grid=grid, time_increment=dt)\n",
    "\n",
    "# Initialize\n",
    "for e in svr.selms(odd_plane=False):\n",
    "    if e.xctr < 2*np.pi or e.xctr > 2*2*np.pi:\n",
    "        v = 0\n",
    "        dv = 0\n",
    "    else:\n",
    "        v = np.sin(e.xctr)\n",
    "        dv = np.cos(e.xctr)\n",
    "    e.set_so0(0, v)\n",
    "    e.set_so1(0, dv)\n",
    "\n",
    "def animate(nsteps, ninterval):\n",
    "    fig, ax = plt.subplots(figsize=(15,10))\n",
    "\n",
    "    ax.set_xlim((svr.selm(0).x/np.pi, svr.selm(svr.grid.ncelm).x/np.pi))\n",
    "    ax.set_ylim((-1.2, 1.2))\n",
    "    ax.set_xlabel('$x$ $(\\pi)$')\n",
    "    ax.set_ylabel('$u$')\n",
    "    ax.grid()\n",
    "\n",
    "    line, = ax.plot([], [], \"-\")\n",
    "\n",
    "    def init():\n",
    "        svr.setup_march()\n",
    "        line.set_data(svr.xctr()/np.pi, svr.get_so0(0))\n",
    "        return (line,)\n",
    "\n",
    "    def animate(i):\n",
    "        if i != 0:\n",
    "            svr.march_alpha2(ninterval)\n",
    "        line.set_data(svr.xctr()/np.pi, svr.get_so0(0))\n",
    "        return (line,)\n",
    "\n",
    "    anim = animation.FuncAnimation(fig, animate, init_func=init,\n",
    "                                   frames=nsteps+1, interval=100,\n",
    "                                   blit=True)\n",
    "    return HTML(anim.to_jshtml())\n",
    "            \n",
    "#animate(100, 10) # Don't check in the animation to git, since it's big."
   ]
  },
  {
   "cell_type": "markdown",
   "metadata": {},
   "source": [
    "## The inviscid Burgers equation\n",
    "\n",
    "The second example is a non-linear equation:\n",
    "\n",
    "\\begin{align*}\n",
    "\\frac{\\partial u}{\\partial t} + u \\frac{\\partial u}{\\partial x} = 0\n",
    "\\end{align*}\n",
    "\n",
    "The wave propagates in a way that is not predictable."
   ]
  },
  {
   "cell_type": "code",
   "execution_count": 6,
   "metadata": {},
   "outputs": [
    {
     "data": {
      "text/plain": [
       "<matplotlib.legend.Legend at 0x111171dd0>"
      ]
     },
     "execution_count": 6,
     "metadata": {},
     "output_type": "execute_result"
    },
    {
     "data": {
      "image/png": "[encoded data removed]",
      "text/plain": [
       "<Figure size 1080x720 with 1 Axes>"
      ]
     },
     "metadata": {
      "needs_background": "light"
     },
     "output_type": "display_data"
    }
   ],
   "source": [
    "res = 32\n",
    "xcrd = np.arange(res+1) / res * 2 * np.pi\n",
    "\n",
    "time_stop = 2*np.pi\n",
    "\n",
    "grid = libst.Grid(xcrd)\n",
    "cfl_max = 1.0\n",
    "dx = (grid.xmax - grid.xmin) / grid.ncelm\n",
    "dt_max = dx * cfl_max\n",
    "nstep = int(np.ceil(time_stop / dt_max))\n",
    "dt = time_stop / nstep\n",
    "cfl = dt / dx\n",
    "\n",
    "svr = libst.InviscidBurgersSolver(grid=grid, time_increment=dt)\n",
    "\n",
    "# Initialize\n",
    "svr.set_so0(0, np.sin(svr.xctr()))\n",
    "svr.set_so1(0, np.cos(svr.xctr()))\n",
    "\n",
    "plt.figure(figsize=(15,10))\n",
    "plt.xlim((0, 2))\n",
    "plt.xlabel('$x$ $(\\pi)$')\n",
    "plt.ylabel('$u$')\n",
    "plt.grid()\n",
    "plt.plot(svr.xctr() / np.pi, svr.get_so0(0), '-', label='begin')\n",
    "\n",
    "svr.setup_march()\n",
    "svr.march_alpha2(50)\n",
    "plt.plot(svr.xctr() / np.pi, svr.get_so0(0), '-', label='end')\n",
    "\n",
    "plt.legend()"
   ]
  },
  {
   "cell_type": "code",
   "execution_count": 7,
   "metadata": {},
   "outputs": [],
   "source": [
    "res = 32\n",
    "xcrd = np.arange(res+1) / res * 2 * np.pi\n",
    "\n",
    "time_stop = 2*np.pi\n",
    "\n",
    "grid = libst.Grid(xcrd)\n",
    "cfl_max = 1.0\n",
    "dx = (grid.xmax - grid.xmin) / grid.ncelm\n",
    "dt_max = dx * cfl_max\n",
    "nstep = int(np.ceil(time_stop / dt_max))\n",
    "dt = time_stop / nstep\n",
    "cfl = dt / dx\n",
    "\n",
    "svr = libst.InviscidBurgersSolver(grid=grid, time_increment=dt)\n",
    "\n",
    "# Initialize\n",
    "svr.set_so0(0, np.sin(svr.xctr()))\n",
    "svr.set_so1(0, np.cos(svr.xctr()))\n",
    "\n",
    "def animate(nsteps):\n",
    "    fig, ax = plt.subplots(figsize=(15,10))\n",
    "\n",
    "    ax.set_xlim((svr.selm(0).x/np.pi, svr.selm(svr.grid.ncelm).x/np.pi))\n",
    "    ax.set_ylim((-1.2, 1.2))\n",
    "    ax.set_xlabel('$x$ $(\\pi)$')\n",
    "    ax.set_ylabel('$u$')\n",
    "    ax.grid()\n",
    "\n",
    "    line, = ax.plot([], [], \"+-\")\n",
    "\n",
    "    def init():\n",
    "        svr.setup_march()\n",
    "        line.set_data(svr.xctr()/np.pi, svr.get_so0(0))\n",
    "        return (line,)\n",
    "\n",
    "    def animate(i):\n",
    "        if i != 0:\n",
    "            svr.march_alpha2(1)\n",
    "        line.set_data(svr.xctr()/np.pi, svr.get_so0(0))\n",
    "        return (line,)\n",
    "\n",
    "    anim = animation.FuncAnimation(fig, animate, init_func=init,\n",
    "                                   frames=nsteps+1, interval=100,\n",
    "                                   blit=True)\n",
    "    return HTML(anim.to_jshtml())\n",
    "            \n",
    "#animate(50) # Don't check in the animation to git, since it's big."
   ]
  },
  {
   "cell_type": "markdown",
   "metadata": {},
   "source": [
    "# Pybind11 build system\n",
    "\n",
    "[Pybind11](https://pybind11.readthedocs.io/) is a header-only C++ template library, that allows calling CPython API and provides C++ friendly semantics to allow Python to call C++ constructs and vise versa.\n",
    "\n",
    "Pybind11 is a header-only library, so it doesn't have anything to be built.  When we say 'building' pybind11, we mean to build the project that uses pybind11.\n",
    "\n",
    "To build pybind11, we need CPython.  It optionally depends on numpy and eigen.  There are several suggested ways to build.  Here list those I think important:"
   ]
  },
  {
   "cell_type": "markdown",
   "metadata": {},
   "source": [
    "## [Setuptools](https://setuptools.readthedocs.io/en/latest/)\n",
    "\n",
    "[Setuptools](https://setuptools.readthedocs.io/en/latest/) is an enhancement to Python built-in [distutils](https://docs.python.org/3/library/distutils.html).  Because pybind11 is released to [PyPI](https://pypi.org) as a Python package (https://pypi.org/project/pybind11/), both setuptools and distutils can get the header files and use them to build C++ file that use pybind11.\n",
    "\n",
    "There is an example for using setuptools to build pybind11 (https://github.com/pybind/python_example/blob/master/setup.py):\n",
    "\n",
    "```python\n",
    "from setuptools import setup, Extension\n",
    "from setuptools.command.build_ext import build_ext\n",
    "import sys\n",
    "import setuptools\n",
    "\n",
    "__version__ = '0.0.1'\n",
    "\n",
    "\n",
    "class get_pybind_include(object):\n",
    "    \"\"\"Helper class to determine the pybind11 include path\n",
    "    The purpose of this class is to postpone importing pybind11\n",
    "    until it is actually installed, so that the ``get_include()``\n",
    "    method can be invoked. \"\"\"\n",
    "\n",
    "    def __init__(self, user=False):\n",
    "        self.user = user\n",
    "\n",
    "    def __str__(self):\n",
    "        import pybind11\n",
    "        return pybind11.get_include(self.user)\n",
    "\n",
    "\n",
    "ext_modules = [\n",
    "    Extension(\n",
    "        'python_example',\n",
    "        ['src/main.cpp'],\n",
    "        include_dirs=[\n",
    "            # Path to pybind11 headers\n",
    "            get_pybind_include(),\n",
    "            get_pybind_include(user=True)\n",
    "        ],\n",
    "        language='c++'\n",
    "    ),\n",
    "]\n",
    "\n",
    "\n",
    "# As of Python 3.6, CCompiler has a `has_flag` method.\n",
    "# cf http://bugs.python.org/issue26689\n",
    "def has_flag(compiler, flagname):\n",
    "    \"\"\"Return a boolean indicating whether a flag name is supported on\n",
    "    the specified compiler.\n",
    "    \"\"\"\n",
    "    import tempfile\n",
    "    with tempfile.NamedTemporaryFile('w', suffix='.cpp') as f:\n",
    "        f.write('int main (int argc, char **argv) { return 0; }')\n",
    "        try:\n",
    "            compiler.compile([f.name], extra_postargs=[flagname])\n",
    "        except setuptools.distutils.errors.CompileError:\n",
    "            return False\n",
    "    return True\n",
    "\n",
    "\n",
    "def cpp_flag(compiler):\n",
    "    \"\"\"Return the -std=c++[11/14/17] compiler flag.\n",
    "    The newer version is prefered over c++11 (when it is available).\n",
    "    \"\"\"\n",
    "    flags = ['-std=c++17', '-std=c++14', '-std=c++11']\n",
    "\n",
    "    for flag in flags:\n",
    "        if has_flag(compiler, flag): return flag\n",
    "\n",
    "    raise RuntimeError('Unsupported compiler -- at least C++11 support '\n",
    "                       'is needed!')\n",
    "\n",
    "\n",
    "class BuildExt(build_ext):\n",
    "    \"\"\"A custom build extension for adding compiler-specific options.\"\"\"\n",
    "    c_opts = {\n",
    "        'msvc': ['/EHsc'],\n",
    "        'unix': [],\n",
    "    }\n",
    "    l_opts = {\n",
    "        'msvc': [],\n",
    "        'unix': [],\n",
    "    }\n",
    "\n",
    "    if sys.platform == 'darwin':\n",
    "        darwin_opts = ['-stdlib=libc++', '-mmacosx-version-min=10.7']\n",
    "        c_opts['unix'] += darwin_opts\n",
    "        l_opts['unix'] += darwin_opts\n",
    "\n",
    "    def build_extensions(self):\n",
    "        ct = self.compiler.compiler_type\n",
    "        opts = self.c_opts.get(ct, [])\n",
    "        link_opts = self.l_opts.get(ct, [])\n",
    "        if ct == 'unix':\n",
    "            opts.append('-DVERSION_INFO=\"%s\"' % self.distribution.get_version())\n",
    "            opts.append(cpp_flag(self.compiler))\n",
    "            if has_flag(self.compiler, '-fvisibility=hidden'):\n",
    "                opts.append('-fvisibility=hidden')\n",
    "        elif ct == 'msvc':\n",
    "            opts.append('/DVERSION_INFO=\\\\\"%s\\\\\"' % self.distribution.get_version())\n",
    "        for ext in self.extensions:\n",
    "            ext.extra_compile_args = opts\n",
    "            ext.extra_link_args = link_opts\n",
    "        build_ext.build_extensions(self)\n",
    "\n",
    "setup(\n",
    "    name='python_example',\n",
    "    version=__version__,\n",
    "    author='Sylvain Corlay',\n",
    "    author_email='sylvain.corlay@gmail.com',\n",
    "    url='https://github.com/pybind/python_example',\n",
    "    description='A test project using pybind11',\n",
    "    long_description='',\n",
    "    ext_modules=ext_modules,\n",
    "    install_requires=['pybind11>=2.4'],\n",
    "    setup_requires=['pybind11>=2.4'],\n",
    "    cmdclass={'build_ext': BuildExt},\n",
    "    zip_safe=False,\n",
    ")```"
   ]
  },
  {
   "cell_type": "markdown",
   "metadata": {},
   "source": [
    "## Cmake with a sub-directory\n",
    "\n",
    "When the source tree is put in a sub-directory in your project, as mentioned in the [document](https://pybind11.readthedocs.io/en/stable/compiling.html#building-with-cmake), you can use cmake `add_subdirectory` to include the pybind11:\n",
    "\n",
    "```cmake\n",
    "cmake_minimum_required(VERSION 2.8.12)\n",
    "project(example)\n",
    "\n",
    "add_subdirectory(pybind11)\n",
    "pybind11_add_module(example example.cpp)\n",
    "```\n",
    "\n",
    "Pybind11 provides the cmake command `pybind11_add_module`.  It set various flags to build your C++ code as an extension module."
   ]
  },
  {
   "cell_type": "markdown",
   "metadata": {},
   "source": [
    "## Cmake with installed pybind11\n",
    "\n",
    "If pybind11 is installed using cmake itself, the `*.cmake` files that pybind11 supplies are installed to the specified location.  It's not needed to write `add_subdirectory` in the `CMakeLists.txt` in your project."
   ]
  },
  {
   "cell_type": "markdown",
   "metadata": {},
   "source": [
    "# Additional wrapping layer for customization\n",
    "\n",
    "Wrapper needs to take care of the differences between the dynamic behaviors in Python and the staticity in C++.  You can directly call pybind11 API.  But a better way is to create another wrapping layer between the pybind11 and your library code.  It allows us to insert additional code in a systematic way.  Since it is difficult to see the point in a small example, I pull the code for [a bigger project 'turgon'](https://github.com/yungyuc/turgon) for demonstration.\n",
    "\n",
    "Here is one way to implement the additional wrapping layer.  See `spacetime/include/spacetime/python/WrapBase.hpp`:\n",
    "\n",
    "```cpp\n",
    "#pragma once\n",
    "\n",
    "/*\n",
    " * Copyright (c) 2017, Yung-Yu Chen <yyc@solvcon.net>\n",
    " * BSD 3-Clause License, see COPYING\n",
    " */\n",
    "\n",
    "#include <pybind11/pybind11.h>\n",
    "#include <pybind11/numpy.h>\n",
    "#define NPY_NO_DEPRECATED_API NPY_1_7_API_VERSION\n",
    "#include <numpy/arrayobject.h>\n",
    "\n",
    "#include <memory>\n",
    "#include <type_traits>\n",
    "\n",
    "PYBIND11_DECLARE_HOLDER_TYPE(T, std::unique_ptr<T>);\n",
    "PYBIND11_DECLARE_HOLDER_TYPE(T, std::shared_ptr<T>);\n",
    "\n",
    "#ifdef __GNUG__\n",
    "#  define SPACETIME_PYTHON_WRAPPER_VISIBILITY __attribute__((visibility(\"hidden\")))\n",
    "#else\n",
    "#  define SPACETIME_PYTHON_WRAPPER_VISIBILITY\n",
    "#endif\n",
    "\n",
    "namespace spacetime\n",
    "{\n",
    "\n",
    "namespace python\n",
    "{\n",
    "\n",
    "/**\n",
    " * Helper template for pybind11 class wrappers.\n",
    " */\n",
    "template< class Wrapper, class Wrapped, class Holder = std::unique_ptr<Wrapped>, class WrappedBase = Wrapped >\n",
    "class\n",
    "SPACETIME_PYTHON_WRAPPER_VISIBILITY\n",
    "WrapBase {\n",
    "\n",
    "public:\n",
    "\n",
    "    using wrapper_type = Wrapper;\n",
    "    using wrapped_type = Wrapped;\n",
    "    using wrapped_base_type = WrappedBase;\n",
    "    using holder_type = Holder;\n",
    "    using base_type = WrapBase< wrapper_type, wrapped_type, holder_type, wrapped_base_type >;\n",
    "    using class_ = typename std::conditional<\n",
    "        std::is_same< Wrapped, WrappedBase >::value\n",
    "      , pybind11::class_< wrapped_type, holder_type >\n",
    "      , pybind11::class_< wrapped_type, wrapped_base_type, holder_type >\n",
    "    >::type;\n",
    "\n",
    "    static wrapper_type & commit(pybind11::module * mod, const char * pyname, const char * clsdoc) {\n",
    "        static wrapper_type derived(mod, pyname, clsdoc);\n",
    "        return derived;\n",
    "    }\n",
    "\n",
    "    WrapBase() = delete;\n",
    "    WrapBase(WrapBase const & ) = default;\n",
    "    WrapBase(WrapBase       &&) = delete;\n",
    "    WrapBase & operator=(WrapBase const & ) = default;\n",
    "    WrapBase & operator=(WrapBase       &&) = delete;\n",
    "    ~WrapBase() = default;\n",
    "\n",
    "#define DECL_ST_PYBIND_CLASS_METHOD(METHOD) \\\n",
    "    template< class... Args > \\\n",
    "    /* NOLINTNEXTLINE(bugprone-macro-parentheses) */ \\\n",
    "    wrapper_type & METHOD(Args&&... args) { \\\n",
    "        m_cls.METHOD(std::forward<Args>(args)...); \\\n",
    "        return *static_cast<wrapper_type*>(this); \\\n",
    "    }\n",
    "\n",
    "    DECL_ST_PYBIND_CLASS_METHOD(def)\n",
    "    DECL_ST_PYBIND_CLASS_METHOD(def_readwrite)\n",
    "    DECL_ST_PYBIND_CLASS_METHOD(def_property)\n",
    "    DECL_ST_PYBIND_CLASS_METHOD(def_property_readonly)\n",
    "    DECL_ST_PYBIND_CLASS_METHOD(def_property_readonly_static)\n",
    "\n",
    "#undef DECL_ST_PYBIND_CLASS_METHOD\n",
    "\n",
    "protected:\n",
    "\n",
    "    WrapBase(pybind11::module * mod, const char * pyname, const char * clsdoc)\n",
    "      : m_cls(*mod, pyname, clsdoc)\n",
    "    {}\n",
    "\n",
    "private:\n",
    "\n",
    "    class_ m_cls;\n",
    "\n",
    "}; /* end class WrapBase */\n",
    "\n",
    "} /* end namespace python */\n",
    "\n",
    "} /* end namespace spacetime */\n",
    "\n",
    "/* vim: set et ts=4 sw=4: */\n",
    "```"
   ]
  },
  {
   "cell_type": "markdown",
   "metadata": {},
   "source": [
    "Use `WrapGrid`, `WrapField`, `WrapSolver`, `WrapCelm`, and `WrapSelm` to show how `WrapBase` is used.  See `spacetime/include/spacetime/python/wrapper_spacetime.hpp`:\n",
    "\n",
    "```c++\n",
    "#pragma once\n",
    "\n",
    "/*\n",
    " * Copyright (c) 2018, Yung-Yu Chen <yyc@solvcon.net>\n",
    " * BSD 3-Clause License, see COPYING\n",
    " */\n",
    "\n",
    "#include \"spacetime/python/common.hpp\"\n",
    "\n",
    "namespace spacetime\n",
    "{\n",
    "\n",
    "namespace python\n",
    "{\n",
    "\n",
    "class\n",
    "SPACETIME_PYTHON_WRAPPER_VISIBILITY\n",
    "WrapGrid\n",
    "  : public WrapBase< WrapGrid, Grid, std::shared_ptr<Grid> >\n",
    "{\n",
    "\n",
    "    friend base_type;\n",
    "\n",
    "    WrapGrid(pybind11::module * mod, const char * pyname, const char * clsdoc)\n",
    "      : base_type(mod, pyname, clsdoc)\n",
    "    {\n",
    "        namespace py = pybind11;\n",
    "        (*this)\n",
    "            .def(\n",
    "                py::init([](real_type xmin, real_type xmax, size_t nelm) {\n",
    "                    return Grid::construct(xmin, xmax, nelm);\n",
    "                }),\n",
    "                py::arg(\"xmin\"), py::arg(\"xmax\"), py::arg(\"nelm\")\n",
    "            )\n",
    "            .def(\n",
    "                py::init([](xt::pyarray<wrapped_type::value_type> & xloc) {\n",
    "                    return Grid::construct(xloc);\n",
    "                }),\n",
    "                py::arg(\"xloc\")\n",
    "            )\n",
    "            .def(\"__str__\", &detail::to_str<wrapped_type>)\n",
    "            .def_property_readonly(\"xmin\", &wrapped_type::xmin)\n",
    "            .def_property_readonly(\"xmax\", &wrapped_type::xmax)\n",
    "            .def_property_readonly(\"ncelm\", &wrapped_type::ncelm)\n",
    "            .def_property_readonly(\"nselm\", &wrapped_type::nselm)\n",
    "            .def_property_readonly(\n",
    "                \"xcoord\",\n",
    "                static_cast<wrapped_type::array_type & (wrapped_type::*)()>(&wrapped_type::xcoord)\n",
    "            )\n",
    "            .def_property_readonly_static(\"BOUND_COUNT\", [](py::object const &){ return Grid::BOUND_COUNT; })\n",
    "        ;\n",
    "    }\n",
    "\n",
    "}; /* end class WrapGrid */\n",
    "\n",
    "class\n",
    "SPACETIME_PYTHON_WRAPPER_VISIBILITY\n",
    "WrapField\n",
    "  : public WrapBase< WrapField, Field, std::shared_ptr<Field> >\n",
    "{\n",
    "\n",
    "    friend base_type;\n",
    "\n",
    "    WrapField(pybind11::module * mod, const char * pyname, const char * clsdoc)\n",
    "      : base_type(mod, pyname, clsdoc)\n",
    "    {\n",
    "        namespace py = pybind11;\n",
    "        (*this)\n",
    "            .def(\"__str__\", &detail::to_str<wrapped_type>)\n",
    "            .def_property_readonly(\"grid\", [](wrapped_type & self){ return self.grid().shared_from_this(); })\n",
    "            .def_property_readonly(\"nvar\", &wrapped_type::nvar)\n",
    "            .def_property(\n",
    "                \"time_increment\",\n",
    "                &wrapped_type::time_increment,\n",
    "                &wrapped_type::set_time_increment\n",
    "             )\n",
    "            .def_property_readonly(\"dt\", &wrapped_type::dt)\n",
    "            .def_property_readonly(\"hdt\", &wrapped_type::hdt)\n",
    "            .def_property_readonly(\"qdt\", &wrapped_type::qdt)\n",
    "            .def(\n",
    "                \"celm\",\n",
    "                static_cast<Celm (wrapped_type::*)(sindex_type, bool)>(&wrapped_type::celm_at<Celm>),\n",
    "                py::arg(\"ielm\"), py::arg(\"odd_plane\")=false\n",
    "            )\n",
    "            .def(\n",
    "                \"selm\",\n",
    "                static_cast<Selm (wrapped_type::*)(sindex_type, bool)>(&wrapped_type::selm_at<Selm>),\n",
    "                py::arg(\"ielm\"), py::arg(\"odd_plane\")=false\n",
    "            )\n",
    "        ;\n",
    "    }\n",
    "\n",
    "}; /* end class WrapField */\n",
    "\n",
    "class\n",
    "SPACETIME_PYTHON_WRAPPER_VISIBILITY\n",
    "WrapSolver\n",
    "  : public WrapSolverBase< WrapSolver, Solver >\n",
    "{\n",
    "\n",
    "    using base_type = WrapSolverBase< WrapSolver, Solver >;\n",
    "    using wrapper_type = typename base_type::wrapper_type;\n",
    "    using wrapped_type = typename base_type::wrapped_type;\n",
    "\n",
    "    friend base_type;\n",
    "    friend base_type::base_type;\n",
    "\n",
    "    WrapSolver(pybind11::module * mod, const char * pyname, const char * clsdoc)\n",
    "      : base_type(mod, pyname, clsdoc)\n",
    "    {\n",
    "        namespace py = pybind11;\n",
    "        (*this)\n",
    "            .def\n",
    "            (\n",
    "                py::init(static_cast<std::shared_ptr<wrapped_type> (*) (\n",
    "                    std::shared_ptr<Grid> const &, typename wrapped_type::value_type, size_t\n",
    "                )>(&wrapped_type::construct))\n",
    "              , py::arg(\"grid\"), py::arg(\"time_increment\"), py::arg(\"nvar\")\n",
    "            )\n",
    "        ;\n",
    "    }\n",
    "\n",
    "}; /* end class WrapSolver */\n",
    "\n",
    "class\n",
    "SPACETIME_PYTHON_WRAPPER_VISIBILITY\n",
    "WrapCelm\n",
    "  : public WrapCelmBase< WrapCelm, Celm >\n",
    "{\n",
    "\n",
    "    using base_type = WrapCelmBase< WrapCelm, Celm >;\n",
    "    friend base_type::base_type::base_type;\n",
    "\n",
    "    WrapCelm(pybind11::module * mod, const char * pyname, const char * clsdoc)\n",
    "      : base_type(mod, pyname, clsdoc)\n",
    "    {}\n",
    "\n",
    "}; /* end class WrapCelm */\n",
    "\n",
    "class\n",
    "SPACETIME_PYTHON_WRAPPER_VISIBILITY\n",
    "WrapSelm\n",
    "  : public WrapSelmBase< WrapSelm, Selm >\n",
    "{\n",
    "\n",
    "    using base_type = WrapSelmBase< WrapSelm, Selm >;\n",
    "    friend base_type::base_type::base_type;\n",
    "\n",
    "    WrapSelm(pybind11::module * mod, const char * pyname, const char * clsdoc)\n",
    "      : base_type(mod, pyname, clsdoc)\n",
    "    {}\n",
    "\n",
    "}; /* end class WrapSelm */\n",
    "\n",
    "} /* end namespace python */\n",
    "\n",
    "} /* end namespace spacetime */\n",
    "\n",
    "// vim: set et sw=4 ts=4:\n",
    "```\n",
    "\n",
    "Note that the use of `WrapperBase` saves little duplicated code, if any.  But it facilitates to keep the `.cpp` file for building the Python extension (`spacetime/src/python/libst.cpp`) to be very short:\n",
    "\n",
    "```cpp\n",
    "/*\n",
    " * Copyright (c) 2018, Yung-Yu Chen <yyc@solvcon.net>\n",
    " * BSD 3-Clause License, see COPYING\n",
    " */\n",
    "\n",
    "#include \"spacetime/python.hpp\" // must be first\n",
    "\n",
    "#include \"spacetime.hpp\"\n",
    "\n",
    "#include <algorithm>\n",
    "#include <cstring>\n",
    "#include <memory>\n",
    "#include <utility>\n",
    "#include <vector>\n",
    "\n",
    "namespace\n",
    "{\n",
    "\n",
    "PyObject * initialize_spacetime(pybind11::module * mod)\n",
    "{\n",
    "    namespace spy = spacetime::python;\n",
    "    xt::import_numpy(); // otherwise numpy c api segfault.\n",
    "    mod->doc() = \"_libst: One-dimensional space-time CESE method code\";\n",
    "    spy::WrapGrid::commit(mod, \"Grid\", \"Spatial grid data\");\n",
    "    spy::WrapField::commit(mod, \"Field\", \"Solution data\");\n",
    "    return mod->ptr();\n",
    "}\n",
    "\n",
    "} /* end namespace */\n",
    "\n",
    "PYBIND11_MODULE(_libst, mod) // NOLINT\n",
    "{\n",
    "    namespace spy = spacetime::python;\n",
    "    spy::ModuleInitializer::get_instance()\n",
    "        .add(initialize_spacetime)\n",
    "        .add_solver<spy::WrapSolver, spy::WrapCelm, spy::WrapSelm>\n",
    "        (&mod, \"\", \"no equation\")\n",
    "        .add_solver<spy::WrapLinearScalarSolver, spy::WrapLinearScalarCelm, spy::WrapLinearScalarSelm>\n",
    "        (&mod, \"LinearScalar\", \"a linear scalar equation\")\n",
    "        .add_solver<spy::WrapInviscidBurgersSolver, spy::WrapInviscidBurgersCelm, spy::WrapInviscidBurgersSelm>\n",
    "        (&mod, \"InviscidBurgers\", \"the inviscid Burgers equation\")\n",
    "        .initialize(&mod)\n",
    "    ;\n",
    "}\n",
    "\n",
    "// vim: set et sw=4 ts=4:\n",
    "```"
   ]
  },
  {
   "cell_type": "markdown",
   "metadata": {},
   "source": [
    "# Wrapping API\n",
    "\n",
    "Let's take a look at the helpers that pybind11 provides."
   ]
  },
  {
   "cell_type": "markdown",
   "metadata": {},
   "source": [
    "## Function and property"
   ]
  },
  {
   "cell_type": "markdown",
   "metadata": {},
   "source": [
    "Let's use the `Grid` class as an example to demonstrate how to expose functions and properties.  We have a constructor:\n",
    "\n",
    "```cpp\n",
    ".def(\n",
    "    py::init([](real_type xmin, real_type xmax, size_t nelm) {\n",
    "        return Grid::construct(xmin, xmax, nelm);\n",
    "    }),\n",
    "    py::arg(\"xmin\"), py::arg(\"xmax\"), py::arg(\"nelm\")\n",
    ")\n",
    "```\n",
    "\n",
    "and a special-purpose function:\n",
    "\n",
    "```cpp\n",
    ".def(\"__str__\", &detail::to_str<wrapped_type>)\n",
    "```"
   ]
  },
  {
   "cell_type": "code",
   "execution_count": 8,
   "metadata": {
    "scrolled": true
   },
   "outputs": [
    {
     "name": "stdout",
     "output_type": "stream",
     "text": [
      "directly call Grid.__str__(): Grid(xmin=0, xmax=8, ncelm=256)\n",
      "call str(Grid): Grid(xmin=0, xmax=8, ncelm=256)\n"
     ]
    }
   ],
   "source": [
    "grid = libst.Grid(0, 8, 4*64)\n",
    "print('directly call Grid.__str__():', grid.__str__())\n",
    "print('call str(Grid):', str(grid))"
   ]
  },
  {
   "cell_type": "markdown",
   "metadata": {},
   "source": [
    "Sometimes properties are more suitable for certain getters:\n",
    "\n",
    "```cpp\n",
    ".def_property_readonly(\"xmin\", &wrapped_type::xmin)\n",
    ".def_property_readonly(\"xmax\", &wrapped_type::xmax)\n",
    ".def_property_readonly_static(\"BOUND_COUNT\", [](py::object const &){ return Grid::BOUND_COUNT; })\n",
    "```\n",
    "\n",
    "As shown above, pybind11 supports static properties that are associated on the class instead of the instance."
   ]
  },
  {
   "cell_type": "code",
   "execution_count": 9,
   "metadata": {},
   "outputs": [
    {
     "name": "stdout",
     "output_type": "stream",
     "text": [
      "grid.BOUND_COUNT = 2\n",
      "grid.xmin = 0.0\n",
      "grid.xmax = 8.0\n"
     ]
    }
   ],
   "source": [
    "print('grid.BOUND_COUNT =', grid.BOUND_COUNT)\n",
    "print('grid.xmin =', grid.xmin)\n",
    "print('grid.xmax =', grid.xmax)"
   ]
  },
  {
   "cell_type": "code",
   "execution_count": 10,
   "metadata": {},
   "outputs": [
    {
     "name": "stdout",
     "output_type": "stream",
     "text": [
      "Grid.BOUND_COUNT (number of points beyond spatial boundary) = 2\n",
      "Grid.xmin = <property object at 0x110e9ffb0>\n",
      "Grid.xmax = <property object at 0x110ea60b0>\n"
     ]
    }
   ],
   "source": [
    "print('Grid.BOUND_COUNT (number of points beyond spatial boundary) =', libst.Grid.BOUND_COUNT)\n",
    "print('Grid.xmin =', libst.Grid.xmin)\n",
    "print('Grid.xmax =', libst.Grid.xmax)"
   ]
  },
  {
   "cell_type": "markdown",
   "metadata": {},
   "source": [
    "Compare to pure Python object:"
   ]
  },
  {
   "cell_type": "code",
   "execution_count": 11,
   "metadata": {},
   "outputs": [
    {
     "name": "stdout",
     "output_type": "stream",
     "text": [
      "2\n",
      "<property object at 0x1112daad0>\n",
      "<property object at 0x1112dab30>\n"
     ]
    }
   ],
   "source": [
    "class PythonGrid:\n",
    "    BOUND_COUNT = 2\n",
    "    @property\n",
    "    def xmin(self):\n",
    "        return 0\n",
    "    @property\n",
    "    def xmax(self):\n",
    "        return 8\n",
    "print(PythonGrid.BOUND_COUNT)\n",
    "print(PythonGrid.xmin)\n",
    "print(PythonGrid.xmax)"
   ]
  },
  {
   "cell_type": "markdown",
   "metadata": {},
   "source": [
    "In addition to `def_property_readonly` and `def_property_readonly_static`, pybind11 also provides:\n",
    "\n",
    "* `def_property` and `def_property_static` for read/write properties with C++ accessors.\n",
    "* `def_readonly` and `def_readonly_static` for read-only access to C++ data members.\n",
    "* `def_readwrite` and `def_readwrite_static` for read/write access to C++ data members."
   ]
  },
  {
   "cell_type": "markdown",
   "metadata": {},
   "source": [
    "## Named and keyword arguments"
   ]
  },
  {
   "cell_type": "markdown",
   "metadata": {},
   "source": [
    "Pybind11 allows us to name Python arguments.  I take the advantage for wrapping the constructor of `Grid`:\n",
    "\n",
    "```cpp\n",
    ".def(\n",
    "    py::init([](real_type xmin, real_type xmax, size_t nelm) {\n",
    "        return Grid::construct(xmin, xmax, nelm);\n",
    "    }),\n",
    "    py::arg(\"xmin\"), py::arg(\"xmax\"), py::arg(\"nelm\")\n",
    ")\n",
    "```\n",
    "\n",
    "and a special-purpose function:\n",
    "\n",
    "```cpp\n",
    ".def(\"__str__\", &detail::to_str<wrapped_type>)\n",
    "```"
   ]
  },
  {
   "cell_type": "code",
   "execution_count": 12,
   "metadata": {},
   "outputs": [
    {
     "name": "stdout",
     "output_type": "stream",
     "text": [
      "directly call Grid.__str__(): Grid(xmin=0, xmax=8, ncelm=256)\n",
      "call str(Grid): Grid(xmin=0, xmax=8, ncelm=256)\n"
     ]
    }
   ],
   "source": [
    "grid = libst.Grid(xmin=0, xmax=8, nelm=4*64)\n",
    "print('directly call Grid.__str__():', grid.__str__())\n",
    "print('call str(Grid):', str(grid))"
   ]
  },
  {
   "cell_type": "markdown",
   "metadata": {},
   "source": [
    "`pybind11::arg` also allows default value to the arguments (keyword arguments).  For example, see what I have for all the solver classes (`spacetime/include/spacetime/python/common.hpp`):\n",
    "\n",
    "```cpp\n",
    ".def\n",
    "(\n",
    "    \"selms\"\n",
    "  , [](wrapped_type & self, bool odd_plane)\n",
    "    { return elm_iter_type(self.shared_from_this(), odd_plane, 0, true); }\n",
    "  , py::arg(\"odd_plane\")=false\n",
    ")\n",
    "```"
   ]
  },
  {
   "cell_type": "code",
   "execution_count": 13,
   "metadata": {},
   "outputs": [
    {
     "name": "stdout",
     "output_type": "stream",
     "text": [
      "SolverElementIterator(selm, on_even_plane, current=0, nelem=257)\n",
      "SolverElementIterator(selm, on_even_plane, current=0, nelem=257)\n",
      "SolverElementIterator(selm, on_odd_plane, current=0, nelem=256)\n",
      "SolverElementIterator(selm, on_even_plane, current=0, nelem=257)\n",
      "SolverElementIterator(selm, on_odd_plane, current=0, nelem=256)\n"
     ]
    }
   ],
   "source": [
    "grid = libst.Grid(0, 4*2*np.pi, 4*64)\n",
    "cfl = 1\n",
    "dx = (grid.xmax - grid.xmin) / grid.ncelm\n",
    "dt = dx * cfl\n",
    "svr = libst.LinearScalarSolver(grid=grid, time_increment=dt)\n",
    "\n",
    "print(svr.selms())\n",
    "print(svr.selms(False))\n",
    "print(svr.selms(True))\n",
    "print(svr.selms(odd_plane=False))\n",
    "print(svr.selms(odd_plane=True))"
   ]
  },
  {
   "cell_type": "markdown",
   "metadata": {},
   "source": [
    "## What happens in Python stays in Python (or pybind11)\n",
    "\n",
    "When wrapping from C++ to Python, there are constructs only available in the scripting language but not the low-level implementation.  When it happens, write the adapting code in the pybind11 layer and do not pollute the low-level implementation.\n",
    "\n",
    "One example is Python iterator protocol.  The adapting code is (`spacetime/include/spacetime/python/common.hpp`):\n",
    "\n",
    "```cpp\n",
    "template< typename ST >\n",
    "class SolverElementIterator\n",
    "{\n",
    "\n",
    "public:\n",
    "\n",
    "    using solver_type = ST;\n",
    "\n",
    "    SolverElementIterator() = delete;\n",
    "    SolverElementIterator(std::shared_ptr<ST> sol, bool odd_plane, size_t starting, bool selm)\n",
    "      : m_solver(std::move(sol)), m_odd_plane(odd_plane), m_current(starting), m_selm(selm)\n",
    "    {}\n",
    "\n",
    "    typename ST::celm_type next_celm()\n",
    "    {\n",
    "        size_t ncelm = m_solver->grid().ncelm();\n",
    "        if (m_odd_plane) { --ncelm; }\n",
    "        if (m_current >= ncelm) { throw pybind11::stop_iteration(); }\n",
    "        typename ST::celm_type ret = m_solver->celm(m_current, m_odd_plane);\n",
    "        ++m_current;\n",
    "        return ret;\n",
    "    }\n",
    "\n",
    "    typename ST::selm_type next_selm()\n",
    "    {\n",
    "        size_t nselm = m_solver->grid().nselm();\n",
    "        if (m_odd_plane) { --nselm; }\n",
    "        if (m_current >= nselm) { throw pybind11::stop_iteration(); }\n",
    "        typename ST::selm_type ret = m_solver->selm(m_current, m_odd_plane);\n",
    "        ++m_current;\n",
    "        return ret;\n",
    "    }\n",
    "\n",
    "    bool is_selm() const { return m_selm; }\n",
    "    bool on_odd_plane() const { return m_odd_plane; }\n",
    "    size_t current() const { return m_current; }\n",
    "    size_t nelem() const\n",
    "    {\n",
    "        size_t ret = is_selm() ? m_solver->grid().nselm() : m_solver->grid().ncelm();\n",
    "        if (m_odd_plane) { --ret; }\n",
    "        return ret;\n",
    "    }\n",
    "\n",
    "private:\n",
    "\n",
    "    std::shared_ptr<solver_type> m_solver;\n",
    "    bool m_odd_plane;\n",
    "    size_t m_current = 0;\n",
    "    bool m_selm = false;\n",
    "\n",
    "}; /* end class SolverElementIterator */\n",
    "```\n",
    "\n",
    "The wrapping code is:\n",
    "\n",
    "```cpp\n",
    "using elm_iter_type = SolverElementIterator<wrapped_type>;\n",
    "std::string elm_pyname = std::string(pyname) + \"ElementIterator\";\n",
    "pybind11::class_< elm_iter_type >(*mod, elm_pyname.c_str())\n",
    "    .def(\"__str__\", &detail::to_str<elm_iter_type>)\n",
    "    .def(\"__iter__\", [](elm_iter_type & self){ return self; })\n",
    "    .def(\n",
    "        \"__next__\"\n",
    "      , [](elm_iter_type & self)\n",
    "        {\n",
    "            py::object ret;\n",
    "            if (self.is_selm()) { ret = py::cast(self.next_selm()); }\n",
    "            else                { ret = py::cast(self.next_celm()); }\n",
    "            return ret;\n",
    "        }\n",
    "    )\n",
    ";\n",
    "```"
   ]
  },
  {
   "cell_type": "markdown",
   "metadata": {},
   "source": [
    "Let's use a concrete solver of linear wave (governing equation is $u_t + u_x = 0$) to demonstrate how it works in Python:"
   ]
  },
  {
   "cell_type": "code",
   "execution_count": 14,
   "metadata": {},
   "outputs": [
    {
     "data": {
      "text/plain": [
       "[<matplotlib.lines.Line2D at 0x111309490>]"
      ]
     },
     "execution_count": 14,
     "metadata": {},
     "output_type": "execute_result"
    },
    {
     "data": {
      "image/png": "[encoded data removed]",
      "text/plain": [
       "<Figure size 1080x720 with 1 Axes>"
      ]
     },
     "metadata": {
      "needs_background": "light"
     },
     "output_type": "display_data"
    }
   ],
   "source": [
    "grid = libst.Grid(0, 4*2*np.pi, 4*64)\n",
    "cfl = 1\n",
    "dx = (grid.xmax - grid.xmin) / grid.ncelm\n",
    "dt = dx * cfl\n",
    "svr = libst.LinearScalarSolver(grid=grid, time_increment=dt)\n",
    "\n",
    "# Initialize\n",
    "for e in svr.selms(odd_plane=False): # NOTE: 'selms' returns a template instance of SolverElementIterator\n",
    "    if e.xctr < 2*np.pi or e.xctr > 2*2*np.pi:\n",
    "        v = 0\n",
    "        dv = 0\n",
    "    else:\n",
    "        v = np.sin(e.xctr)\n",
    "        dv = np.cos(e.xctr)\n",
    "    e.set_so0(0, v)\n",
    "    e.set_so1(0, dv)\n",
    "\n",
    "# Plot it\n",
    "plt.figure(figsize=(15,10))\n",
    "plt.xlim((0, 8))\n",
    "plt.xlabel('$x$ $(\\pi)$')\n",
    "plt.ylabel('$u$')\n",
    "plt.grid()\n",
    "plt.plot(svr.xctr() / np.pi, svr.get_so0(0), '-')"
   ]
  },
  {
   "cell_type": "markdown",
   "metadata": {},
   "source": [
    "# Manipulate Python objects in C++\n",
    "\n",
    "Pybind11 provides C++ API for manipulating Python object (the C `struct PyObject`), so that we don't need to dig into the Python C API and worry about the reference counting by hand."
   ]
  },
  {
   "cell_type": "markdown",
   "metadata": {},
   "source": [
    "The first example is to create a `None` object from C++."
   ]
  },
  {
   "cell_type": "code",
   "execution_count": 15,
   "metadata": {},
   "outputs": [],
   "source": [
    "%%pybind11 -c=\"-O3\"\n",
    "\n",
    "#include \"pybind11/pybind11.h\"\n",
    "\n",
    "PYBIND11_MODULE(code_none, m)\n",
    "{\n",
    "    namespace py = pybind11;\n",
    "\n",
    "    m\n",
    "        .def\n",
    "        (\n",
    "            \"create_none\", []() { return py::none(); }\n",
    "        )\n",
    "    ;\n",
    "}"
   ]
  },
  {
   "cell_type": "code",
   "execution_count": 16,
   "metadata": {},
   "outputs": [
    {
     "name": "stdout",
     "output_type": "stream",
     "text": [
      "<class 'NoneType'>\n",
      "None\n"
     ]
    }
   ],
   "source": [
    "print(type(create_none()))\n",
    "assert None is create_none()\n",
    "print(create_none())"
   ]
  },
  {
   "cell_type": "markdown",
   "metadata": {},
   "source": [
    "`pybind11::object` is the C++ counterpart of `PyObject` in C, but automatically does reference counting for us."
   ]
  },
  {
   "cell_type": "code",
   "execution_count": 17,
   "metadata": {},
   "outputs": [],
   "source": [
    "%%pybind11 -c=\"-O3\"\n",
    "\n",
    "#include \"pybind11/pybind11.h\"\n",
    "\n",
    "PYBIND11_MODULE(code_object, m)\n",
    "{\n",
    "    namespace py = pybind11;\n",
    "\n",
    "    m\n",
    "        .def\n",
    "        (\n",
    "            \"return_none\"\n",
    "          , []()\n",
    "            {\n",
    "                py::object ret = py::none();\n",
    "                return ret;\n",
    "            }\n",
    "        )\n",
    "    ;\n",
    "}"
   ]
  },
  {
   "cell_type": "code",
   "execution_count": 18,
   "metadata": {},
   "outputs": [
    {
     "name": "stdout",
     "output_type": "stream",
     "text": [
      "<built-in method return_none of PyCapsule object at 0x1111b4300> None\n"
     ]
    }
   ],
   "source": [
    "print(return_none, return_none())"
   ]
  },
  {
   "cell_type": "markdown",
   "metadata": {},
   "source": [
    "Pybind11 allows us to use `pybind11::object::attr` to assign attribute to a Python object."
   ]
  },
  {
   "cell_type": "code",
   "execution_count": 19,
   "metadata": {},
   "outputs": [],
   "source": [
    "%%pybind11 -c=\"-O3\"\n",
    "\n",
    "#include \"pybind11/pybind11.h\"\n",
    "\n",
    "PYBIND11_MODULE(code_attr, m)\n",
    "{\n",
    "    namespace py = pybind11;\n",
    "\n",
    "    m.attr(\"string_name\") = \"string_content\";\n",
    "}"
   ]
  },
  {
   "cell_type": "code",
   "execution_count": 20,
   "metadata": {},
   "outputs": [
    {
     "name": "stdout",
     "output_type": "stream",
     "text": [
      "<class 'str'> string_content\n"
     ]
    }
   ],
   "source": [
    "print(type(string_name), string_name)"
   ]
  },
  {
   "cell_type": "markdown",
   "metadata": {},
   "source": [
    "Pybind11 provides helpers to import Python module and access attibutes of every Python object, including a Python module."
   ]
  },
  {
   "cell_type": "code",
   "execution_count": 21,
   "metadata": {},
   "outputs": [],
   "source": [
    "%%pybind11 -c=\"-O3\"\n",
    "\n",
    "#include \"pybind11/pybind11.h\"\n",
    "\n",
    "PYBIND11_MODULE(code1, m)\n",
    "{\n",
    "    namespace py = pybind11;\n",
    "\n",
    "    m\n",
    "        .def\n",
    "        (\n",
    "            \"return_numpy_version\"\n",
    "          , []()\n",
    "            {\n",
    "                py::object numpy = py::module::import(\"numpy\");\n",
    "                return numpy.attr(\"__version__\");\n",
    "            }\n",
    "        )\n",
    "    ;\n",
    "    \n",
    "    m.attr(\"alias_to_return_numpy_version\") = m.attr(\"return_numpy_version\");\n",
    "}"
   ]
  },
  {
   "cell_type": "code",
   "execution_count": 22,
   "metadata": {},
   "outputs": [
    {
     "name": "stdout",
     "output_type": "stream",
     "text": [
      "1.17.0.dev0+3c3ba10\n",
      "1.17.0.dev0+3c3ba10\n",
      "<built-in method return_numpy_version of PyCapsule object at 0x1111b4060>\n",
      "<built-in method return_numpy_version of PyCapsule object at 0x1111b4060>\n"
     ]
    }
   ],
   "source": [
    "print(return_numpy_version())\n",
    "import numpy as np\n",
    "print(np.__version__)\n",
    "assert np.__version__ is return_numpy_version()\n",
    "print(return_numpy_version)\n",
    "print(alias_to_return_numpy_version)"
   ]
  },
  {
   "cell_type": "markdown",
   "metadata": {},
   "source": [
    "# Python containers\n",
    "\n",
    "Pybind11 provides C++ API for creating and manipulating the most important Python containers: `tuple`, `list`, and `dict`.  See https://pybind11.readthedocs.io/en/stable/advanced/pycpp/object.html and the unit tests for more information."
   ]
  },
  {
   "cell_type": "markdown",
   "metadata": {},
   "source": [
    "## `tuple`"
   ]
  },
  {
   "cell_type": "code",
   "execution_count": 23,
   "metadata": {},
   "outputs": [],
   "source": [
    "%%pybind11 -c=\"-O3\"\n",
    "\n",
    "#include \"pybind11/pybind11.h\"\n",
    "\n",
    "PYBIND11_MODULE(code_tuple, m)\n",
    "{\n",
    "    namespace py = pybind11;\n",
    "\n",
    "    py::tuple my_tuple = py::make_tuple(\"string_data_in_tuple\", 10, 3.1415926);\n",
    "\n",
    "    m.attr(\"my_tuple\") = my_tuple;\n",
    "}"
   ]
  },
  {
   "cell_type": "code",
   "execution_count": 24,
   "metadata": {},
   "outputs": [
    {
     "name": "stdout",
     "output_type": "stream",
     "text": [
      "<class 'tuple'> ('string_data_in_tuple', 10, 3.1415926)\n"
     ]
    }
   ],
   "source": [
    "print(type(my_tuple), my_tuple)"
   ]
  },
  {
   "cell_type": "markdown",
   "metadata": {},
   "source": [
    "## `list`"
   ]
  },
  {
   "cell_type": "code",
   "execution_count": 25,
   "metadata": {},
   "outputs": [],
   "source": [
    "%%pybind11 -c=\"-O3\"\n",
    "\n",
    "#include \"pybind11/pybind11.h\"\n",
    "\n",
    "PYBIND11_MODULE(code2, m)\n",
    "{\n",
    "    namespace py = pybind11;\n",
    "\n",
    "    py::list my_list = py::list();\n",
    "\n",
    "    my_list.append(\"string_data_in_list\");\n",
    "    my_list.append(11);\n",
    "    my_list.append(2.71828);\n",
    "\n",
    "    py::list my_list2 = py::make_tuple(\"string_data_in_list2\", 12);\n",
    "\n",
    "    m.attr(\"my_list\") = my_list;\n",
    "    m.attr(\"my_list2\") = my_list2;\n",
    "}"
   ]
  },
  {
   "cell_type": "code",
   "execution_count": 26,
   "metadata": {},
   "outputs": [
    {
     "name": "stdout",
     "output_type": "stream",
     "text": [
      "<class 'list'> ['string_data_in_list', 11, 2.71828]\n"
     ]
    }
   ],
   "source": [
    "print(type(my_list), my_list)"
   ]
  },
  {
   "cell_type": "code",
   "execution_count": 27,
   "metadata": {},
   "outputs": [
    {
     "name": "stdout",
     "output_type": "stream",
     "text": [
      "<class 'list'> ['string_data_in_list2', 12]\n"
     ]
    }
   ],
   "source": [
    "print(type(my_list2), my_list2)"
   ]
  },
  {
   "cell_type": "markdown",
   "metadata": {},
   "source": [
    "## `dict`"
   ]
  },
  {
   "cell_type": "code",
   "execution_count": 28,
   "metadata": {},
   "outputs": [],
   "source": [
    "%%pybind11 -c=\"-O3\"\n",
    "\n",
    "#include \"pybind11/pybind11.h\"\n",
    "\n",
    "PYBIND11_MODULE(code2, m)\n",
    "{\n",
    "    namespace py = pybind11;\n",
    "\n",
    "    py::dict my_dict;\n",
    "\n",
    "    my_dict[\"key_string\"] = \"string_data_in_dict\";\n",
    "    my_dict[\"key_int\"] = 13;\n",
    "    my_dict[\"key_real\"] = 1.414;\n",
    "\n",
    "    m.attr(\"my_dict\") = my_dict;\n",
    "}"
   ]
  },
  {
   "cell_type": "code",
   "execution_count": 29,
   "metadata": {},
   "outputs": [
    {
     "name": "stdout",
     "output_type": "stream",
     "text": [
      "<class 'dict'> {'key_string': 'string_data_in_dict', 'key_int': 13, 'key_real': 1.414}\n"
     ]
    }
   ],
   "source": [
    "print(type(my_dict), my_dict)"
   ]
  },
  {
   "cell_type": "markdown",
   "metadata": {},
   "source": [
    "# Use cpython API with pybind11"
   ]
  },
  {
   "cell_type": "markdown",
   "metadata": {},
   "source": [
    "We can use any Python C API with pybind11.\n",
    "\n",
    "When we import `pybind11/pybind11.h`, we don't need to import `Python.h`, becuase the former does it for us.  But please note that `pybind11/pybind11.h` or `Python.h` should be included before every other inclusion."
   ]
  },
  {
   "cell_type": "code",
   "execution_count": 30,
   "metadata": {},
   "outputs": [],
   "source": [
    "%%pybind11 -c=\"-O3\"\n",
    "\n",
    "#include \"pybind11/pybind11.h\"\n",
    "#include \"Python.h\" // Unnecessary\n",
    "\n",
    "using namespace pybind11;\n",
    "\n",
    "PYBIND11_MODULE(ex_long, m)\n",
    "{\n",
    "    PyObject * v = PyLong_FromLong(2000000);\n",
    "    m.attr(\"integer_value\") = v;\n",
    "    Py_DECREF(v);\n",
    "}"
   ]
  },
  {
   "cell_type": "code",
   "execution_count": 31,
   "metadata": {},
   "outputs": [
    {
     "name": "stdout",
     "output_type": "stream",
     "text": [
      "<class 'int'> 2000000\n"
     ]
    }
   ],
   "source": [
    "print(type(integer_value), integer_value)"
   ]
  },
  {
   "cell_type": "markdown",
   "metadata": {},
   "source": [
    "## `PyObject` reference counting"
   ]
  },
  {
   "cell_type": "code",
   "execution_count": 32,
   "metadata": {},
   "outputs": [],
   "source": [
    "%%pybind11 -c=\"-O3\"\n",
    "\n",
    "#include \"pybind11/pybind11.h\"\n",
    "\n",
    "using namespace pybind11;\n",
    "\n",
    "static PyObject * s;\n",
    "\n",
    "PYBIND11_MODULE(ex_str, m)\n",
    "{\n",
    "    s = PyUnicode_FromString(\"string_from_c\");\n",
    "    m.attr(\"string_value\") = s;\n",
    "    Py_DECREF(s);\n",
    "    m\n",
    "        .def\n",
    "        (\n",
    "            \"show_ref_count_with_handle\"\n",
    "          , [](handle const & h)\n",
    "            {\n",
    "                return Py_REFCNT(h.ptr());\n",
    "            }\n",
    "        )\n",
    "        .def\n",
    "        (\n",
    "            \"show_ref_count_with_object\"\n",
    "          , [](object const & o)\n",
    "            {\n",
    "                return Py_REFCNT(o.ptr());\n",
    "            }\n",
    "        )\n",
    "        .def\n",
    "        (\n",
    "            \"show_string_value_ref_count\"\n",
    "          , [&]()\n",
    "            {\n",
    "                return Py_REFCNT(s);\n",
    "            }\n",
    "        )\n",
    "    ;\n",
    "}"
   ]
  },
  {
   "cell_type": "code",
   "execution_count": 33,
   "metadata": {},
   "outputs": [
    {
     "name": "stdout",
     "output_type": "stream",
     "text": [
      "<class 'str'> string_from_c\n",
      "before aliasing\n",
      "7 refcnt by object\n",
      "6 refcnt by handle\n",
      "5 refcnt by sys\n",
      "4 refcnt from c++\n",
      "after aliasing\n",
      "8 refcnt by object\n",
      "7 refcnt by handle\n",
      "6 refcnt by sys\n",
      "5 refcnt from c++\n"
     ]
    }
   ],
   "source": [
    "def check_string_value():\n",
    "    print(type(string_value), string_value)\n",
    "    print('before aliasing')\n",
    "    print(show_ref_count_with_object(string_value), 'refcnt by object')\n",
    "    print(show_ref_count_with_handle(string_value), 'refcnt by handle')\n",
    "    print(sys.getrefcount(string_value), 'refcnt by sys')\n",
    "    print(show_string_value_ref_count(), 'refcnt from c++')\n",
    "    string_value_aliasing = string_value\n",
    "    print('after aliasing')\n",
    "    print(show_ref_count_with_object(string_value), 'refcnt by object')\n",
    "    print(show_ref_count_with_handle(string_value), 'refcnt by handle')\n",
    "    print(sys.getrefcount(string_value), 'refcnt by sys')\n",
    "    print(show_string_value_ref_count(), 'refcnt from c++')\n",
    "check_string_value()"
   ]
  },
  {
   "cell_type": "markdown",
   "metadata": {},
   "source": [
    "Pybind11 offers two low-level shorthands for reference counting: `handle::inc_ref()` and `handle::dec_ref()`.  If we don't want to go so low-level, it provides `reinterpret_borrow` and `reinterpret_steal` function templates."
   ]
  },
  {
   "cell_type": "markdown",
   "metadata": {},
   "source": [
    "# Built-in types\n",
    "\n",
    "It is possible to use Python C API along with `pybind11`.  I am going to should how to do it.  Please keep in mind that the examples in the notes omit a lot of error checking code that is necessary for a system to run correctly.  When you need to use the C API, consult the manual: https://docs.python.org/3/c-api/index.html. "
   ]
  },
  {
   "cell_type": "markdown",
   "metadata": {},
   "source": [
    "## Cached value\n",
    "\n",
    "Python caches small (-5 to 256) integers: https://github.com/python/cpython/blob/4830f581af57dd305c02c1fd72299ecb5b090eca/Objects/longobject.c#L40 .  Don't get surprised when you see a large reference count for some of them integers:"
   ]
  },
  {
   "cell_type": "code",
   "execution_count": 34,
   "metadata": {},
   "outputs": [
    {
     "name": "stdout",
     "output_type": "stream",
     "text": [
      "ref counts of 0: 10198\n",
      "ref counts of 257: 3\n"
     ]
    }
   ],
   "source": [
    "print('ref counts of 0:', sys.getrefcount(0))\n",
    "print('ref counts of 257:', sys.getrefcount(257))"
   ]
  },
  {
   "cell_type": "markdown",
   "metadata": {},
   "source": [
    "Real number doesn't have that cache:"
   ]
  },
  {
   "cell_type": "code",
   "execution_count": 35,
   "metadata": {},
   "outputs": [
    {
     "name": "stdout",
     "output_type": "stream",
     "text": [
      "3\n"
     ]
    }
   ],
   "source": [
    "print(sys.getrefcount(0.0))"
   ]
  },
  {
   "cell_type": "markdown",
   "metadata": {},
   "source": [
    "Python interns strings consisting of alphanumerical and underscore characters."
   ]
  },
  {
   "cell_type": "code",
   "execution_count": 36,
   "metadata": {},
   "outputs": [
    {
     "name": "stdout",
     "output_type": "stream",
     "text": [
      "True\n",
      "5552\n"
     ]
    }
   ],
   "source": [
    "print('' is '')\n",
    "print(sys.getrefcount(''))"
   ]
  },
  {
   "cell_type": "code",
   "execution_count": 37,
   "metadata": {},
   "outputs": [
    {
     "name": "stdout",
     "output_type": "stream",
     "text": [
      "4\n",
      "True\n",
      "True\n",
      "5\n"
     ]
    }
   ],
   "source": [
    "def check_string_intern():\n",
    "    s1 = 'numerical'\n",
    "    print(sys.getrefcount('numerical'))\n",
    "    print(s1 is 'numerical')\n",
    "    s2 = 'num' + 'erical'\n",
    "    print(s1 is s2)\n",
    "    print(sys.getrefcount('numerical'))\n",
    "check_string_intern()"
   ]
  },
  {
   "cell_type": "markdown",
   "metadata": {},
   "source": [
    "## Attribute access\n",
    "\n",
    "The Python object protocol defines a set of API for accessing object attributes.  Here is a simple example that sets and gets an attribute of an object using the API:\n",
    "\n",
    "```cpp\n",
    "int PyObject_SetAttr(PyObject *o, PyObject *attr_name, PyObject *v)\n",
    "PyObject* PyObject_GetAttr(PyObject *o, PyObject *attr_name)\n",
    "```"
   ]
  },
  {
   "cell_type": "code",
   "execution_count": 38,
   "metadata": {},
   "outputs": [],
   "source": [
    "%%pybind11 -c=\"-O3\"\n",
    "\n",
    "#include \"pybind11/pybind11.h\"\n",
    "\n",
    "using namespace pybind11;\n",
    "\n",
    "void attach_attr(PyObject * o, PyObject * name, PyObject * attr)\n",
    "{\n",
    "    /*int ret =*/\n",
    "    PyObject_SetAttr(o, name, attr);\n",
    "}\n",
    "\n",
    "PyObject * retrieve_attr(PyObject * o, PyObject * name)\n",
    "{\n",
    "    PyObject * ret = PyObject_GetAttr(o, name);\n",
    "    return ret;\n",
    "}\n",
    "\n",
    "PYBIND11_MODULE(ex_attr, m)\n",
    "{\n",
    "    m\n",
    "        .def\n",
    "        (\n",
    "            \"attach_attr\"\n",
    "          , [](object & o, object & name, object & attr)\n",
    "            {\n",
    "                attach_attr(o.ptr(), name.ptr(), attr.ptr());\n",
    "            }\n",
    "        )\n",
    "        .def\n",
    "        (\n",
    "            \"retrieve_attr\"\n",
    "          , [](object & o, object & name)\n",
    "            {\n",
    "                handle(retrieve_attr(o.ptr(), name.ptr()));\n",
    "            }\n",
    "        )\n",
    "    ;\n",
    "}"
   ]
  },
  {
   "cell_type": "code",
   "execution_count": 39,
   "metadata": {},
   "outputs": [
    {
     "name": "stdout",
     "output_type": "stream",
     "text": [
      "3\n",
      "4\n",
      "True\n",
      "4\n",
      "5\n"
     ]
    }
   ],
   "source": [
    "class Cls():\n",
    "    pass\n",
    "obj = Cls()\n",
    "val = 'attached value'\n",
    "print(sys.getrefcount(val))\n",
    "\n",
    "attach_attr(obj, 'name', val)\n",
    "print(sys.getrefcount(val))\n",
    "\n",
    "print(obj.name is val)\n",
    "print(sys.getrefcount(val))\n",
    "\n",
    "val2 = retrieve_attr(obj, 'name')\n",
    "print(sys.getrefcount(val))"
   ]
  },
  {
   "cell_type": "markdown",
   "metadata": {},
   "source": [
    "There are shorthand versions of the API that takes C string for the attribute name:"
   ]
  },
  {
   "cell_type": "code",
   "execution_count": 40,
   "metadata": {},
   "outputs": [],
   "source": [
    "%%pybind11 -c=\"-O3\"\n",
    "\n",
    "#include \"pybind11/pybind11.h\"\n",
    "\n",
    "#include <string>\n",
    "\n",
    "using namespace pybind11;\n",
    "\n",
    "void attach_attr(PyObject * o, char const * name, PyObject * attr)\n",
    "{\n",
    "    /*int ret =*/\n",
    "    PyObject_SetAttrString(o, name, attr);\n",
    "}\n",
    "\n",
    "PyObject * retrieve_attr(PyObject * o, char const * name)\n",
    "{\n",
    "    PyObject * ret = PyObject_GetAttrString(o, name);\n",
    "    return ret;\n",
    "}\n",
    "\n",
    "PYBIND11_MODULE(ex_attr_by_string, m)\n",
    "{\n",
    "    m\n",
    "        .def\n",
    "        (\n",
    "            \"attach_attr_by_string\"\n",
    "          , [](object & o, object & name, object & attr)\n",
    "            {\n",
    "                std::string name_str = cast<std::string>(name);\n",
    "                attach_attr(o.ptr(), name_str.c_str(), attr.ptr());\n",
    "            }\n",
    "        )\n",
    "        .def\n",
    "        (\n",
    "            \"retrieve_attr_by_string\"\n",
    "          , [](object & o, object & name)\n",
    "            {\n",
    "                std::string name_str = cast<std::string>(name);\n",
    "                handle(retrieve_attr(o.ptr(), name_str.c_str()));\n",
    "            }\n",
    "        )\n",
    "    ;\n",
    "}"
   ]
  },
  {
   "cell_type": "code",
   "execution_count": 41,
   "metadata": {},
   "outputs": [
    {
     "name": "stdout",
     "output_type": "stream",
     "text": [
      "3\n",
      "4\n",
      "True\n",
      "4\n",
      "5\n"
     ]
    }
   ],
   "source": [
    "class Cls():\n",
    "    pass\n",
    "obj = Cls()\n",
    "val = 'attached value'\n",
    "print(sys.getrefcount(val))\n",
    "\n",
    "attach_attr_by_string(obj, 'name', val)\n",
    "print(sys.getrefcount(val))\n",
    "\n",
    "print(obj.name is val)\n",
    "print(sys.getrefcount(val))\n",
    "\n",
    "val2 = retrieve_attr_by_string(obj, 'name')\n",
    "print(sys.getrefcount(val))"
   ]
  },
  {
   "cell_type": "markdown",
   "metadata": {},
   "source": [
    "See also the C API documentation for object protocol: https://docs.python.org/3/c-api/object.html ."
   ]
  },
  {
   "cell_type": "markdown",
   "metadata": {},
   "source": [
    "## Function call\n",
    "\n",
    "This section shows how to make Python function call from C."
   ]
  },
  {
   "cell_type": "code",
   "execution_count": 42,
   "metadata": {},
   "outputs": [],
   "source": [
    "%%pybind11 -c=\"-O3\"\n",
    "\n",
    "#include \"pybind11/pybind11.h\"\n",
    "\n",
    "#include <string>\n",
    "\n",
    "using namespace pybind11;\n",
    "\n",
    "PyObject * function_call(PyObject * callable, PyObject * args, PyObject * kw)\n",
    "{\n",
    "    PyObject * ret = PyObject_Call(callable, args, kw);\n",
    "    return ret;\n",
    "}\n",
    "\n",
    "PYBIND11_MODULE(ex_call, m)\n",
    "{\n",
    "    m\n",
    "        .def\n",
    "        (\n",
    "            \"function_call\"\n",
    "          , [](object & o, tuple & t, dict & kw)\n",
    "            {\n",
    "                return handle(function_call(o.ptr(), t.ptr(), kw.ptr()));\n",
    "            }\n",
    "        )\n",
    "    ;\n",
    "}"
   ]
  },
  {
   "cell_type": "code",
   "execution_count": 43,
   "metadata": {},
   "outputs": [
    {
     "name": "stdout",
     "output_type": "stream",
     "text": [
      "(direct call)   results: first argument, default\n",
      "(function_call) results: first argument, default\n",
      "(direct call)   results: first argument, non default\n",
      "(function_call) results: first argument, non default\n"
     ]
    }
   ],
   "source": [
    "def my_func(arg1, kw1='default'):\n",
    "    return 'results: {}, {}'.format(arg1, kw1)\n",
    "\n",
    "print('(direct call)  ', my_func('first argument'))\n",
    "print('(function_call)', function_call(my_func, ('first argument',), {}))\n",
    "\n",
    "print('(direct call)  ', my_func('first argument', kw1='non default'))\n",
    "print('(function_call)', function_call(my_func, ('first argument',), {'kw1': 'non default'}))"
   ]
  },
  {
   "cell_type": "markdown",
   "metadata": {},
   "source": [
    "See the object protocol (https://docs.python.org/3/c-api/object.html) for other variants of the API."
   ]
  },
  {
   "cell_type": "markdown",
   "metadata": {},
   "source": [
    "## Tuple"
   ]
  },
  {
   "cell_type": "code",
   "execution_count": 44,
   "metadata": {},
   "outputs": [],
   "source": [
    "%%pybind11 -c=\"-O3\"\n",
    "\n",
    "#include \"pybind11/pybind11.h\"\n",
    "\n",
    "#include <string>\n",
    "\n",
    "using namespace pybind11;\n",
    "\n",
    "PyObject * reverse_tuple(PyObject * tup)\n",
    "{\n",
    "    PyObject * ret = PyTuple_New(PyTuple_Size(tup));\n",
    "\n",
    "    for (Py_ssize_t i = 0 ; i < PyTuple_Size(tup) ; ++i)\n",
    "    {\n",
    "        PyObject * item = PyTuple_GetItem(tup, i);\n",
    "        Py_INCREF(item);\n",
    "        PyTuple_SetItem(ret, i, item); // This only works when 1 == Py_REFCNT(ret)\n",
    "    }\n",
    "\n",
    "    return ret;\n",
    "}\n",
    "\n",
    "PYBIND11_MODULE(ex_tuple, m)\n",
    "{\n",
    "    m\n",
    "        .def\n",
    "        (\n",
    "            \"reverse_tuple\"\n",
    "          , [](tuple & t)\n",
    "            {\n",
    "                return handle(reverse_tuple(t.ptr()));\n",
    "            }\n",
    "        )\n",
    "    ;\n",
    "}"
   ]
  },
  {
   "cell_type": "code",
   "execution_count": 45,
   "metadata": {},
   "outputs": [
    {
     "name": "stdout",
     "output_type": "stream",
     "text": [
      "3\n",
      "4\n"
     ]
    }
   ],
   "source": [
    "tv0 = \"value0\"\n",
    "tv1 = object()\n",
    "tup = (tv0, tv1)\n",
    "print(sys.getrefcount(tv1))\n",
    "rtup = reverse_tuple(tup)\n",
    "print(sys.getrefcount(tv1))"
   ]
  },
  {
   "cell_type": "markdown",
   "metadata": {},
   "source": [
    "See https://docs.python.org/3/c-api/tuple.html for tuple C API.  `PyTuple_SetItem` implementation: https://github.com/python/cpython/blob/v3.8.0/Objects/tupleobject.c#L167 ."
   ]
  },
  {
   "cell_type": "markdown",
   "metadata": {},
   "source": [
    "## Dictionary\n",
    "\n"
   ]
  },
  {
   "cell_type": "code",
   "execution_count": 46,
   "metadata": {},
   "outputs": [],
   "source": [
    "%%pybind11 -c=\"-O3\"\n",
    "\n",
    "#include \"pybind11/pybind11.h\"\n",
    "\n",
    "#include <string>\n",
    "\n",
    "using namespace pybind11;\n",
    "\n",
    "PyObject * make_dict()\n",
    "{\n",
    "    PyObject * ret = PyDict_New();\n",
    "    return ret;\n",
    "}\n",
    "\n",
    "void add_dict_item(PyObject * d, PyObject * k, PyObject * v)\n",
    "{\n",
    "    /*int ret =*/\n",
    "    PyDict_SetItem(d, k, v);\n",
    "}\n",
    "\n",
    "PYBIND11_MODULE(ex_dict, m)\n",
    "{\n",
    "    m\n",
    "        .def\n",
    "        (\n",
    "            \"make_dict\"\n",
    "          , []()\n",
    "            {\n",
    "                return handle(make_dict());\n",
    "            }\n",
    "        )\n",
    "        .def\n",
    "        (\n",
    "            \"add_dict_item\"\n",
    "          , [](dict & d, object & k, object & v)\n",
    "            {\n",
    "                add_dict_item(d.ptr(), k.ptr(), v.ptr());\n",
    "            }\n",
    "        )\n",
    "    ;\n",
    "}"
   ]
  },
  {
   "cell_type": "code",
   "execution_count": 47,
   "metadata": {},
   "outputs": [
    {
     "name": "stdout",
     "output_type": "stream",
     "text": [
      "False\n",
      "True\n",
      "{'k1': 'value1'}\n",
      "{'k1': 'value1'}\n",
      "True\n"
     ]
    }
   ],
   "source": [
    "d0 = {}\n",
    "d1 = make_dict()\n",
    "print(d0 is d1)\n",
    "print(d0 == d1)\n",
    "d0['k1'] = 'value1'\n",
    "print(d0)\n",
    "add_dict_item(d1, 'k1', 'value1')\n",
    "print(d1)\n",
    "print(d0 == d1)"
   ]
  },
  {
   "cell_type": "markdown",
   "metadata": {},
   "source": [
    "Dictionary API: https://docs.python.org/3/c-api/dict.html ."
   ]
  },
  {
   "cell_type": "markdown",
   "metadata": {},
   "source": [
    "## List"
   ]
  },
  {
   "cell_type": "code",
   "execution_count": 48,
   "metadata": {},
   "outputs": [],
   "source": [
    "%%pybind11 -c=\"-O3\"\n",
    "\n",
    "#include \"pybind11/pybind11.h\"\n",
    "\n",
    "#include <string>\n",
    "\n",
    "using namespace pybind11;\n",
    "\n",
    "PyObject * make_list_from_iterator(PyObject * o)\n",
    "{\n",
    "    PyObject * iter = PyObject_GetIter(o);\n",
    "    PyObject * ret = PyList_New(0);\n",
    "    PyObject * item = nullptr;\n",
    "    while (nullptr != (item = PyIter_Next(iter)))\n",
    "    {\n",
    "        PyList_Append(ret, item);\n",
    "        Py_DECREF(item);\n",
    "    }\n",
    "    Py_DECREF(iter);\n",
    "    return ret;\n",
    "}\n",
    "\n",
    "PYBIND11_MODULE(ex_list, m)\n",
    "{\n",
    "    m\n",
    "        .def\n",
    "        (\n",
    "            \"make_list_from_iterator\"\n",
    "          , [](object & o)\n",
    "            {\n",
    "                PyObject * ret = make_list_from_iterator(o.ptr());\n",
    "                return handle(ret);\n",
    "            }\n",
    "        )\n",
    "    ;\n",
    "}"
   ]
  },
  {
   "cell_type": "code",
   "execution_count": 49,
   "metadata": {},
   "outputs": [
    {
     "name": "stdout",
     "output_type": "stream",
     "text": [
      "4\n",
      "5\n",
      "['first value', 'second value']\n"
     ]
    }
   ],
   "source": [
    "v0 = 'first value'\n",
    "v1 = 'second value'\n",
    "tup = (v0, v1)\n",
    "print(sys.getrefcount(v1))\n",
    "lst = make_list_from_iterator(tup)\n",
    "print(sys.getrefcount(v1))\n",
    "print(lst)"
   ]
  },
  {
   "cell_type": "markdown",
   "metadata": {},
   "source": [
    "See more information at https://docs.python.org/3/c-api/list.html and https://docs.python.org/3/c-api/iter.html ."
   ]
  },
  {
   "cell_type": "markdown",
   "metadata": {},
   "source": [
    "# Useful operations"
   ]
  },
  {
   "cell_type": "markdown",
   "metadata": {},
   "source": [
    "## Import"
   ]
  },
  {
   "cell_type": "code",
   "execution_count": 50,
   "metadata": {},
   "outputs": [],
   "source": [
    "%%pybind11 -c=\"-O3\"\n",
    "\n",
    "#include \"pybind11/pybind11.h\"\n",
    "\n",
    "#include <string>\n",
    "\n",
    "using namespace pybind11;\n",
    "\n",
    "PyObject * get_modules()\n",
    "{\n",
    "    PyObject * sysmod = PyImport_ImportModule(\"sys\");\n",
    "    PyObject * modules = PyObject_GetAttrString(sysmod, \"modules\");\n",
    "    Py_DECREF(sysmod);\n",
    "    return modules;\n",
    "}\n",
    "\n",
    "PYBIND11_MODULE(ex_import, m)\n",
    "{\n",
    "    m\n",
    "        .def\n",
    "        (\n",
    "            \"get_modules\"\n",
    "          , []()\n",
    "            {\n",
    "                PyObject * ret = get_modules();\n",
    "                return handle(ret);\n",
    "            }\n",
    "        )\n",
    "    ;\n",
    "}"
   ]
  },
  {
   "cell_type": "code",
   "execution_count": 51,
   "metadata": {},
   "outputs": [
    {
     "name": "stdout",
     "output_type": "stream",
     "text": [
      "<class 'dict'> 1146\n"
     ]
    }
   ],
   "source": [
    "modules = get_modules();\n",
    "print(type(modules), len(modules))"
   ]
  },
  {
   "cell_type": "markdown",
   "metadata": {},
   "source": [
    "## Exception"
   ]
  },
  {
   "cell_type": "code",
   "execution_count": 52,
   "metadata": {},
   "outputs": [],
   "source": [
    "%%pybind11 -c=\"-O3\"\n",
    "\n",
    "#include \"pybind11/pybind11.h\"\n",
    "\n",
    "#include <string>\n",
    "\n",
    "using namespace pybind11;\n",
    "\n",
    "PyObject * function_with_exception(PyObject * o)\n",
    "{\n",
    "    // Normal processing code.\n",
    "    PyObject * ret = nullptr;\n",
    "    PyObject * item = nullptr;\n",
    "    PyObject * iter = PyObject_GetIter(o);\n",
    "    if (nullptr == iter) { goto error; }\n",
    "    ret = PyList_New(0);\n",
    "    if (nullptr == ret) { goto error; }\n",
    "    while (nullptr != (item = PyIter_Next(iter)))\n",
    "    {\n",
    "        int status = PyList_Append(ret, item);\n",
    "        Py_DECREF(item);\n",
    "        if (0 != status) { goto error; }\n",
    "    }\n",
    "    Py_DECREF(iter);\n",
    "\n",
    "    // Exception.\n",
    "    PyErr_SetString(PyExc_RuntimeError, \"intentional exception\");\n",
    "\n",
    "error: // A good use of goto: clean up.\n",
    "    Py_XDECREF(iter);\n",
    "    Py_XDECREF(ret);\n",
    "    return nullptr;\n",
    "}\n",
    "\n",
    "PYBIND11_MODULE(ex_except, m)\n",
    "{\n",
    "    m\n",
    "        .def\n",
    "        (\n",
    "            \"function_with_exception\"\n",
    "          , [](object & o)\n",
    "            {\n",
    "                PyObject * ret = function_with_exception(o.ptr());\n",
    "                if (nullptr == ret) { throw error_already_set(); }\n",
    "                return handle(ret);\n",
    "            }\n",
    "        )\n",
    "    ;\n",
    "}"
   ]
  },
  {
   "cell_type": "code",
   "execution_count": 53,
   "metadata": {},
   "outputs": [
    {
     "name": "stdout",
     "output_type": "stream",
     "text": [
      "'int' object is not iterable\n"
     ]
    }
   ],
   "source": [
    "try:\n",
    "    function_with_exception(1)\n",
    "except TypeError as e:\n",
    "    print(e)\n",
    "else:\n",
    "    print('error not raised')"
   ]
  },
  {
   "cell_type": "code",
   "execution_count": 54,
   "metadata": {},
   "outputs": [
    {
     "name": "stdout",
     "output_type": "stream",
     "text": [
      "intentional exception\n"
     ]
    }
   ],
   "source": [
    "tup = ('first value', 'second value')\n",
    "try:\n",
    "    function_with_exception(('first value', 'second value'))\n",
    "except RuntimeError as e:\n",
    "    print(e)\n",
    "else:\n",
    "    print('error not raised')"
   ]
  },
  {
   "cell_type": "markdown",
   "metadata": {},
   "source": [
    "See more information at https://docs.python.org/3/c-api/intro.html#exceptions and https://docs.python.org/3/c-api/exceptions.html."
   ]
  },
  {
   "cell_type": "markdown",
   "metadata": {},
   "source": [
    "# Python memory management\n",
    "\n",
    "Python has its own memory manager.  When writing Python extension, they should be used for `PyObject`.  The memory managing system has three levels:\n",
    "\n",
    "1. Raw memory interface: wrapper to the C standard memory managers.  It allows distinct addressed returned when requesting 0 byte.  GIL is not involved.\n",
    "2. Normal memory interface: 'pymalloc' with small memory optimization.  GIL is required when calling.\n",
    "3. Object memory interface: allocate for `PyObject`.  GIL is required when calling.\n",
    "\n",
    "The public API are:\n",
    "\n",
    "```c\n",
    "void * PyMem_RawMalloc(size_t size);\n",
    "void * PyMem_RawCalloc(size_t nelem, size_t elsize);\n",
    "void * PyMem_RawRealloc(void *ptr, size_t new_size);\n",
    "void   PyMem_RawFree(void *ptr);\n",
    "\n",
    "void * PyMem_Malloc(size_t size);\n",
    "void * PyMem_Calloc(size_t nelem, size_t elsize);\n",
    "void * PyMem_Realloc(void *ptr, size_t new_size);\n",
    "void   PyMem_Free(void *ptr);\n",
    "\n",
    "void * PyObject_Malloc(size_t size);\n",
    "void * PyObject_Calloc(size_t nelem, size_t elsize);\n",
    "void * PyObject_Realloc(void *ptr, size_t new_size);\n",
    "void   PyObject_Free(void *ptr);\n",
    "```\n",
    "\n",
    "\n",
    "In [`Include/cpython/pymem.h`](https://github.com/python/cpython/blob/v3.8.0/Include/cpython/pymem.h#L53), Python provides a struct and a set of API to switch to custom memory managers:\n",
    "\n",
    "```c\n",
    "typedef struct {\n",
    "    /* user context passed as the first argument to the 4 functions */\n",
    "    void *ctx;\n",
    "\n",
    "    /* allocate a memory block */\n",
    "    void* (*malloc) (void *ctx, size_t size);\n",
    "\n",
    "    /* allocate a memory block initialized by zeros */\n",
    "    void* (*calloc) (void *ctx, size_t nelem, size_t elsize);\n",
    "\n",
    "    /* allocate or resize a memory block */\n",
    "    void* (*realloc) (void *ctx, void *ptr, size_t new_size);\n",
    "\n",
    "    /* release a memory block */\n",
    "    void (*free) (void *ctx, void *ptr);\n",
    "} PyMemAllocatorEx;\n",
    "\n",
    "/* Get the memory block allocator of the specified domain. */\n",
    "PyAPI_FUNC(void) PyMem_GetAllocator(PyMemAllocatorDomain domain,\n",
    "                                    PyMemAllocatorEx *allocator);\n",
    "\n",
    "/* Set the memory block allocator of the specified domain.\n",
    "\n",
    "   The new allocator must return a distinct non-NULL pointer when requesting\n",
    "   zero bytes.\n",
    "\n",
    "   For the PYMEM_DOMAIN_RAW domain, the allocator must be thread-safe: the GIL\n",
    "   is not held when the allocator is called.\n",
    "\n",
    "   If the new allocator is not a hook (don't call the previous allocator), the\n",
    "   PyMem_SetupDebugHooks() function must be called to reinstall the debug hooks\n",
    "   on top on the new allocator. */\n",
    "PyAPI_FUNC(void) PyMem_SetAllocator(PyMemAllocatorDomain domain,\n",
    "                                    PyMemAllocatorEx *allocator);\n",
    "```\n",
    "\n",
    "The documentation is at https://docs.python.org/3/c-api/memory.html#customize-memory-allocators .  The public API is wrappers to the functions populated in the struct, e.g.:\n",
    "\n",
    "```c\n",
    "void *\n",
    "PyMem_RawMalloc(size_t size)\n",
    "{\n",
    "    /*\n",
    "     * Limit ourselves to PY_SSIZE_T_MAX bytes to prevent security holes.\n",
    "     * Most python internals blindly use a signed Py_ssize_t to track\n",
    "     * things without checking for overflows or negatives.\n",
    "     * As size_t is unsigned, checking for size < 0 is not required.\n",
    "     */\n",
    "    if (size > (size_t)PY_SSIZE_T_MAX)\n",
    "        return NULL;\n",
    "    return _PyMem_Raw.malloc(_PyMem_Raw.ctx, size);\n",
    "}\n",
    "```\n",
    "\n",
    "See https://github.com/python/cpython/blob/v3.8.0/Objects/obmalloc.c#L562 for the code."
   ]
  },
  {
   "cell_type": "markdown",
   "metadata": {},
   "source": [
    "## Small memory optimization\n",
    "\n",
    "Take a look at the documentation: https://github.com/python/cpython/blob/v3.8.0/Objects/obmalloc.c#L766 .  This is the 'pymalloc', and it uses 256 KB for allocation not greater than 512 bytes."
   ]
  },
  {
   "cell_type": "markdown",
   "metadata": {},
   "source": [
    "## tracemalloc\n",
    "\n",
    "`tracemalloc` is a standard library that uses the custom memory manager to profile and debug Python memory use: https://docs.python.org/3/library/tracemalloc.html .  We can follow the implementation to create more specific analysis."
   ]
  },
  {
   "cell_type": "markdown",
   "metadata": {},
   "source": [
    "# Exercises\n",
    "\n",
    "1. Use pybind11 to expose a memory buffer to Python as a numpy ndarray."
   ]
  },
  {
   "cell_type": "markdown",
   "metadata": {},
   "source": [
    "# References\n",
    "\n",
    "1. S.C. Chang, \"The Method of Space-Time Conservation Element and Solution Element -- A New Approach for Solving the Navier-Stokes and Euler Equations,\" J. Comput. Phys., 119, pp. 295-324, (1995).  DOI: [10.1006/jcph.1995.1137](https://doi.org/10.1006/jcph.1995.1137)"
   ]
  }
 ],
 "metadata": {
  "kernelspec": {
   "display_name": "Python 3",
   "language": "python",
   "name": "python3"
  },
  "language_info": {
   "codemirror_mode": {
    "name": "ipython",
    "version": 3
   },
   "file_extension": ".py",
   "mimetype": "text/x-python",
   "name": "python",
   "nbconvert_exporter": "python",
   "pygments_lexer": "ipython3",
   "version": "3.7.4+"
  }
 },
 "nbformat": 4,
 "nbformat_minor": 2
}
