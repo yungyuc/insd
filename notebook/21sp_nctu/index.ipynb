{
 "cells": [
  {
   "cell_type": "markdown",
   "metadata": {
    "slideshow": {
     "slide_type": "slide"
    }
   },
   "source": [
    "# Numerical Software Development\n",
    "\n",
    "**Objectives**: This course discusses the art to build numerical software, i.e., computer programs applying numerical methods for solving mathematical or physical problems.  We will be using the combination of Python and C++ and related tools (e.g., [bash](https://www.gnu.org/software/bash/), [git](https://git-scm.com), [make](https://www.gnu.org/software/make/), etc.) to learn the modern development processes.  By completing this course, students will acquire the fundamental skills for developing modern numerical software.\n",
    "\n",
    "**Prerequisites**:  This is a graduate or senior level course open to students who have taken computer architecture, engineering mathematics or equivalents.  Working knowledge of Linux and Unix-like is required.  Prior knowledge to numerical methods is recommended.  The instructor uses English in the lectures and discussions."
   ]
  },
  {
   "cell_type": "markdown",
   "metadata": {
    "slideshow": {
     "slide_type": "slide"
    }
   },
   "source": [
    "# Course design\n",
    "\n",
    "* You are expected to learn programming languages yourself.  Python is never a problem, but you could find it challenging to self-teach C++.  Students are encouraged to form study groups for practicing C++, and discuss with the instructor and/or the teaching assistant.\n",
    "* Grading: homework 30%, mid-term exam: 30%, term project: 40%.\n",
    "* There are 12 lectures for the subjects of numerical software developing using Python and C++.\n",
    "* There will be 6 homework assignments for you to exercise.  Programming in Python and/or C++ is required.\n",
    "* Mid-term examination will be conducted to assess students' understandings to the analytical materials.\n",
    "* Term project will be used to assess students' overall coding skills.  Presentation is required.  Failure to present results in **0 point** for this part.  Check [the term project page](term_project.ipynb) before you start."
   ]
  },
  {
   "cell_type": "markdown",
   "metadata": {
    "slideshow": {
     "slide_type": "subslide"
    }
   },
   "source": [
    "# How to study\n",
    "\n",
    "* This is a practical course.  No textbook is available for this specific interdisciplinary subject.\n",
    "* To study the subject, students are required to research with online documents and source code, and write programs to practice.\n",
    "* In-class instruction and [course notes](https://yungyuc.github.com/nsd) are provided for guidance.\n",
    "* References:\n",
    "  * Computer Systems: A Programmer's Perspective, Randal E. Bryant and David R. O'Hallaron: https://csapp.cs.cmu.edu/\n",
    "  * Python documentation: https://docs.python.org/3/\n",
    "  * Cppreference: https://en.cppreference.com/\n",
    "  * [Effective Modern C++](https://www.oreilly.com/library/view/effective-modern-c/9781491908419/), Scott Meyer, O'Reilly, 2014\n",
    "  * Source code: [cpython](https://github.com/python/cpython), [numpy](https://github.com/numpy/numpy), [xtensor](https://github.com/QuantStack/xtensor), and [pybind11](https://github.com/pybind/pybind11)"
   ]
  },
  {
   "cell_type": "markdown",
   "metadata": {
    "slideshow": {
     "slide_type": "subslide"
    }
   },
   "source": [
    "# Course schedule\n",
    "\n",
    "* W1 (2/22) [Unit 1](#Unit-1-Introduction) and [Unit 2](#Unit-2-Fundamental-engineering-practices): Introduction and fundamental engineering practices (*homework \\#1*)\n",
    "* W2 (3/1) Skip meeting (peace memorial day)\n",
    "* W3 (3/8) [Unit 3](#Unit-3-Python-and-numpy): Python and numpy (*term project proposal start*)\n",
    "* W4 (3/15) [Unit 4](#Unit-4-C++-and-computer-architecture): C++ and computer architecture (*homework \\#2*)\n",
    "* W5 (3/22) [Unit 5](#Unit-5-Matrix-operations): Matrix operations\n",
    "* W6 (3/29) [Unit 6](#Unit-6-Cache-optimization): Cache optimization (*homework \\#3*)\n",
    "* W7 (4/5) Skip meeting (spring holiday)\n",
    "* M8 (4/12) Mid-term examination\n",
    "* W9 (4/19) [Unit 7](#Unit-7-SIMD): SIMD (*term project proposal due*)\n",
    "* W10 (4/26) [Unit 8](#Unit-8-Memory-management): Memory management (*homework \\#4*)\n",
    "* W11 (5/3) [Unit 9](#Unit-9-Smart-pointers): Ownership and smart pointers\n",
    "* W12 (5/10) [Unit 10](#Unit-10-Modern-C++): Modern C++ (*homework \\#5*)\n",
    "* W13 (5/17) [Unit 11](#Unit-11-C++-and-C-for-Python): C++ and C for Python\n",
    "* W14 (5/24) [Unit 12](#Unit-12-Array-oriented-design): Array code in C++ (*homework \\#6*)\n",
    "* W15 (5/31) [Unit 13](#Unit13-Advanced-Python): Advanced Python\n",
    "* W16 (6/7) Term project presentation\n",
    "* W17 (6/14) No meeting\n",
    "* W18 (6/21) No meeting"
   ]
  },
  {
   "cell_type": "markdown",
   "metadata": {},
   "source": [
    "# Unit 1 [Introduction](01_introduction/introduction.ipynb)\n",
    "\n",
    "1. Part 1: What is numerical software\n",
    "   1. Why develop numerical software\n",
    "   2. Hybrid architecture\n",
    "   3. Numerical software = C++ + Python\n",
    "2. Part 2: What to learn in this course\n",
    "   1. Term project\n",
    "   2. How to write a proposal\n",
    "   3. Term project grading guideline\n",
    "   4. Online discussion\n",
    "3. Part 3: Runtime and course marterials\n",
    "   1. Runtime environment: Linux and AWS\n",
    "   2. Jupyter notebook\n",
    "\n",
    "([bare notebook](01_introduction/introduction_bare.ipynb)) ([schedule toc](#Course-schedule))"
   ]
  },
  {
   "cell_type": "markdown",
   "metadata": {
    "slideshow": {
     "slide_type": "skip"
    }
   },
   "source": [
    "# Unit 2 [Fundamental engineering practices](02_engineering/engineering.ipynb)\n",
    "\n",
    "A large chunk of efforts is spent in the infrastructure for coding.  The key to the engineering system is automation.\n",
    "\n",
    "1. Automation\n",
    "   1. Bash scripting\n",
    "   2. Makefile\n",
    "   3. Cmake (cross-platform, multi-language automation)\n",
    "2. Version control and regression\n",
    "   1. Git version control system\n",
    "   2. Automatic testing: author and run with google-test and py.test\n",
    "   3. Wrap to Python and test there: pybind11\n",
    "   4. Continuous integration to avoid regression\n",
    "3. Work that cannot be automated\n",
    "   1. Code review (use github for demonstration)\n",
    "   2. Timing to debug for performance\n",
    "      1. Wall time and CPU cycles\n",
    "      2. System time and user time\n",
    "      3. Python timing tools\n",
    "\n",
    "([bare notebook](02_engineering/engineering_bare.ipynb)) ([schedule toc](#Course-schedule))"
   ]
  },
  {
   "cell_type": "markdown",
   "metadata": {
    "slideshow": {
     "slide_type": "skip"
    }
   },
   "source": [
    "# Unit 3 [Python and numpy](03_numpy/numpy.ipynb)\n",
    "\n",
    "Python is a popular choice for the scripting engine that makes the numerical software work as a platform.\n",
    "\n",
    "The platform works like a library providing data structures and helpers to solve problems.  The users will use Python to build applications.\n",
    "\n",
    "1. Organize Python modules\n",
    "   1. Scripts\n",
    "   2. Modules\n",
    "   3. Packages\n",
    "2. Use numpy for array-oriented code\n",
    "   1. Data type\n",
    "   2. Construction\n",
    "   3. Multi-dimensional arrays\n",
    "   4. Selection\n",
    "   5. Broadcasting\n",
    "3. Use tools for numerical analysis\n",
    "   1. Matplotlib\n",
    "   2. Linear algebra using numpy and scipy\n",
    "   3. Package management wtih conda and pip\n",
    "\n",
    "([bare notebook](03_numpy/numpy_bare.ipynb)) ([schedule toc](#Course-schedule))"
   ]
  },
  {
   "cell_type": "markdown",
   "metadata": {
    "slideshow": {
     "slide_type": "skip"
    }
   },
   "source": [
    "# Unit 4 [C++ and computer architecture](04_cpp/cpp.ipynb)\n",
    "\n",
    "The low-level code of numerical software must be high-performance.  The industries chose C++ because it can take advantage of everything that a hardware architecture offers while using any level of abstraction.\n",
    "\n",
    "1. Fundamental data types\n",
    "   1. Command-line interface for compiler tools\n",
    "      1. Compiler, linker\n",
    "      2. Multiple source files, separation of declaration and definition, external libraries\n",
    "      3. Build multiple binaries and shared objects (dynamically linked libraries)\n",
    "   2. Integer, signness, pointer, array indexing\n",
    "   3. Floating-point, rounding, exception handling\n",
    "   4. Numeric limit\n",
    "2. Object-oriented programming\n",
    "   1. Class, encapsulation, accessor, reference type\n",
    "   2. Constructor and destructor\n",
    "   3. Polymorphism and RTTI\n",
    "   4. CRTP\n",
    "3. Standard template library (STL)\n",
    "   1. std::vector, its internal and why the buffer address is dangerous\n",
    "   2. std::array, std::list\n",
    "   3. std::map, std::set, std::unordered_map, std::unordered_set\n",
    "\n",
    "([bare notebook](04_cpp/cpp_bare.ipynb)) ([schedule toc](#Course-schedule))"
   ]
  },
  {
   "cell_type": "markdown",
   "metadata": {
    "slideshow": {
     "slide_type": "skip"
    }
   },
   "source": [
    "# Unit 5 [Matrix operations](05_matrix/matrix.ipynb)\n",
    "\n",
    "Matrices are everywhere in numerical analysis.  Arrays are the fundamental data structure and used for matrix-vector, matrix-matrix, and other linear algebraic operations.\n",
    "\n",
    "1. POD arrays and majoring\n",
    "   1. Vector: 1D array\n",
    "   1. Matrix: 2D array\n",
    "   1. Row- and column-majoring\n",
    "   1. A simple class for matrix\n",
    "2. Matrix-vector and matrix-matrix operations\n",
    "   1. Matrix-vector multiplication\n",
    "   1. Matrix-matrix multiplication\n",
    "3. Linear algebra\n",
    "   1. Linear system solution\n",
    "   1. Eigenvalue and singular value problems\n",
    "   1. Least square problems\n",
    "\n",
    "([bare notebook](05_matrix/matrix_bare.ipynb)) ([schedule toc](#Course-schedule))"
   ]
  },
  {
   "cell_type": "markdown",
   "metadata": {
    "slideshow": {
     "slide_type": "skip"
    }
   },
   "source": [
    "# Unit 6 [Cache optimization](06_cache/cache.ipynb)\n",
    "\n",
    "How cache works, its importance to performance, and optimization with cache.\n",
    "\n",
    "1. Memory hierarchy\n",
    "2. How cache works\n",
    "   1. Cache block (line) size determines speed\n",
    "   2. Locality\n",
    "   3. Matrix population in C++\n",
    "   4. Array majoring in numpy\n",
    "3. Tiling\n",
    "\n",
    "([bare notebook](06_cache/cache_bare.ipynb)) ([schedule toc](#Course-schedule))"
   ]
  },
  {
   "cell_type": "markdown",
   "metadata": {
    "slideshow": {
     "slide_type": "skip"
    }
   },
   "source": [
    "# Unit 7 [SIMD](07_simd/simd.ipynb)\n",
    "\n",
    "Parallelism and x86 assembly for SIMD.\n",
    "\n",
    "1. Types of parallelism\n",
    "   1. Shared-memory parallelism\n",
    "   2. Distributed-memory parallelism\n",
    "   3. Vector processing\n",
    "2. SIMD instructions\n",
    "   1. CPU capabilities\n",
    "   2. x86 intrinsic functions\n",
    "   3. Symbol table\n",
    "   4. Inspect assembly: 1, 3, 5 multiplications\n",
    "\n",
    "([bare notebook](07_simd/simd_bare.ipynb)) ([schedule toc](#Course-schedule))"
   ]
  },
  {
   "cell_type": "markdown",
   "metadata": {
    "slideshow": {
     "slide_type": "skip"
    }
   },
   "source": [
    "# Unit 8 [Memory management](08_mem/mem.ipynb)\n",
    "\n",
    "Numerical software tends to use as much memory as a workstation has.  The memory has two major uses: (i) to hold the required huge amount of data, and (ii) to gain speed.\n",
    "\n",
    "1. Linux memory model: stack, heap, and memory map\n",
    "2. C memory management API\n",
    "3. C++ memory management API\n",
    "4. STL allocator API\n",
    "3. Object counter\n",
    "\n",
    "([bare notebook](08_mem/mem_bare.ipynb)) ([schedule toc](#Course-schedule))"
   ]
  },
  {
   "cell_type": "markdown",
   "metadata": {
    "slideshow": {
     "slide_type": "skip"
    }
   },
   "source": [
    "# Unit 9 [Ownership and smart pointers](09_smart/smart.ipynb)\n",
    "\n",
    "Ownership and memory management using C++ smart pointers.\n",
    "\n",
    "1. Pointers and ownership\n",
    "    1. Raw pointer\n",
    "    2. Reference\n",
    "    3. Ownership\n",
    "    4. Smart pointers\n",
    "        1. `unique_ptr`\n",
    "        2. `shared_ptr`\n",
    "2. Revisit shared pointer\n",
    "    1. Make Data exclusively managed by `shared_ptr`\n",
    "    2. Get `shared_ptr` from `this`\n",
    "    3. Cyclic reference and `weak_ptr`\n",
    "\n",
    "([bare notebook](09_smart/smart_bare.ipynb)) ([schedule toc](#Course-schedule))"
   ]
  },
  {
   "cell_type": "markdown",
   "metadata": {
    "slideshow": {
     "slide_type": "skip"
    }
   },
   "source": [
    "# Unit 10 [Modern C++](10_moderncpp/moderncpp.ipynb)\n",
    "\n",
    "Copy elision and move semantics.  Variadic template and perfect forwarding.  Closure.\n",
    "\n",
    "1. Copy elision / return value optimization\n",
    "    1. Make a tracker class for copy construction\n",
    "    2. Show the copy elision in action\n",
    "    3. Inspect the assembly\n",
    "2. Move semantics and copy elision\n",
    "    1. Forced move is a bad idea\n",
    "3. Data concatenation\n",
    "    1. Style 1: return `vector`\n",
    "    2. Style 2: use output `vector`\n",
    "    3. Style 3: use a class for both return and output argument\n",
    "4. Variadic template\n",
    "5. Perfect forwarding\n",
    "6. Lambda expression\n",
    "    1. Keep a lambda in a local variable\n",
    "    2. Difference between `auto` and `std::function`\n",
    "7. Closure\n",
    "    1. Comments on functional style\n",
    "\n",
    "([bare notebook](10_moderncpp/moderncpp_bare.ipynb)) ([schedule toc](#Course-schedule))"
   ]
  },
  {
   "cell_type": "markdown",
   "metadata": {
    "slideshow": {
     "slide_type": "skip"
    }
   },
   "source": [
    "# Unit 11 [C++ and C for Python](11_cpppy/cpppy.ipynb)\n",
    "\n",
    "Use C++ and C to control the CPython interpreter.\n",
    "\n",
    "1. Expectation from Python\n",
    "   1. Linear wave\n",
    "   2. The inviscid Burgers equation\n",
    "2. Pybind11 build system\n",
    "   1. Setuptools\n",
    "   2. Cmake with a sub-directory\n",
    "   3. Cmake with install pybind11\n",
    "3. Additional wrapping layer for customization\n",
    "4. Wrapping API\n",
    "   1. Functions and property\n",
    "   2. Named ane keyword arguments\n",
    "   3. What happens in Python stays in Python (or pybind11)\n",
    "5. Manipulate Python objects in C++\n",
    "6. Python containers\n",
    "   1. `tuple`\n",
    "   2. `list`\n",
    "   3. `dict`\n",
    "7. Use cpython API with pybind11\n",
    "   1. `PyObject` reference counting\n",
    "8. Built-in types\n",
    "   1. Cached value\n",
    "   2. Attribute access\n",
    "   3. Function call\n",
    "   4. Tuple\n",
    "   5. Dictionary\n",
    "   6. List\n",
    "9. Useful operations\n",
    "    1. Import\n",
    "    2. Exception\n",
    "10. Python memory management\n",
    "    1. PyMem interface\n",
    "    2. Small memory optimization\n",
    "    3. Tracemalloc\n",
    "\n",
    "([bare notebook](11_cpppy/cpppy_bare.ipynb)) ([schedule toc](#Course-schedule))"
   ]
  },
  {
   "cell_type": "markdown",
   "metadata": {
    "slideshow": {
     "slide_type": "skip"
    }
   },
   "source": [
    "# Unit 12 [Array-oriented design](12_arraydesign/arraydesign.ipynb)\n",
    "\n",
    "Dissect the array-based code and element-based code and when to use them.  Software architecture that take advantage of array-based code.\n",
    "\n",
    "1. Python is slow but easy to write\n",
    "2. Speed up by using numpy (still in Python)\n",
    "3. Xtensor: write iterative code in C++ speed using arrays\n",
    "4. Effect of house-keeping code\n",
    "5. Design interface with arrays\n",
    "6. Conversion between dynamic and static semantics\n",
    "7. Insert profiling code\n",
    "\n",
    "([bare notebook](12_arraycode/arraydesign_bare.ipynb)) ([schedule toc](#Course-schedule))"
   ]
  },
  {
   "cell_type": "markdown",
   "metadata": {},
   "source": [
    "# Unit 13 [Advanced Python](13_advpy/advpy.ipynb)\n",
    "\n",
    "Advanced topics in Python programming.\n",
    "\n",
    "1. Iterator\n",
    "   1. List comprehension\n",
    "   2. Generator\n",
    "   3. Generator expression\n",
    "2. Stack frame\n",
    "   1. `frame` object\n",
    "3. Customizing module import with `sys.meta_path`\n",
    "4. Descriptor\n",
    "   1. Keep data on the instance\n",
    "5. Metaclass\n",
    "6. Type introspection and abstract base class (abc)\n",
    "   1. Method resolution order (mro)\n",
    "   2. Abstract base class (abc)\n",
    "   3. Abstract method\n",
    "\n",
    "([bare notebook](13_advpy/advpy_bare.ipynb)) ([schedule toc](#Course-schedule))"
   ]
  },
  {
   "cell_type": "markdown",
   "metadata": {},
   "source": [
    "# Miscellaneous\n",
    "\n",
    "* NCTU course link: https://timetable.nctu.edu.tw/?r=main/crsoutline&Acy=109&Sem=2&CrsNo=5301"
   ]
  }
 ],
 "metadata": {
  "kernelspec": {
   "display_name": "Python 3",
   "language": "python",
   "name": "python3"
  },
  "language_info": {
   "codemirror_mode": {
    "name": "ipython",
    "version": 3
   },
   "file_extension": ".py",
   "mimetype": "text/x-python",
   "name": "python",
   "nbconvert_exporter": "python",
   "pygments_lexer": "ipython3",
   "version": "3.7.4+"
  }
 },
 "nbformat": 4,
 "nbformat_minor": 2
}
