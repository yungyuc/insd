{
 "cells": [
  {
   "cell_type": "code",
   "execution_count": 1,
   "metadata": {
    "slideshow": {
     "slide_type": "skip"
    }
   },
   "outputs": [
    {
     "data": {
      "application/javascript": [
       "\n",
       "    require(['notebook/js/codecell'], function(cc) {\n",
       "        cc.CodeCell.options_default.highlight_modes['magic_text/x-c++src'] =\n",
       "            {reg: [/^\\s*%%pybind11/]};\n",
       "    });\n",
       "    "
      ]
     },
     "metadata": {},
     "output_type": "display_data"
    },
    {
     "data": {
      "text/html": [
       "\n",
       "    <style>\n",
       "    .cm-s-ipython span.cm-variable-3 {\n",
       "        color: #208ffb;\n",
       "        font-weight: bold;\n",
       "    }\n",
       "    </style>\n",
       "    "
      ]
     },
     "metadata": {},
     "output_type": "display_data"
    }
   ],
   "source": [
    "%load_ext ipybind\n",
    "%matplotlib inline\n",
    "\n",
    "import warnings\n",
    "warnings.filterwarnings('default')\n",
    "\n",
    "import numpy as np\n",
    "\n",
    "import matplotlib.pyplot as plt\n",
    "import matplotlib.ticker as mticker\n",
    "plt.rc('figure', figsize=(8, 8))"
   ]
  },
  {
   "cell_type": "markdown",
   "metadata": {
    "slideshow": {
     "slide_type": "slide"
    }
   },
   "source": [
    "# Array code in C++\n",
    "\n",
    "xtensor (http://xtensor.readthedocs.io/) is an array library in C++.  It defines the multi-dimensional array data structure suitable for compile-time optimization.  The array library helps us organize code and achieve fast runtime.\n",
    "\n",
    "1. Python is slow but easy to write\n",
    "2. Speed up by using numpy (still in Python)\n",
    "3. Xtensor: write iterative code in C++ speed using arrays\n",
    "4. Effect of house-keeping code\n",
    "\n",
    "More on array-based system design:\n",
    "\n",
    "1. Design interface with arrays\n",
    "2. Conversion between dynamic and static semantics\n",
    "3. Insert profiling code"
   ]
  },
  {
   "cell_type": "markdown",
   "metadata": {
    "slideshow": {
     "slide_type": "slide"
    }
   },
   "source": [
    "# Python is slow\n",
    "\n",
    "Python is usually slow when it comes to number-crunching.  But as I will show, it's so convenient to code.\n",
    "\n",
    "Here we consider a boundary value problem of the Laplace equation for temperature distribution in a $1\\times1$ square area.\n",
    "\n",
    "\\begin{align}\n",
    "& \\frac{\\partial^2 u}{\\partial x^2} + \\frac{\\partial^2 u}{\\partial y^2} = 0 \\quad (0<x<1; 0<y<1) \\\\\n",
    "&\\left\\{\\begin{array}{lll}\n",
    "u(0,y) = 0, & u(1,y) = \\sin(\\pi y) & \\rule{4ex}{0pt} (0 \\le y \\le 1) \\\\\n",
    "u(x,0) = 0, & u(x,1) = 0 & \\rule{4ex}{0pt} (0 \\le x \\le 1)\n",
    "\\end{array}\\right.\n",
    "\\end{align}"
   ]
  },
  {
   "cell_type": "markdown",
   "metadata": {
    "slideshow": {
     "slide_type": "subslide"
    }
   },
   "source": [
    "To solve it numerically, we choose the finite-difference method.  The finite-difference method needs a grid to discretize the spatial domain.  The simplest spatial discretization is the homogeneous Cartesian grid.  Let's make a $51\\times51$ Cartesian grid."
   ]
  },
  {
   "cell_type": "code",
   "execution_count": 2,
   "metadata": {
    "slideshow": {
     "slide_type": "-"
    }
   },
   "outputs": [],
   "source": [
    "def make_grid():\n",
    "    nx = 51\n",
    "    x = np.linspace(0, 1, nx)\n",
    "    gx, gy = np.meshgrid(x, x)\n",
    "    u = np.zeros_like(gx)\n",
    "    u[0,:] = 0\n",
    "    u[-1,:] = 1 * np.sin(np.linspace(0,np.pi,nx))\n",
    "    u[:,0] = 0\n",
    "    u[:,-1] = 0\n",
    "    return nx, x, u"
   ]
  },
  {
   "cell_type": "code",
   "execution_count": 3,
   "metadata": {
    "slideshow": {
     "slide_type": "skip"
    }
   },
   "outputs": [],
   "source": [
    "def show_grid(size):\n",
    "    fig, ax = plt.subplots(figsize=(size,size))\n",
    "    ax.set_xlim(0, 1)\n",
    "    ax.set_ylim(0, 1)\n",
    "    ax.set_xticks(x, minor=True)\n",
    "    ax.set_yticks(x, minor=True)\n",
    "    ax.set_xlabel('$x$')\n",
    "    ax.set_ylabel('$y$')\n",
    "    ax.grid(True, which='minor')"
   ]
  },
  {
   "cell_type": "code",
   "execution_count": 4,
   "metadata": {
    "slideshow": {
     "slide_type": "subslide"
    }
   },
   "outputs": [
    {
     "data": {
      "image/png": "[encoded data removed]",
      "text/plain": [
       "<Figure size 720x720 with 1 Axes>"
      ]
     },
     "metadata": {
      "needs_background": "light"
     },
     "output_type": "display_data"
    }
   ],
   "source": [
    "nx, x, uoriginal = make_grid(); show_grid(10)"
   ]
  },
  {
   "cell_type": "markdown",
   "metadata": {
    "slideshow": {
     "slide_type": "subslide"
    }
   },
   "source": [
    "After the grid is defined, we may derive the finite-differencing formula.  Use the Taylor series expansion to obtain the difference equation:\n",
    "\n",
    "\\begin{align}\n",
    "%\n",
    "& \\frac{u(x_{i+1}, y_j) - 2u(x_i, y_j) + u(x_{i-1}, y_j)}{(\\Delta x)^2} \\\\\n",
    "&\\quad + \\frac{u(x_i, y_{j+1}) - 2u(x_i, y_j) + u(x_i, y_{j+1})}{(\\Delta y)^2} = 0\n",
    "%\n",
    "\\end{align}\n",
    "\n",
    "Note $\\Delta x = \\Delta y$.  The difference equation is rewritten as\n",
    "\n",
    "\\begin{align}\n",
    "%\n",
    "u(x_i, y_j) = \\frac{u(x_{i+1}, y_j) + u(x_{i-1}, y_j) + u(x_i, y_{j+1}) + u(x_i, y_{j-1})}{4}\n",
    "%\n",
    "\\end{align}\n",
    "\n",
    "Apply the point-Jacobi method to write a formula to iteratively solve the difference equaion:\n",
    "\n",
    "\\begin{align}\n",
    "%\n",
    "u^{n+1}(x_i, y_i) = \\frac{u^n(x_{i+1}, y_j) + u^n(x_{i-1}, y_j) + u^n(x_i, y_{j+1}) + u^n(x_i, y_{j-1})}{4}\n",
    "%\n",
    "\\end{align}\n",
    "\n",
    "where $u^n$ is the solution at the $n$-th iteration."
   ]
  },
  {
   "cell_type": "markdown",
   "metadata": {
    "slideshow": {
     "slide_type": "subslide"
    }
   },
   "source": [
    "Now we can use Python to quickly implement the solver:"
   ]
  },
  {
   "cell_type": "code",
   "execution_count": 5,
   "metadata": {},
   "outputs": [],
   "source": [
    "def solve_python_loop():\n",
    "    u = uoriginal.copy()\n",
    "    un = u.copy()\n",
    "    converged = False\n",
    "    step = 0\n",
    "    # Outer loop.\n",
    "    while not converged:\n",
    "        step += 1\n",
    "        # Inner loops. One for x and the other for y.\n",
    "        for it in range(1, nx-1):\n",
    "            for jt in range(1, nx-1):\n",
    "                un[it,jt] = (u[it+1,jt] + u[it-1,jt] + u[it,jt+1] + u[it,jt-1]) / 4\n",
    "        norm = np.abs(un-u).max()\n",
    "        u[...] = un[...]\n",
    "        converged = True if norm < 1.e-5 else False\n",
    "    return u, step, norm"
   ]
  },
  {
   "cell_type": "code",
   "execution_count": 6,
   "metadata": {
    "slideshow": {
     "slide_type": "skip"
    }
   },
   "outputs": [],
   "source": [
    "def show_result(u, step, norm, size=7):\n",
    "    print(\"step\", step, \"norm\", norm)\n",
    "    fig, ax = plt.subplots(figsize=(size,size))\n",
    "    cs = ax.contour(x, x, u.T)\n",
    "    ax.clabel(cs, inline=1, fontsize=10)\n",
    "\n",
    "    ax.set_xticks(np.linspace(0,1,6))\n",
    "    ax.set_yticks(np.linspace(0,1,6))\n",
    "    ax.set_xlabel('$x$')\n",
    "    ax.set_ylabel('$y$')\n",
    "\n",
    "    ax.grid(True, which='minor')"
   ]
  },
  {
   "cell_type": "code",
   "execution_count": 7,
   "metadata": {
    "slideshow": {
     "slide_type": "subslide"
    }
   },
   "outputs": [
    {
     "name": "stdout",
     "output_type": "stream",
     "text": [
      "CPU times: user 5.24 s, sys: 22.5 ms, total: 5.26 s\n",
      "Wall time: 5.28 s\n"
     ]
    }
   ],
   "source": [
    "%%time\n",
    "# Run the Python solver\n",
    "u, step, norm = solve_python_loop()"
   ]
  },
  {
   "cell_type": "code",
   "execution_count": 8,
   "metadata": {},
   "outputs": [
    {
     "name": "stdout",
     "output_type": "stream",
     "text": [
      "step 2097 norm 9.997406535677822e-06\n"
     ]
    },
    {
     "data": {
      "image/png": "[encoded data removed]",
      "text/plain": [
       "<Figure size 504x504 with 1 Axes>"
      ]
     },
     "metadata": {
      "needs_background": "light"
     },
     "output_type": "display_data"
    }
   ],
   "source": [
    "show_result(u, step, norm)"
   ]
  },
  {
   "cell_type": "markdown",
   "metadata": {
    "slideshow": {
     "slide_type": "subslide"
    }
   },
   "source": [
    "It takes quite a while (around 5 seconds) to converge with 2097 iterations."
   ]
  },
  {
   "cell_type": "markdown",
   "metadata": {
    "slideshow": {
     "slide_type": "skip"
    }
   },
   "source": [
    "Is the calculation correct?  For any numerical appliaction, correctness is the first condition.\n",
    "\n",
    "We may compare the numerical soluation with the analytical solution.  Recall the PDE and its boundary conditions:\n",
    "\n",
    "\\begin{align}\n",
    "& \\frac{\\partial^2 u}{\\partial x^2} + \\frac{\\partial^2 u}{\\partial y^2} = 0 \\quad (0<x<1; 0<y<1) \\\\\n",
    "&\\left\\{\\begin{array}{lll}\n",
    "u(0,y) = 0, & u(1,y) = \\sin(\\pi y) & \\rule{4ex}{0pt} (0 \\le y \\le 1) \\\\\n",
    "u(x,0) = 0, & u(x,1) = 0 & \\rule{4ex}{0pt} (0 \\le x \\le 1)\n",
    "\\end{array}\\right.\n",
    "\\end{align}\n",
    "\n",
    "Use separation of variable.  Assume the solution $u(x,y) = \\phi(x)\\psi(y)$.\n",
    "\n",
    "\\begin{align*}\n",
    "%\n",
    "& \\frac{\\partial^2 u}{\\partial x^2} + \\frac{\\partial^2 u}{\\partial y^2} = 0 \\quad \\Rightarrow \\quad\n",
    "\\phi''\\psi + \\phi\\psi'' = 0 \\\\\n",
    "& \\Rightarrow \\quad \\frac{\\phi''}{\\phi} = -\\frac{\\psi''}{\\psi} = \\lambda\n",
    "%\n",
    "\\end{align*}\n",
    "\n",
    "\\begin{align*}\n",
    "%\n",
    "\\left\\{\\begin{array}{ll}\n",
    "\\phi'' - \\lambda\\phi = 0, & \\phi(0) = 0 \\\\\n",
    "\\psi'' + \\lambda\\psi = 0, & \\psi(0) = 0, \\, \\psi(1) = 0\n",
    "\\end{array}\\right.\n",
    "%\n",
    "\\end{align*}\n",
    "\n",
    "$\\lambda$ is the eigenvalue.  The general solution of the ODE of $\\psi$ can be obtained as\n",
    "\n",
    "\\begin{align*}\n",
    "%\n",
    "\\psi(y) = c\\cos(\\kappa y) + d\\sin(\\kappa y), \\quad \\kappa^2 = \\lambda\n",
    "%\n",
    "\\end{align*}\n",
    "\n",
    "Substitude the boundary conditions to the general solution\n",
    "\n",
    "\\begin{align*}\n",
    "%\n",
    "& \\psi(0) = c = 0 \\, \\Rightarrow \\, c = 0 \\\\\n",
    "& \\psi(1) = d\\sin(\\kappa) = 0 \\, \\Rightarrow \\, \\kappa = n\\pi, \\, n = 1, 2, 3, \\ldots \\\\\n",
    "& \\psi(y) = \\sum_{n=1}^{\\infty} \\psi_n(y), \\; \\mbox{where} \\; \\psi_n(y) = d_n\\sin(n\\pi y) \\\\\n",
    "& \\Rightarrow \\psi(y) = \\sum_{n=1}^{\\infty} d_n \\sin(n\\pi y)\n",
    "%\n",
    "\\end{align*}\n",
    "\n",
    "Substitute the eigenvalue $\\lambda$ into the ODE of $\\phi$\n",
    "\n",
    "\\begin{align*}\n",
    "%\n",
    "\\phi'' - (n\\pi)^2\\phi = 0\n",
    "%\n",
    "\\end{align*}\n",
    "\n",
    "The general solution is\n",
    "\n",
    "\\begin{align*}\n",
    "%\n",
    "\\phi_n(x) = a_n\\cosh(\\kappa x) + b_n\\sinh(\\kappa x)\n",
    "%\n",
    "\\end{align*}\n",
    "\n",
    "Apply the boundary condition $\\phi_n(0) = a_n = 0$ and obtain $\\phi_n(x) = b_n\\sinh(\\kappa x)$.\n",
    "\n",
    "The solution $u(x, y)$ can now be written as\n",
    "\n",
    "\\begin{align*}\n",
    "%\n",
    "u(x,y) = \\sum_{n=1}^{\\infty}\\phi_n(x)\\psi_n(y) = \\sum_{n=1}^{\\infty} \\alpha_n \\sinh(n\\pi x)\\sin(n\\pi y)\n",
    "%\n",
    "\\end{align*}\n",
    "\n",
    "where $\\alpha_n = b_nd_n$.  Apply the last boundary condition\n",
    "\n",
    "\\begin{align*}\n",
    "%\n",
    "u(1,y) = \\sin(\\pi y) = \\sum_{n=1}^{\\infty}\\alpha_n\\sinh(n\\pi)\\sin(n\\pi)\n",
    "%\n",
    "\\end{align*}\n",
    "\n",
    "It is obtained that $\\alpha_1 = \\sinh^{-1}(\\pi)$ and $\\alpha_k = 0 \\forall k = 2, 3, \\ldots$.  The solution of $u$ is obtained:\n",
    "\n",
    "\\begin{align*}\n",
    "%\n",
    "u(x, y) = \\frac{\\sinh(\\pi x)}{\\sinh(\\pi)} \\sin(\\pi y)\n",
    "%\n",
    "\\end{align*}"
   ]
  },
  {
   "cell_type": "code",
   "execution_count": 9,
   "metadata": {},
   "outputs": [
    {
     "name": "stdout",
     "output_type": "stream",
     "text": [
      "step 0 norm 0\n",
      "Linf of difference is 0.004962\n"
     ]
    },
    {
     "data": {
      "image/png": "[encoded data removed]",
      "text/plain": [
       "<Figure size 504x504 with 1 Axes>"
      ]
     },
     "metadata": {
      "needs_background": "light"
     },
     "output_type": "display_data"
    }
   ],
   "source": [
    "def solve_analytical():\n",
    "    u = np.empty((len(x), len(x)), dtype='float64')\n",
    "    for ix, cx in enumerate(x):\n",
    "        u[ix, :] = np.sinh(np.pi*cx) / np.sinh(np.pi) * np.sin(np.pi*x)\n",
    "    return u\n",
    "\n",
    "uanalytical = solve_analytical()\n",
    "show_result(uanalytical, 0, 0)\n",
    "# Calculate the L inf norm.\n",
    "print(\"Linf of difference is %f\" % np.abs(u - uanalytical).max())"
   ]
  },
  {
   "cell_type": "markdown",
   "metadata": {},
   "source": [
    "Say $u_a$ is the analytical solution.  $|u-u_a|_{\\infty}$ is good enough.  Let's make the Python version as golden."
   ]
  },
  {
   "cell_type": "code",
   "execution_count": 10,
   "metadata": {
    "slideshow": {
     "slide_type": "-"
    }
   },
   "outputs": [],
   "source": [
    "ugolden = u.copy()"
   ]
  },
  {
   "cell_type": "markdown",
   "metadata": {
    "slideshow": {
     "slide_type": "slide"
    }
   },
   "source": [
    "# Array-based code with numpy\n",
    "\n",
    "We usually can use numpy to speed up the slow Python loops.  Numpy implements fast calculations in C.  By using numpy, we essentially delegate the calculation to C."
   ]
  },
  {
   "cell_type": "code",
   "execution_count": 11,
   "metadata": {},
   "outputs": [],
   "source": [
    "def solve_array():\n",
    "    u = uoriginal.copy()\n",
    "    un = u.copy()\n",
    "    converged = False\n",
    "    step = 0\n",
    "    while not converged:\n",
    "        step += 1\n",
    "        un[1:nx-1,1:nx-1] = (u[2:nx,1:nx-1] + u[0:nx-2,1:nx-1] +\n",
    "                             u[1:nx-1,2:nx] + u[1:nx-1,0:nx-2]) / 4\n",
    "        norm = np.abs(un-u).max()\n",
    "        u[...] = un[...]\n",
    "        converged = True if norm < 1.e-5 else False\n",
    "    return u, step, norm"
   ]
  },
  {
   "cell_type": "code",
   "execution_count": 12,
   "metadata": {
    "slideshow": {
     "slide_type": "subslide"
    }
   },
   "outputs": [
    {
     "name": "stdout",
     "output_type": "stream",
     "text": [
      "CPU times: user 62.1 ms, sys: 1.6 ms, total: 63.7 ms\n",
      "Wall time: 63.1 ms\n"
     ]
    }
   ],
   "source": [
    "%%time\n",
    "u, step, norm = solve_array()"
   ]
  },
  {
   "cell_type": "markdown",
   "metadata": {},
   "source": [
    "The speed is much better: less than 0.1 second.  The speed up is more than 60x."
   ]
  },
  {
   "cell_type": "code",
   "execution_count": 13,
   "metadata": {},
   "outputs": [
    {
     "name": "stdout",
     "output_type": "stream",
     "text": [
      "step 2097 norm 9.997406535677822e-06\n"
     ]
    },
    {
     "data": {
      "image/png": "[encoded data removed]",
      "text/plain": [
       "<Figure size 504x504 with 1 Axes>"
      ]
     },
     "metadata": {
      "needs_background": "light"
     },
     "output_type": "display_data"
    }
   ],
   "source": [
    "assert (u == ugolden).all(); show_result(u, step, norm)"
   ]
  },
  {
   "cell_type": "markdown",
   "metadata": {
    "slideshow": {
     "slide_type": "slide"
    }
   },
   "source": [
    "# Nested loop in C++\n",
    "\n",
    "Oftentimes numpy is still not fast enough.  Besides, it's not really easy to read.  Nested loop reads more straight-forward for our point-Jacobi method.  Now xtensor comes to help.\n",
    "\n",
    "Except the parentheses, the C++ version looks almost the same as the Python version."
   ]
  },
  {
   "cell_type": "code",
   "execution_count": 14,
   "metadata": {
    "slideshow": {
     "slide_type": "skip"
    }
   },
   "outputs": [],
   "source": [
    "%%pybind11 -c=\"-O3\"\n",
    "\n",
    "#include \"pybind11/pybind11.h\"\n",
    "#define FORCE_IMPORT_ARRAY\n",
    "#include \"xtensor-python/pyarray.hpp\"\n",
    "\n",
    "#include <vector>\n",
    "#include <algorithm>\n",
    "#include <tuple>\n",
    "#include <iostream>\n",
    "\n",
    "#include \"xtensor/xarray.hpp\"\n",
    "#include \"xtensor/xadapt.hpp\"\n",
    "#include \"xtensor/xview.hpp\"\n",
    "\n",
    "std::tuple<xt::xarray<double>, size_t, double>\n",
    "solve1(xt::xarray<double> u)\n",
    "{\n",
    "    const size_t nx = u.shape(0);\n",
    "    xt::xarray<double> un = u;\n",
    "    bool converged = false;\n",
    "    size_t step = 0;\n",
    "    double norm;\n",
    "    while (!converged)\n",
    "    {\n",
    "        ++step;\n",
    "        for (size_t it=1; it<nx-1; ++it)\n",
    "        {\n",
    "            for (size_t jt=1; jt<nx-1; ++jt)\n",
    "            {\n",
    "                un(it,jt) = (u(it+1,jt) + u(it-1,jt) + u(it,jt+1) + u(it,jt-1)) / 4;\n",
    "            }\n",
    "        }\n",
    "        norm = xt::amax(xt::abs(un-u))();\n",
    "        if (norm < 1.e-5) { converged = true; }\n",
    "        u = un;\n",
    "    }\n",
    "    return std::make_tuple(u, step, norm);\n",
    "}\n",
    "\n",
    "PYBIND11_MODULE(code1, m)\n",
    "{\n",
    "    xt::import_numpy();\n",
    "    m.def\n",
    "    (\n",
    "        \"solve_cpp\", [](xt::pyarray<double> & uin) { return solve1(xt::xarray<double>(uin)); }\n",
    "    );\n",
    "}"
   ]
  },
  {
   "cell_type": "code",
   "execution_count": 15,
   "metadata": {
    "slideshow": {
     "slide_type": "subslide"
    }
   },
   "outputs": [
    {
     "name": "stdout",
     "output_type": "stream",
     "text": [
      "CPU times: user 29.7 ms, sys: 506 µs, total: 30.2 ms\n",
      "Wall time: 29.9 ms\n"
     ]
    }
   ],
   "source": [
    "%%time\n",
    "u, step, norm = solve_cpp(uoriginal)"
   ]
  },
  {
   "cell_type": "code",
   "execution_count": 16,
   "metadata": {},
   "outputs": [
    {
     "name": "stdout",
     "output_type": "stream",
     "text": [
      "step 2097 norm 9.997406535677822e-06\n"
     ]
    },
    {
     "data": {
      "image/png": "[encoded data removed]",
      "text/plain": [
       "<Figure size 504x504 with 1 Axes>"
      ]
     },
     "metadata": {
      "needs_background": "light"
     },
     "output_type": "display_data"
    }
   ],
   "source": [
    "assert (u == ugolden).all(); show_result(u, step, norm)"
   ]
  },
  {
   "cell_type": "markdown",
   "metadata": {
    "slideshow": {
     "slide_type": "slide"
    }
   },
   "source": [
    "# Major source of overhead: data preparation\n",
    "\n",
    "Numerical calculation takes time.  Intuitively, developers spend time on optimizing the number-crunching code.  However, for a useful application, the house-keeping code for preparing the calculation data and post-processing the results is equally important.\n",
    "\n",
    "In our previous example of solving the Laplace equation, all the conditions are hard-coded.  It's OK for the teaching purpose, but not useful to those who don't know so much about the math and numerical.  This time, I will use an example of curve fitting to show how the house-keeping code affects performance, and xtensor comes to help.\n",
    "\n",
    "We will do polynomial curve fitting for data in groups of variable length."
   ]
  },
  {
   "cell_type": "code",
   "execution_count": 17,
   "metadata": {},
   "outputs": [
    {
     "name": "stdout",
     "output_type": "stream",
     "text": [
      "CPU times: user 104 ms, sys: 9.91 ms, total: 114 ms\n",
      "Wall time: 117 ms\n"
     ]
    }
   ],
   "source": [
    "%%time\n",
    "# np.unique returns a sorted array.\n",
    "xdata = np.unique(np.random.sample(1000000) * 1000)\n",
    "ydata = np.random.sample(len(xdata)) * 1000"
   ]
  },
  {
   "cell_type": "markdown",
   "metadata": {},
   "source": [
    "The data are prepared.  Now, the code to fit the curve is totally in C++."
   ]
  },
  {
   "cell_type": "code",
   "execution_count": 18,
   "metadata": {},
   "outputs": [],
   "source": [
    "%%pybind11 -c=\"-O3\"\n",
    "\n",
    "#include \"pybind11/pybind11.h\"\n",
    "#define FORCE_IMPORT_ARRAY\n",
    "#include \"xtensor-python/pyarray.hpp\"\n",
    "\n",
    "#include <vector>\n",
    "#include <algorithm>\n",
    "\n",
    "#include \"xtensor/xarray.hpp\"\n",
    "#include \"xtensor/xadapt.hpp\"\n",
    "#include \"xtensor/xview.hpp\"\n",
    "#include \"xtensor-blas/xlinalg.hpp\"\n",
    "\n",
    "using array_type = xt::xarray<double>;\n",
    "\n",
    "template <class AT>\n",
    "xt::xarray<double> fit_poly(AT & xarr, AT & yarr, size_t order)\n",
    "{\n",
    "    if (xarr.size() != yarr.size()) { throw std::runtime_error(\"xarr and yarr size mismatch\"); }\n",
    "    \n",
    "    xt::xarray<double> matrix(std::vector<size_t>{order+1, order+1});\n",
    "\n",
    "    for (size_t it=0; it<order+1; ++it)\n",
    "    {\n",
    "        for (size_t jt=0; jt<order+1; ++jt)\n",
    "        {\n",
    "            double & val = matrix(it, jt);\n",
    "            val = 0;\n",
    "            for (size_t kt=0; kt<xarr.size(); ++kt) { val += pow(xarr[kt], it+jt); }\n",
    "        }\n",
    "    }\n",
    "\n",
    "    xt::xarray<double> rhs(std::vector<size_t>{order+1});\n",
    "    for (size_t jt=0; jt<order+1; ++jt)\n",
    "    {\n",
    "        rhs[jt] = 0;\n",
    "        for (size_t kt=0; kt<yarr.size(); ++kt) { rhs[jt] += pow(xarr[kt], jt) * yarr[kt]; }\n",
    "    }\n",
    "\n",
    "    xt::xarray<double> lhs = xt::linalg::solve(matrix, rhs);\n",
    "    std::reverse(lhs.begin(), lhs.end()); // to make numpy.poly1d happy.\n",
    "\n",
    "    return lhs;\n",
    "}\n",
    "\n",
    "template <class AT>\n",
    "xt::xarray<double> fit_polys(xt::xarray<double> & xarr, xt::xarray<double> & yarr, size_t order)\n",
    "{\n",
    "    size_t xmin = std::floor(*std::min_element(xarr.begin(), xarr.end()));\n",
    "    size_t xmax = std::ceil(*std::max_element(xarr.begin(), xarr.end()));\n",
    "    size_t ninterval = xmax - xmin;\n",
    "\n",
    "    xt::xarray<double> lhs(std::vector<size_t>{ninterval, order+1});\n",
    "    lhs.fill(0); // sentinel.\n",
    "    size_t start=0;\n",
    "    for (size_t it=0; it<xmax; ++it)\n",
    "    {\n",
    "        size_t stop;\n",
    "        for (stop=start; stop<xarr.size(); ++stop) { if (xarr[stop]>=it+1) { break; } }\n",
    "\n",
    "        AT const sub_x = xt::view(xarr, xt::range(start, stop));\n",
    "        AT const sub_y = xt::view(yarr, xt::range(start, stop));        \n",
    "\n",
    "        xt::xarray<double> sub_lhs = fit_poly(sub_x, sub_y, order);\n",
    "        xt::view(lhs, it, xt::all()) = sub_lhs;\n",
    "        \n",
    "        start = stop;\n",
    "    }\n",
    "\n",
    "    return lhs;\n",
    "}\n",
    "\n",
    "PYBIND11_MODULE(example, m)\n",
    "{\n",
    "    xt::import_numpy();\n",
    "    m.def\n",
    "    (\n",
    "        \"fit_poly\"\n",
    "      , [](xt::pyarray<double> & xarr_in, xt::pyarray<double> & yarr_in, size_t order)\n",
    "        {\n",
    "            std::vector<size_t> xarr_shape(xarr_in.shape().begin(), xarr_in.shape().end());\n",
    "            xt::xarray<double> xarr = xt::adapt(xarr_in.data(), xarr_shape);\n",
    "\n",
    "            std::vector<size_t> yarr_shape(yarr_in.shape().begin(), yarr_in.shape().end());\n",
    "            xt::xarray<double> yarr = xt::adapt(yarr_in.data(), yarr_shape);\n",
    "\n",
    "            return fit_poly(xarr, yarr, order);\n",
    "        }\n",
    "    );\n",
    "    m.def\n",
    "    (\n",
    "        \"fit_polys\"\n",
    "      , [](xt::pyarray<double> & xarr_in, xt::pyarray<double> & yarr_in, size_t order)\n",
    "        {\n",
    "            std::vector<size_t> xarr_shape(xarr_in.shape().begin(), xarr_in.shape().end());\n",
    "            xt::xarray<double> xarr = xt::adapt(xarr_in.data(), xarr_shape);\n",
    "            std::vector<size_t> yarr_shape(yarr_in.shape().begin(), yarr_in.shape().end());\n",
    "            xt::xarray<double> yarr = xt::adapt(yarr_in.data(), yarr_shape);\n",
    "            return fit_polys<array_type>(xarr, yarr, order);\n",
    "        }\n",
    "    );\n",
    "}"
   ]
  },
  {
   "cell_type": "markdown",
   "metadata": {},
   "source": [
    "Call our `fit_poly` helper to find the fitted curve of a group of points."
   ]
  },
  {
   "cell_type": "code",
   "execution_count": 19,
   "metadata": {},
   "outputs": [
    {
     "name": "stdout",
     "output_type": "stream",
     "text": [
      "[-3.78723085e+02  1.18298670e+04 -1.23089877e+05  4.27128022e+05]\n"
     ]
    },
    {
     "data": {
      "image/png": "[encoded data removed]",
      "text/plain": [
       "<Figure size 864x576 with 1 Axes>"
      ]
     },
     "metadata": {
      "needs_background": "light"
     },
     "output_type": "display_data"
    }
   ],
   "source": [
    "plt.rc('figure', figsize=(12, 8))\n",
    "\n",
    "def plot_poly_fitted(i):\n",
    "    slct = (xdata>=i)&(xdata<(i+1))\n",
    "    sub_x = xdata[slct]\n",
    "    sub_y = ydata[slct]\n",
    "    poly = fit_poly(sub_x, sub_y, 3)\n",
    "    print(poly)\n",
    "    poly = np.poly1d(poly)\n",
    "    xp = np.linspace(sub_x.min(), sub_x.max(), 100)\n",
    "    plt.plot(sub_x, sub_y, '.', xp, poly(xp), '-')\n",
    "    \n",
    "plot_poly_fitted(10)"
   ]
  },
  {
   "cell_type": "markdown",
   "metadata": {},
   "source": [
    "Now, let's see the impact to runtime from the house-keeping code outside the calculating helper."
   ]
  },
  {
   "cell_type": "code",
   "execution_count": 20,
   "metadata": {},
   "outputs": [
    {
     "name": "stdout",
     "output_type": "stream",
     "text": [
      "CPU times: user 1.42 s, sys: 6.02 ms, total: 1.42 s\n",
      "Wall time: 1.43 s\n"
     ]
    }
   ],
   "source": [
    "%%time\n",
    "# Do the calculation for the 1000 groups of points.\n",
    "polygroup = np.empty((1000, 3), dtype='float64')\n",
    "for i in range(1000):\n",
    "    # Use numpy to build the point group.\n",
    "    slct = (xdata>=i)&(xdata<(i+1))\n",
    "    sub_x = xdata[slct]\n",
    "    sub_y = ydata[slct]\n",
    "    polygroup[i,:] = fit_poly(sub_x, sub_y, 2)"
   ]
  },
  {
   "cell_type": "code",
   "execution_count": 21,
   "metadata": {},
   "outputs": [
    {
     "name": "stdout",
     "output_type": "stream",
     "text": [
      "CPU times: user 1.28 s, sys: 14.6 ms, total: 1.3 s\n",
      "Wall time: 1.3 s\n"
     ]
    }
   ],
   "source": [
    "%%time\n",
    "# Using numpy to build the point groups takes a lot of time.\n",
    "data_groups = []\n",
    "for i in range(1000):\n",
    "    slct = (xdata>=i)&(xdata<(i+1))\n",
    "    data_groups.append((xdata[slct], ydata[slct]))"
   ]
  },
  {
   "cell_type": "code",
   "execution_count": 22,
   "metadata": {},
   "outputs": [
    {
     "name": "stdout",
     "output_type": "stream",
     "text": [
      "CPU times: user 217 ms, sys: 5.08 ms, total: 222 ms\n",
      "Wall time: 218 ms\n"
     ]
    }
   ],
   "source": [
    "%%time\n",
    "# Fitting helper runtime is much less than building the point groups.\n",
    "polygroup = np.empty((1000, 3), dtype='float64')\n",
    "for it, (sub_x, sub_y) in enumerate(data_groups):\n",
    "    polygroup[it,:] = fit_poly(sub_x, sub_y, 2)"
   ]
  },
  {
   "cell_type": "markdown",
   "metadata": {},
   "source": [
    "It's very productive to write house-keeping code in Python.  As we see, the price to pay is the runtime, and oftentimes memory as well.  But to spend 5x the runtime in house-keeping code is intolerable.  We need to write C++ to speed up.\n",
    "\n",
    "Now see the `fit_polys` C++ helper.  It detects the point group right before fitting."
   ]
  },
  {
   "cell_type": "code",
   "execution_count": 23,
   "metadata": {},
   "outputs": [
    {
     "name": "stdout",
     "output_type": "stream",
     "text": [
      "CPU times: user 215 ms, sys: 5.7 ms, total: 221 ms\n",
      "Wall time: 221 ms\n"
     ]
    }
   ],
   "source": [
    "%%time\n",
    "rbatch = fit_polys(xdata, ydata, 2)"
   ]
  },
  {
   "cell_type": "markdown",
   "metadata": {},
   "source": [
    "The runtime of the house-keeping code becomes negligible.  You may verify the calculation results too."
   ]
  },
  {
   "cell_type": "code",
   "execution_count": 24,
   "metadata": {},
   "outputs": [
    {
     "name": "stdout",
     "output_type": "stream",
     "text": [
      "(1000, 3)\n"
     ]
    }
   ],
   "source": [
    "print(rbatch.shape)\n",
    "# Verify batch.\n",
    "assert (rbatch[i] == polygroup[i]).all()"
   ]
  },
  {
   "cell_type": "markdown",
   "metadata": {},
   "source": [
    "Another interesting experiment is to throw all the points as one group to `fit_poly`.  The runtime is very close to `fit_polys`."
   ]
  },
  {
   "cell_type": "code",
   "execution_count": 25,
   "metadata": {},
   "outputs": [
    {
     "name": "stdout",
     "output_type": "stream",
     "text": [
      "CPU times: user 202 ms, sys: 1.39 ms, total: 204 ms\n",
      "Wall time: 204 ms\n"
     ]
    }
   ],
   "source": [
    "%%time\n",
    "allpoly = fit_poly(xdata, ydata, 2)"
   ]
  },
  {
   "cell_type": "markdown",
   "metadata": {},
   "source": [
    "The fitted curve is close to a straight line."
   ]
  },
  {
   "cell_type": "code",
   "execution_count": 26,
   "metadata": {},
   "outputs": [
    {
     "name": "stdout",
     "output_type": "stream",
     "text": [
      "[ 1.25208296e-06 -6.97018652e-04  4.99766452e+02]\n"
     ]
    },
    {
     "data": {
      "text/plain": [
       "[<matplotlib.lines.Line2D at 0x107356750>,\n",
       " <matplotlib.lines.Line2D at 0x107356c50>]"
      ]
     },
     "execution_count": 26,
     "metadata": {},
     "output_type": "execute_result"
    },
    {
     "data": {
      "image/png": "[encoded data removed]",
      "text/plain": [
       "<Figure size 864x576 with 1 Axes>"
      ]
     },
     "metadata": {
      "needs_background": "light"
     },
     "output_type": "display_data"
    }
   ],
   "source": [
    "print(allpoly)\n",
    "poly = np.poly1d(allpoly)\n",
    "xp = np.linspace(xdata.min(), xdata.max(), 100)\n",
    "plt.plot(xdata, ydata, '.', xp, poly(xp), '-')"
   ]
  },
  {
   "cell_type": "markdown",
   "metadata": {},
   "source": [
    "## Struct of array and array of struct\n",
    "\n",
    "```cpp\n",
    "struct StructOfArray\n",
    "{\n",
    "    std::vector<double> x;\n",
    "    std::vector<double> y;\n",
    "};\n",
    "\n",
    "struct PointProxy\n",
    "{\n",
    "    StructOfArray * soa;\n",
    "    size_t idx;\n",
    "    double   x() const { return soa.x[idx]; }\n",
    "    double & x()       { return soa.x[idx]; }\n",
    "    double   y() const { return soa.y[idx]; }\n",
    "    double & y()       { return soa.y[idx]; }\n",
    "};\n",
    "\n",
    "/*\n",
    " * Array of struct:\n",
    " */\n",
    "struct Point\n",
    "{\n",
    "    double x, y;\n",
    "};\n",
    "\n",
    "using ArrayOfStruct = std::vector<Point>;\n",
    "```"
   ]
  },
  {
   "cell_type": "markdown",
   "metadata": {},
   "source": [
    "# Conversion between dynamic and static semantics"
   ]
  },
  {
   "cell_type": "markdown",
   "metadata": {},
   "source": [
    "## Do it your self\n",
    "\n",
    "It's not a bad idea to do it manually.  Spelling the static to dynamic conversion makes it clear what do we want to do.  When we work in the inner-most loop, no `PyObject` or virtual function table should be there.\n",
    "\n",
    "```cpp\n",
    "template <size_t ND>\n",
    "class SpaceBase\n",
    "{\n",
    "public:\n",
    "    static constexpr const size_t NDIM = ND;\n",
    "    using serial_type = uint32_t;\n",
    "    using real_type = double;\n",
    "}; /* end class SpaceBase */\n",
    "\n",
    "class StaticGrid1d\n",
    "  : public StaticGridBase<1>\n",
    "{\n",
    "}; /* end class StaticGrid1d */\n",
    "\n",
    "class StaticGrid2d\n",
    "  : public StaticGridBase<2>\n",
    "{\n",
    "}; /* end class StaticGrid2d */\n",
    "\n",
    "class StaticGrid3d\n",
    "  : public StaticGridBase<3>\n",
    "{\n",
    "}; /* end class StaticGrid3d */\n",
    "\n",
    "/*\n",
    " * WrapStaticGridBase has the pybind11 wrapping code.\n",
    " */\n",
    "\n",
    "class WrapStaticGrid1d\n",
    "  : public WrapStaticGridBase< WrapStaticGrid1d, StaticGrid1d >\n",
    "{\n",
    "}; /* end class WrapStaticGrid1d */\n",
    "\n",
    "class WrapStaticGrid2d\n",
    "  : public WrapStaticGridBase< WrapStaticGrid2d, StaticGrid2d >\n",
    "{\n",
    "}; /* end class WrapStaticGrid2d */\n",
    "\n",
    "class WrapStaticGrid3d\n",
    "  : public WrapStaticGridBase< WrapStaticGrid3d, StaticGrid3d >\n",
    "{\n",
    "}; /* end class WrapStaticGrid3d */\n",
    "\n",
    "PYBIND11_MODULE(_modmesh, mod)\n",
    "{\n",
    "    WrapStaticGrid1d::commit(mod);\n",
    "    WrapStaticGrid2d::commit(mod);\n",
    "    WrapStaticGrid3d::commit(mod);\n",
    "}\n",
    "```"
   ]
  },
  {
   "cell_type": "markdown",
   "metadata": {},
   "source": [
    "## Example: `pybind11::cppfunction`\n",
    "\n",
    "### `pybind11::cppfunction`\n",
    "\n",
    "https://github.com/pybind/pybind11/blob/v2.4.3/include/pybind11/pybind11.h#L56\n",
    "\n",
    "```cpp\n",
    "/// Wraps an arbitrary C++ function/method/lambda function/.. into a callable Python object\n",
    "class cpp_function : public function {\n",
    "public:\n",
    "    cpp_function() { }\n",
    "    cpp_function(std::nullptr_t) { }\n",
    "\n",
    "    /// Construct a cpp_function from a vanilla function pointer\n",
    "    template <typename Return, typename... Args, typename... Extra>\n",
    "    cpp_function(Return (*f)(Args...), const Extra&... extra) {\n",
    "        initialize(f, f, extra...);\n",
    "    }\n",
    "\n",
    "    /// Construct a cpp_function from a lambda function (possibly with internal state)\n",
    "    template <typename Func, typename... Extra,\n",
    "              typename = detail::enable_if_t<detail::is_lambda<Func>::value>>\n",
    "    cpp_function(Func &&f, const Extra&... extra) {\n",
    "        initialize(std::forward<Func>(f),\n",
    "                   (detail::function_signature_t<Func> *) nullptr, extra...);\n",
    "    }\n",
    "\n",
    "    /// Construct a cpp_function from a class method (non-const)\n",
    "    template <typename Return, typename Class, typename... Arg, typename... Extra>\n",
    "    cpp_function(Return (Class::*f)(Arg...), const Extra&... extra) {\n",
    "        initialize([f](Class *c, Arg... args) -> Return { return (c->*f)(args...); },\n",
    "                   (Return (*) (Class *, Arg...)) nullptr, extra...);\n",
    "    }\n",
    "\n",
    "    /// Construct a cpp_function from a class method (const)\n",
    "    template <typename Return, typename Class, typename... Arg, typename... Extra>\n",
    "    cpp_function(Return (Class::*f)(Arg...) const, const Extra&... extra) {\n",
    "        initialize([f](const Class *c, Arg... args) -> Return { return (c->*f)(args...); },\n",
    "                   (Return (*)(const Class *, Arg ...)) nullptr, extra...);\n",
    "    }\n",
    "\n",
    "// ...\n",
    "```\n",
    "\n",
    "### `pybind11::cppfunction::initialize`\n",
    "\n",
    "https://github.com/pybind/pybind11/blob/v2.4.3/include/pybind11/pybind11.h#L98\n",
    "\n",
    "```cpp\n",
    "/// Special internal constructor for functors, lambda functions, etc.\n",
    "template <typename Func, typename Return, typename... Args, typename... Extra>\n",
    "void initialize(Func &&f, Return (*)(Args...), const Extra&... extra) {\n",
    "// ...\n",
    "```\n",
    "\n",
    "### `pybind11::cppfunction::dispatch`\n",
    "\n",
    "https://github.com/pybind/pybind11/blob/v2.4.3/include/pybind11/pybind11.h#L423\n",
    "\n",
    "```cpp\n",
    "static PyObject *dispatcher(PyObject *self, PyObject *args_in, PyObject *kwargs_in) {\n",
    "// ...\n",
    "```"
   ]
  },
  {
   "cell_type": "markdown",
   "metadata": {},
   "source": [
    "# Insert profiling code\n",
    "\n",
    "In addition to using OS-provided profiling tools, e.g., Linux's perf and Macos's Instruments, we should also add a custom profiling layer in the code.  You may need to port your code to a platform that doens't have very good system profiler.  Your custom profiler will become the safety net."
   ]
  },
  {
   "cell_type": "markdown",
   "metadata": {},
   "source": [
    "```cpp\n",
    "/*\n",
    " * MODMESH_PROFILE defined: Enable profiling API.\n",
    " */\n",
    "#ifdef MODMESH_PROFILE\n",
    "\n",
    "#define MODMESH_TIME(NAME) \\\n",
    "    ScopedTimer local_scoped_timer_ ## __LINE__(NAME);\n",
    "\n",
    "/*\n",
    " * No MODMESH_PROFILE defined: Disable profiling API.\n",
    " */\n",
    "#else // MODMESH_PROFILE\n",
    "\n",
    "#define MODMESH_TIME(NAME)\n",
    "\n",
    "#endif // MODMESH_PROFILE\n",
    "/*\n",
    " * End MODMESH_PROFILE.\n",
    " */\n",
    "\n",
    "struct ScopedTimer\n",
    "{\n",
    "\n",
    "    ScopedTimer() = delete;\n",
    "\n",
    "    ScopedTimer(const char * name) : m_name(name) {}\n",
    "\n",
    "    ~ScopedTimer()\n",
    "    {\n",
    "        TimeRegistry::me().add(m_name, m_sw.lap());\n",
    "    }\n",
    "\n",
    "    StopWatch m_sw;\n",
    "    char const * m_name;\n",
    "\n",
    "}; /* end struct ScopedTimer */\n",
    "\n",
    "// Manually\n",
    "void StaticGrid1d::fill(StaticGrid1d::real_type val)\n",
    "{\n",
    "    MODMESH_TIME(\"StaticGrid1d::fill\");\n",
    "    std::fill(m_coord.get(), m_coord.get()+m_nx, val);\n",
    "}\n",
    "```"
   ]
  },
  {
   "cell_type": "markdown",
   "metadata": {},
   "source": [
    "## Profiler turned off"
   ]
  },
  {
   "cell_type": "code",
   "execution_count": 1,
   "metadata": {},
   "outputs": [
    {
     "name": "stdout",
     "output_type": "stream",
     "text": [
      "mkdir -p build/dev37 ; \\\n",
      "\tcd build/dev37 ; \\\n",
      "\tcmake /Users/yungyuc/hack/code/nsd/notebook/arraydesign/modmesh \\\n",
      "\t\t-DCMAKE_INSTALL_PREFIX=/Users/yungyuc/hack/code/nsd/notebook/arraydesign/modmesh \\\n",
      "\t\t-DCMAKE_BUILD_TYPE=Release \\\n",
      "\t\t-DHIDE_SYMBOL=OFF \\\n",
      "\t\t-DDEBUG_SYMBOL=ON \\\n",
      "\t\t-DMODMESH_PROFILE=OFF \\\n",
      "\t\t-DUSE_CLANG_TIDY=OFF \\\n",
      "\t\t-DLINT_AS_ERRORS=ON \\\n",
      "\t\t\n",
      "-- The C compiler identification is AppleClang 11.0.0.11000033\n",
      "-- The CXX compiler identification is AppleClang 11.0.0.11000033\n",
      "-- Check for working C compiler: /Library/Developer/CommandLineTools/usr/bin/cc\n",
      "-- Check for working C compiler: /Library/Developer/CommandLineTools/usr/bin/cc -- works\n",
      "-- Detecting C compiler ABI info\n",
      "-- Detecting C compiler ABI info - done\n",
      "-- Detecting C compile features\n",
      "-- Detecting C compile features - done\n",
      "-- Check for working CXX compiler: /Library/Developer/CommandLineTools/usr/bin/c++\n",
      "-- Check for working CXX compiler: /Library/Developer/CommandLineTools/usr/bin/c++ -- works\n",
      "-- Detecting CXX compiler ABI info\n",
      "-- Detecting CXX compiler ABI info - done\n",
      "-- Detecting CXX compile features\n",
      "-- Detecting CXX compile features - done\n",
      "-- HIDE_SYMBOL: OFF\n",
      "-- DEBUG_SYMBOL: ON\n",
      "-- MODMESH_PROFILE: OFF\n",
      "-- Found PythonInterp: /Users/yungyuc/hack/usr/opt37_190418/bin/python3.7 (found version \"3.7.4\") \n",
      "-- Found PythonLibs: /Users/yungyuc/hack/usr/opt37_190418/lib/libpython3.7m.dylib\n",
      "-- pybind11_INCLUDE_DIRS: /Users/yungyuc/hack/usr/opt37_190418/include;/Users/yungyuc/hack/usr/opt37_190418/include/python3.7m\n",
      "-- Found NumPy: /Users/yungyuc/hack/usr/opt37_190418/lib/python3.7/site-packages/numpy/core/include (found version \"1.17.0.dev0+3c3ba10\") \n",
      "-- NUMPY_INCLUDE_DIR: /Users/yungyuc/hack/usr/opt37_190418/lib/python3.7/site-packages/numpy/core/include\n",
      "-- Performing Test HAS_FLTO\n",
      "-- Performing Test HAS_FLTO - Success\n",
      "-- LTO enabled\n",
      "-- Configuring done\n",
      "-- Generating done\n",
      "CMake Warning:\n",
      "  Manually-specified variables were not used by the project:\n",
      "\n",
      "    LINT_AS_ERRORS\n",
      "    USE_CLANG_TIDY\n",
      "\n",
      "\n",
      "-- Build files have been written to: /Users/yungyuc/hack/code/nsd/notebook/arraydesign/modmesh/build/dev37\n",
      "make -C build/dev37 VERBOSE= _modmesh\n",
      "Dependee \"/Users/yungyuc/hack/code/nsd/notebook/arraydesign/modmesh/build/dev37/CMakeFiles/_modmesh.dir/DependInfo.cmake\" is newer than depender \"/Users/yungyuc/hack/code/nsd/notebook/arraydesign/modmesh/build/dev37/CMakeFiles/_modmesh.dir/depend.internal\".\n",
      "Dependee \"/Users/yungyuc/hack/code/nsd/notebook/arraydesign/modmesh/build/dev37/CMakeFiles/CMakeDirectoryInformation.cmake\" is newer than depender \"/Users/yungyuc/hack/code/nsd/notebook/arraydesign/modmesh/build/dev37/CMakeFiles/_modmesh.dir/depend.internal\".\n",
      "\u001b[35m\u001b[1mScanning dependencies of target _modmesh\u001b[0m\n",
      "[ 50%] \u001b[32mBuilding CXX object CMakeFiles/_modmesh.dir/src/modmesh.cpp.o\u001b[0m\n",
      "[100%] \u001b[32m\u001b[1mLinking CXX shared module _modmesh.cpython-37m-darwin.so\u001b[0m\n",
      "[100%] Built target _modmesh\n",
      "touch build/dev37/_modmesh.cpython-37m-darwin.so\n",
      "make -C build/dev37 VERBOSE= _modmesh_py\n",
      "[100%] Built target _modmesh\n",
      "Dependee \"/Users/yungyuc/hack/code/nsd/notebook/arraydesign/modmesh/build/dev37/CMakeFiles/_modmesh_py.dir/DependInfo.cmake\" is newer than depender \"/Users/yungyuc/hack/code/nsd/notebook/arraydesign/modmesh/build/dev37/CMakeFiles/_modmesh_py.dir/depend.internal\".\n",
      "Dependee \"/Users/yungyuc/hack/code/nsd/notebook/arraydesign/modmesh/build/dev37/CMakeFiles/CMakeDirectoryInformation.cmake\" is newer than depender \"/Users/yungyuc/hack/code/nsd/notebook/arraydesign/modmesh/build/dev37/CMakeFiles/_modmesh_py.dir/depend.internal\".\n",
      "\u001b[35m\u001b[1mScanning dependencies of target _modmesh_py\u001b[0m\n",
      "[100%] Built target _modmesh_py\n",
      "touch /Users/yungyuc/hack/code/nsd/notebook/arraydesign/modmesh/modmesh/_modmesh.cpython-37m-darwin.so\n"
     ]
    }
   ],
   "source": [
    "!rm -rf modmesh/build ; make -C modmesh buildext"
   ]
  },
  {
   "cell_type": "code",
   "execution_count": 2,
   "metadata": {},
   "outputs": [
    {
     "name": "stdout",
     "output_type": "stream",
     "text": [
      "\r\n"
     ]
    }
   ],
   "source": [
    "!./fill.py"
   ]
  },
  {
   "cell_type": "markdown",
   "metadata": {},
   "source": [
    "## Profiler turned on"
   ]
  },
  {
   "cell_type": "code",
   "execution_count": 3,
   "metadata": {},
   "outputs": [
    {
     "name": "stdout",
     "output_type": "stream",
     "text": [
      "mkdir -p build/dev37 ; \\\n",
      "\tcd build/dev37 ; \\\n",
      "\tcmake /Users/yungyuc/hack/code/nsd/notebook/arraydesign/modmesh \\\n",
      "\t\t-DCMAKE_INSTALL_PREFIX=/Users/yungyuc/hack/code/nsd/notebook/arraydesign/modmesh \\\n",
      "\t\t-DCMAKE_BUILD_TYPE=Release \\\n",
      "\t\t-DHIDE_SYMBOL=OFF \\\n",
      "\t\t-DDEBUG_SYMBOL=ON \\\n",
      "\t\t-DMODMESH_PROFILE=ON \\\n",
      "\t\t-DUSE_CLANG_TIDY=OFF \\\n",
      "\t\t-DLINT_AS_ERRORS=ON \\\n",
      "\t\t\n",
      "-- HIDE_SYMBOL: OFF\n",
      "-- DEBUG_SYMBOL: ON\n",
      "-- MODMESH_PROFILE: ON\n",
      "-- pybind11_INCLUDE_DIRS: /Users/yungyuc/hack/usr/opt37_190418/include;/Users/yungyuc/hack/usr/opt37_190418/include/python3.7m\n",
      "-- NUMPY_INCLUDE_DIR: /Users/yungyuc/hack/usr/opt37_190418/lib/python3.7/site-packages/numpy/core/include\n",
      "-- Configuring done\n",
      "-- Generating done\n",
      "-- Build files have been written to: /Users/yungyuc/hack/code/nsd/notebook/arraydesign/modmesh/build/dev37\n",
      "make -C build/dev37 VERBOSE= _modmesh\n",
      "[ 50%] \u001b[32mBuilding CXX object CMakeFiles/_modmesh.dir/src/modmesh.cpp.o\u001b[0m\n",
      "[100%] \u001b[32m\u001b[1mLinking CXX shared module _modmesh.cpython-37m-darwin.so\u001b[0m\n",
      "[100%] Built target _modmesh\n",
      "touch build/dev37/_modmesh.cpython-37m-darwin.so\n",
      "make -C build/dev37 VERBOSE= _modmesh_py\n",
      "[100%] Built target _modmesh\n",
      "[100%] Built target _modmesh_py\n",
      "touch /Users/yungyuc/hack/code/nsd/notebook/arraydesign/modmesh/modmesh/_modmesh.cpython-37m-darwin.so\n"
     ]
    }
   ],
   "source": [
    "!touch modmesh/Makefile ; make -C modmesh buildext MODMESH_PROFILE=ON"
   ]
  },
  {
   "cell_type": "code",
   "execution_count": 4,
   "metadata": {},
   "outputs": [
    {
     "name": "stdout",
     "output_type": "stream",
     "text": [
      "StaticGrid1d::fill : count = 100 , time = 0.04119 (second)\r\n",
      "\r\n"
     ]
    }
   ],
   "source": [
    "!./fill.py"
   ]
  },
  {
   "cell_type": "markdown",
   "metadata": {
    "slideshow": {
     "slide_type": "slide"
    }
   },
   "source": [
    "References:\n",
    "* xtensor; multi-dimensional arrays with broadcasting and lazy computing: https://xtensor.readthedocs.io\n",
    "* xtensor-python; Python bindings for the xtensor C++ multi-dimensional array library: https://xtensor-python.readthedocs.io\n",
    "* pybind11 — Seamless operability between C++11 and Python: https://pybind11.readthedocs.io/en/stable/\n",
    "* IPython / Jupyter integration for pybind11: https://github.com/aldanor/ipybind"
   ]
  },
  {
   "cell_type": "markdown",
   "metadata": {},
   "source": [
    "# Problems\n",
    "\n",
    "1. xtensor allows writing array-based code in C++, just like what numpy does for Python.  Use xtensor to write array-based code in C++ by modifying the C++ version of the point-Jacobi solver.  The array-based C++ version should not have the inner loops.\n",
    "2. By allowing changing the signature of the `fit_poly` function, how can we ensure the shapes of `xarr` and `yarr` to be the same, without the explicit check with `\"xarr and yarr size mismatch\"`?  Write code to show."
   ]
  }
 ],
 "metadata": {
  "kernelspec": {
   "display_name": "Python 3",
   "language": "python",
   "name": "python3"
  },
  "language_info": {
   "codemirror_mode": {
    "name": "ipython",
    "version": 3
   },
   "file_extension": ".py",
   "mimetype": "text/x-python",
   "name": "python",
   "nbconvert_exporter": "python",
   "pygments_lexer": "ipython3",
   "version": "3.7.4+"
  }
 },
 "nbformat": 4,
 "nbformat_minor": 2
}
