{
 "cells": [
  {
   "cell_type": "code",
   "execution_count": null,
   "metadata": {
    "slideshow": {
     "slide_type": "skip"
    }
   },
   "outputs": [],
   "source": [
    "%load_ext ipybind\n",
    "%matplotlib inline"
   ]
  },
  {
   "cell_type": "markdown",
   "metadata": {
    "slideshow": {
     "slide_type": "slide"
    }
   },
   "source": [
    "# xtensor\n",
    "\n",
    "[xtensor](http://xtensor.readthedocs.io) is an array library in C++.  It defines the multi-dimensional array data structure suitable for compile-time optimization.\n",
    "\n",
    "1. xtensor: array library in C++\n",
    "2. Carry arrays between Python and C++\n",
    "3. Speed up array-based Python API using C++"
   ]
  },
  {
   "cell_type": "code",
   "execution_count": null,
   "metadata": {},
   "outputs": [],
   "source": [
    "import warnings\n",
    "warnings.filterwarnings('default')\n",
    "\n",
    "import cxxfilt\n",
    "import numpy as np\n",
    "\n",
    "import matplotlib.pyplot as plt\n",
    "plt.rc('figure', figsize=(12, 8))"
   ]
  },
  {
   "cell_type": "markdown",
   "metadata": {},
   "source": [
    "# Major source of overhead: data preparation\n",
    "\n",
    "Demonstration with polynomial curve fitting for data in groups of variable length."
   ]
  },
  {
   "cell_type": "code",
   "execution_count": null,
   "metadata": {},
   "outputs": [],
   "source": [
    "%%time\n",
    "xdata = np.unique(np.random.sample(1000000) * 1000) # the unique return sorted result\n",
    "ydata = np.random.sample(len(xdata)) * 1000"
   ]
  },
  {
   "cell_type": "code",
   "execution_count": null,
   "metadata": {},
   "outputs": [],
   "source": [
    "%%time\n",
    "data_groups = []\n",
    "for i in range(1000):\n",
    "    slct = (xdata>=i)&(xdata<(i+1))\n",
    "    data_groups.append((xdata[slct], ydata[slct]))"
   ]
  },
  {
   "cell_type": "code",
   "execution_count": null,
   "metadata": {},
   "outputs": [],
   "source": [
    "%%pybind11\n",
    "\n",
    "#include \"pybind11/pybind11.h\"\n",
    "#define FORCE_IMPORT_ARRAY\n",
    "#include \"xtensor-python/pyarray.hpp\"\n",
    "\n",
    "#include <vector>\n",
    "#include <algorithm>\n",
    "\n",
    "#include \"xtensor/xarray.hpp\"\n",
    "#include \"xtensor/xadapt.hpp\"\n",
    "#include \"xtensor/xview.hpp\"\n",
    "#include \"xtensor-blas/xlinalg.hpp\"\n",
    "\n",
    "using array_type = xt::xarray<double>;\n",
    "using view_type = xt::xview<array_type&, xt::xrange<long>>;\n",
    "\n",
    "template <class AT>\n",
    "xt::xarray<double> fit_poly(AT & xarr, AT & yarr, size_t order)\n",
    "{\n",
    "    if (xarr.size() != yarr.size()) { throw std::runtime_error(\"xarr and yarr size mismatch\"); }\n",
    "    \n",
    "    xt::xarray<double> matrix(std::vector<size_t>{order+1, order+1});\n",
    "\n",
    "    for (size_t it=0; it<order+1; ++it)\n",
    "    {\n",
    "        for (size_t jt=0; jt<order+1; ++jt)\n",
    "        {\n",
    "            double & val = matrix(it, jt);\n",
    "            val = 0;\n",
    "            for (size_t kt=0; kt<xarr.size(); ++kt) { val += pow(xarr[kt], it+jt); }\n",
    "        }\n",
    "    }\n",
    "\n",
    "    xt::xarray<double> rhs(std::vector<size_t>{order+1});\n",
    "    for (size_t jt=0; jt<order+1; ++jt)\n",
    "    {\n",
    "        rhs[jt] = 0;\n",
    "        for (size_t kt=0; kt<yarr.size(); ++kt) { rhs[jt] += pow(xarr[kt], jt) * yarr[kt]; }\n",
    "    }\n",
    "\n",
    "    xt::xarray<double> lhs = xt::linalg::solve(matrix, rhs);\n",
    "    std::reverse(lhs.begin(), lhs.end()); // to make numpy.poly1d happy.\n",
    "\n",
    "    return lhs;\n",
    "}\n",
    "\n",
    "template <class AT>\n",
    "xt::xarray<double> fit_polys(xt::xarray<double> & xarr, xt::xarray<double> & yarr, size_t order)\n",
    "{\n",
    "    size_t xmin = std::floor(*std::min_element(xarr.begin(), xarr.end()));\n",
    "    size_t xmax = std::ceil(*std::max_element(xarr.begin(), xarr.end()));\n",
    "    size_t ninterval = xmax - xmin;\n",
    "\n",
    "    xt::xarray<double> lhs(std::vector<size_t>{ninterval, order+1});\n",
    "    lhs.fill(0); // sentinel.\n",
    "    size_t start=0;\n",
    "    for (size_t it=0; it<xmax; ++it)\n",
    "    {\n",
    "        // Take advantage of the input being sorted.\n",
    "        size_t stop;\n",
    "        for (stop=start; stop<xarr.size(); ++stop) { if (xarr[stop]>=it+1) { break; } }\n",
    "\n",
    "        AT sub_x = xt::view(xarr, xt::range(start, stop));\n",
    "        AT sub_y = xt::view(yarr, xt::range(start, stop));        \n",
    "\n",
    "        xt::xarray<double> sub_lhs = fit_poly(sub_x, sub_y, order);\n",
    "        xt::view(lhs, it, xt::all()) = sub_lhs;\n",
    "        \n",
    "        start = stop;\n",
    "    }\n",
    "\n",
    "    return lhs;\n",
    "}\n",
    "\n",
    "PYBIND11_MODULE(example, m)\n",
    "{\n",
    "    xt::import_numpy();\n",
    "    m.def\n",
    "    (\n",
    "        \"fit_poly\"\n",
    "      , [](xt::pyarray<double> & xarr_in, xt::pyarray<double> & yarr_in, size_t order)\n",
    "        {\n",
    "            std::vector<size_t> xarr_shape(xarr_in.shape().begin(), xarr_in.shape().end());\n",
    "            xt::xarray<double> xarr = xt::adapt(xarr_in.data(), xarr_shape);\n",
    "\n",
    "            std::vector<size_t> yarr_shape(yarr_in.shape().begin(), yarr_in.shape().end());\n",
    "            xt::xarray<double> yarr = xt::adapt(yarr_in.data(), yarr_shape);\n",
    "\n",
    "            return fit_poly(xarr, yarr, order);\n",
    "        }\n",
    "    );\n",
    "    m.def\n",
    "    (\n",
    "        \"fit_polys_array\"\n",
    "      , [](xt::pyarray<double> & xarr_in, xt::pyarray<double> & yarr_in, size_t order)\n",
    "        {\n",
    "            std::vector<size_t> xarr_shape(xarr_in.shape().begin(), xarr_in.shape().end());\n",
    "            xt::xarray<double> xarr = xt::adapt(xarr_in.data(), xarr_shape);\n",
    "            std::vector<size_t> yarr_shape(yarr_in.shape().begin(), yarr_in.shape().end());\n",
    "            xt::xarray<double> yarr = xt::adapt(yarr_in.data(), yarr_shape);\n",
    "            return fit_polys<array_type>(xarr, yarr, order);\n",
    "        }\n",
    "    );\n",
    "    m.def\n",
    "    (\n",
    "        \"fit_polys_view\"\n",
    "      , [](xt::pyarray<double> & xarr_in, xt::pyarray<double> & yarr_in, size_t order)\n",
    "        {\n",
    "            std::vector<size_t> xarr_shape(xarr_in.shape().begin(), xarr_in.shape().end());\n",
    "            xt::xarray<double> xarr = xt::adapt(xarr_in.data(), xarr_shape);\n",
    "            std::vector<size_t> yarr_shape(yarr_in.shape().begin(), yarr_in.shape().end());\n",
    "            xt::xarray<double> yarr = xt::adapt(yarr_in.data(), yarr_shape);\n",
    "            return fit_polys<view_type>(xarr, yarr, order);\n",
    "        }\n",
    "    );\n",
    "    m.attr(\"fit_polys\") = m.attr(\"fit_polys_array\");\n",
    "}"
   ]
  },
  {
   "cell_type": "code",
   "execution_count": null,
   "metadata": {},
   "outputs": [],
   "source": [
    "%%time\n",
    "polygroup = np.empty((len(data_groups), 3), dtype='float64')\n",
    "for i in range(1000):\n",
    "    slct = (xdata>=i)&(xdata<(i+1))\n",
    "    sub_x = xdata[slct]\n",
    "    sub_y = ydata[slct]\n",
    "    polygroup[i,:] = fit_poly(sub_x, sub_y, 2)"
   ]
  },
  {
   "cell_type": "code",
   "execution_count": null,
   "metadata": {},
   "outputs": [],
   "source": [
    "%%time\n",
    "polygroup = np.empty((len(data_groups), 3), dtype='float64')\n",
    "for it, (sub_x, sub_y) in enumerate(data_groups):\n",
    "    polygroup[it,:] = fit_poly(sub_x, sub_y, 2)"
   ]
  },
  {
   "cell_type": "code",
   "execution_count": null,
   "metadata": {},
   "outputs": [],
   "source": [
    "%%time\n",
    "allpoly = fit_poly(xdata, ydata, 2)"
   ]
  },
  {
   "cell_type": "code",
   "execution_count": null,
   "metadata": {},
   "outputs": [],
   "source": [
    "print(allpoly)\n",
    "poly = np.poly1d(allpoly)\n",
    "xp = np.linspace(xdata.min(), xdata.max(), 100)\n",
    "plt.plot(xdata, ydata, '.', xp, poly(xp), '-')"
   ]
  },
  {
   "cell_type": "code",
   "execution_count": null,
   "metadata": {},
   "outputs": [],
   "source": [
    "%%time\n",
    "rbatch = fit_polys(xdata, ydata, 2)"
   ]
  },
  {
   "cell_type": "code",
   "execution_count": null,
   "metadata": {},
   "outputs": [],
   "source": [
    "%%time\n",
    "rbatch = fit_polys_array(xdata, ydata, 2)"
   ]
  },
  {
   "cell_type": "code",
   "execution_count": null,
   "metadata": {},
   "outputs": [],
   "source": [
    "%%time\n",
    "rbatch = fit_polys_view(xdata, ydata, 2)"
   ]
  },
  {
   "cell_type": "code",
   "execution_count": null,
   "metadata": {},
   "outputs": [],
   "source": [
    "rbatch = fit_polys(xdata, ydata, 2)\n",
    "print(rbatch.shape)\n",
    "# Verify batch.\n",
    "for i in range(1000):\n",
    "    assert (rbatch[i] == polygroup[i]).all()"
   ]
  },
  {
   "cell_type": "code",
   "execution_count": null,
   "metadata": {},
   "outputs": [],
   "source": [
    "i = 0\n",
    "slct = (xdata>=i)&(xdata<(i+1))\n",
    "sub_x = xdata[slct]\n",
    "sub_y = ydata[slct]\n",
    "poly = fit_poly(sub_x, sub_y, 3)\n",
    "print(poly)\n",
    "#poly = np.polyfit(sub_x, sub_y, 3)\n",
    "#poly = np.polynomial.polynomial.polyfit(sub_x, sub_y, 3)\n",
    "#print(poly)\n",
    "poly = np.poly1d(poly)\n",
    "xp = np.linspace(sub_x.min(), sub_x.max(), 100)\n",
    "plt.plot(sub_x, sub_y, '.', xp, poly(xp), '-')"
   ]
  },
  {
   "cell_type": "markdown",
   "metadata": {},
   "source": [
    "# `xarray` and `xview`"
   ]
  },
  {
   "cell_type": "code",
   "execution_count": null,
   "metadata": {},
   "outputs": [],
   "source": [
    "%%pybind11\n",
    "\n",
    "#include \"pybind11/pybind11.h\"\n",
    "#define FORCE_IMPORT_ARRAY\n",
    "#include \"xtensor-python/pyarray.hpp\"\n",
    "\n",
    "#include <vector>\n",
    "#include <algorithm>\n",
    "\n",
    "#include \"xtensor/xarray.hpp\"\n",
    "#include \"xtensor/xview.hpp\"\n",
    "\n",
    "using array_type = xt::pyarray<double>;\n",
    "using view_type = xt::xview<array_type&, xt::xrange<long>>;\n",
    "\n",
    "void set_view(xt::pyarray<double> & arr, size_t start, size_t stop, double fill_value)\n",
    "{\n",
    "    view_type view = xt::view(arr, xt::range(start, stop));\n",
    "    view.fill(fill_value);\n",
    "}\n",
    "\n",
    "PYBIND11_MODULE(example, m)\n",
    "{\n",
    "    xt::import_numpy();\n",
    "    m.def(\"set_view\", set_view);\n",
    "    m.attr(\"view_type_name\") = typeid(view_type).name();\n",
    "}"
   ]
  },
  {
   "cell_type": "code",
   "execution_count": null,
   "metadata": {},
   "outputs": [],
   "source": [
    "print(cxxfilt.demangle(view_type_name, external_only=False))\n",
    "\n",
    "arr = np.arange(10, dtype='float64')\n",
    "print(arr)\n",
    "set_view(arr, 3, 5, -1)\n",
    "print(arr)"
   ]
  },
  {
   "cell_type": "markdown",
   "metadata": {},
   "source": [
    "# `pyarray` and `xarray`"
   ]
  },
  {
   "cell_type": "markdown",
   "metadata": {},
   "source": [
    "Todo:\n",
    "\n",
    "1. Elemental operations in C++ runs much faster than that in Python\n",
    "2. Static and dynamic arrays with xtensor\n",
    "3. Algorithms are easier to be described in elemental mode, but house-keeping code is easier to be done in batch mode.\n",
    "4. Find 4 algorithms to present the use of xtensor.  One for lecture and three for exercises.\n",
    "  1. Curve fitting.  Least square."
   ]
  },
  {
   "cell_type": "markdown",
   "metadata": {},
   "source": [
    "# Problems\n",
    "\n",
    "1. By allowing changing the signature of the `fit_poly` function, how can we ensure the shapes of `xarr` and `yarr` to be the same, without the explicit check with `\"xarr and yarr size mismatch\"`?  Write code to show."
   ]
  }
 ],
 "metadata": {
  "celltoolbar": "Slideshow",
  "kernelspec": {
   "display_name": "Python 3",
   "language": "python",
   "name": "python3"
  },
  "language_info": {
   "codemirror_mode": {
    "name": "ipython",
    "version": 3
   },
   "file_extension": ".py",
   "mimetype": "text/x-python",
   "name": "python",
   "nbconvert_exporter": "python",
   "pygments_lexer": "ipython3",
   "version": "3.7.3+"
  }
 },
 "nbformat": 4,
 "nbformat_minor": 2
}
