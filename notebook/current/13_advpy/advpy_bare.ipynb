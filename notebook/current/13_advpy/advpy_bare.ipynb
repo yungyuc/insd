{
 "cells": [
  {
   "cell_type": "markdown",
   "metadata": {},
   "source": [
    "# Advanced Python\n",
    "\n",
    "1. Iterator\n",
    "   1. List comprehension\n",
    "   2. Generator\n",
    "   3. Generator expression\n",
    "2. Stack frame\n",
    "   1. `frame` object\n",
    "3. Customizing module import with `sys.meta_path`\n",
    "4. Descriptor\n",
    "   1. Keep data on the instance\n",
    "5. Metaclass\n",
    "6. Type introspection and abstract base class (abc)\n",
    "   1. Method resolution order (mro)\n",
    "   2. Abstract base class (abc)\n",
    "   3. Abstract method"
   ]
  },
  {
   "cell_type": "code",
   "execution_count": null,
   "metadata": {},
   "outputs": [],
   "source": [
    "import sys\n",
    "import os\n",
    "import pprint"
   ]
  },
  {
   "cell_type": "markdown",
   "metadata": {},
   "source": [
    "# Iterator\n",
    "\n",
    "While processing data in memory, they are iterated one by one.  Assume we have 10 elements in a list."
   ]
  },
  {
   "cell_type": "code",
   "execution_count": null,
   "metadata": {},
   "outputs": [],
   "source": [
    "data = list(range(10))\n",
    "print(data, type(data))"
   ]
  },
  {
   "cell_type": "markdown",
   "metadata": {},
   "source": [
    "Python uses the [iterator protocol](https://docs.python.org/3/library/stdtypes.html#iterator-types) to get one element a time:"
   ]
  },
  {
   "cell_type": "code",
   "execution_count": null,
   "metadata": {},
   "outputs": [],
   "source": [
    "class ListIterator:\n",
    "\n",
    "    def __init__(self, data, offset=0):\n",
    "        self.data = data\n",
    "        self.it = None\n",
    "        self.offset = offset\n",
    "\n",
    "    def __iter__(self):\n",
    "        return self\n",
    "\n",
    "    def __next__(self):\n",
    "        if None is self.it:\n",
    "            self.it = 0\n",
    "        elif self.it >= len(self.data)-1:\n",
    "            raise StopIteration\n",
    "        else:\n",
    "            self.it += 1\n",
    "        return self.data[self.it] + self.offset"
   ]
  },
  {
   "cell_type": "code",
   "execution_count": null,
   "metadata": {},
   "outputs": [],
   "source": [
    "list_iterator = ListIterator(data)"
   ]
  },
  {
   "cell_type": "markdown",
   "metadata": {},
   "source": [
    "The `for ... in ...` construct applies to the iterator object.  Every time the construct needs the next element, `ListIterator.__next__()` is called:"
   ]
  },
  {
   "cell_type": "code",
   "execution_count": null,
   "metadata": {},
   "outputs": [],
   "source": [
    "for i in list_iterator:\n",
    "    print(i)"
   ]
  },
  {
   "cell_type": "markdown",
   "metadata": {},
   "source": [
    "List comprehension:"
   ]
  },
  {
   "cell_type": "code",
   "execution_count": null,
   "metadata": {},
   "outputs": [],
   "source": [
    "print([value+100 for value in data])"
   ]
  },
  {
   "cell_type": "code",
   "execution_count": null,
   "metadata": {},
   "outputs": [],
   "source": [
    "print(list_iterator)"
   ]
  },
  {
   "cell_type": "code",
   "execution_count": null,
   "metadata": {},
   "outputs": [],
   "source": [
    "print(dir(list_iterator))"
   ]
  },
  {
   "cell_type": "markdown",
   "metadata": {},
   "source": [
    "Of course, you don't really need to write your own `ListIterator` for iterating a list, because Python builds in an iterator already:"
   ]
  },
  {
   "cell_type": "code",
   "execution_count": null,
   "metadata": {},
   "outputs": [],
   "source": [
    "list_iterator2 = iter(data)"
   ]
  },
  {
   "cell_type": "code",
   "execution_count": null,
   "metadata": {},
   "outputs": [],
   "source": [
    "for i in list_iterator2:\n",
    "    print(i)"
   ]
  },
  {
   "cell_type": "code",
   "execution_count": null,
   "metadata": {},
   "outputs": [],
   "source": [
    "print(list_iterator2)"
   ]
  },
  {
   "cell_type": "code",
   "execution_count": null,
   "metadata": {},
   "outputs": [],
   "source": [
    "print(dir(list_iterator2))"
   ]
  },
  {
   "cell_type": "markdown",
   "metadata": {},
   "source": [
    "The built-in iterator is created by calling the `__iter__()` method on the container object (`iter()` simply does it for you):"
   ]
  },
  {
   "cell_type": "code",
   "execution_count": null,
   "metadata": {},
   "outputs": [],
   "source": [
    "list_iterator3 = data.__iter__()"
   ]
  },
  {
   "cell_type": "code",
   "execution_count": null,
   "metadata": {},
   "outputs": [],
   "source": [
    "print(list_iterator3)  "
   ]
  },
  {
   "cell_type": "markdown",
   "metadata": {},
   "source": [
    "And the `for ... in ...` construct actually knows about the iterator protocol:"
   ]
  },
  {
   "cell_type": "code",
   "execution_count": null,
   "metadata": {},
   "outputs": [],
   "source": [
    "for i in data:\n",
    "    print(i)"
   ]
  },
  {
   "cell_type": "markdown",
   "metadata": {},
   "source": [
    "## List comprehension\n",
    "\n",
    "List comprehension is the construct `[... for ... in ...]`.  Python borrowed the syntax of list comprehension from other languages, e.g., Haskell, and it follows the iterator protocol.  It is very convenient.  For example, the above `for` loop can be replaced by a one-liner:"
   ]
  },
  {
   "cell_type": "code",
   "execution_count": null,
   "metadata": {},
   "outputs": [],
   "source": [
    "print(\"\\n\".join([str(i) for i in data]))"
   ]
  },
  {
   "cell_type": "markdown",
   "metadata": {},
   "source": [
    "## Generator"
   ]
  },
  {
   "cell_type": "code",
   "execution_count": null,
   "metadata": {},
   "outputs": [],
   "source": [
    "def list_generator(input_data):\n",
    "    for i in input_data:\n",
    "        yield i\n",
    "\n",
    "generator = list_generator(data)\n",
    "print(generator)"
   ]
  },
  {
   "cell_type": "code",
   "execution_count": null,
   "metadata": {},
   "outputs": [],
   "source": [
    "print(dir(generator))"
   ]
  },
  {
   "cell_type": "code",
   "execution_count": null,
   "metadata": {},
   "outputs": [],
   "source": [
    "for i in list_generator(data):\n",
    "    print(i)"
   ]
  },
  {
   "cell_type": "markdown",
   "metadata": {},
   "source": [
    "## Generator expression\n",
    "\n",
    "A more convenient way of creating a generator is to use the generator expression `(... for ... in ...)`.  Note this looks like the list comprehension `[... for ... in ...]`, but uses parentheses to replace the brackets."
   ]
  },
  {
   "cell_type": "code",
   "execution_count": null,
   "metadata": {},
   "outputs": [],
   "source": [
    "generator2 = (i for i in data)\n",
    "print(generator2)"
   ]
  },
  {
   "cell_type": "code",
   "execution_count": null,
   "metadata": {},
   "outputs": [],
   "source": [
    "print(dir(generator2))"
   ]
  },
  {
   "cell_type": "code",
   "execution_count": null,
   "metadata": {},
   "outputs": [],
   "source": [
    "for i in generator2:\n",
    "    print(i)"
   ]
  },
  {
   "cell_type": "markdown",
   "metadata": {},
   "source": [
    "By using the generator expression, the data printing one-liner can drop the brackets:"
   ]
  },
  {
   "cell_type": "code",
   "execution_count": null,
   "metadata": {},
   "outputs": [],
   "source": [
    "print(\"\\n\".join(str(i) for i in data))"
   ]
  },
  {
   "cell_type": "code",
   "execution_count": null,
   "metadata": {},
   "outputs": [],
   "source": [
    "# Compare with the the list comprehension:\n",
    "print(\"\\n\".join( [ str(i) for i in data ] ))"
   ]
  },
  {
   "cell_type": "markdown",
   "metadata": {},
   "source": [
    "# Python stack frame\n",
    "\n",
    "(C)Python uses a stack-based interpreter.  We are allowed to peek all the previous stack frames:"
   ]
  },
  {
   "cell_type": "code",
   "execution_count": null,
   "metadata": {},
   "outputs": [],
   "source": [
    "import traceback\n",
    "\n",
    "traceback.print_stack()"
   ]
  },
  {
   "cell_type": "markdown",
   "metadata": {},
   "source": [
    "## `frame` object\n",
    "\n",
    "We can get the `frame` object of the current stack frame using [`inspect.currentframe()`](https://docs.python.org/3/library/inspect.html#inspect.currentframe):"
   ]
  },
  {
   "cell_type": "code",
   "execution_count": null,
   "metadata": {},
   "outputs": [],
   "source": [
    "import inspect\n",
    "\n",
    "f = inspect.currentframe()"
   ]
  },
  {
   "cell_type": "markdown",
   "metadata": {},
   "source": [
    "A `frame` object has the following attributes:\n",
    "\n",
    "* Namespace:\n",
    "  * `f_builtins`: builtin namespace seen by this frame\n",
    "  * `f_globals`: global namespace seen by this frame\n",
    "  * `f_locals`: local namespace seen by this frame\n",
    "* Other:\n",
    "  * `f_back`: next outer frame object (this frame's caller)\n",
    "  * `f_code`: code object being executed in this frame\n",
    "  * `f_lasti`: index of last attempted instruction in bytecode\n",
    "  * `f_lineno`: current line number in Python source code"
   ]
  },
  {
   "cell_type": "code",
   "execution_count": null,
   "metadata": {},
   "outputs": [],
   "source": [
    "print([k for k in dir(f) if not k.startswith('__')])"
   ]
  },
  {
   "cell_type": "markdown",
   "metadata": {},
   "source": [
    "We can learn many things about the frame in the object.  For example, we can take a look in the builtin namespace:"
   ]
  },
  {
   "cell_type": "code",
   "execution_count": null,
   "metadata": {},
   "outputs": [],
   "source": [
    "print(f.f_builtins.keys())"
   ]
  },
  {
   "cell_type": "markdown",
   "metadata": {},
   "source": [
    "A mysterious `code` object:"
   ]
  },
  {
   "cell_type": "code",
   "execution_count": null,
   "metadata": {},
   "outputs": [],
   "source": [
    "print(f.f_code)"
   ]
  },
  {
   "cell_type": "markdown",
   "metadata": {},
   "source": [
    "Because a `frame` object holds everything a construct uses, after finishing using the `frame` object, make sure to break the reference to it.  If we don't do it, it may take long time for the interpreter to break the reference for you."
   ]
  },
  {
   "cell_type": "code",
   "execution_count": null,
   "metadata": {},
   "outputs": [],
   "source": [
    "f.clear()\n",
    "del f"
   ]
  },
  {
   "cell_type": "code",
   "execution_count": null,
   "metadata": {},
   "outputs": [],
   "source": [
    "for it, fi in enumerate(inspect.stack()):\n",
    "    sys.stdout.write('frame #{}:\\n  {}\\n\\n'.format(it, fi))"
   ]
  },
  {
   "cell_type": "markdown",
   "metadata": {},
   "source": [
    "```python\n",
    "#!/usr/bin/env python3\n",
    "\n",
    "import sys\n",
    "import inspect\n",
    "\n",
    "def main():\n",
    "    for it, fi in enumerate(inspect.stack()):\n",
    "        sys.stdout.write('frame #{}:\\n  {}\\n\\n'.format(it, fi))\n",
    "\n",
    "if __name__ == '__main__':\n",
    "    main()\n",
    "```"
   ]
  },
  {
   "cell_type": "code",
   "execution_count": null,
   "metadata": {},
   "outputs": [],
   "source": [
    "!./showframe.py"
   ]
  },
  {
   "cell_type": "markdown",
   "metadata": {},
   "source": [
    "# Customizing module import with `sys.meta_path`\n",
    "\n",
    "Python [`importlib`](https://docs.python.org/3/library/importlib.html) allows high degree of freedom in customizing module import flow.  Here I will use an example to load a module, `onemod`, locating in an alternate directory, `altdir/`, and ask Python to load it from the non-standard location."
   ]
  },
  {
   "cell_type": "code",
   "execution_count": null,
   "metadata": {},
   "outputs": [],
   "source": [
    "# Bookkeeping code: keep the original meta_path.\n",
    "old_meta_path = sys.meta_path[:]\n",
    "#sys.meta_path = old_meta_path[:-1]"
   ]
  },
  {
   "cell_type": "markdown",
   "metadata": {},
   "source": [
    "`importlib` provides many facilities.  The theme in this example is [`sys.meta_path`](https://docs.python.org/3/library/sys.html#sys.meta_path).  It defines a list of ['MetaPathFinder'](https://docs.python.org/3/library/importlib.html#importlib.abc.MetaPathFinder) objects for customizing the import process."
   ]
  },
  {
   "cell_type": "code",
   "execution_count": null,
   "metadata": {},
   "outputs": [],
   "source": [
    "sys.meta_path = old_meta_path\n",
    "print(sys.meta_path)"
   ]
  },
  {
   "cell_type": "markdown",
   "metadata": {},
   "source": [
    "At this point, the `onemod` cannot be imported, because `altdir/` is not in `sys.path`:"
   ]
  },
  {
   "cell_type": "code",
   "execution_count": null,
   "metadata": {},
   "outputs": [],
   "source": [
    "try:\n",
    "    import onemod\n",
    "except ModuleNotFoundError as e:\n",
    "    traceback.print_exc()"
   ]
  },
  {
   "cell_type": "markdown",
   "metadata": {},
   "source": [
    "In a normal Python course, you will be asked to modify `sys.path` to include `altdir/` for correctly import `onemod`.  That is uninteresting, so we will use `MetaPathFinder`.  Here we subclass the abstract base class (ABC) and override the `find_spec()` method, to tell it to load the `onemod` module at the place we specify.\n",
    "\n",
    "For our path finder to work, we need to properly set up a [`ModuleSpec`](https://docs.python.org/3/library/importlib.html#importlib.machinery.ModuleSpec), and create a [`SourceFileLoader`](https://docs.python.org/3/library/importlib.html#importlib.machinery.SourceFileLoader) object for it."
   ]
  },
  {
   "cell_type": "code",
   "execution_count": null,
   "metadata": {},
   "outputs": [],
   "source": [
    "import importlib.abc\n",
    "import importlib.machinery\n",
    "\n",
    "class MyMetaPathFinder(importlib.abc.MetaPathFinder):\n",
    "    def find_spec(self, fullname, path, target=None):\n",
    "        if fullname == 'onemod':\n",
    "            print('DEBUG: fullname: {} , path: {} , target: {}'.format(fullname, path, target))\n",
    "            fpath = os.path.abspath('altdir/onemod.py')\n",
    "            loader = importlib.machinery.SourceFileLoader('onemod', fpath)\n",
    "            return importlib.machinery.ModuleSpec(fullname, loader, origin=fpath)\n",
    "        else:\n",
    "            return None\n",
    "\n",
    "sys.meta_path = old_meta_path + [MyMetaPathFinder()]\n",
    "print(sys.meta_path)"
   ]
  },
  {
   "cell_type": "markdown",
   "metadata": {},
   "source": [
    "It only deals with `onemod`.  To test it, ask it to load a module that does not exist:"
   ]
  },
  {
   "cell_type": "code",
   "execution_count": null,
   "metadata": {},
   "outputs": [],
   "source": [
    "try:\n",
    "    import one_non_existing_module\n",
    "except ModuleNotFoundError as e:\n",
    "    traceback.print_exc()"
   ]
  },
  {
   "cell_type": "markdown",
   "metadata": {
    "slideshow": {
     "slide_type": "subslide"
    }
   },
   "source": [
    "But after the meta path finder is inserted into meta path, `onemod` can be loaded:"
   ]
  },
  {
   "cell_type": "code",
   "execution_count": null,
   "metadata": {},
   "outputs": [],
   "source": [
    "import onemod\n",
    "print(\"show content in onemod module:\", onemod.content)"
   ]
  },
  {
   "cell_type": "markdown",
   "metadata": {},
   "source": [
    "See the module we loaded.  Compare it with a 'normal module'."
   ]
  },
  {
   "cell_type": "code",
   "execution_count": null,
   "metadata": {},
   "outputs": [],
   "source": [
    "import re\n",
    "print('onemod:', onemod)\n",
    "print('re:', re)"
   ]
  },
  {
   "cell_type": "markdown",
   "metadata": {},
   "source": [
    "And the module objects have an important field `__spec__`, which is the `ModuleSpec` we created:"
   ]
  },
  {
   "cell_type": "code",
   "execution_count": null,
   "metadata": {},
   "outputs": [],
   "source": [
    "print('onemod.__spec__:', onemod.__spec__)\n",
    "print('re.__spec__:', re.__spec__)"
   ]
  },
  {
   "cell_type": "code",
   "execution_count": null,
   "metadata": {},
   "outputs": [],
   "source": [
    "# Bookkeeping code.\n",
    "sys.modules.pop('onemod', None)"
   ]
  },
  {
   "cell_type": "markdown",
   "metadata": {},
   "source": [
    "# Descriptor\n",
    "\n",
    "The [descriptor protocol](https://docs.python.org/3/howto/descriptor.html) allows us to route attribute access to anywhere outside the class."
   ]
  },
  {
   "cell_type": "code",
   "execution_count": null,
   "metadata": {},
   "outputs": [],
   "source": [
    "class ClsAccessor:\n",
    "    \"\"\"Routing access to all instance attributes to the descriptor object.\"\"\"\n",
    "\n",
    "    def __init__(self, name):\n",
    "        self._name = name\n",
    "        self._val = None\n",
    "\n",
    "    def __get__(self, obj, objtype):\n",
    "        print('On object {} , retrieve: {}'.format(obj, self._name))\n",
    "        return self._val\n",
    "\n",
    "    def __set__(self, obj, val):\n",
    "        print('On object {} , update: {}'.format(obj, self._name))\n",
    "        self._val = val\n",
    "\n",
    "class MyClass:\n",
    "    x = ClsAccessor('x')\n",
    "\n",
    "o = MyClass()"
   ]
  },
  {
   "cell_type": "markdown",
   "metadata": {},
   "source": [
    "See the message printed while getting the attribute 'x':"
   ]
  },
  {
   "cell_type": "code",
   "execution_count": null,
   "metadata": {},
   "outputs": [],
   "source": [
    "print(o.x)"
   ]
  },
  {
   "cell_type": "markdown",
   "metadata": {},
   "source": [
    "Setting the attribute also shows a message:"
   ]
  },
  {
   "cell_type": "code",
   "execution_count": null,
   "metadata": {},
   "outputs": [],
   "source": [
    "o.x = 10"
   ]
  },
  {
   "cell_type": "code",
   "execution_count": null,
   "metadata": {},
   "outputs": [],
   "source": [
    "print(o.x)"
   ]
  },
  {
   "cell_type": "markdown",
   "metadata": {},
   "source": [
    "Because the attribute value is kept in the descriptor, and the descriptor is kept in the 'class' object, attributes of all instances of `MyClass` share the same value."
   ]
  },
  {
   "cell_type": "code",
   "execution_count": null,
   "metadata": {},
   "outputs": [],
   "source": [
    "o2 = MyClass()\n",
    "print(o2.x) # Not None!"
   ]
  },
  {
   "cell_type": "code",
   "execution_count": null,
   "metadata": {},
   "outputs": [],
   "source": [
    "o2.x = 100"
   ]
  },
  {
   "cell_type": "code",
   "execution_count": null,
   "metadata": {},
   "outputs": [],
   "source": [
    "print(o.x)"
   ]
  },
  {
   "cell_type": "markdown",
   "metadata": {},
   "source": [
    "## Keep data on the instance\n",
    "\n",
    "Having all instances sharing the attribute value isn't always desirable.  Descriptor protocol allows to bind the values to the instance too."
   ]
  },
  {
   "cell_type": "code",
   "execution_count": null,
   "metadata": {},
   "outputs": [],
   "source": [
    "class InsAccessor:\n",
    "    \"\"\"Routing access to all instance attributes to alternate names on the instance.\"\"\"\n",
    "\n",
    "    def __init__(self, name):\n",
    "        self._name = name\n",
    "\n",
    "    def __get__(self, obj, objtype):\n",
    "        print('On object {} , instance retrieve: {}'.format(obj, self._name))\n",
    "        varname = '_acs' + self._name\n",
    "        if not hasattr(obj, varname):\n",
    "            setattr(obj, varname, None)\n",
    "        return getattr(obj, varname)\n",
    "\n",
    "    def __set__(self, obj, val):\n",
    "        print('On object {} , instance update: {}'.format(obj, self._name))\n",
    "        varname = '_acs' + self._name\n",
    "        return setattr(obj, varname, val)\n",
    "\n",
    "class MyClass2:\n",
    "    x = InsAccessor('x')\n",
    "\n",
    "mo = MyClass2()"
   ]
  },
  {
   "cell_type": "markdown",
   "metadata": {},
   "source": [
    "Create an instance to test the descriptor."
   ]
  },
  {
   "cell_type": "code",
   "execution_count": null,
   "metadata": {},
   "outputs": [],
   "source": [
    "print(mo.x)"
   ]
  },
  {
   "cell_type": "code",
   "execution_count": null,
   "metadata": {},
   "outputs": [],
   "source": [
    "mo.x = 10\n",
    "print(mo.x)"
   ]
  },
  {
   "cell_type": "markdown",
   "metadata": {},
   "source": [
    "In a new instance, the value uses the initial value:"
   ]
  },
  {
   "cell_type": "code",
   "execution_count": null,
   "metadata": {},
   "outputs": [],
   "source": [
    "mo2 = MyClass2()\n",
    "print(mo2.x)"
   ]
  },
  {
   "cell_type": "markdown",
   "metadata": {},
   "source": [
    "# Metaclass\n",
    "\n",
    "Python class is also an object."
   ]
  },
  {
   "cell_type": "code",
   "execution_count": null,
   "metadata": {},
   "outputs": [],
   "source": [
    "class ClassIsObject:\n",
    "    pass\n",
    "\n",
    "print(ClassIsObject)\n",
    "print(ClassIsObject.__dict__)"
   ]
  },
  {
   "cell_type": "code",
   "execution_count": null,
   "metadata": {},
   "outputs": [],
   "source": [
    "isinstance(ClassIsObject, object)"
   ]
  },
  {
   "cell_type": "code",
   "execution_count": null,
   "metadata": {},
   "outputs": [],
   "source": [
    "isinstance(ClassIsObject, type)"
   ]
  },
  {
   "cell_type": "code",
   "execution_count": null,
   "metadata": {},
   "outputs": [],
   "source": [
    "isinstance(type, object)"
   ]
  },
  {
   "cell_type": "markdown",
   "metadata": {},
   "source": [
    "[Metaclass](https://docs.python.org/3/reference/datamodel.html#metaclasses) allows programmers to customize class creation."
   ]
  },
  {
   "cell_type": "code",
   "execution_count": null,
   "metadata": {},
   "outputs": [],
   "source": [
    "class AutoAccessor:\n",
    "    \"\"\"Routing access to all instance attributes to alternate names on the instance.\"\"\"\n",
    "\n",
    "    def __init__(self):\n",
    "        self.name = None\n",
    "\n",
    "    def __get__(self, obj, objtype):\n",
    "        print('On object {} , auto retrieve: {}'.format(obj, self.name))\n",
    "        varname = '_acs' + self.name\n",
    "        if not hasattr(obj, varname):\n",
    "            setattr(obj, varname, None)\n",
    "        return getattr(obj, varname)\n",
    "\n",
    "    def __set__(self, obj, val):\n",
    "        print('On object {} , auto update: {}'.format(obj, self.name))\n",
    "        varname = '_acs' + self.name\n",
    "        return setattr(obj, varname, val)\n",
    "\n",
    "class AutoAccessorMeta(type):\n",
    "\n",
    "    def __new__(cls, name, bases, namespace):\n",
    "\n",
    "        print('DEBUG before names:', name)\n",
    "        print('DEBUG before bases:', bases)\n",
    "        print('DEBUG before namespace:', namespace)\n",
    "\n",
    "        for k, v in namespace.items():\n",
    "            if isinstance(v, AutoAccessor):\n",
    "                v.name = k\n",
    "\n",
    "        # Create the class object for MyAutoClass.\n",
    "        newcls = super(AutoAccessorMeta, cls).__new__(cls, name, bases, namespace)\n",
    "\n",
    "        print('DEBUG after names:', name)\n",
    "        print('DEBUG after bases:', bases)\n",
    "        print('DEBUG after namespace:', namespace)\n",
    "\n",
    "        return newcls"
   ]
  },
  {
   "cell_type": "markdown",
   "metadata": {},
   "source": [
    "We will use the descriptor to test the metaclass.  The new descriptor class `AutoAccessor` doesn't take the attribute name in the constructor.  Instead, `AutoAccessorMeta` assigns the correct attribute name."
   ]
  },
  {
   "cell_type": "code",
   "execution_count": null,
   "metadata": {},
   "outputs": [],
   "source": [
    "class MyAutoClassDefault(metaclass=type):\n",
    "    x = AutoAccessor()"
   ]
  },
  {
   "cell_type": "code",
   "execution_count": null,
   "metadata": {},
   "outputs": [],
   "source": [
    "class MyAutoClass(metaclass=AutoAccessorMeta):\n",
    "    x = AutoAccessor()  # Note: no name is given.\n",
    "\n",
    "ao = MyAutoClass()"
   ]
  },
  {
   "cell_type": "code",
   "execution_count": null,
   "metadata": {},
   "outputs": [],
   "source": [
    "print(ao.x)"
   ]
  },
  {
   "cell_type": "code",
   "execution_count": null,
   "metadata": {},
   "outputs": [],
   "source": [
    "ao.x = 10\n",
    "print(ao.x)"
   ]
  },
  {
   "cell_type": "code",
   "execution_count": null,
   "metadata": {},
   "outputs": [],
   "source": [
    "print(ao._acsx)"
   ]
  },
  {
   "cell_type": "markdown",
   "metadata": {},
   "source": [
    "# Type introspection and abstract base class (abc)"
   ]
  },
  {
   "cell_type": "code",
   "execution_count": null,
   "metadata": {},
   "outputs": [],
   "source": [
    "class MyBaseClass:\n",
    "    pass\n",
    "\n",
    "class MyDerivedClass(MyBaseClass):\n",
    "    pass\n",
    "\n",
    "base = MyBaseClass()\n",
    "derived = MyDerivedClass()"
   ]
  },
  {
   "cell_type": "code",
   "execution_count": null,
   "metadata": {},
   "outputs": [],
   "source": [
    "print('base {} MyBaseClass'.format('is' if isinstance(base, MyBaseClass) else 'is not'))"
   ]
  },
  {
   "cell_type": "code",
   "execution_count": null,
   "metadata": {},
   "outputs": [],
   "source": [
    "print('base {} MyDerivedClass'.format('is' if isinstance(base, MyDerivedClass) else 'is not'))"
   ]
  },
  {
   "cell_type": "code",
   "execution_count": null,
   "metadata": {},
   "outputs": [],
   "source": [
    "print('derived {} MyBaseClass'.format('is' if isinstance(derived, MyBaseClass) else 'is not'))"
   ]
  },
  {
   "cell_type": "code",
   "execution_count": null,
   "metadata": {},
   "outputs": [],
   "source": [
    "print('derived {} MyDerivedClass'.format('is' if isinstance(derived, MyDerivedClass) else 'is not'))"
   ]
  },
  {
   "cell_type": "markdown",
   "metadata": {},
   "source": [
    "## Method resolution order (mro)\n",
    "\n",
    "Python uses the \"C3\" algorithm to determine the [method resolution order](https://www.python.org/download/releases/2.3/mro/) [1]."
   ]
  },
  {
   "cell_type": "code",
   "execution_count": null,
   "metadata": {},
   "outputs": [],
   "source": [
    "class A:\n",
    "    def process(self):\n",
    "        print('A process()')\n",
    "\n",
    "class B(A):\n",
    "    def process(self):\n",
    "        print('B process()')\n",
    "        super(B, self).process()\n",
    "\n",
    "class C(A):\n",
    "    def process(self):\n",
    "        print('C process()')\n",
    "        super(C, self).process()\n",
    "\n",
    "class D(B, C):\n",
    "    pass\n",
    "\n",
    "print(D.__mro__)"
   ]
  },
  {
   "cell_type": "code",
   "execution_count": null,
   "metadata": {},
   "outputs": [],
   "source": [
    "obj = D()\n",
    "obj.process()"
   ]
  },
  {
   "cell_type": "markdown",
   "metadata": {},
   "source": [
    "Change the order in the inheritance declaration and the MRO changes accordingly."
   ]
  },
  {
   "cell_type": "code",
   "execution_count": null,
   "metadata": {},
   "outputs": [],
   "source": [
    "class D(C, B):\n",
    "    pass\n",
    "\n",
    "print(D.__mro__)"
   ]
  },
  {
   "cell_type": "markdown",
   "metadata": {},
   "source": [
    "### Example: multiple level inheritance"
   ]
  },
  {
   "cell_type": "code",
   "execution_count": null,
   "metadata": {},
   "outputs": [],
   "source": [
    "O = object\n",
    "class F(O): pass\n",
    "class E(O): pass\n",
    "class D(O): pass\n",
    "class C(D, F): pass\n",
    "class B(D, E): pass\n",
    "class A(B, C): pass"
   ]
  },
  {
   "cell_type": "code",
   "execution_count": null,
   "metadata": {},
   "outputs": [],
   "source": [
    "print(A.__mro__)"
   ]
  },
  {
   "cell_type": "code",
   "execution_count": null,
   "metadata": {},
   "outputs": [],
   "source": [
    "print(B.__mro__)"
   ]
  },
  {
   "cell_type": "code",
   "execution_count": null,
   "metadata": {},
   "outputs": [],
   "source": [
    "print(C.__mro__)"
   ]
  },
  {
   "cell_type": "code",
   "execution_count": null,
   "metadata": {},
   "outputs": [],
   "source": [
    "print(D.__mro__)\n",
    "print(E.__mro__)\n",
    "print(F.__mro__)"
   ]
  },
  {
   "cell_type": "code",
   "execution_count": null,
   "metadata": {},
   "outputs": [],
   "source": [
    "a = A()\n",
    "print('a {} A'.format('is' if isinstance(a, A) else 'is not'))\n",
    "print('a {} B'.format('is' if isinstance(a, B) else 'is not'))\n",
    "print('a {} C'.format('is' if isinstance(a, C) else 'is not'))\n",
    "print('a {} D'.format('is' if isinstance(a, D) else 'is not'))\n",
    "print('a {} E'.format('is' if isinstance(a, E) else 'is not'))\n",
    "print('a {} F'.format('is' if isinstance(a, F) else 'is not'))"
   ]
  },
  {
   "cell_type": "markdown",
   "metadata": {},
   "source": [
    "## Abstract base class (abc)\n",
    "\n",
    "Python [abstract base class (abc)](https://docs.python.org/3/library/abc.html) provides the capabilities to overload `isinstance()` and `issubclass()`, and define abstract methods."
   ]
  },
  {
   "cell_type": "markdown",
   "metadata": {},
   "source": [
    "We can use `register()` method to ask a class `MyABC` that is not in a inheritance chain of another class `A` to be a 'virtual' base class of the latter."
   ]
  },
  {
   "cell_type": "code",
   "execution_count": null,
   "metadata": {},
   "outputs": [],
   "source": [
    "import abc\n",
    "\n",
    "class MyABC(metaclass=abc.ABCMeta):\n",
    "    pass"
   ]
  },
  {
   "cell_type": "markdown",
   "metadata": {},
   "source": [
    "As we know, `A` is not a subclass of `MyABC`:"
   ]
  },
  {
   "cell_type": "code",
   "execution_count": null,
   "metadata": {},
   "outputs": [],
   "source": [
    "print('A {} a subclass of MyABC'.format('is' if issubclass(A, MyABC) else 'is not'))"
   ]
  },
  {
   "cell_type": "markdown",
   "metadata": {},
   "source": [
    "But once we register `MyABC` to be a virtual base class of `A`, we will see `A` is a subclass of `MyABC`:"
   ]
  },
  {
   "cell_type": "code",
   "execution_count": null,
   "metadata": {},
   "outputs": [],
   "source": [
    "MyABC.register(A)\n",
    "\n",
    "print('A {} a subclass of MyABC'.format('is' if issubclass(A, MyABC) else 'is not'))"
   ]
  },
  {
   "cell_type": "markdown",
   "metadata": {},
   "source": [
    "## Abstract method\n",
    "\n",
    "Using abc, we can add abstract methods to an class (making it abstract)."
   ]
  },
  {
   "cell_type": "code",
   "execution_count": null,
   "metadata": {},
   "outputs": [],
   "source": [
    "import abc\n",
    "\n",
    "class AbstractClass(metaclass=abc.ABCMeta):\n",
    "\n",
    "    @abc.abstractmethod\n",
    "    def process(self):\n",
    "        pass"
   ]
  },
  {
   "cell_type": "markdown",
   "metadata": {},
   "source": [
    "An abstract class cannot be instantiated:"
   ]
  },
  {
   "cell_type": "code",
   "execution_count": null,
   "metadata": {},
   "outputs": [],
   "source": [
    "try:\n",
    "    a = AbstractClass()\n",
    "except:\n",
    "    traceback.print_exc()"
   ]
  },
  {
   "cell_type": "markdown",
   "metadata": {},
   "source": [
    "In a derived class, the abstract method needs to be overridden:"
   ]
  },
  {
   "cell_type": "code",
   "execution_count": null,
   "metadata": {},
   "outputs": [],
   "source": [
    "class GoodConcreteClass(AbstractClass):\n",
    "\n",
    "    def process(self):\n",
    "        print('GoodConcreteClass process')\n",
    "\n",
    "g = GoodConcreteClass()\n",
    "g.process()"
   ]
  },
  {
   "cell_type": "markdown",
   "metadata": {},
   "source": [
    "If the abstract method is not overridden, it is a bad derived class and the program does not run:"
   ]
  },
  {
   "cell_type": "code",
   "execution_count": null,
   "metadata": {},
   "outputs": [],
   "source": [
    "class BadConcreteClass(AbstractClass):\n",
    "    pass\n",
    "\n",
    "try:\n",
    "    b = BadConcreteClass()\n",
    "except:\n",
    "    traceback.print_exc()"
   ]
  },
  {
   "cell_type": "markdown",
   "metadata": {},
   "source": [
    "# Reference\n",
    "\n",
    "1. K. Barrett, B. Cassels, P. Haahr, D. A. Moon, K. Playford, and P. T. Withington, “A monotonic superclass linearization for Dylan,” SIGPLAN Not., vol. 31, no. 10, pp. 69–82, Oct. 1996, doi: 10.1145/236338.236343.  https://dl.acm.org/doi/10.1145/236338.236343."
   ]
  }
 ],
 "metadata": {
  "kernelspec": {
   "display_name": "Python 3",
   "language": "python",
   "name": "python3"
  },
  "language_info": {
   "codemirror_mode": {
    "name": "ipython",
    "version": 3
   },
   "file_extension": ".py",
   "mimetype": "text/x-python",
   "name": "python",
   "nbconvert_exporter": "python",
   "pygments_lexer": "ipython3",
   "version": "3.7.4+"
  }
 },
 "nbformat": 4,
 "nbformat_minor": 2
}
