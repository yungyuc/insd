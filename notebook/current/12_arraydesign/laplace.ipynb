{
 "cells": [
  {
   "cell_type": "code",
   "execution_count": null,
   "metadata": {
    "slideshow": {
     "slide_type": "skip"
    }
   },
   "outputs": [],
   "source": [
    "%load_ext ipybind\n",
    "%matplotlib inline\n",
    "\n",
    "import warnings\n",
    "warnings.filterwarnings('default')\n",
    "\n",
    "import cxxfilt\n",
    "import numpy as np\n",
    "\n",
    "import matplotlib.pyplot as plt\n",
    "import matplotlib.ticker as mticker\n",
    "plt.rc('figure', figsize=(8, 8))"
   ]
  },
  {
   "cell_type": "markdown",
   "metadata": {
    "slideshow": {
     "slide_type": "slide"
    }
   },
   "source": [
    "# C++ array library: xtensor\n",
    "\n",
    "Yung-Yu Chen\n",
    "\n",
    "PyHUG June 2019"
   ]
  },
  {
   "cell_type": "markdown",
   "metadata": {
    "slideshow": {
     "slide_type": "subslide"
    }
   },
   "source": [
    "## What is xtensor\n",
    "\n",
    "* https://xtensor.readthedocs.io/\n",
    "* “xtensor is a C++ library meant for numerical analysis with multi-dimensional array expressions.”\n",
    "* Why?  Help to deal with multi-dimensional array, which is hard."
   ]
  },
  {
   "cell_type": "markdown",
   "metadata": {
    "slideshow": {
     "slide_type": "slide"
    }
   },
   "source": [
    "# Multi-dimensional arrays in Python\n",
    "\n",
    "numpy N-dimensional array (ndarry) makes life very easy."
   ]
  },
  {
   "cell_type": "code",
   "execution_count": null,
   "metadata": {},
   "outputs": [],
   "source": [
    "arr = np.zeros((2,3), dtype='float64')\n",
    "print(arr)"
   ]
  },
  {
   "cell_type": "code",
   "execution_count": null,
   "metadata": {},
   "outputs": [],
   "source": [
    "print(type(arr))"
   ]
  },
  {
   "cell_type": "markdown",
   "metadata": {
    "slideshow": {
     "slide_type": "subslide"
    }
   },
   "source": [
    "For example, see how easy it is to transpose:"
   ]
  },
  {
   "cell_type": "code",
   "execution_count": null,
   "metadata": {},
   "outputs": [],
   "source": [
    "mat = np.arange(9, dtype='float64').reshape((3,3))\n",
    "print(mat)"
   ]
  },
  {
   "cell_type": "code",
   "execution_count": null,
   "metadata": {},
   "outputs": [],
   "source": [
    "print(mat.T)"
   ]
  },
  {
   "cell_type": "markdown",
   "metadata": {
    "slideshow": {
     "slide_type": "slide"
    }
   },
   "source": [
    "# What's wrong with Python and numpy?\n",
    "\n",
    "It's usually slow when the problem becomes complex.\n",
    "\n",
    "This will be demonstrated using a boundary value problem with the Laplace equation for temperature distribution in a $1\\times1$ square area.\n",
    "\n",
    "\\begin{align}\n",
    "& \\frac{\\partial^2 u}{\\partial x^2} + \\frac{\\partial^2 u}{\\partial y^2} = 0 \\quad (0<x<1; 0<y<1) \\\\\n",
    "& u(0,y) = 0, \\, u(1,y) = \\sin(\\pi y) \\quad (0<y<1) \\\\\n",
    "& u(x,0) = u(x,1) = 0 \\quad (0<x<1)\n",
    "\\end{align}"
   ]
  },
  {
   "cell_type": "markdown",
   "metadata": {
    "slideshow": {
     "slide_type": "subslide"
    }
   },
   "source": [
    "Make the grid."
   ]
  },
  {
   "cell_type": "code",
   "execution_count": null,
   "metadata": {
    "slideshow": {
     "slide_type": "-"
    }
   },
   "outputs": [],
   "source": [
    "def make_grid():\n",
    "    nx = 51\n",
    "    x = np.linspace(0, 1, nx)\n",
    "    gx, gy = np.meshgrid(x, x)\n",
    "    u = np.zeros_like(gx)\n",
    "    u[0,:] = 0\n",
    "    u[-1,:] = 1 * np.sin(np.linspace(0,np.pi,nx))\n",
    "    u[:,0] = 0\n",
    "    u[:,-1] = 0\n",
    "    return nx, x, u"
   ]
  },
  {
   "cell_type": "code",
   "execution_count": null,
   "metadata": {
    "slideshow": {
     "slide_type": "skip"
    }
   },
   "outputs": [],
   "source": [
    "def show_grid(size):\n",
    "    fig, ax = plt.subplots(figsize=(size,size))\n",
    "    ax.set_xlim(0, 1)\n",
    "    ax.set_ylim(0, 1)\n",
    "    ax.set_xticks(x, minor=True)\n",
    "    ax.set_yticks(x, minor=True)\n",
    "    ax.set_xlabel('$x$')\n",
    "    ax.set_ylabel('$y$')\n",
    "    ax.grid(True, which='minor')"
   ]
  },
  {
   "cell_type": "code",
   "execution_count": null,
   "metadata": {
    "slideshow": {
     "slide_type": "subslide"
    }
   },
   "outputs": [],
   "source": [
    "nx, x, uoriginal = make_grid(); show_grid(10)"
   ]
  },
  {
   "cell_type": "markdown",
   "metadata": {
    "slideshow": {
     "slide_type": "subslide"
    }
   },
   "source": [
    "Use the Taylor series expansion to obtain the difference equation:\n",
    "\n",
    "\\begin{align}\n",
    "& \\frac{u(x_{i+1}, y_j) - 2u(x_i, y_j) + u(x_{i-1}, y_j)}{(\\Delta x)^2} \\\\\n",
    "&\\quad + \\frac{u(x_i, y_{j+1}) - 2u(x_i, y_j) + u(x_i, y_{j+1})}{(\\Delta y)^2} = 0\n",
    "\\end{align}\n",
    "\n",
    "Now we can use the point-Jacobi method to write a formula to iteratively solve the difference equaion:\n",
    "\n",
    "\\begin{align}\n",
    "u^{n+1}(x_i, y_i) = \\frac{u^n(x_{i+1}, y_j) + u^n(x_{i-1}, y_j) + u^n(x_i, y_{j+1}) + u^n(x_i, y_{j-1})}{4}\n",
    "\\end{align}"
   ]
  },
  {
   "cell_type": "markdown",
   "metadata": {
    "slideshow": {
     "slide_type": "subslide"
    }
   },
   "source": [
    "The most straight-forward solver implementation in Python is a nested loop:"
   ]
  },
  {
   "cell_type": "code",
   "execution_count": null,
   "metadata": {},
   "outputs": [],
   "source": [
    "def solve_python_loop():\n",
    "    u = uoriginal.copy()\n",
    "    un = u.copy()\n",
    "    converged = False\n",
    "    step = 0\n",
    "    while not converged:\n",
    "        step += 1\n",
    "        for it in range(1, nx-1):\n",
    "            for jt in range(1, nx-1):\n",
    "                un[it,jt] = (u[it+1,jt] + u[it-1,jt] + u[it,jt+1] + u[it,jt-1]) / 4\n",
    "        norm = np.abs(un-u).max()\n",
    "        u[...] = un[...]\n",
    "        converged = True if norm < 1.e-5 else False\n",
    "    return u, step, norm"
   ]
  },
  {
   "cell_type": "code",
   "execution_count": null,
   "metadata": {
    "slideshow": {
     "slide_type": "skip"
    }
   },
   "outputs": [],
   "source": [
    "def show_result(u, step, norm, size=7):\n",
    "    print(\"step\", step, \"norm\", norm)\n",
    "    fig, ax = plt.subplots(figsize=(size,size))\n",
    "    cs = ax.contour(x, x, u.T)\n",
    "    ax.clabel(cs, inline=1, fontsize=10)\n",
    "\n",
    "    ax.set_xticks(np.linspace(0,1,6))\n",
    "    ax.set_yticks(np.linspace(0,1,6))\n",
    "    ax.set_xlabel('$x$')\n",
    "    ax.set_ylabel('$y$')\n",
    "\n",
    "    ax.grid(True, which='minor')"
   ]
  },
  {
   "cell_type": "code",
   "execution_count": null,
   "metadata": {
    "slideshow": {
     "slide_type": "subslide"
    }
   },
   "outputs": [],
   "source": [
    "%%time\n",
    "u, step, norm = solve_python_loop()"
   ]
  },
  {
   "cell_type": "code",
   "execution_count": null,
   "metadata": {},
   "outputs": [],
   "source": [
    "show_result(u, step, norm)"
   ]
  },
  {
   "cell_type": "code",
   "execution_count": null,
   "metadata": {
    "slideshow": {
     "slide_type": "skip"
    }
   },
   "outputs": [],
   "source": [
    "ugolden = u.copy()"
   ]
  },
  {
   "cell_type": "markdown",
   "metadata": {
    "slideshow": {
     "slide_type": "slide"
    }
   },
   "source": [
    "# Array-based code with numpy\n",
    "\n",
    "There is a cure for the slow runtime: use array to delegate the calculation in C."
   ]
  },
  {
   "cell_type": "code",
   "execution_count": null,
   "metadata": {},
   "outputs": [],
   "source": [
    "def solve_array():\n",
    "    u = uoriginal.copy()\n",
    "    un = u.copy()\n",
    "    converged = False\n",
    "    step = 0\n",
    "    while not converged:\n",
    "        step += 1\n",
    "        un[1:nx-1,1:nx-1] = (u[2:nx,1:nx-1] + u[0:nx-2,1:nx-1] +\n",
    "                             u[1:nx-1,2:nx] + u[1:nx-1,0:nx-2]) / 4\n",
    "        norm = np.abs(un-u).max()\n",
    "        u[...] = un[...]\n",
    "        converged = True if norm < 1.e-5 else False\n",
    "    return u, step, norm"
   ]
  },
  {
   "cell_type": "code",
   "execution_count": null,
   "metadata": {
    "slideshow": {
     "slide_type": "subslide"
    }
   },
   "outputs": [],
   "source": [
    "%%time\n",
    "u, step, norm = solve_array()"
   ]
  },
  {
   "cell_type": "code",
   "execution_count": null,
   "metadata": {},
   "outputs": [],
   "source": [
    "assert (u == ugolden).all(); show_result(u, step, norm)"
   ]
  },
  {
   "cell_type": "markdown",
   "metadata": {
    "slideshow": {
     "slide_type": "slide"
    }
   },
   "source": [
    "# Nested loop in C++\n",
    "\n",
    "Is that fast enough?  No, because we haven't seen the speed of C++.\n",
    "\n",
    "```cpp\n",
    "const size_t nx = u.shape(0);\n",
    "xt::xarray<double> un = u;\n",
    "bool converged = false;\n",
    "size_t step = 0;\n",
    "double norm;\n",
    "while (!converged) {\n",
    "    ++step;\n",
    "    for (size_t it=1; it<nx-1; ++it) {\n",
    "        for (size_t jt=1; jt<nx-1; ++jt) {\n",
    "            un(it,jt) = (u(it+1,jt) + u(it-1,jt) +\n",
    "                         u(it,jt+1) + u(it,jt-1)) / 4;\n",
    "        }\n",
    "    }\n",
    "    norm = xt::amax(xt::abs(un-u))();\n",
    "    if (norm < 1.e-5) { converged = true; }\n",
    "    u = un;\n",
    "}\n",
    "```\n",
    "\n",
    "And it's not the convoluted array code.  The nested loop is closer to the iterative formula."
   ]
  },
  {
   "cell_type": "code",
   "execution_count": null,
   "metadata": {
    "slideshow": {
     "slide_type": "skip"
    }
   },
   "outputs": [],
   "source": [
    "%%pybind11 -c=\"-O3\"\n",
    "\n",
    "#include \"pybind11/pybind11.h\"\n",
    "#define FORCE_IMPORT_ARRAY\n",
    "#include \"xtensor-python/pyarray.hpp\"\n",
    "\n",
    "#include <vector>\n",
    "#include <algorithm>\n",
    "#include <tuple>\n",
    "#include <iostream>\n",
    "\n",
    "#include \"xtensor/xarray.hpp\"\n",
    "#include \"xtensor/xadapt.hpp\"\n",
    "#include \"xtensor/xview.hpp\"\n",
    "\n",
    "std::tuple<xt::xarray<double>, size_t, double>\n",
    "solve1(xt::xarray<double> u)\n",
    "{\n",
    "    const size_t nx = u.shape(0);\n",
    "    xt::xarray<double> un = u;\n",
    "    bool converged = false;\n",
    "    size_t step = 0;\n",
    "    double norm;\n",
    "    while (!converged)\n",
    "    {\n",
    "        ++step;\n",
    "        for (size_t it=1; it<nx-1; ++it)\n",
    "        {\n",
    "            for (size_t jt=1; jt<nx-1; ++jt)\n",
    "            {\n",
    "                un(it,jt) = (u(it+1,jt) + u(it-1,jt) + u(it,jt+1) + u(it,jt-1)) / 4;\n",
    "            }\n",
    "        }\n",
    "        norm = xt::amax(xt::abs(un-u))();\n",
    "        if (norm < 1.e-5) { converged = true; }\n",
    "        u = un;\n",
    "    }\n",
    "    return std::make_tuple(u, step, norm);\n",
    "}\n",
    "\n",
    "PYBIND11_MODULE(code1, m)\n",
    "{\n",
    "    xt::import_numpy();\n",
    "    m.def\n",
    "    (\n",
    "        \"solve_cpp\", [](xt::pyarray<double> & uin) { return solve1(xt::xarray<double>(uin)); }\n",
    "    );\n",
    "}"
   ]
  },
  {
   "cell_type": "code",
   "execution_count": null,
   "metadata": {
    "slideshow": {
     "slide_type": "subslide"
    }
   },
   "outputs": [],
   "source": [
    "%%time\n",
    "u, step, norm = solve_cpp(uoriginal)"
   ]
  },
  {
   "cell_type": "code",
   "execution_count": null,
   "metadata": {},
   "outputs": [],
   "source": [
    "assert (u == ugolden).all(); show_result(u, step, norm)"
   ]
  },
  {
   "cell_type": "markdown",
   "metadata": {
    "slideshow": {
     "slide_type": "slide"
    }
   },
   "source": [
    "# Array-based code in C++\n",
    "\n",
    "We can also write array code with xtensor:\n",
    "\n",
    "```cpp\n",
    "const size_t nx = u.shape(0);\n",
    "xt::xarray<double> un = u;\n",
    "auto uxlower = xt::view(u, xt::range(0, nx-2), xt::range(1, nx-1));\n",
    "auto uxupper = xt::view(u, xt::range(2, nx), xt::range(1, nx-1));\n",
    "auto uylower = xt::view(u, xt::range(1, nx-1), xt::range(0, nx-2));\n",
    "auto uyupper = xt::view(u, xt::range(1, nx-1), xt::range(2, nx));\n",
    "auto uncenter = xt::view(un, xt::range(1, nx-1), xt::range(1, nx-1));\n",
    "bool converged = false;\n",
    "size_t step = 0;\n",
    "double norm;\n",
    "while (!converged) {\n",
    "    ++step;\n",
    "    uncenter = (uxupper + uxlower + uyupper + uylower) / 4;\n",
    "    norm = xt::amax(xt::abs(un-u))();\n",
    "    if (norm < 1.e-5) { converged = true; }\n",
    "    u = un;\n",
    "}\n",
    "```"
   ]
  },
  {
   "cell_type": "code",
   "execution_count": null,
   "metadata": {
    "slideshow": {
     "slide_type": "skip"
    }
   },
   "outputs": [],
   "source": [
    "%%pybind11 -c=\"-O3\"\n",
    "\n",
    "#include \"pybind11/pybind11.h\"\n",
    "#define FORCE_IMPORT_ARRAY\n",
    "#include \"xtensor-python/pyarray.hpp\"\n",
    "\n",
    "#include <vector>\n",
    "#include <algorithm>\n",
    "#include <tuple>\n",
    "#include <iostream>\n",
    "\n",
    "#include \"xtensor/xarray.hpp\"\n",
    "#include \"xtensor/xadapt.hpp\"\n",
    "#include \"xtensor/xview.hpp\"\n",
    "\n",
    "std::tuple<xt::xarray<double>, size_t, double>\n",
    "solve2(xt::xarray<double> u)\n",
    "{\n",
    "    const size_t nx = u.shape(0);\n",
    "    xt::xarray<double> un = u;\n",
    "    auto uxlower = xt::view(u, xt::range(0, nx-2), xt::range(1, nx-1));\n",
    "    auto uxupper = xt::view(u, xt::range(2, nx), xt::range(1, nx-1));\n",
    "    auto uylower = xt::view(u, xt::range(1, nx-1), xt::range(0, nx-2));\n",
    "    auto uyupper = xt::view(u, xt::range(1, nx-1), xt::range(2, nx));\n",
    "    auto uncenter = xt::view(un, xt::range(1, nx-1), xt::range(1, nx-1));\n",
    "    bool converged = false;\n",
    "    size_t step = 0;\n",
    "    double norm;\n",
    "    while (!converged)\n",
    "    {\n",
    "        ++step;\n",
    "        uncenter = (uxupper + uxlower + uyupper + uylower) / 4;\n",
    "        norm = xt::amax(xt::abs(un-u))();\n",
    "        if (norm < 1.e-5) { converged = true; }\n",
    "        u = un;\n",
    "    }\n",
    "    return std::make_tuple(u, step, norm);\n",
    "}\n",
    "\n",
    "PYBIND11_MODULE(code2, m)\n",
    "{\n",
    "    xt::import_numpy();\n",
    "    m.def\n",
    "    (\n",
    "        \"solve_cpp_array\", [](xt::pyarray<double> & uin) { return solve2(xt::xarray<double>(uin)); }\n",
    "    );\n",
    "}"
   ]
  },
  {
   "cell_type": "code",
   "execution_count": null,
   "metadata": {
    "slideshow": {
     "slide_type": "subslide"
    }
   },
   "outputs": [],
   "source": [
    "%%time\n",
    "u, step, norm = solve_cpp_array(uoriginal)"
   ]
  },
  {
   "cell_type": "code",
   "execution_count": null,
   "metadata": {},
   "outputs": [],
   "source": [
    "assert (u == ugolden).all(); show_result(u, step, norm)"
   ]
  },
  {
   "cell_type": "markdown",
   "metadata": {
    "slideshow": {
     "slide_type": "slide"
    }
   },
   "source": [
    "References:\n",
    "* xtensor; multi-dimensional arrays with broadcasting and lazy computing: https://xtensor.readthedocs.io\n",
    "* xtensor-python; Python bindings for the xtensor C++ multi-dimensional array library: https://xtensor-python.readthedocs.io\n",
    "* pybind11 — Seamless operability between C++11 and Python: https://pybind11.readthedocs.io/en/stable/\n",
    "* IPython / Jupyter integration for pybind11: https://github.com/aldanor/ipybind"
   ]
  }
 ],
 "metadata": {
  "celltoolbar": "Slideshow",
  "kernelspec": {
   "display_name": "Python 3",
   "language": "python",
   "name": "python3"
  },
  "language_info": {
   "codemirror_mode": {
    "name": "ipython",
    "version": 3
   },
   "file_extension": ".py",
   "mimetype": "text/x-python",
   "name": "python",
   "nbconvert_exporter": "python",
   "pygments_lexer": "ipython3",
   "version": "3.7.3+"
  }
 },
 "nbformat": 4,
 "nbformat_minor": 2
}
